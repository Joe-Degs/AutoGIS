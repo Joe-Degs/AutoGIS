import matplotlib.cm as cm
import matplotlib.colors as colors
import networkx as nx
from IPython.display import Image
from pprint import pprint


import osmnx as ox
ox.config(log_console=True, use_cache=True)
ox.__version__


G = ox.graph_from_place("Piedmont, California, USA", network_type="drive")
fig, ax = ox.plot_graph(G)


# project graph and calculate its convex hull area
G_proj = ox.project_graph(G)
nodes_proj = ox.graph_to_gdfs(G_proj, edges=False)
graph_area_m = nodes_proj.unary_union.convex_hull.area
graph_area_m


# calculate and print basic stats
stats = ox.basic_stats(G_proj, area=graph_area_m, clean_intersects=True,
                       circuity_dist="euclidean")
pprint(stats)


# calculate and print extended stats
more_stats = ox.extended_stats(G, ecc=True, bc=True, cc=True)
for key in sorted(more_stats.keys()):
    print(key)


edge_centrality = nx.closeness_centrality(nx.line_graph(G))


# make a list of graph edge centrality values
ev = [edge_centrality[edge + (0,)] for edge in G.edges()]

# create a color scale converted to list of colors for graph edges
norm = colors.Normalize(vmin=min(ev)*0.8, vmax=max(ev))
cmap = cm.ScalarMappable(norm=norm, cmap=cm.inferno)
ec = [cmap.to_rgba(cl) for cl in ev]

# color the edges in the original graph by closeness centrality in the line graph
fig, ax = ox.plot_graph(G, bgcolor="black", node_size=0, edge_color=ec,
                        edge_linewidth=2, edge_alpha=1)


orig_node = ox.distance.nearest_nodes(G, -122.242278, 37.825956)
dest_node = ox.distance.nearest_nodes(G, -122.218078, 37.817180)


route = nx.shortest_path(G, orig_node, dest_node, weight="length",
                         method="dijkstra")
fig, ax = ox.plot_graph_route(G, route, node_size=0)


ox.plot_route_folium(G, route)



