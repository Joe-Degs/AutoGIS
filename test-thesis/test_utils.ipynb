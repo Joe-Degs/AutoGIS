{
 "cells": [
  {
   "cell_type": "code",
   "execution_count": 1,
   "id": "2faa0421",
   "metadata": {},
   "outputs": [],
   "source": [
    "from autogis import *"
   ]
  },
  {
   "cell_type": "code",
   "execution_count": 2,
   "id": "f461ecc9",
   "metadata": {},
   "outputs": [],
   "source": [
    "args = PlotArgs()"
   ]
  },
  {
   "cell_type": "code",
   "execution_count": 3,
   "id": "91bbdd62",
   "metadata": {},
   "outputs": [
    {
     "data": {
      "text/plain": [
       "{'color': 'gray', 'alpha': 0.5, 'linewidth': 0.7, 'linestyle': '-'}"
      ]
     },
     "execution_count": 3,
     "metadata": {},
     "output_type": "execute_result"
    }
   ],
   "source": [
    "args.lines()"
   ]
  },
  {
   "cell_type": "code",
   "execution_count": 4,
   "id": "1febbbda",
   "metadata": {},
   "outputs": [
    {
     "data": {
      "text/plain": [
       "{'color': 'red', 'alpha': 0.5, 'linewidth': 0.7, 'linestyle': '-'}"
      ]
     },
     "execution_count": 4,
     "metadata": {},
     "output_type": "execute_result"
    }
   ],
   "source": [
    "args.lines(color='red')"
   ]
  },
  {
   "cell_type": "code",
   "execution_count": 5,
   "id": "4de0dbdf",
   "metadata": {},
   "outputs": [
    {
     "data": {
      "text/plain": [
       "{'color': 'red',\n",
       " 'alpha': 0.5,\n",
       " 'linewidth': 0.7,\n",
       " 'linestyle': '-',\n",
       " 'joe': 'simpreh'}"
      ]
     },
     "execution_count": 5,
     "metadata": {},
     "output_type": "execute_result"
    }
   ],
   "source": [
    "args.lines(joe='simpreh')"
   ]
  },
  {
   "cell_type": "code",
   "execution_count": 6,
   "id": "48a79396",
   "metadata": {},
   "outputs": [
    {
     "data": {
      "text/plain": [
       "{'color': 'red', 'alpha': 0.5, 'markersize': 20, 'marker': 'o'}"
      ]
     },
     "execution_count": 6,
     "metadata": {},
     "output_type": "execute_result"
    }
   ],
   "source": [
    "args.points()"
   ]
  },
  {
   "cell_type": "code",
   "execution_count": 7,
   "id": "e504ddd3",
   "metadata": {},
   "outputs": [],
   "source": [
    "def k(**kwargs):\n",
    "    return kwargs"
   ]
  },
  {
   "cell_type": "code",
   "execution_count": 8,
   "id": "c6623494",
   "metadata": {},
   "outputs": [
    {
     "data": {
      "text/plain": [
       "{'color': 'red',\n",
       " 'alpha': 0.5,\n",
       " 'linewidth': 0.7,\n",
       " 'linestyle': '-',\n",
       " 'go': 'size'}"
      ]
     },
     "execution_count": 8,
     "metadata": {},
     "output_type": "execute_result"
    }
   ],
   "source": [
    "k(**args.lines(go='size'))"
   ]
  },
  {
   "cell_type": "code",
   "execution_count": 9,
   "id": "382ae900",
   "metadata": {},
   "outputs": [
    {
     "data": {
      "text/plain": [
       "{'color': 'red', 'alpha': 0.5, 'markersize': 20, 'marker': 'o', 'go': 'szie'}"
      ]
     },
     "execution_count": 9,
     "metadata": {},
     "output_type": "execute_result"
    }
   ],
   "source": [
    "args.points(go='szie')"
   ]
  },
  {
   "cell_type": "code",
   "execution_count": 10,
   "id": "8387d339",
   "metadata": {},
   "outputs": [
    {
     "data": {
      "text/plain": [
       "{'color': 'red', 'alpha': 0.5, 'markersize': 20, 'marker': 'o'}"
      ]
     },
     "execution_count": 10,
     "metadata": {},
     "output_type": "execute_result"
    }
   ],
   "source": [
    "args.points()"
   ]
  },
  {
   "cell_type": "code",
   "execution_count": 11,
   "id": "4b61ff02",
   "metadata": {},
   "outputs": [
    {
     "data": {
      "text/plain": [
       "{'tiles': 'OpenStreetMap', 'zoom_start': 12, 'control_scale': True}"
      ]
     },
     "execution_count": 11,
     "metadata": {},
     "output_type": "execute_result"
    }
   ],
   "source": [
    "args.interactive()"
   ]
  },
  {
   "cell_type": "code",
   "execution_count": 12,
   "id": "d1def20b",
   "metadata": {},
   "outputs": [
    {
     "data": {
      "text/plain": [
       "autogis.utils.PlotArgs"
      ]
     },
     "execution_count": 12,
     "metadata": {},
     "output_type": "execute_result"
    }
   ],
   "source": [
    "type(args)"
   ]
  },
  {
   "cell_type": "code",
   "execution_count": 13,
   "id": "d9d3e51e",
   "metadata": {},
   "outputs": [
    {
     "data": {
      "text/plain": [
       "{'source': {'url': 'https://{s}.basemaps.cartocdn.com/{variant}/{z}/{x}/{y}{r}.png',\n",
       "  'html_attribution': '&copy; <a href=\"https://www.openstreetmap.org/copyright\">OpenStreetMap</a> contributors &copy; <a href=\"https://carto.com/attributions\">CARTO</a>',\n",
       "  'attribution': '(C) OpenStreetMap contributors (C) CARTO',\n",
       "  'subdomains': 'abcd',\n",
       "  'max_zoom': 20,\n",
       "  'variant': 'light_all',\n",
       "  'name': 'CartoDB.Positron'}}"
      ]
     },
     "execution_count": 13,
     "metadata": {},
     "output_type": "execute_result"
    }
   ],
   "source": [
    "args.static()"
   ]
  },
  {
   "cell_type": "code",
   "execution_count": null,
   "id": "4a164e9e",
   "metadata": {},
   "outputs": [],
   "source": []
  }
 ],
 "metadata": {
  "kernelspec": {
   "display_name": "Python [conda env:ox]",
   "language": "python",
   "name": "conda-env-ox-py"
  },
  "language_info": {
   "codemirror_mode": {
    "name": "ipython",
    "version": 3
   },
   "file_extension": ".py",
   "mimetype": "text/x-python",
   "name": "python",
   "nbconvert_exporter": "python",
   "pygments_lexer": "ipython3",
   "version": "3.10.4"
  }
 },
 "nbformat": 4,
 "nbformat_minor": 5
}
