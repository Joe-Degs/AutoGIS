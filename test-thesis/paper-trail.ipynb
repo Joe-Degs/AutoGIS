{
 "cells": [
  {
   "cell_type": "code",
   "execution_count": 1,
   "id": "ec96ee60",
   "metadata": {
    "scrolled": true
   },
   "outputs": [],
   "source": [
    "import matplotlib.cm as cm\n",
    "import matplotlib.colors as colors\n",
    "import networkx as nx\n",
    "from IPython.display import Image\n",
    "from pprint import pprint"
   ]
  },
  {
   "cell_type": "code",
   "execution_count": 2,
   "id": "e1e346fa",
   "metadata": {},
   "outputs": [
    {
     "data": {
      "text/plain": [
       "'1.1.2'"
      ]
     },
     "execution_count": 2,
     "metadata": {},
     "output_type": "execute_result"
    }
   ],
   "source": [
    "import osmnx as ox\n",
    "ox.config(log_console=True, use_cache=True)\n",
    "ox.__version__"
   ]
  },
  {
   "cell_type": "code",
   "execution_count": null,
   "id": "4fab7fc2-7e35-4aa4-a567-6e44ea6abaa1",
   "metadata": {},
   "outputs": [
    {
     "name": "stderr",
     "output_type": "stream",
     "text": [
      "C:\\ProgramData\\Anaconda3\\envs\\ox\\lib\\site-packages\\osmnx\\geocoder.py:110: FutureWarning: The frame.append method is deprecated and will be removed from pandas in a future version. Use pandas.concat instead.\n",
      "  gdf = gdf.append(_geocode_query_to_gdf(q, wr, by_osmid))\n"
     ]
    }
   ],
   "source": [
    "G = ox.graph_from_place(\"Kamppi, Helsinki, Finland\", network_type=\"drive\")\n",
    "fig, ax = ox.plot_graph(G)"
   ]
  },
  {
   "cell_type": "code",
   "execution_count": null,
   "id": "f04bdc33-1867-407d-b935-6b68f9a694b7",
   "metadata": {},
   "outputs": [],
   "source": [
    "# project graph and calculate its convex hull area\n",
    "G_proj = ox.project_graph(G)\n",
    "nodes_proj = ox.graph_to_gdfs(G_proj)\n",
    "graph_area_m = nodes_proj.unary_union.convex_hull.area"
   ]
  },
  {
   "cell_type": "code",
   "execution_count": null,
   "id": "f43246cb-7e76-4285-90d1-f0e99ef14183",
   "metadata": {},
   "outputs": [],
   "source": [
    "# calculate and print basic stats\n",
    "stats = ox.basic_stats(G_proj, area=graph_area_m, clean_intersects=True,\n",
    "                       circuity_dist=\"euclidean\")\n",
    "pprint(stats)"
   ]
  },
  {
   "cell_type": "code",
   "execution_count": null,
   "id": "6a2c6c91-346d-47c0-ba5c-739cac214b77",
   "metadata": {},
   "outputs": [],
   "source": [
    "# calculate and print extended stats\n",
    "more_stats = ox.extended_stats(G, ecc=True, bc=True, cc=True)\n",
    "for key in sorted(more_stats.keys()):\n",
    "    print(key)"
   ]
  },
  {
   "cell_type": "markdown",
   "id": "12448e26-f4f9-40dc-846b-9bab2a9537d8",
   "metadata": {},
   "source": [
    "### visualizing street centrality"
   ]
  },
  {
   "cell_type": "code",
   "execution_count": null,
   "id": "d1fe245a-5258-41ad-b80c-7fa29651205d",
   "metadata": {},
   "outputs": [],
   "source": [
    "edge_centrality = nx.closeness_centrality(nx.line_graph(G))"
   ]
  },
  {
   "cell_type": "code",
   "execution_count": null,
   "id": "6902caf3-6411-49dc-826f-6a22f099f2d0",
   "metadata": {},
   "outputs": [],
   "source": [
    "# make a list of graph edge centrality values\n",
    "ev = [edge_centrality[edge + (0,)] for edge in G.edges()]\n",
    "\n",
    "# create a color scale converted to list of colors for graph edges\n",
    "norm = colors.Normalize(vmin=min(ev)*0.8, vmax=max(ev))\n",
    "cmap = cm.ScalarMappable(norm=norm, cmap=cm.inferno)\n",
    "ec = [cmap.to_rgba(cl) for cl in ev]\n",
    "\n",
    "# color the edges in the original graph by closeness centrality in the line graph\n",
    "fig, ax = ox.plot_graph(G, bgcolor=\"black\", axis_off=True, node_size=0,\n",
    "                       edge_colors=ec, edge_linewidth=2, edge_alpha=1)"
   ]
  }
 ],
 "metadata": {
  "kernelspec": {
   "display_name": "Python [conda env:ox]",
   "language": "python",
   "name": "conda-env-ox-py"
  },
  "language_info": {
   "codemirror_mode": {
    "name": "ipython",
    "version": 3
   },
   "file_extension": ".py",
   "mimetype": "text/x-python",
   "name": "python",
   "nbconvert_exporter": "python",
   "pygments_lexer": "ipython3",
   "version": "3.10.4"
  }
 },
 "nbformat": 4,
 "nbformat_minor": 5
}
