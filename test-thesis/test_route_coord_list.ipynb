{
 "cells": [
  {
   "cell_type": "code",
   "execution_count": 1,
   "id": "111a9925",
   "metadata": {},
   "outputs": [
    {
     "ename": "NameError",
     "evalue": "name 'networkx' is not defined",
     "output_type": "error",
     "traceback": [
      "\u001b[1;31m---------------------------------------------------------------------------\u001b[0m",
      "\u001b[1;31mNameError\u001b[0m                                 Traceback (most recent call last)",
      "Input \u001b[1;32mIn [1]\u001b[0m, in \u001b[0;36m<cell line: 1>\u001b[1;34m()\u001b[0m\n\u001b[1;32m----> 1\u001b[0m \u001b[38;5;28;01mfrom\u001b[39;00m \u001b[38;5;21;01mautogis\u001b[39;00m \u001b[38;5;28;01mimport\u001b[39;00m \u001b[38;5;241m*\u001b[39m\n",
      "File \u001b[1;32m~\\AutoGIS\\test-thesis\\autogis\\__init__.py:1\u001b[0m, in \u001b[0;36m<module>\u001b[1;34m\u001b[0m\n\u001b[1;32m----> 1\u001b[0m \u001b[38;5;28;01mfrom\u001b[39;00m \u001b[38;5;21;01m.\u001b[39;00m\u001b[38;5;21;01mgraph\u001b[39;00m \u001b[38;5;28;01mimport\u001b[39;00m \u001b[38;5;241m*\u001b[39m\n\u001b[0;32m      2\u001b[0m \u001b[38;5;28;01mfrom\u001b[39;00m \u001b[38;5;21;01m.\u001b[39;00m\u001b[38;5;21;01mutils\u001b[39;00m \u001b[38;5;28;01mimport\u001b[39;00m \u001b[38;5;241m*\u001b[39m\n\u001b[0;32m      3\u001b[0m \u001b[38;5;28;01mfrom\u001b[39;00m \u001b[38;5;21;01m.\u001b[39;00m\u001b[38;5;21;01mroute\u001b[39;00m \u001b[38;5;28;01mimport\u001b[39;00m \u001b[38;5;241m*\u001b[39m\n",
      "File \u001b[1;32m~\\AutoGIS\\test-thesis\\autogis\\graph.py:8\u001b[0m, in \u001b[0;36m<module>\u001b[1;34m\u001b[0m\n\u001b[0;32m      5\u001b[0m \u001b[38;5;28;01mimport\u001b[39;00m \u001b[38;5;21;01mnetworkx\u001b[39;00m \u001b[38;5;28;01mas\u001b[39;00m \u001b[38;5;21;01mnx\u001b[39;00m\n\u001b[0;32m      6\u001b[0m \u001b[38;5;28;01mimport\u001b[39;00m \u001b[38;5;21;01mmatplotlib\u001b[39;00m\u001b[38;5;21;01m.\u001b[39;00m\u001b[38;5;21;01mpyplot\u001b[39;00m \u001b[38;5;28;01mas\u001b[39;00m \u001b[38;5;21;01mplt\u001b[39;00m\n\u001b[1;32m----> 8\u001b[0m \u001b[38;5;28;01mfrom\u001b[39;00m \u001b[38;5;21;01m.\u001b[39;00m\u001b[38;5;21;01mutils\u001b[39;00m \u001b[38;5;28;01mimport\u001b[39;00m \u001b[38;5;241m*\u001b[39m\n\u001b[0;32m      9\u001b[0m \u001b[38;5;28;01mfrom\u001b[39;00m \u001b[38;5;21;01m.\u001b[39;00m\u001b[38;5;21;01mroute\u001b[39;00m \u001b[38;5;28;01mimport\u001b[39;00m \u001b[38;5;241m*\u001b[39m\n\u001b[0;32m     11\u001b[0m \u001b[38;5;28;01mclass\u001b[39;00m \u001b[38;5;21;01mGraph\u001b[39;00m:\n",
      "File \u001b[1;32m~\\AutoGIS\\test-thesis\\autogis\\utils.py:61\u001b[0m, in \u001b[0;36m<module>\u001b[1;34m\u001b[0m\n\u001b[0;32m     57\u001b[0m     x, y \u001b[38;5;241m=\u001b[39m \u001b[38;5;28mlist\u001b[39m(\u001b[38;5;28mzip\u001b[39m(\u001b[38;5;241m*\u001b[39mcoords))[\u001b[38;5;241m0\u001b[39m], \u001b[38;5;28mlist\u001b[39m(\u001b[38;5;28mzip\u001b[39m(\u001b[38;5;241m*\u001b[39mcoords))[\u001b[38;5;241m1\u001b[39m]\n\u001b[0;32m     58\u001b[0m     \u001b[38;5;28;01mreturn\u001b[39;00m \u001b[38;5;28mlist\u001b[39m(x), \u001b[38;5;28mlist\u001b[39m(y)\n\u001b[1;32m---> 61\u001b[0m \u001b[38;5;28;01mdef\u001b[39;00m \u001b[38;5;21mnearest_node_ids\u001b[39m(G: \u001b[43mnetworkx\u001b[49m\u001b[38;5;241m.\u001b[39mMultiDiGraph,\n\u001b[0;32m     62\u001b[0m         longitude: \u001b[38;5;28mlist\u001b[39m[\u001b[38;5;28mfloat\u001b[39m], lattitude: \u001b[38;5;28mlist\u001b[39m[\u001b[38;5;28mfloat\u001b[39m]) \u001b[38;5;241m-\u001b[39m\u001b[38;5;241m>\u001b[39m \u001b[38;5;28mlist\u001b[39m[\u001b[38;5;28mstr\u001b[39m]:\n\u001b[0;32m     63\u001b[0m     \u001b[38;5;124;03m\"\"\"get the id's of nearest nodes around some coordinates in a\u001b[39;00m\n\u001b[0;32m     64\u001b[0m \u001b[38;5;124;03m    graph\u001b[39;00m\n\u001b[0;32m     65\u001b[0m \u001b[38;5;124;03m    \"\"\"\u001b[39;00m\n\u001b[0;32m     66\u001b[0m     \u001b[38;5;28;01mreturn\u001b[39;00m ox\u001b[38;5;241m.\u001b[39mnearest_nodes(G, longitude, lattitude)\n",
      "\u001b[1;31mNameError\u001b[0m: name 'networkx' is not defined"
     ]
    }
   ],
   "source": [
    "from autogis import *"
   ]
  },
  {
   "cell_type": "code",
   "execution_count": null,
   "id": "d764c332",
   "metadata": {
    "scrolled": false
   },
   "outputs": [],
   "source": [
    "a = Route('coords_list', [(6.7001, -1.62217), (6.70312, -1.62511)], [(6.69791, -1.61829), (6.6971, -1.62252)])"
   ]
  },
  {
   "cell_type": "code",
   "execution_count": null,
   "id": "614967be",
   "metadata": {},
   "outputs": [],
   "source": [
    "a.explore()"
   ]
  },
  {
   "cell_type": "code",
   "execution_count": null,
   "id": "bb5285d6",
   "metadata": {},
   "outputs": [],
   "source": [
    "g = Graph('route', a)"
   ]
  },
  {
   "cell_type": "code",
   "execution_count": null,
   "id": "b7ccb82b",
   "metadata": {
    "scrolled": false
   },
   "outputs": [],
   "source": [
    "g.static_plot()"
   ]
  },
  {
   "cell_type": "code",
   "execution_count": null,
   "id": "25eb9d1d",
   "metadata": {},
   "outputs": [],
   "source": [
    "node_args = dict(color='green', markersize=10)\n",
    "edge_args = dict(linewidth=1.5, alpha=False)\n",
    "g.static_plot(basemap=True, axis=False, source=ctx.providers.CartoDB.DarkMatterNoLabels,\n",
    "             title='Neigbourhood in Adum - Street Network (Drive)',\n",
    "             lines=edge_args, points=node_args)"
   ]
  }
 ],
 "metadata": {
  "kernelspec": {
   "display_name": "Python [conda env:ox]",
   "language": "python",
   "name": "conda-env-ox-py"
  },
  "language_info": {
   "codemirror_mode": {
    "name": "ipython",
    "version": 3
   },
   "file_extension": ".py",
   "mimetype": "text/x-python",
   "name": "python",
   "nbconvert_exporter": "python",
   "pygments_lexer": "ipython3",
   "version": "3.10.4"
  }
 },
 "nbformat": 4,
 "nbformat_minor": 5
}
