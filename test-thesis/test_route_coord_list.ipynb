{
 "cells": [
  {
   "cell_type": "code",
   "execution_count": null,
   "id": "111a9925",
   "metadata": {},
   "outputs": [],
   "source": [
    "from autogis import *"
   ]
  },
  {
   "cell_type": "code",
   "execution_count": null,
   "id": "d764c332",
   "metadata": {
    "scrolled": false
   },
   "outputs": [],
   "source": [
    "a = Route('coords_list', [(6.7001, -1.62217), (6.70312, -1.62511)], [(6.69791, -1.61829), (6.6971, -1.62252)])"
   ]
  },
  {
   "cell_type": "code",
   "execution_count": null,
   "id": "614967be",
   "metadata": {},
   "outputs": [],
   "source": [
    "a.explore()"
   ]
  },
  {
   "cell_type": "code",
   "execution_count": null,
   "id": "bb5285d6",
   "metadata": {},
   "outputs": [],
   "source": [
    "g = Graph('route', a)"
   ]
  },
  {
   "cell_type": "code",
   "execution_count": null,
   "id": "b7ccb82b",
   "metadata": {
    "scrolled": false
   },
   "outputs": [],
   "source": [
    "g.static_plot()"
   ]
  },
  {
   "cell_type": "code",
   "execution_count": null,
   "id": "25eb9d1d",
   "metadata": {},
   "outputs": [],
   "source": [
    "node_args = dict(color='green', markersize=10)\n",
    "edge_args = dict(linewidth=1.5, alpha=None)\n",
    "g.static_plot(basemap=True, nodes=False, axis=False, source=ctx.providers.CartoDB.DarkMatterNoLabels,\n",
    "             title='Neigbourhood in Adum - Street Network (Drive)',\n",
    "             edge_kwargs=edge_args, node_kwargs=node_args)"
   ]
  }
 ],
 "metadata": {
  "interpreter": {
   "hash": "49c49ff44ed0ae36360824ee13f261ab546314db5036ad4974ccea6b04329394"
  },
  "kernelspec": {
   "display_name": "Python 3.10.4 ('ox')",
   "language": "python",
   "name": "python3"
  },
  "language_info": {
   "codemirror_mode": {
    "name": "ipython",
    "version": 3
   },
   "file_extension": ".py",
   "mimetype": "text/x-python",
   "name": "python",
   "nbconvert_exporter": "python",
   "pygments_lexer": "ipython3",
   "version": "3.10.4"
  }
 },
 "nbformat": 4,
 "nbformat_minor": 5
}
