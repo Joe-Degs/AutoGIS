{
 "cells": [
  {
   "cell_type": "code",
   "execution_count": null,
   "metadata": {},
   "outputs": [],
   "source": [
    "import autogis"
   ]
  },
  {
   "cell_type": "code",
   "execution_count": null,
   "metadata": {},
   "outputs": [],
   "source": [
    "import osmnx as ox\n",
    "from pprint import pprint\n",
    "import pandas as pd"
   ]
  },
  {
   "cell_type": "code",
   "execution_count": null,
   "metadata": {},
   "outputs": [],
   "source": [
    "# load the geocordinates of the study areas\n",
    "areas = autogis.GeoPoint(file='data/study_areas.csv')\n",
    "geodata = areas.geodata\n",
    "graphs = [f\"data/{'_'.join(n.split(' '))}.graphml\" for n in geodata.place]\n",
    "geodata"
   ]
  },
  {
   "cell_type": "markdown",
   "metadata": {},
   "source": [
    "#### for each study area extract the statistical indicators from the downloaded street network graph"
   ]
  },
  {
   "cell_type": "code",
   "execution_count": null,
   "metadata": {},
   "outputs": [],
   "source": [
    "df = None\n",
    "for city, place, graph in zip(geodata.city, geodata.place, graphs):\n",
    "    G = ox.load_graphml(graph)\n",
    "    rname = f\"{city}-{place}\"\n",
    "    bstats = ox.basic_stats(ox.project_graph(G),\n",
    "                            area=autogis.get_graph_area(G),\n",
    "                            clean_intersects=True,\n",
    "                            circuity_dist='euclidean')\n",
    "    for k, count in bstats['streets_per_node_counts'].items():\n",
    "        bstats[f\"{k}way_count\"] = count\n",
    "    for k, prop in bstats['streets_per_node_proportions'].items():\n",
    "        bstats[f\"{k}way_proportion\"] = prop\n",
    "    del bstats['streets_per_node_counts']\n",
    "    del bstats['streets_per_node_proportions']\n",
    "    \n",
    "    estats = ox.extended_stats(G, ecc=True, bc=True, cc=True)\n",
    "    print(estats.keys())\n",
    "    break\n",
    "    stat = estats.copy()\n",
    "    for key, val in estats.items():\n",
    "        if type(val) is dict:\n",
    "            del stat[key]\n",
    "    \n",
    "    if df is None:\n",
    "        df = pd.DataFrame(pd.Series(bstats|stat, name=rname)).round(3)\n",
    "        continue\n",
    "    ndf = pd.DataFrame(pd.Series(bstats|stat, name=rname)).round(3)\n",
    "    df = pd.concat([df, ndf], axis=1)\n",
    "    \n",
    "#df = df.fillna(0)\n",
    "#df.to_csv(\"data/network_indicators.csv\")\n",
    "#df"
   ]
  },
  {
   "cell_type": "code",
   "execution_count": 7,
   "metadata": {},
   "outputs": [],
   "source": [
    "from tkinter import W\n",
    "import networkx as nx\n",
    "import osmnx as ox\n",
    "def visualize_node_pr(G: nx.MultiDiGraph, **kwargs):\n",
    "    \"\"\"calculate and plot betweeness centrality of nodes on the directed graph\n",
    "    of the downloaded multigraph \n",
    "\n",
    "    Args:\n",
    "        G (nx.MultiDiGraph): street network downloaded and constructed by osmnx\n",
    "    \n",
    "    Returns:\n",
    "        fig, ax: matplotib figure and axes objects\n",
    "    \"\"\"\n",
    "    bc = nx.betweenness_centrality(ox.get_digraph(G), weight='length')\n",
    "    nx.set_node_attributes(G, bc, 'bc')\n",
    "    nc = ox.plot.get_node_colors_by_attr(G, 'bc', cmap='inferno')\n",
    "    return ox.plot_graph(\n",
    "        G,\n",
    "        figsize=(10, 10),\n",
    "        bgcolor='white',\n",
    "        node_color=nc,\n",
    "        node_size=50,\n",
    "        node_zorder=2,\n",
    "        edge_color='black',\n",
    "        edge_linewidth=0.3,\n",
    "        show=False,\n",
    "        **kwargs)"
   ]
  },
  {
   "cell_type": "code",
   "execution_count": null,
   "metadata": {},
   "outputs": [],
   "source": []
  }
 ],
 "metadata": {
  "kernelspec": {
   "display_name": "Python 3.10.4 ('ox')",
   "language": "python",
   "name": "python3"
  },
  "language_info": {
   "codemirror_mode": {
    "name": "ipython",
    "version": 3
   },
   "file_extension": ".py",
   "mimetype": "text/x-python",
   "name": "python",
   "nbconvert_exporter": "python",
   "pygments_lexer": "ipython3",
   "version": "3.10.4"
  },
  "orig_nbformat": 4,
  "vscode": {
   "interpreter": {
    "hash": "49c49ff44ed0ae36360824ee13f261ab546314db5036ad4974ccea6b04329394"
   }
  }
 },
 "nbformat": 4,
 "nbformat_minor": 2
}
