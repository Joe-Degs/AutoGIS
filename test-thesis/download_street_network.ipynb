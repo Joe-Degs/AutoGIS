{
 "cells": [
  {
   "cell_type": "code",
   "execution_count": null,
   "metadata": {},
   "outputs": [],
   "source": [
    "import osmnx as ox\n",
    "import autogis"
   ]
  },
  {
   "cell_type": "code",
   "execution_count": null,
   "metadata": {},
   "outputs": [],
   "source": [
    "# load the geocordinates of the study areas\n",
    "areas = autogis.GeoPoint(file='data/study_areas.csv')\n",
    "geodata = areas.geodata\n",
    "geodata"
   ]
  },
  {
   "cell_type": "code",
   "execution_count": null,
   "metadata": {},
   "outputs": [],
   "source": [
    "from os.path import exists"
   ]
  },
  {
   "cell_type": "code",
   "execution_count": null,
   "metadata": {},
   "outputs": [],
   "source": [
    "# download all graphs and save them to the local disk\n",
    "# make sure to have loaded the geopoint before calling function\n",
    "def download_and_save(area=500, force=False):\n",
    "    directory = 'data'\n",
    "    for name, coord in zip(geodata.place, geodata.geometry):\n",
    "        file = f\"{directory}/{'_'.join(name.split(' '))}.graphml\"\n",
    "        if exists(file) and not force:\n",
    "            continue\n",
    "        print(\"Dowloading Street Network for\", name, \"at\", coord, \"saving to\", file)\n",
    "        g = autogis.download_center_distance(coord, area, network_type='all_private')\n",
    "        ox.save_graphml(g, filepath=file)\n",
    "        print(\"Done!\")"
   ]
  },
  {
   "cell_type": "code",
   "execution_count": null,
   "metadata": {},
   "outputs": [],
   "source": [
    "download_and_save(area=700, force=True)"
   ]
  }
 ],
 "metadata": {
  "kernelspec": {
   "display_name": "Python 3.10.4 ('ox')",
   "language": "python",
   "name": "python3"
  },
  "language_info": {
   "codemirror_mode": {
    "name": "ipython",
    "version": 3
   },
   "file_extension": ".py",
   "mimetype": "text/x-python",
   "name": "python",
   "nbconvert_exporter": "python",
   "pygments_lexer": "ipython3",
   "version": "3.10.4"
  },
  "vscode": {
   "interpreter": {
    "hash": "49c49ff44ed0ae36360824ee13f261ab546314db5036ad4974ccea6b04329394"
   }
  }
 },
 "nbformat": 4,
 "nbformat_minor": 2
}
