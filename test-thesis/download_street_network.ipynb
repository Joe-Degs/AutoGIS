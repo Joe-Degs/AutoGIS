{
 "cells": [
  {
   "cell_type": "code",
   "execution_count": null,
   "metadata": {},
   "outputs": [],
   "source": [
    "import autogis"
   ]
  },
  {
   "cell_type": "code",
   "execution_count": null,
   "metadata": {},
   "outputs": [],
   "source": [
    "study_areas = autogis.GeoPoint(file='data/study_areas.csv')"
   ]
  },
  {
   "cell_type": "code",
   "execution_count": null,
   "metadata": {},
   "outputs": [],
   "source": [
    "study_areas.geodata"
   ]
  },
  {
   "cell_type": "code",
   "execution_count": null,
   "metadata": {},
   "outputs": [],
   "source": [
    "import osmnx as ox"
   ]
  },
  {
   "cell_type": "code",
   "execution_count": null,
   "metadata": {},
   "outputs": [],
   "source": [
    "# download all graphs and save them\n",
    "directory = 'data'\n",
    "for i, coord in enumerate(study_areas.geodata.geometry):\n",
    "    g = autogis.download_center_distance(coord, 500)\n",
    "    # download \n",
    "    ox.save_graphml(g, filepath=f\"{directory}/{'_'.join(study_areas.place[i].split(' '))}\")\n",
    "    break"
   ]
  }
 ],
 "metadata": {
  "kernelspec": {
   "display_name": "Python 3.10.4 ('ox')",
   "language": "python",
   "name": "python3"
  },
  "language_info": {
   "codemirror_mode": {
    "name": "ipython",
    "version": 3
   },
   "file_extension": ".py",
   "mimetype": "text/x-python",
   "name": "python",
   "nbconvert_exporter": "python",
   "pygments_lexer": "ipython3",
   "version": "3.10.4"
  },
  "orig_nbformat": 4,
  "vscode": {
   "interpreter": {
    "hash": "49c49ff44ed0ae36360824ee13f261ab546314db5036ad4974ccea6b04329394"
   }
  }
 },
 "nbformat": 4,
 "nbformat_minor": 2
}
