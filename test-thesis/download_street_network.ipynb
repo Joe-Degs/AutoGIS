{
 "cells": [
  {
   "cell_type": "code",
   "execution_count": 1,
   "metadata": {},
   "outputs": [],
   "source": [
    "import osmnx as ox\n",
    "import autogis"
   ]
  },
  {
   "cell_type": "code",
   "execution_count": 6,
   "metadata": {},
   "outputs": [],
   "source": [
    "# prevent autoreload for the following packages\n",
    "#%load_ext aimport\n",
    "#%load_ext autoreload\n",
    "#%aimport -osmnx"
   ]
  },
  {
   "cell_type": "code",
   "execution_count": 7,
   "metadata": {},
   "outputs": [],
   "source": [
    "# load the geocordinates of the study areas\n",
    "areas = autogis.GeoPoint(file='data/study_areas.csv')"
   ]
  },
  {
   "cell_type": "code",
   "execution_count": 8,
   "metadata": {},
   "outputs": [
    {
     "data": {
      "text/html": [
       "<div>\n",
       "<style scoped>\n",
       "    .dataframe tbody tr th:only-of-type {\n",
       "        vertical-align: middle;\n",
       "    }\n",
       "\n",
       "    .dataframe tbody tr th {\n",
       "        vertical-align: top;\n",
       "    }\n",
       "\n",
       "    .dataframe thead th {\n",
       "        text-align: right;\n",
       "    }\n",
       "</style>\n",
       "<table border=\"1\" class=\"dataframe\">\n",
       "  <thead>\n",
       "    <tr style=\"text-align: right;\">\n",
       "      <th></th>\n",
       "      <th>city</th>\n",
       "      <th>place</th>\n",
       "      <th>y</th>\n",
       "      <th>x</th>\n",
       "      <th>geometry</th>\n",
       "    </tr>\n",
       "  </thead>\n",
       "  <tbody>\n",
       "    <tr>\n",
       "      <th>0</th>\n",
       "      <td>Accra</td>\n",
       "      <td>Airport Residential Area</td>\n",
       "      <td>5.606246</td>\n",
       "      <td>-0.185884</td>\n",
       "      <td>POINT (-0.18588 5.60625)</td>\n",
       "    </tr>\n",
       "    <tr>\n",
       "      <th>1</th>\n",
       "      <td>Accra</td>\n",
       "      <td>Darkuman</td>\n",
       "      <td>5.590274</td>\n",
       "      <td>-0.250425</td>\n",
       "      <td>POINT (-0.25043 5.59027)</td>\n",
       "    </tr>\n",
       "    <tr>\n",
       "      <th>2</th>\n",
       "      <td>Accra</td>\n",
       "      <td>Nungua Central</td>\n",
       "      <td>5.610361</td>\n",
       "      <td>-0.086168</td>\n",
       "      <td>POINT (-0.08617 5.61036)</td>\n",
       "    </tr>\n",
       "    <tr>\n",
       "      <th>3</th>\n",
       "      <td>Kumasi</td>\n",
       "      <td>Adum</td>\n",
       "      <td>6.691810</td>\n",
       "      <td>-1.628995</td>\n",
       "      <td>POINT (-1.62900 6.69181)</td>\n",
       "    </tr>\n",
       "    <tr>\n",
       "      <th>4</th>\n",
       "      <td>Kumasi</td>\n",
       "      <td>Tafo</td>\n",
       "      <td>6.739872</td>\n",
       "      <td>-1.604349</td>\n",
       "      <td>POINT (-1.60435 6.73987)</td>\n",
       "    </tr>\n",
       "    <tr>\n",
       "      <th>5</th>\n",
       "      <td>Kumasi</td>\n",
       "      <td>Atonsu</td>\n",
       "      <td>6.655469</td>\n",
       "      <td>-1.608824</td>\n",
       "      <td>POINT (-1.60882 6.65547)</td>\n",
       "    </tr>\n",
       "  </tbody>\n",
       "</table>\n",
       "</div>"
      ],
      "text/plain": [
       "     city                     place         y         x  \\\n",
       "0   Accra  Airport Residential Area  5.606246 -0.185884   \n",
       "1   Accra                  Darkuman  5.590274 -0.250425   \n",
       "2   Accra            Nungua Central  5.610361 -0.086168   \n",
       "3  Kumasi                      Adum  6.691810 -1.628995   \n",
       "4  Kumasi                      Tafo  6.739872 -1.604349   \n",
       "5  Kumasi                    Atonsu  6.655469 -1.608824   \n",
       "\n",
       "                   geometry  \n",
       "0  POINT (-0.18588 5.60625)  \n",
       "1  POINT (-0.25043 5.59027)  \n",
       "2  POINT (-0.08617 5.61036)  \n",
       "3  POINT (-1.62900 6.69181)  \n",
       "4  POINT (-1.60435 6.73987)  \n",
       "5  POINT (-1.60882 6.65547)  "
      ]
     },
     "execution_count": 8,
     "metadata": {},
     "output_type": "execute_result"
    }
   ],
   "source": [
    "geodata = areas.geodata\n",
    "geodata"
   ]
  },
  {
   "cell_type": "code",
   "execution_count": 17,
   "metadata": {},
   "outputs": [],
   "source": [
    "from os.path import exists"
   ]
  },
  {
   "cell_type": "code",
   "execution_count": 18,
   "metadata": {},
   "outputs": [],
   "source": [
    "# download all graphs and save them to the local disk\n",
    "# make sure to have loaded the geopoint before calling function\n",
    "def download_and_save(area=500, force=False):\n",
    "    directory = 'data'\n",
    "    for name, coord in zip(geodata.place, geodata.geometry):\n",
    "        file = f\"{directory}/{'_'.join(name.split(' '))}.graphml\"\n",
    "        if exists(file) and not force:\n",
    "            continue\n",
    "        print(\"Dowloading Street Network for\", name, \"at\", coord, \"saving to\", file)\n",
    "        g = autogis.download_center_distance(coord, area)\n",
    "        ox.save_graphml(g, filepath=file)\n",
    "        print(\"Done!\")"
   ]
  },
  {
   "cell_type": "code",
   "execution_count": 19,
   "metadata": {},
   "outputs": [
    {
     "name": "stdout",
     "output_type": "stream",
     "text": [
      "Dowloading Street Network for Airport Residential Area at POINT (-0.185883692251098 5.606245514164749) saving to data/Airport_Residential_Area\n",
      "Done!\n",
      "Dowloading Street Network for Darkuman at POINT (-0.2504254544753801 5.590274181945994) saving to data/Darkuman\n",
      "Done!\n",
      "Dowloading Street Network for Nungua Central at POINT (-0.0861681404399464 5.61036089733701) saving to data/Nungua_Central\n",
      "Done!\n",
      "Dowloading Street Network for Adum at POINT (-1.6289952492833444 6.691810068567808) saving to data/Adum\n",
      "Done!\n",
      "Dowloading Street Network for Tafo at POINT (-1.604349017870118 6.739872273269915) saving to data/Tafo\n",
      "Done!\n",
      "Dowloading Street Network for Atonsu at POINT (-1.608823727065917 6.655469124723051) saving to data/Atonsu\n",
      "Done!\n"
     ]
    }
   ],
   "source": [
    "download_and_save(area=700, force=True)"
   ]
  },
  {
   "cell_type": "code",
   "execution_count": 22,
   "metadata": {},
   "outputs": [],
   "source": [
    "def get_filenames():\n",
    "    return [f\"{'_'.join(n.split(' '))}\" for n in geodata.place]"
   ]
  },
  {
   "cell_type": "code",
   "execution_count": 23,
   "metadata": {},
   "outputs": [
    {
     "data": {
      "text/plain": [
       "['Airport_Residential_Area.graphml',\n",
       " 'Darkuman.graphml',\n",
       " 'Nungua_Central.graphml',\n",
       " 'Adum.graphml',\n",
       " 'Tafo.graphml',\n",
       " 'Atonsu.graphml']"
      ]
     },
     "execution_count": 23,
     "metadata": {},
     "output_type": "execute_result"
    }
   ],
   "source": [
    "get_filenames()"
   ]
  },
  {
   "cell_type": "code",
   "execution_count": null,
   "metadata": {},
   "outputs": [],
   "source": []
  }
 ],
 "metadata": {
  "kernelspec": {
   "display_name": "Python [conda env:ox]",
   "language": "python",
   "name": "conda-env-ox-py"
  },
  "language_info": {
   "codemirror_mode": {
    "name": "ipython",
    "version": 3
   },
   "file_extension": ".py",
   "mimetype": "text/x-python",
   "name": "python",
   "nbconvert_exporter": "python",
   "pygments_lexer": "ipython3",
   "version": "3.10.4"
  },
  "vscode": {
   "interpreter": {
    "hash": "49c49ff44ed0ae36360824ee13f261ab546314db5036ad4974ccea6b04329394"
   }
  }
 },
 "nbformat": 4,
 "nbformat_minor": 2
}
