{
 "cells": [
  {
   "cell_type": "code",
   "execution_count": 2,
   "id": "ec96ee60",
   "metadata": {
    "scrolled": true
   },
   "outputs": [],
   "source": [
    "import geopandas\n",
    "world = geopandas.read_file(geopandas.datasets.get_path('naturalearth_lowres'))"
   ]
  },
  {
   "cell_type": "code",
   "execution_count": 19,
   "id": "e1e346fa",
   "metadata": {},
   "outputs": [
    {
     "name": "stdout",
     "output_type": "stream",
     "text": [
      "MultiPolygon <class 'str'>\n",
      "Polygon <class 'str'>\n"
     ]
    }
   ],
   "source": [
    "for t in world.geometry.geom_type.unique():\n",
    "    print(t, type(t))"
   ]
  },
  {
   "cell_type": "code",
   "execution_count": 20,
   "id": "e07c563a",
   "metadata": {},
   "outputs": [
    {
     "ename": "SyntaxError",
     "evalue": "invalid syntax (utils.py, line 165)",
     "output_type": "error",
     "traceback": [
      "Traceback \u001b[1;36m(most recent call last)\u001b[0m:\n",
      "  File \u001b[0;32mC:\\ProgramData\\Anaconda3\\envs\\ox\\lib\\site-packages\\IPython\\core\\interactiveshell.py:3369\u001b[0m in \u001b[0;35mrun_code\u001b[0m\n    exec(code_obj, self.user_global_ns, self.user_ns)\n",
      "  Input \u001b[0;32mIn [20]\u001b[0m in \u001b[0;35m<cell line: 1>\u001b[0m\n    import autogis\n",
      "  File \u001b[0;32m~\\AutoGIS\\test-thesis\\autogis\\__init__.py:1\u001b[0m in \u001b[0;35m<module>\u001b[0m\n    from .graph import *\n",
      "\u001b[1;36m  File \u001b[1;32m~\\AutoGIS\\test-thesis\\autogis\\graph.py:8\u001b[1;36m in \u001b[1;35m<module>\u001b[1;36m\u001b[0m\n\u001b[1;33m    from .utils import *\u001b[0m\n",
      "\u001b[1;36m  File \u001b[1;32m~\\AutoGIS\\test-thesis\\autogis\\utils.py:165\u001b[1;36m\u001b[0m\n\u001b[1;33m    def points(self, **self.kwargs) -> dict:\u001b[0m\n\u001b[1;37m                           ^\u001b[0m\n\u001b[1;31mSyntaxError\u001b[0m\u001b[1;31m:\u001b[0m invalid syntax\n"
     ]
    }
   ],
   "source": []
  },
  {
   "cell_type": "code",
   "execution_count": null,
   "id": "6c167234",
   "metadata": {},
   "outputs": [],
   "source": []
  }
 ],
 "metadata": {
  "kernelspec": {
   "display_name": "Python [conda env:ox]",
   "language": "python",
   "name": "conda-env-ox-py"
  },
  "language_info": {
   "codemirror_mode": {
    "name": "ipython",
    "version": 3
   },
   "file_extension": ".py",
   "mimetype": "text/x-python",
   "name": "python",
   "nbconvert_exporter": "python",
   "pygments_lexer": "ipython3",
   "version": "3.10.4"
  }
 },
 "nbformat": 4,
 "nbformat_minor": 5
}
