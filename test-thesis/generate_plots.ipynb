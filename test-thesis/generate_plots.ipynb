{
 "cells": [
  {
   "cell_type": "code",
   "execution_count": null,
   "id": "b171cd61",
   "metadata": {},
   "outputs": [],
   "source": [
    "import os\n",
    "import autogis"
   ]
  },
  {
   "cell_type": "code",
   "execution_count": null,
   "id": "f0d78bac",
   "metadata": {},
   "outputs": [],
   "source": [
    "import osmnx as ox\n",
    "import matplotlib.pyplot as plt\n",
    "import networkx as nx\n",
    "import osmnx as ox\n",
    "from IPython.display import Image"
   ]
  },
  {
   "cell_type": "code",
   "execution_count": null,
   "id": "d1c83b7f",
   "metadata": {},
   "outputs": [],
   "source": [
    "# load the geocordinates of the study areas\n",
    "areas = autogis.GeoPoint(file='data/study_areas.csv')\n",
    "geodata = areas.geodata\n",
    "graphs = [f\"data/{'_'.join(n.split(' '))}.graphml\" for n in geodata.place]\n",
    "geodata"
   ]
  },
  {
   "cell_type": "markdown",
   "id": "02e4cb55",
   "metadata": {},
   "source": [
    "\n",
    "#### closeness centrality plot for each study area"
   ]
  },
  {
   "cell_type": "code",
   "execution_count": null,
   "id": "428eb99c",
   "metadata": {
    "scrolled": true
   },
   "outputs": [],
   "source": [
    "for name, city, place in zip(graphs, geodata.city, geodata.place):\n",
    "    fig, ax = autogis.visualize_edge_cc(ox.load_graphml(name))\n",
    "    #ax.patch.set_edgecolor('black')\n",
    "    #ax.patch.set_linewidth('1')\n",
    "    fig.suptitle(f\"{place}, {city}\", fontsize=20)\n",
    "    img_name = f\"images/{city}_{'_'.join(place.split(' '))}_edge_cc.png\"\n",
    "    fig.savefig(img_name)"
   ]
  },
  {
   "cell_type": "markdown",
   "id": "9882ab12",
   "metadata": {},
   "source": [
    "#### plot graph (black graph on white background)"
   ]
  },
  {
   "cell_type": "code",
   "execution_count": null,
   "id": "fc275fd0",
   "metadata": {
    "scrolled": false
   },
   "outputs": [],
   "source": [
    "for name, city, place in zip(graphs, geodata.city, geodata.place):\n",
    "    fig, ax = autogis.black_bg_plot(ox.load_graphml(name))\n",
    "    ax.patch.set_linewidth('1')\n",
    "    fig.suptitle(f\"{place}, {city}\", fontsize=20)\n",
    "    img_name = f\"images/{city}_{'_'.join(place.split(' '))}_bw.png\"\n",
    "    fig.savefig(img_name)"
   ]
  },
  {
   "cell_type": "markdown",
   "id": "2165f8cb",
   "metadata": {},
   "source": [
    "#### visualize street network with anotatted street names"
   ]
  },
  {
   "cell_type": "code",
   "execution_count": null,
   "id": "55d6febd",
   "metadata": {
    "scrolled": false
   },
   "outputs": [],
   "source": [
    "for name, city, place in zip(graphs, geodata.city, geodata.place):\n",
    "    G = ox.load_graphml(name)\n",
    "    fig, ax = autogis.black_bg_plot(ox.load_graphml(name))\n",
    "    for _, edge in ox.graph_to_gdfs(G, nodes=False).fillna(\"\").iterrows():\n",
    "        text = edge[\"name\"]\n",
    "        c = edge[\"geometry\"].centroid\n",
    "        ax.annotate(text, (c.x, c.y), c=\"y\")\n",
    "    fig.suptitle(f\"{place}, {city}\", fontsize=20)\n",
    "    img_name = f\"images/{city}_{'_'.join(place.split(' '))}_street_names.png\"\n",
    "    fig.savefig(img_name)\n",
    "    plt.show()\n",
    "    break"
   ]
  },
  {
   "cell_type": "markdown",
   "id": "12185708",
   "metadata": {},
   "source": [
    "#### betweenness centrality (nodes) of each study area"
   ]
  },
  {
   "cell_type": "code",
   "execution_count": null,
   "id": "5db0009f",
   "metadata": {},
   "outputs": [],
   "source": [
    "for name, city, place in zip(graphs, geodata.city, geodata.place):\n",
    "    fig, ax = autogis.visualize_node_bc(ox.load_graphml(name))\n",
    "    #ax.patch.set_edgecolor('black')\n",
    "    #ax.patch.set_linewidth('1')\n",
    "    fig.suptitle(f\"{place}, {city}\", fontsize=20)\n",
    "    img_name = f\"images/{city}_{'_'.join(place.split(' '))}_node_bc.png\"\n",
    "    fig.savefig(img_name)"
   ]
  },
  {
   "cell_type": "markdown",
   "id": "c140b1bd",
   "metadata": {},
   "source": [
    "#### betweenness centrality (edges)"
   ]
  },
  {
   "cell_type": "code",
   "execution_count": null,
   "id": "e6e1ef54",
   "metadata": {},
   "outputs": [],
   "source": [
    "for name, city, place in zip(graphs, geodata.city, geodata.place):\n",
    "    fig, ax = autogis.visualize_edge_bc(ox.load_graphml(name))\n",
    "    #ax.patch.set_edgecolor('black')\n",
    "    #ax.patch.set_linewidth('1')\n",
    "    fig.suptitle(f\"{place}, {city}\", fontsize=20)\n",
    "    img_name = f\"images/{city}_{'_'.join(place.split(' '))}_edge_bc.png\"\n",
    "    fig.savefig(img_name)"
   ]
  },
  {
   "cell_type": "markdown",
   "id": "d2a09ed5",
   "metadata": {},
   "source": [
    "#### visualize building footprints"
   ]
  },
  {
   "cell_type": "code",
   "execution_count": null,
   "id": "57b16e95",
   "metadata": {},
   "outputs": [],
   "source": [
    "for name, city, place in zip(graphs, geodata.city, geodata.place):\n",
    "    fig, ax = autogis.visualize_street_footprint(os.path.splitext(name)[0])\n",
    "    #ax.patch.set_edgecolor('black')\n",
    "    #ax.patch.set_linewidth('1')\n",
    "    fig.suptitle(f\"{place}, {city}\", fontsize=20)\n",
    "    img_name = f\"images/{city}_{'_'.join(place.split(' '))}_building_footprint.png\"\n",
    "    fig.savefig(img_name)\n",
    "    break"
   ]
  }
 ],
 "metadata": {
  "kernelspec": {
   "display_name": "Python [conda env:ox]",
   "language": "python",
   "name": "conda-env-ox-py"
  },
  "language_info": {
   "codemirror_mode": {
    "name": "ipython",
    "version": 3
   },
   "file_extension": ".py",
   "mimetype": "text/x-python",
   "name": "python",
   "nbconvert_exporter": "python",
   "pygments_lexer": "ipython3",
   "version": "3.10.4"
  },
  "vscode": {
   "interpreter": {
    "hash": "49c49ff44ed0ae36360824ee13f261ab546314db5036ad4974ccea6b04329394"
   }
  }
 },
 "nbformat": 4,
 "nbformat_minor": 5
}
