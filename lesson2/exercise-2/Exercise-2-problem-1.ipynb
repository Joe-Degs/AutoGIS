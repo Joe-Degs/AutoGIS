{
 "cells": [
  {
   "cell_type": "markdown",
   "metadata": {},
   "source": [
    "## Problem 1: Create Polygon from lists of coordinates (5 points)\n",
    "\n",
    "In the first problem **the aim is to create a polygon based on the provided coordinates, and to plot the polygon on as a map.** \n",
    "\n",
    "Two lists;``longitudes`` and``latitudes`` contain the input coordinates for the polygon. The first coordinate pair looks like this: ``(29.99671173095703, 63.748023986816406)``.\n",
    " \n",
    "The codeblocks below help you get started with the task. More detailed instructions are given below. \n"
   ]
  },
  {
   "cell_type": "code",
   "execution_count": 1,
   "metadata": {},
   "outputs": [
    {
     "name": "stdout",
     "output_type": "stream",
     "text": [
      "52 52\n"
     ]
    }
   ],
   "source": [
    "import os\n",
    "import geopandas as gpd\n",
    "import matplotlib.pyplot as plt\n",
    "from shapely.geometry import Polygon\n",
    "\n",
    "# Longitudes in decimal degrees\n",
    "longitudes = [29.99671173095703, 31.58196258544922, 27.738052368164062, 26.50013542175293, 26.652359008789062, 25.921663284301758, 22.90027618408203, 23.257217407226562,\n",
    "           23.335693359375, 22.87444305419922, 23.08465003967285, 22.565473556518555, 21.452774047851562, 21.66388702392578, 21.065969467163086, 21.67659568786621,\n",
    "           21.496871948242188, 22.339998245239258, 22.288192749023438, 24.539581298828125, 25.444232940673828, 25.303749084472656, 24.669166564941406, 24.689163208007812,\n",
    "           24.174999237060547, 23.68471908569336, 24.000761032104492, 23.57332992553711, 23.76513671875, 23.430830001831055, 23.6597900390625, 20.580928802490234, 21.320831298828125,\n",
    "           22.398330688476562, 23.97638702392578, 24.934917449951172, 25.7611083984375, 25.95930290222168, 26.476804733276367, 27.91069221496582, 29.1027774810791, 29.29846954345703,\n",
    "           28.4355525970459, 28.817358016967773, 28.459857940673828, 30.028610229492188, 29.075136184692383, 30.13492774963379, 29.818885803222656, 29.640830993652344, 30.57735824584961,\n",
    "           29.99671173095703]\n",
    "\n",
    "# Latitudes in decimal degrees\n",
    "latitudes = [63.748023986816406, 62.90789794921875, 60.511383056640625, 60.44499588012695, 60.646385192871094, 60.243743896484375, 59.806800842285156, 59.91944122314453,\n",
    "           60.02395248413086, 60.14555358886719, 60.3452033996582, 60.211936950683594, 60.56249237060547, 61.54027557373047, 62.59798049926758, 63.02013397216797,\n",
    "           63.20353698730469, 63.27652359008789, 63.525691986083984, 64.79915618896484, 64.9533920288086, 65.51513671875, 65.65470886230469, 65.89610290527344, 65.79151916503906,\n",
    "           66.26332092285156, 66.80228424072266, 67.1570053100586, 67.4168701171875, 67.47978210449219, 67.94589233398438, 69.060302734375, 69.32611083984375, 68.71110534667969,\n",
    "           68.83248901367188, 68.580810546875, 68.98916625976562, 69.68568420410156, 69.9363784790039, 70.08860778808594, 69.70597076416016, 69.48533630371094, 68.90263366699219,\n",
    "           68.84700012207031, 68.53485107421875, 67.69471740722656, 66.90360260009766, 65.70887756347656, 65.6533203125, 64.92096710205078, 64.22373962402344, 63.748023986816406]\n",
    "\n",
    "print(len(longitudes), len(latitudes))\n"
   ]
  },
  {
   "cell_type": "markdown",
   "metadata": {},
   "source": [
    "**First, create a Polygon variable `poly` based on the coordinates:**\n",
    "- Create a list of coordinate pairs based on the provided longitudes and latitudes and store the list in a variable `coordpairs`. A coordinate pair can be either a tuple or a list.\n",
    "- Create a shapely Polygon using the `coordpairs` -list. Store the polygon in a variable `poly`.\n",
    "\n",
    "Please use the provided variable names (replace ``None`` with your own code)."
   ]
  },
  {
   "cell_type": "code",
   "execution_count": 7,
   "metadata": {
    "deletable": false,
    "jupyter": {
     "outputs_hidden": false
    },
    "nbgrader": {
     "cell_type": "code",
     "checksum": "2785469949f24ee8aaa3c241c229ff62",
     "grade": false,
     "grade_id": "create_polygon",
     "locked": false,
     "schema_version": 3,
     "solution": true
    }
   },
   "outputs": [
    {
     "name": "stdout",
     "output_type": "stream",
     "text": [
      "52\n"
     ]
    },
    {
     "data": {
      "image/svg+xml": [
       "<svg xmlns=\"http://www.w3.org/2000/svg\" xmlns:xlink=\"http://www.w3.org/1999/xlink\" width=\"100.0\" height=\"100.0\" viewBox=\"20.140887451171874 59.3667594909668 11.881116485595701 11.161889648437494\" preserveAspectRatio=\"xMinYMin meet\"><g transform=\"matrix(1,0,0,-1,0,129.8954086303711)\"><path fill-rule=\"evenodd\" fill=\"#66cc99\" stroke=\"#555555\" stroke-width=\"0.23762232971191402\" opacity=\"0.6\" d=\"M 29.99671173095703,63.748023986816406 L 31.58196258544922,62.90789794921875 L 27.738052368164062,60.511383056640625 L 26.50013542175293,60.44499588012695 L 26.652359008789062,60.646385192871094 L 25.921663284301758,60.243743896484375 L 22.90027618408203,59.806800842285156 L 23.257217407226562,59.91944122314453 L 23.335693359375,60.02395248413086 L 22.87444305419922,60.14555358886719 L 23.08465003967285,60.3452033996582 L 22.565473556518555,60.211936950683594 L 21.452774047851562,60.56249237060547 L 21.66388702392578,61.54027557373047 L 21.065969467163086,62.59798049926758 L 21.67659568786621,63.02013397216797 L 21.496871948242188,63.20353698730469 L 22.339998245239258,63.27652359008789 L 22.288192749023438,63.525691986083984 L 24.539581298828125,64.79915618896484 L 25.444232940673828,64.9533920288086 L 25.303749084472656,65.51513671875 L 24.669166564941406,65.65470886230469 L 24.689163208007812,65.89610290527344 L 24.174999237060547,65.79151916503906 L 23.68471908569336,66.26332092285156 L 24.000761032104492,66.80228424072266 L 23.57332992553711,67.1570053100586 L 23.76513671875,67.4168701171875 L 23.430830001831055,67.47978210449219 L 23.6597900390625,67.94589233398438 L 20.580928802490234,69.060302734375 L 21.320831298828125,69.32611083984375 L 22.398330688476562,68.71110534667969 L 23.97638702392578,68.83248901367188 L 24.934917449951172,68.580810546875 L 25.7611083984375,68.98916625976562 L 25.95930290222168,69.68568420410156 L 26.476804733276367,69.9363784790039 L 27.91069221496582,70.08860778808594 L 29.1027774810791,69.70597076416016 L 29.29846954345703,69.48533630371094 L 28.4355525970459,68.90263366699219 L 28.817358016967773,68.84700012207031 L 28.459857940673828,68.53485107421875 L 30.028610229492188,67.69471740722656 L 29.075136184692383,66.90360260009766 L 30.13492774963379,65.70887756347656 L 29.818885803222656,65.6533203125 L 29.640830993652344,64.92096710205078 L 30.57735824584961,64.22373962402344 L 29.99671173095703,63.748023986816406 z\" /></g></svg>"
      ],
      "text/plain": [
       "<shapely.geometry.polygon.Polygon at 0x148feb4a0a0>"
      ]
     },
     "execution_count": 7,
     "metadata": {},
     "output_type": "execute_result"
    }
   ],
   "source": [
    "from shapely.geometry import Polygon\n",
    "\n",
    "# Create a list of coordinate pairs\n",
    "coordpairs = [(x, y) for x, y in zip(longitudes, latitudes)]\n",
    "print(len(coordpairs))\n",
    "\n",
    "# Create a shapely Polygon using the 'coordpairs' -list\n",
    "poly = Polygon(coordpairs)\n",
    "# REPLACE THE ERROR BELOW WITH YOUR OWN CODE\n",
    "poly"
   ]
  },
  {
   "cell_type": "code",
   "execution_count": 8,
   "metadata": {
    "deletable": false,
    "editable": false,
    "nbgrader": {
     "cell_type": "code",
     "checksum": "2f0369cfe8d76114c97522b6ebdc16a3",
     "grade": true,
     "grade_id": "problem_1_polygon_test",
     "locked": true,
     "points": 0.5,
     "schema_version": 3,
     "solution": false,
     "task": false
    }
   },
   "outputs": [
    {
     "name": "stdout",
     "output_type": "stream",
     "text": [
      "(29.99671173095703, 63.748023986816406)\n"
     ]
    }
   ],
   "source": [
    "# NON-EDITABLE CODE CELL FOR TESTING YOUR SOLUTION\n",
    "\n",
    "# Check the first coordinate pair. Shoud be: (29.99671173095703, 63.748023986816406)\n",
    "print(coordpairs[0])"
   ]
  },
  {
   "cell_type": "code",
   "execution_count": 9,
   "metadata": {
    "deletable": false,
    "editable": false,
    "nbgrader": {
     "cell_type": "code",
     "checksum": "2ab27bcbff4e426451630e8cace16978",
     "grade": true,
     "grade_id": "problem_1_polygon_dtype_test",
     "locked": true,
     "points": 0.5,
     "schema_version": 3,
     "solution": false,
     "task": false
    }
   },
   "outputs": [
    {
     "name": "stdout",
     "output_type": "stream",
     "text": [
      "Polygon\n"
     ]
    }
   ],
   "source": [
    "# NON-EDITABLE CODE CELL FOR TESTING YOUR SOLUTION\n",
    "\n",
    "# Check the data type of your polygon:\n",
    "print(poly.geom_type)"
   ]
  },
  {
   "cell_type": "markdown",
   "metadata": {},
   "source": [
    "**Insert the polygon into a GeoDataFrame called `geo`:**\n",
    "- Create an empty geodataframe variable `geo`\n",
    "- Insert our `poly` -polygon into the `geo` GeoDataFrame into a new column named 'geometry'\n",
    "\n",
    "Please use the provided variable names (replace `None` with your own code)."
   ]
  },
  {
   "cell_type": "code",
   "execution_count": 15,
   "metadata": {
    "deletable": false,
    "nbgrader": {
     "cell_type": "code",
     "checksum": "1597a66839273253f2a1dabb642c0166",
     "grade": false,
     "grade_id": "create_geodataframe",
     "locked": false,
     "schema_version": 3,
     "solution": true,
     "task": false
    }
   },
   "outputs": [],
   "source": [
    "# Create an empty GeoDataFrame\n",
    "geo = gpd.GeoDataFrame()\n",
    "\n",
    "# Insert the 'poly' -polygon into the 'geo' GeoDataFrame into a new column named 'geometry' \n",
    "# REPLACE THE ERROR BELOW WITH YOUR OWN CODE\n",
    "geo['geometry'] = [poly]"
   ]
  },
  {
   "cell_type": "code",
   "execution_count": 16,
   "metadata": {
    "deletable": false,
    "editable": false,
    "nbgrader": {
     "cell_type": "code",
     "checksum": "765880828c9c32cda3ae9d6637657011",
     "grade": true,
     "grade_id": "problem_1_gpd_test",
     "locked": true,
     "points": 0.5,
     "schema_version": 3,
     "solution": false,
     "task": false
    }
   },
   "outputs": [
    {
     "name": "stdout",
     "output_type": "stream",
     "text": [
      "                                            geometry\n",
      "0  POLYGON ((29.99671 63.74802, 31.58196 62.90790...\n"
     ]
    }
   ],
   "source": [
    "# NON-EDITABLE CODE CELL FOR TESTING YOUR SOLUTION\n",
    "\n",
    "# Check the content of the GeoDataFrame:\n",
    "print(geo.head())"
   ]
  },
  {
   "cell_type": "code",
   "execution_count": 17,
   "metadata": {
    "deletable": false,
    "editable": false,
    "jupyter": {
     "outputs_hidden": false
    },
    "nbgrader": {
     "cell_type": "code",
     "checksum": "8ff46e2dcb31536748647f2e84dee7db",
     "grade": true,
     "grade_id": "problem_1_polygon_gpd_test",
     "locked": true,
     "points": 1.5,
     "schema_version": 3,
     "solution": false
    }
   },
   "outputs": [
    {
     "name": "stdout",
     "output_type": "stream",
     "text": [
      "1\n"
     ]
    }
   ],
   "source": [
    "# NON-EDITABLE CODE CELL FOR TESTING YOUR SOLUTION\n",
    "\n",
    "# Check the number of rows:\n",
    "print(len(geo))"
   ]
  },
  {
   "cell_type": "markdown",
   "metadata": {},
   "source": [
    "**Finally:**\n",
    "- plot the polygon. Note: you might need to call `matplotlib pyplot show()` -method in order to display the map"
   ]
  },
  {
   "cell_type": "code",
   "execution_count": 21,
   "metadata": {
    "deletable": false,
    "jupyter": {
     "outputs_hidden": false
    },
    "nbgrader": {
     "cell_type": "code",
     "checksum": "229b34ce9b56f2f7fc33260afcc38ff4",
     "grade": false,
     "grade_id": "plot_map",
     "locked": false,
     "schema_version": 3,
     "solution": true
    }
   },
   "outputs": [
    {
     "data": {
      "text/plain": [
       "<AxesSubplot:>"
      ]
     },
     "execution_count": 21,
     "metadata": {},
     "output_type": "execute_result"
    },
    {
     "data": {
      "image/png": "[encoded data removed]",
      "text/plain": [
       "<Figure size 720x720 with 1 Axes>"
      ]
     },
     "metadata": {
      "needs_background": "light"
     },
     "output_type": "display_data"
    }
   ],
   "source": [
    "# Plot the polygon. What shape is it :) ?\n",
    "# REPLACE THE ERROR BELOW WITH YOUR OWN CODE\n",
    "fig, ax1 = plt.subplots(nrows=1, ncols=1, figsize=(10, 10))\n",
    "geo.plot(ax=ax1)"
   ]
  },
  {
   "cell_type": "markdown",
   "metadata": {},
   "source": [
    "What can you see on the map? :) "
   ]
  },
  {
   "cell_type": "markdown",
   "metadata": {},
   "source": [
    "- save the GeoDataFrame into a Shapefile called `'polygon.shp'`. "
   ]
  },
  {
   "cell_type": "code",
   "execution_count": 22,
   "metadata": {
    "deletable": false,
    "nbgrader": {
     "cell_type": "code",
     "checksum": "9636ab81e44f8eb07a5e36581399bc28",
     "grade": false,
     "grade_id": "save",
     "locked": false,
     "schema_version": 3,
     "solution": true,
     "task": false
    }
   },
   "outputs": [
    {
     "name": "stderr",
     "output_type": "stream",
     "text": [
      "C:\\ProgramData\\Anaconda3\\envs\\autogis_lesson2\\lib\\site-packages\\geopandas\\io\\file.py:299: FutureWarning: pandas.Int64Index is deprecated and will be removed from pandas in a future version. Use pandas.Index with the appropriate dtype instead.\n",
      "  pd.Int64Index,\n"
     ]
    }
   ],
   "source": [
    "# Save the GeoDataFrame into a new Shapefile called 'polygon.shp'.\n",
    "fp = 'data/polygon.shp'\n",
    "\n",
    "# REPLACE THE ERROR BELOW WITH YOUR OWN CODE\n",
    "geo.to_file(fp)"
   ]
  },
  {
   "cell_type": "code",
   "execution_count": 23,
   "metadata": {
    "deletable": false,
    "editable": false,
    "jupyter": {
     "outputs_hidden": false
    },
    "nbgrader": {
     "cell_type": "code",
     "checksum": "4339faa7e76379f2463ace306f9a4aa0",
     "grade": true,
     "grade_id": "problem_1_plot_and_save_test",
     "locked": true,
     "points": 2,
     "schema_version": 3,
     "solution": false
    }
   },
   "outputs": [],
   "source": [
    "# NON-EDITABLE CODE CELL FOR TESTING YOUR SOLUTION\n",
    "\n",
    "#Check if output file exists\n",
    "assert os.path.isfile(fp), \"Output file does not exits.\""
   ]
  },
  {
   "cell_type": "markdown",
   "metadata": {},
   "source": [
    "Next, you can continue to [Exercise-2 Problem 2](Exercise-2-problem-2.ipynb)."
   ]
  },
  {
   "cell_type": "code",
   "execution_count": null,
   "metadata": {},
   "outputs": [],
   "source": []
  }
 ],
 "metadata": {
  "anaconda-cloud": {},
  "kernelspec": {
   "display_name": "Python [conda env:autogis_lesson2]",
   "language": "python",
   "name": "conda-env-autogis_lesson2-py"
  },
  "language_info": {
   "codemirror_mode": {
    "name": "ipython",
    "version": 3
   },
   "file_extension": ".py",
   "mimetype": "text/x-python",
   "name": "python",
   "nbconvert_exporter": "python",
   "pygments_lexer": "ipython3",
   "version": "3.9.12"
  }
 },
 "nbformat": 4,
 "nbformat_minor": 4
}
