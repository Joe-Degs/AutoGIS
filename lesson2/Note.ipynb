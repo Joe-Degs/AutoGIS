{
 "cells": [
  {
   "cell_type": "markdown",
   "id": "fbecab10",
   "metadata": {},
   "source": [
    "### Lesson 2 Overview\n",
    "- __geopandas__ : reading and writing GIS file formats with `geopandas`\n",
    "- __spatial analysis__ `on spatial and non-spatial data`\n",
    "- __coordinate reference systems: (CRS)__ with `pyproj`\n",
    "- __Plotting__ with `matplotlib`\n",
    "- manage __CRS__ and re-project data"
   ]
  },
  {
   "cell_type": "markdown",
   "id": "3a3c1e17",
   "metadata": {},
   "source": [
    "#### Vector Data I/O with geopandas"
   ]
  },
  {
   "cell_type": "code",
   "execution_count": 1,
   "id": "ac00fce1",
   "metadata": {},
   "outputs": [
    {
     "data": {
      "text/plain": [
       "{'AeronavFAA': 'r',\n",
       " 'ARCGEN': 'r',\n",
       " 'BNA': 'raw',\n",
       " 'DXF': 'raw',\n",
       " 'CSV': 'raw',\n",
       " 'OpenFileGDB': 'r',\n",
       " 'ESRIJSON': 'r',\n",
       " 'ESRI Shapefile': 'raw',\n",
       " 'GeoJSON': 'rw',\n",
       " 'GeoJSONSeq': 'rw',\n",
       " 'GPKG': 'rw',\n",
       " 'GML': 'raw',\n",
       " 'GPX': 'raw',\n",
       " 'GPSTrackMaker': 'raw',\n",
       " 'Idrisi': 'r',\n",
       " 'MapInfo File': 'raw',\n",
       " 'DGN': 'raw',\n",
       " 'PCIDSK': 'r',\n",
       " 'S57': 'r',\n",
       " 'SEGY': 'r',\n",
       " 'SUA': 'r',\n",
       " 'TopoJSON': 'r'}"
      ]
     },
     "execution_count": 1,
     "metadata": {},
     "output_type": "execute_result"
    }
   ],
   "source": [
    "import geopandas as gpd\n",
    "\n",
    "# geopandas open different file formats using the appropriate drivers\n",
    "# the `fiona` model is the base package that works in the background to open file\n",
    "\n",
    "# view the available drivers for doing GIS data I/O\n",
    "gpd.io.file.fiona.drvsupport.supported_drivers"
   ]
  },
  {
   "cell_type": "code",
   "execution_count": 5,
   "id": "d2aa7ac8",
   "metadata": {},
   "outputs": [],
   "source": [
    "DATA_DIR = \"data\"\n",
    "OUTPUT_DIR = \"temp\"\n",
    "\n",
    "## the default driver for I/O is the ESRI shapefile\n",
    "#shapefile_data = gpd.read_file(f'{DATA_DIR}/finland_municipalities.shp')\n",
    "\n",
    "# write to another GIS file format\n",
    "#shapefile_data.to_file(f'{OUTPUT_DIR}/finland_municipalities.gjson')"
   ]
  },
  {
   "cell_type": "code",
   "execution_count": null,
   "id": "923b7f11",
   "metadata": {},
   "outputs": [],
   "source": []
  },
  {
   "cell_type": "markdown",
   "id": "51c35560",
   "metadata": {},
   "source": [
    "## Geopandas"
   ]
  },
  {
   "cell_type": "code",
   "execution_count": 6,
   "id": "ed648426",
   "metadata": {},
   "outputs": [
    {
     "name": "stdout",
     "output_type": "stream",
     "text": [
      "data/L2/NLS/2018/L4/L41/L4132R.shp\n"
     ]
    }
   ],
   "source": [
    "SHAPEFILE_DIR = f'{DATA_DIR}/L2/NLS/2018/L4/L41/L4132R.shp'\n",
    "print(SHAPEFILE_DIR)"
   ]
  },
  {
   "cell_type": "code",
   "execution_count": 10,
   "id": "62ba8621",
   "metadata": {},
   "outputs": [
    {
     "name": "stdout",
     "output_type": "stream",
     "text": [
      "C:\\Users\\big yeti\\autogis\\lesson2\\data\\L2\\NLS\\2018\\L4\\L41\\L4132R.shp\\m_L4132R_p.shp\n"
     ]
    }
   ],
   "source": [
    "#  Join directory and filename paths\n",
    "import os\n",
    "\n",
    "shapefile_path = os.path.abspath(f'{SHAPEFILE_DIR}/m_L4132R_p.shp')\n",
    "print(shapefile_path)"
   ]
  },
  {
   "cell_type": "code",
   "execution_count": 13,
   "id": "81597cba",
   "metadata": {},
   "outputs": [
    {
     "data": {
      "text/plain": [
       "geopandas.geodataframe.GeoDataFrame"
      ]
     },
     "execution_count": 13,
     "metadata": {},
     "output_type": "execute_result"
    }
   ],
   "source": [
    "# reading the shapefile\n",
    "shapefile_data = gpd.read_file(shapefile_path)\n",
    "type(shapefile_data)"
   ]
  },
  {
   "cell_type": "code",
   "execution_count": 14,
   "id": "5fc8d7d7",
   "metadata": {},
   "outputs": [
    {
     "data": {
      "text/html": [
       "<div>\n",
       "<style scoped>\n",
       "    .dataframe tbody tr th:only-of-type {\n",
       "        vertical-align: middle;\n",
       "    }\n",
       "\n",
       "    .dataframe tbody tr th {\n",
       "        vertical-align: top;\n",
       "    }\n",
       "\n",
       "    .dataframe thead th {\n",
       "        text-align: right;\n",
       "    }\n",
       "</style>\n",
       "<table border=\"1\" class=\"dataframe\">\n",
       "  <thead>\n",
       "    <tr style=\"text-align: right;\">\n",
       "      <th></th>\n",
       "      <th>TEKSTI</th>\n",
       "      <th>RYHMA</th>\n",
       "      <th>LUOKKA</th>\n",
       "      <th>TASTAR</th>\n",
       "      <th>KORTAR</th>\n",
       "      <th>KORARV</th>\n",
       "      <th>KULKUTAPA</th>\n",
       "      <th>KOHDEOSO</th>\n",
       "      <th>AINLAHDE</th>\n",
       "      <th>SYNTYHETKI</th>\n",
       "      <th>...</th>\n",
       "      <th>KARTOGLK</th>\n",
       "      <th>ALUEJAKOON</th>\n",
       "      <th>VERSUH</th>\n",
       "      <th>SUUNTA</th>\n",
       "      <th>SIIRT_DX</th>\n",
       "      <th>SIIRT_DY</th>\n",
       "      <th>KORKEUS</th>\n",
       "      <th>ATTR2</th>\n",
       "      <th>ATTR3</th>\n",
       "      <th>geometry</th>\n",
       "    </tr>\n",
       "  </thead>\n",
       "  <tbody>\n",
       "    <tr>\n",
       "      <th>0</th>\n",
       "      <td>None</td>\n",
       "      <td>64</td>\n",
       "      <td>32421</td>\n",
       "      <td>5000</td>\n",
       "      <td>0</td>\n",
       "      <td>0.0</td>\n",
       "      <td>0</td>\n",
       "      <td>1812247077</td>\n",
       "      <td>1</td>\n",
       "      <td>20180125</td>\n",
       "      <td>...</td>\n",
       "      <td>0</td>\n",
       "      <td>0</td>\n",
       "      <td>0</td>\n",
       "      <td>0</td>\n",
       "      <td>0</td>\n",
       "      <td>0</td>\n",
       "      <td>0.0</td>\n",
       "      <td>0</td>\n",
       "      <td>0</td>\n",
       "      <td>POLYGON ((379394.248 6689991.936, 379389.790 6...</td>\n",
       "    </tr>\n",
       "    <tr>\n",
       "      <th>1</th>\n",
       "      <td>None</td>\n",
       "      <td>64</td>\n",
       "      <td>32421</td>\n",
       "      <td>5000</td>\n",
       "      <td>0</td>\n",
       "      <td>0.0</td>\n",
       "      <td>0</td>\n",
       "      <td>1718796908</td>\n",
       "      <td>1</td>\n",
       "      <td>20180120</td>\n",
       "      <td>...</td>\n",
       "      <td>0</td>\n",
       "      <td>0</td>\n",
       "      <td>0</td>\n",
       "      <td>0</td>\n",
       "      <td>0</td>\n",
       "      <td>0</td>\n",
       "      <td>0.0</td>\n",
       "      <td>0</td>\n",
       "      <td>0</td>\n",
       "      <td>POLYGON ((378980.811 6689359.377, 378983.401 6...</td>\n",
       "    </tr>\n",
       "    <tr>\n",
       "      <th>2</th>\n",
       "      <td>None</td>\n",
       "      <td>64</td>\n",
       "      <td>32421</td>\n",
       "      <td>20000</td>\n",
       "      <td>0</td>\n",
       "      <td>0.0</td>\n",
       "      <td>0</td>\n",
       "      <td>411167695</td>\n",
       "      <td>1</td>\n",
       "      <td>20180120</td>\n",
       "      <td>...</td>\n",
       "      <td>0</td>\n",
       "      <td>0</td>\n",
       "      <td>0</td>\n",
       "      <td>0</td>\n",
       "      <td>0</td>\n",
       "      <td>0</td>\n",
       "      <td>0.0</td>\n",
       "      <td>0</td>\n",
       "      <td>0</td>\n",
       "      <td>POLYGON ((378804.766 6689256.471, 378817.107 6...</td>\n",
       "    </tr>\n",
       "    <tr>\n",
       "      <th>3</th>\n",
       "      <td>None</td>\n",
       "      <td>64</td>\n",
       "      <td>32421</td>\n",
       "      <td>20000</td>\n",
       "      <td>0</td>\n",
       "      <td>0.0</td>\n",
       "      <td>0</td>\n",
       "      <td>411173768</td>\n",
       "      <td>1</td>\n",
       "      <td>20180120</td>\n",
       "      <td>...</td>\n",
       "      <td>0</td>\n",
       "      <td>0</td>\n",
       "      <td>0</td>\n",
       "      <td>0</td>\n",
       "      <td>0</td>\n",
       "      <td>0</td>\n",
       "      <td>0.0</td>\n",
       "      <td>0</td>\n",
       "      <td>0</td>\n",
       "      <td>POLYGON ((379229.695 6685025.111, 379233.366 6...</td>\n",
       "    </tr>\n",
       "    <tr>\n",
       "      <th>4</th>\n",
       "      <td>None</td>\n",
       "      <td>64</td>\n",
       "      <td>32421</td>\n",
       "      <td>20000</td>\n",
       "      <td>0</td>\n",
       "      <td>0.0</td>\n",
       "      <td>0</td>\n",
       "      <td>411173698</td>\n",
       "      <td>1</td>\n",
       "      <td>20180120</td>\n",
       "      <td>...</td>\n",
       "      <td>0</td>\n",
       "      <td>0</td>\n",
       "      <td>0</td>\n",
       "      <td>0</td>\n",
       "      <td>0</td>\n",
       "      <td>0</td>\n",
       "      <td>0.0</td>\n",
       "      <td>0</td>\n",
       "      <td>0</td>\n",
       "      <td>POLYGON ((379825.199 6685096.247, 379829.651 6...</td>\n",
       "    </tr>\n",
       "  </tbody>\n",
       "</table>\n",
       "<p>5 rows × 21 columns</p>\n",
       "</div>"
      ],
      "text/plain": [
       "  TEKSTI  RYHMA  LUOKKA  TASTAR  KORTAR  KORARV  KULKUTAPA    KOHDEOSO  \\\n",
       "0   None     64   32421    5000       0     0.0          0  1812247077   \n",
       "1   None     64   32421    5000       0     0.0          0  1718796908   \n",
       "2   None     64   32421   20000       0     0.0          0   411167695   \n",
       "3   None     64   32421   20000       0     0.0          0   411173768   \n",
       "4   None     64   32421   20000       0     0.0          0   411173698   \n",
       "\n",
       "   AINLAHDE SYNTYHETKI  ... KARTOGLK  ALUEJAKOON  VERSUH  SUUNTA  SIIRT_DX  \\\n",
       "0         1   20180125  ...        0           0       0       0         0   \n",
       "1         1   20180120  ...        0           0       0       0         0   \n",
       "2         1   20180120  ...        0           0       0       0         0   \n",
       "3         1   20180120  ...        0           0       0       0         0   \n",
       "4         1   20180120  ...        0           0       0       0         0   \n",
       "\n",
       "   SIIRT_DY  KORKEUS  ATTR2  ATTR3  \\\n",
       "0         0      0.0      0      0   \n",
       "1         0      0.0      0      0   \n",
       "2         0      0.0      0      0   \n",
       "3         0      0.0      0      0   \n",
       "4         0      0.0      0      0   \n",
       "\n",
       "                                            geometry  \n",
       "0  POLYGON ((379394.248 6689991.936, 379389.790 6...  \n",
       "1  POLYGON ((378980.811 6689359.377, 378983.401 6...  \n",
       "2  POLYGON ((378804.766 6689256.471, 378817.107 6...  \n",
       "3  POLYGON ((379229.695 6685025.111, 379233.366 6...  \n",
       "4  POLYGON ((379825.199 6685096.247, 379829.651 6...  \n",
       "\n",
       "[5 rows x 21 columns]"
      ]
     },
     "execution_count": 14,
     "metadata": {},
     "output_type": "execute_result"
    }
   ],
   "source": [
    "shapefile_data.head()"
   ]
  },
  {
   "cell_type": "code",
   "execution_count": 16,
   "id": "a5defb62",
   "metadata": {},
   "outputs": [
    {
     "data": {
      "text/plain": [
       "array(['TEKSTI', 'RYHMA', 'LUOKKA', 'TASTAR', 'KORTAR', 'KORARV',\n",
       "       'KULKUTAPA', 'KOHDEOSO', 'AINLAHDE', 'SYNTYHETKI', 'KUOLHETKI',\n",
       "       'KARTOGLK', 'ALUEJAKOON', 'VERSUH', 'SUUNTA', 'SIIRT_DX',\n",
       "       'SIIRT_DY', 'KORKEUS', 'ATTR2', 'ATTR3', 'geometry'], dtype=object)"
      ]
     },
     "execution_count": 16,
     "metadata": {},
     "output_type": "execute_result"
    }
   ],
   "source": [
    "# checkout the column names\n",
    "shapefile_data.columns.values"
   ]
  },
  {
   "cell_type": "code",
   "execution_count": 17,
   "id": "62a92dd3",
   "metadata": {},
   "outputs": [
    {
     "data": {
      "text/html": [
       "<div>\n",
       "<style scoped>\n",
       "    .dataframe tbody tr th:only-of-type {\n",
       "        vertical-align: middle;\n",
       "    }\n",
       "\n",
       "    .dataframe tbody tr th {\n",
       "        vertical-align: top;\n",
       "    }\n",
       "\n",
       "    .dataframe thead th {\n",
       "        text-align: right;\n",
       "    }\n",
       "</style>\n",
       "<table border=\"1\" class=\"dataframe\">\n",
       "  <thead>\n",
       "    <tr style=\"text-align: right;\">\n",
       "      <th></th>\n",
       "      <th>GROUP</th>\n",
       "      <th>CLASS</th>\n",
       "      <th>geometry</th>\n",
       "    </tr>\n",
       "  </thead>\n",
       "  <tbody>\n",
       "    <tr>\n",
       "      <th>0</th>\n",
       "      <td>64</td>\n",
       "      <td>32421</td>\n",
       "      <td>POLYGON ((379394.248 6689991.936, 379389.790 6...</td>\n",
       "    </tr>\n",
       "    <tr>\n",
       "      <th>1</th>\n",
       "      <td>64</td>\n",
       "      <td>32421</td>\n",
       "      <td>POLYGON ((378980.811 6689359.377, 378983.401 6...</td>\n",
       "    </tr>\n",
       "    <tr>\n",
       "      <th>2</th>\n",
       "      <td>64</td>\n",
       "      <td>32421</td>\n",
       "      <td>POLYGON ((378804.766 6689256.471, 378817.107 6...</td>\n",
       "    </tr>\n",
       "    <tr>\n",
       "      <th>3</th>\n",
       "      <td>64</td>\n",
       "      <td>32421</td>\n",
       "      <td>POLYGON ((379229.695 6685025.111, 379233.366 6...</td>\n",
       "    </tr>\n",
       "    <tr>\n",
       "      <th>4</th>\n",
       "      <td>64</td>\n",
       "      <td>32421</td>\n",
       "      <td>POLYGON ((379825.199 6685096.247, 379829.651 6...</td>\n",
       "    </tr>\n",
       "  </tbody>\n",
       "</table>\n",
       "</div>"
      ],
      "text/plain": [
       "   GROUP  CLASS                                           geometry\n",
       "0     64  32421  POLYGON ((379394.248 6689991.936, 379389.790 6...\n",
       "1     64  32421  POLYGON ((378980.811 6689359.377, 378983.401 6...\n",
       "2     64  32421  POLYGON ((378804.766 6689256.471, 378817.107 6...\n",
       "3     64  32421  POLYGON ((379229.695 6685025.111, 379233.366 6...\n",
       "4     64  32421  POLYGON ((379825.199 6685096.247, 379829.651 6..."
      ]
     },
     "execution_count": 17,
     "metadata": {},
     "output_type": "execute_result"
    }
   ],
   "source": [
    "# select subsect of data we want\n",
    "shapefile_data = shapefile_data[['RYHMA', 'LUOKKA', 'geometry']]\n",
    "\n",
    "# rename columns to english\n",
    "colnames = {'RYHMA':'GROUP', 'LUOKKA':'CLASS'}\n",
    "shapefile_data.rename(columns=colnames, inplace=True)\n",
    "\n",
    "# inspect data\n",
    "shapefile_data.head()"
   ]
  },
  {
   "cell_type": "code",
   "execution_count": 22,
   "id": "5c780e9b",
   "metadata": {},
   "outputs": [
    {
     "name": "stdout",
     "output_type": "stream",
     "text": [
      "Number of rows: 4311\n",
      "Number of classes: 20\n",
      "Number of groups: 1\n"
     ]
    }
   ],
   "source": [
    "print(f\"Number of rows: {len(shapefile_data['CLASS'])}\")\n",
    "print(f\"Number of classes: {shapefile_data['CLASS'].nunique()}\")\n",
    "print(f\"Number of groups: {shapefile_data['GROUP'].nunique()}\")"
   ]
  },
  {
   "cell_type": "code",
   "execution_count": null,
   "id": "56cb3248",
   "metadata": {},
   "outputs": [],
   "source": [
    "# plot data for quick visualization\n",
    "shapefile_data.plot()"
   ]
  },
  {
   "cell_type": "markdown",
   "id": "787e69bb",
   "metadata": {},
   "source": [
    "### Geometries in Geopandas"
   ]
  },
  {
   "cell_type": "code",
   "execution_count": 26,
   "id": "3090fb76",
   "metadata": {},
   "outputs": [
    {
     "data": {
      "text/plain": [
       "0    POLYGON ((379394.248 6689991.936, 379389.790 6...\n",
       "1    POLYGON ((378980.811 6689359.377, 378983.401 6...\n",
       "2    POLYGON ((378804.766 6689256.471, 378817.107 6...\n",
       "3    POLYGON ((379229.695 6685025.111, 379233.366 6...\n",
       "4    POLYGON ((379825.199 6685096.247, 379829.651 6...\n",
       "Name: geometry, dtype: geometry"
      ]
     },
     "execution_count": 26,
     "metadata": {},
     "output_type": "execute_result"
    }
   ],
   "source": [
    "# view the geometry of geopandas\n",
    "shapefile_data['geometry'].head()"
   ]
  },
  {
   "cell_type": "code",
   "execution_count": 28,
   "id": "604e22e5",
   "metadata": {},
   "outputs": [
    {
     "data": {
      "image/svg+xml": [
       "<svg xmlns=\"http://www.w3.org/2000/svg\" xmlns:xlink=\"http://www.w3.org/1999/xlink\" width=\"100.0\" height=\"100.0\" viewBox=\"379389.03576 6689991.18176 20.36447999998927 9.572479999624193\" preserveAspectRatio=\"xMinYMin meet\"><g transform=\"matrix(1,0,0,-1,0,13379991.936)\"><path fill-rule=\"evenodd\" fill=\"#66cc99\" stroke=\"#555555\" stroke-width=\"0.4072895999997854\" opacity=\"0.6\" d=\"M 379394.248,6689991.936 L 379389.79,6690000.0 L 379408.646,6690000.0 L 379394.248,6689991.936 z\" /></g></svg>"
      ],
      "text/plain": [
       "<shapely.geometry.polygon.Polygon at 0x2481bce39a0>"
      ]
     },
     "execution_count": 28,
     "metadata": {},
     "output_type": "execute_result"
    }
   ],
   "source": [
    "shapefile_data.at[0, 'geometry']"
   ]
  },
  {
   "cell_type": "code",
   "execution_count": 30,
   "id": "7ff0c904",
   "metadata": {},
   "outputs": [
    {
     "name": "stdout",
     "output_type": "stream",
     "text": [
      "Area: 76.02739200243447 square metres\n"
     ]
    }
   ],
   "source": [
    "# calculate area of polygon\n",
    "print(f\"Area: {shapefile_data.at[0, 'geometry'].area} square metres\")"
   ]
  },
  {
   "cell_type": "code",
   "execution_count": 32,
   "id": "92335f91",
   "metadata": {},
   "outputs": [
    {
     "name": "stdout",
     "output_type": "stream",
     "text": [
      "Polygon area at index 0 is 76.03 sq meters\n",
      "Polygon area at index 1 is 2652.05 sq meters\n",
      "Polygon area at index 2 is 3185.65 sq meters\n",
      "Polygon area at index 3 is 13075.17 sq meters\n",
      "Polygon area at index 4 is 3980.68 sq meters\n"
     ]
    }
   ],
   "source": [
    "# iterate over rows and print area\n",
    "for idx, row in shapefile_data[:5].iterrows():\n",
    "    print(f\"Polygon area at index {idx} is {round(row['geometry'].area, 2)} sq meters\")"
   ]
  },
  {
   "cell_type": "code",
   "execution_count": 34,
   "id": "7846b041",
   "metadata": {},
   "outputs": [
    {
     "data": {
      "text/plain": [
       "0          76.027392\n",
       "1        2652.054186\n",
       "2        3185.649995\n",
       "3       13075.165279\n",
       "4        3980.682621\n",
       "            ...     \n",
       "4306     2651.800270\n",
       "4307      376.503380\n",
       "4308      413.942555\n",
       "4309     3487.927677\n",
       "4310     1278.963199\n",
       "Length: 4311, dtype: float64"
      ]
     },
     "execution_count": 34,
     "metadata": {},
     "output_type": "execute_result"
    }
   ],
   "source": [
    "# we can get the area of all data at once\n",
    "shapefile_data.area"
   ]
  },
  {
   "cell_type": "code",
   "execution_count": 36,
   "id": "fcd7b9ae",
   "metadata": {},
   "outputs": [],
   "source": [
    "# we can add it as a new column in dataframe\n",
    "shapefile_data['area'] = shapefile_data.area"
   ]
  },
  {
   "cell_type": "code",
   "execution_count": 43,
   "id": "d5a262b4",
   "metadata": {},
   "outputs": [
    {
     "data": {
      "text/html": [
       "<div>\n",
       "<style scoped>\n",
       "    .dataframe tbody tr th:only-of-type {\n",
       "        vertical-align: middle;\n",
       "    }\n",
       "\n",
       "    .dataframe tbody tr th {\n",
       "        vertical-align: top;\n",
       "    }\n",
       "\n",
       "    .dataframe thead th {\n",
       "        text-align: right;\n",
       "    }\n",
       "</style>\n",
       "<table border=\"1\" class=\"dataframe\">\n",
       "  <thead>\n",
       "    <tr style=\"text-align: right;\">\n",
       "      <th></th>\n",
       "      <th>GROUP</th>\n",
       "      <th>CLASS</th>\n",
       "      <th>geometry</th>\n",
       "      <th>area</th>\n",
       "    </tr>\n",
       "  </thead>\n",
       "  <tbody>\n",
       "    <tr>\n",
       "      <th>4306</th>\n",
       "      <td>64</td>\n",
       "      <td>36313</td>\n",
       "      <td>POLYGON ((375668.607 6682942.062, 375671.489 6...</td>\n",
       "      <td>2651.800270</td>\n",
       "    </tr>\n",
       "    <tr>\n",
       "      <th>4307</th>\n",
       "      <td>64</td>\n",
       "      <td>36313</td>\n",
       "      <td>POLYGON ((368411.063 6679328.990, 368411.424 6...</td>\n",
       "      <td>376.503380</td>\n",
       "    </tr>\n",
       "    <tr>\n",
       "      <th>4308</th>\n",
       "      <td>64</td>\n",
       "      <td>36313</td>\n",
       "      <td>POLYGON ((368054.608 6679164.737, 368059.602 6...</td>\n",
       "      <td>413.942555</td>\n",
       "    </tr>\n",
       "    <tr>\n",
       "      <th>4309</th>\n",
       "      <td>64</td>\n",
       "      <td>36313</td>\n",
       "      <td>POLYGON ((368096.331 6678000.000, 368090.276 6...</td>\n",
       "      <td>3487.927677</td>\n",
       "    </tr>\n",
       "    <tr>\n",
       "      <th>4310</th>\n",
       "      <td>64</td>\n",
       "      <td>36313</td>\n",
       "      <td>POLYGON ((368000.666 6678460.142, 368000.000 6...</td>\n",
       "      <td>1278.963199</td>\n",
       "    </tr>\n",
       "  </tbody>\n",
       "</table>\n",
       "</div>"
      ],
      "text/plain": [
       "      GROUP  CLASS                                           geometry  \\\n",
       "4306     64  36313  POLYGON ((375668.607 6682942.062, 375671.489 6...   \n",
       "4307     64  36313  POLYGON ((368411.063 6679328.990, 368411.424 6...   \n",
       "4308     64  36313  POLYGON ((368054.608 6679164.737, 368059.602 6...   \n",
       "4309     64  36313  POLYGON ((368096.331 6678000.000, 368090.276 6...   \n",
       "4310     64  36313  POLYGON ((368000.666 6678460.142, 368000.000 6...   \n",
       "\n",
       "             area  \n",
       "4306  2651.800270  \n",
       "4307   376.503380  \n",
       "4308   413.942555  \n",
       "4309  3487.927677  \n",
       "4310  1278.963199  "
      ]
     },
     "execution_count": 43,
     "metadata": {},
     "output_type": "execute_result"
    }
   ],
   "source": [
    "shapefile_data.tail()"
   ]
  },
  {
   "cell_type": "code",
   "execution_count": 40,
   "id": "3ebd1f09",
   "metadata": {},
   "outputs": [
    {
     "data": {
      "text/plain": [
       "4084558.15"
      ]
     },
     "execution_count": 40,
     "metadata": {},
     "output_type": "execute_result"
    }
   ],
   "source": [
    "# find the largest polygon in dataset\n",
    "round(shapefile_data['area'].max(), 2)"
   ]
  },
  {
   "cell_type": "code",
   "execution_count": 41,
   "id": "1e415e2b",
   "metadata": {},
   "outputs": [
    {
     "data": {
      "text/plain": [
       "0.67"
      ]
     },
     "execution_count": 41,
     "metadata": {},
     "output_type": "execute_result"
    }
   ],
   "source": [
    "# find the smallest area\n",
    "round(shapefile_data['area'].min(), 2)"
   ]
  },
  {
   "cell_type": "code",
   "execution_count": 42,
   "id": "1698410c",
   "metadata": {},
   "outputs": [
    {
     "data": {
      "text/plain": [
       "11522.29"
      ]
     },
     "execution_count": 42,
     "metadata": {},
     "output_type": "execute_result"
    }
   ],
   "source": [
    "# find the mean area\n",
    "round(shapefile_data['area'].mean(), 2)"
   ]
  },
  {
   "cell_type": "markdown",
   "id": "1108f4dd",
   "metadata": {},
   "source": [
    "### Writing data to shapefile"
   ]
  },
  {
   "cell_type": "code",
   "execution_count": 46,
   "id": "2109ffbf",
   "metadata": {},
   "outputs": [],
   "source": [
    "# select a class\n",
    "selection = shapefile_data.loc[shapefile_data['CLASS']==36200]"
   ]
  },
  {
   "cell_type": "code",
   "execution_count": 48,
   "id": "b29946ab",
   "metadata": {},
   "outputs": [
    {
     "data": {
      "text/plain": [
       "<AxesSubplot:>"
      ]
     },
     "execution_count": 48,
     "metadata": {},
     "output_type": "execute_result"
    },
    {
     "data": {
      "image/png": "[encoded data removed]",
      "text/plain": [
       "<Figure size 432x288 with 1 Axes>"
      ]
     },
     "metadata": {
      "needs_background": "light"
     },
     "output_type": "display_data"
    }
   ],
   "source": [
    "# view a plot of the selection\n",
    "selection.plot()"
   ]
  },
  {
   "cell_type": "code",
   "execution_count": 57,
   "id": "ba84aec4",
   "metadata": {},
   "outputs": [
    {
     "name": "stderr",
     "output_type": "stream",
     "text": [
      "C:\\ProgramData\\Anaconda3\\envs\\autogis_lesson2\\lib\\site-packages\\geopandas\\io\\file.py:299: FutureWarning: pandas.Int64Index is deprecated and will be removed from pandas in a future version. Use pandas.Index with the appropriate dtype instead.\n",
      "  pd.Int64Index,\n"
     ]
    }
   ],
   "source": [
    "# write selection to file\n",
    "output_dir = r'data/L2'\n",
    "output_file = os.path.abspath(f'{output_dir}/Class_36200')\n",
    "output_file\n",
    "selection.to_file(output_file)"
   ]
  },
  {
   "cell_type": "code",
   "execution_count": 59,
   "id": "2bedb32f",
   "metadata": {},
   "outputs": [
    {
     "data": {
      "text/html": [
       "<div>\n",
       "<style scoped>\n",
       "    .dataframe tbody tr th:only-of-type {\n",
       "        vertical-align: middle;\n",
       "    }\n",
       "\n",
       "    .dataframe tbody tr th {\n",
       "        vertical-align: top;\n",
       "    }\n",
       "\n",
       "    .dataframe thead th {\n",
       "        text-align: right;\n",
       "    }\n",
       "</style>\n",
       "<table border=\"1\" class=\"dataframe\">\n",
       "  <thead>\n",
       "    <tr style=\"text-align: right;\">\n",
       "      <th></th>\n",
       "      <th>GROUP</th>\n",
       "      <th>CLASS</th>\n",
       "      <th>area</th>\n",
       "      <th>geometry</th>\n",
       "    </tr>\n",
       "  </thead>\n",
       "  <tbody>\n",
       "    <tr>\n",
       "      <th>0</th>\n",
       "      <td>64</td>\n",
       "      <td>36200</td>\n",
       "      <td>1318.878221</td>\n",
       "      <td>POLYGON ((379089.473 6687069.722, 379093.838 6...</td>\n",
       "    </tr>\n",
       "    <tr>\n",
       "      <th>1</th>\n",
       "      <td>64</td>\n",
       "      <td>36200</td>\n",
       "      <td>22918.867073</td>\n",
       "      <td>POLYGON ((376732.156 6687178.141, 376731.301 6...</td>\n",
       "    </tr>\n",
       "    <tr>\n",
       "      <th>2</th>\n",
       "      <td>64</td>\n",
       "      <td>36200</td>\n",
       "      <td>5759.318345</td>\n",
       "      <td>POLYGON ((377939.741 6684539.678, 377929.192 6...</td>\n",
       "    </tr>\n",
       "    <tr>\n",
       "      <th>3</th>\n",
       "      <td>64</td>\n",
       "      <td>36200</td>\n",
       "      <td>265899.648379</td>\n",
       "      <td>POLYGON ((372948.857 6688594.047, 372935.951 6...</td>\n",
       "    </tr>\n",
       "    <tr>\n",
       "      <th>4</th>\n",
       "      <td>64</td>\n",
       "      <td>36200</td>\n",
       "      <td>128221.314258</td>\n",
       "      <td>POLYGON ((370900.963 6689201.649, 370890.077 6...</td>\n",
       "    </tr>\n",
       "  </tbody>\n",
       "</table>\n",
       "</div>"
      ],
      "text/plain": [
       "   GROUP  CLASS           area  \\\n",
       "0     64  36200    1318.878221   \n",
       "1     64  36200   22918.867073   \n",
       "2     64  36200    5759.318345   \n",
       "3     64  36200  265899.648379   \n",
       "4     64  36200  128221.314258   \n",
       "\n",
       "                                            geometry  \n",
       "0  POLYGON ((379089.473 6687069.722, 379093.838 6...  \n",
       "1  POLYGON ((376732.156 6687178.141, 376731.301 6...  \n",
       "2  POLYGON ((377939.741 6684539.678, 377929.192 6...  \n",
       "3  POLYGON ((372948.857 6688594.047, 372935.951 6...  \n",
       "4  POLYGON ((370900.963 6689201.649, 370890.077 6...  "
      ]
     },
     "execution_count": 59,
     "metadata": {},
     "output_type": "execute_result"
    }
   ],
   "source": [
    "# read the saved file and check it out\n",
    "tmp = gpd.read_file(output_file)\n",
    "tmp.head()"
   ]
  },
  {
   "cell_type": "code",
   "execution_count": 60,
   "id": "6cd3b598",
   "metadata": {},
   "outputs": [
    {
     "data": {
      "text/plain": [
       "<AxesSubplot:>"
      ]
     },
     "execution_count": 60,
     "metadata": {},
     "output_type": "execute_result"
    },
    {
     "data": {
      "image/png": "[encoded data removed]",
      "text/plain": [
       "<Figure size 432x288 with 1 Axes>"
      ]
     },
     "metadata": {
      "needs_background": "light"
     },
     "output_type": "display_data"
    }
   ],
   "source": [
    "tmp.plot()"
   ]
  },
  {
   "cell_type": "markdown",
   "id": "5752b73c",
   "metadata": {},
   "source": [
    "### Grouping GeodataFrame"
   ]
  },
  {
   "cell_type": "code",
   "execution_count": 61,
   "id": "5b86ef5d",
   "metadata": {},
   "outputs": [
    {
     "data": {
      "text/plain": [
       "array([32421, 32200, 34300, 34100, 34700, 32500, 32112, 32111, 32611,\n",
       "       32612, 32800, 32900, 35300, 35412, 35411, 35421, 33000, 33100,\n",
       "       36200, 36313], dtype=int64)"
      ]
     },
     "execution_count": 61,
     "metadata": {},
     "output_type": "execute_result"
    }
   ],
   "source": [
    "# view all unique columns in geodata\n",
    "shapefile_data['CLASS'].unique()"
   ]
  },
  {
   "cell_type": "markdown",
   "id": "c8ea655a",
   "metadata": {},
   "source": [
    "- now we can group data by class"
   ]
  },
  {
   "cell_type": "code",
   "execution_count": 62,
   "id": "c74079de",
   "metadata": {},
   "outputs": [
    {
     "data": {
      "text/plain": [
       "<pandas.core.groupby.generic.DataFrameGroupBy object at 0x000002481E457EE0>"
      ]
     },
     "execution_count": 62,
     "metadata": {},
     "output_type": "execute_result"
    }
   ],
   "source": [
    "class_groups = shapefile_data.groupby('CLASS')\n",
    "\n",
    "class_groups"
   ]
  },
  {
   "cell_type": "code",
   "execution_count": 63,
   "id": "4651fae4",
   "metadata": {},
   "outputs": [
    {
     "data": {
      "text/plain": [
       "dict_keys([32111, 32112, 32200, 32421, 32500, 32611, 32612, 32800, 32900, 33000, 33100, 34100, 34300, 34700, 35300, 35411, 35412, 35421, 36200, 36313])"
      ]
     },
     "execution_count": 63,
     "metadata": {},
     "output_type": "execute_result"
    }
   ],
   "source": [
    "# the groups are similar to a dict with keys and values\n",
    "class_groups.groups.keys()"
   ]
  },
  {
   "cell_type": "code",
   "execution_count": 66,
   "id": "abf3ff7d",
   "metadata": {},
   "outputs": [
    {
     "name": "stdout",
     "output_type": "stream",
     "text": [
      "Terrain class:  32111\n",
      "Number of rows:  1 \n",
      "\n",
      "Terrain class:  32112\n",
      "Number of rows:  1 \n",
      "\n",
      "Terrain class:  32200\n",
      "Number of rows:  2 \n",
      "\n",
      "Terrain class:  32421\n",
      "Number of rows:  110 \n",
      "\n",
      "Terrain class:  32500\n",
      "Number of rows:  2 \n",
      "\n",
      "Terrain class:  32611\n",
      "Number of rows:  257 \n",
      "\n",
      "Terrain class:  32612\n",
      "Number of rows:  11 \n",
      "\n",
      "Terrain class:  32800\n",
      "Number of rows:  80 \n",
      "\n",
      "Terrain class:  32900\n",
      "Number of rows:  28 \n",
      "\n",
      "Terrain class:  33000\n",
      "Number of rows:  5 \n",
      "\n",
      "Terrain class:  33100\n",
      "Number of rows:  118 \n",
      "\n",
      "Terrain class:  34100\n",
      "Number of rows:  3005 \n",
      "\n",
      "Terrain class:  34300\n",
      "Number of rows:  1 \n",
      "\n",
      "Terrain class:  34700\n",
      "Number of rows:  3 \n",
      "\n",
      "Terrain class:  35300\n",
      "Number of rows:  134 \n",
      "\n",
      "Terrain class:  35411\n",
      "Number of rows:  35 \n",
      "\n",
      "Terrain class:  35412\n",
      "Number of rows:  449 \n",
      "\n",
      "Terrain class:  35421\n",
      "Number of rows:  5 \n",
      "\n",
      "Terrain class:  36200\n",
      "Number of rows:  56 \n",
      "\n",
      "Terrain class:  36313\n",
      "Number of rows:  8 \n",
      "\n"
     ]
    }
   ],
   "source": [
    "# iterate and print keys and number of values in each group\n",
    "for key, grp in class_groups:\n",
    "    print('Terrain class: ', key)\n",
    "    print('Number of rows: ', len(grp), '\\n')"
   ]
  },
  {
   "cell_type": "code",
   "execution_count": 72,
   "id": "8643373c",
   "metadata": {},
   "outputs": [
    {
     "data": {
      "text/html": [
       "<div>\n",
       "<style scoped>\n",
       "    .dataframe tbody tr th:only-of-type {\n",
       "        vertical-align: middle;\n",
       "    }\n",
       "\n",
       "    .dataframe tbody tr th {\n",
       "        vertical-align: top;\n",
       "    }\n",
       "\n",
       "    .dataframe thead th {\n",
       "        text-align: right;\n",
       "    }\n",
       "</style>\n",
       "<table border=\"1\" class=\"dataframe\">\n",
       "  <thead>\n",
       "    <tr style=\"text-align: right;\">\n",
       "      <th></th>\n",
       "      <th>GROUP</th>\n",
       "      <th>CLASS</th>\n",
       "      <th>geometry</th>\n",
       "      <th>area</th>\n",
       "    </tr>\n",
       "  </thead>\n",
       "  <tbody>\n",
       "    <tr>\n",
       "      <th>4303</th>\n",
       "      <td>64</td>\n",
       "      <td>36313</td>\n",
       "      <td>POLYGON ((377127.305 6688073.257, 377116.045 6...</td>\n",
       "      <td>9619.307973</td>\n",
       "    </tr>\n",
       "    <tr>\n",
       "      <th>4304</th>\n",
       "      <td>64</td>\n",
       "      <td>36313</td>\n",
       "      <td>POLYGON ((371141.897 6677999.999, 371139.757 6...</td>\n",
       "      <td>25266.167705</td>\n",
       "    </tr>\n",
       "    <tr>\n",
       "      <th>4305</th>\n",
       "      <td>64</td>\n",
       "      <td>36313</td>\n",
       "      <td>POLYGON ((371498.720 6680399.799, 371497.585 6...</td>\n",
       "      <td>364.087680</td>\n",
       "    </tr>\n",
       "    <tr>\n",
       "      <th>4306</th>\n",
       "      <td>64</td>\n",
       "      <td>36313</td>\n",
       "      <td>POLYGON ((375668.607 6682942.062, 375671.489 6...</td>\n",
       "      <td>2651.800270</td>\n",
       "    </tr>\n",
       "    <tr>\n",
       "      <th>4307</th>\n",
       "      <td>64</td>\n",
       "      <td>36313</td>\n",
       "      <td>POLYGON ((368411.063 6679328.990, 368411.424 6...</td>\n",
       "      <td>376.503380</td>\n",
       "    </tr>\n",
       "  </tbody>\n",
       "</table>\n",
       "</div>"
      ],
      "text/plain": [
       "      GROUP  CLASS                                           geometry  \\\n",
       "4303     64  36313  POLYGON ((377127.305 6688073.257, 377116.045 6...   \n",
       "4304     64  36313  POLYGON ((371141.897 6677999.999, 371139.757 6...   \n",
       "4305     64  36313  POLYGON ((371498.720 6680399.799, 371497.585 6...   \n",
       "4306     64  36313  POLYGON ((375668.607 6682942.062, 375671.489 6...   \n",
       "4307     64  36313  POLYGON ((368411.063 6679328.990, 368411.424 6...   \n",
       "\n",
       "              area  \n",
       "4303   9619.307973  \n",
       "4304  25266.167705  \n",
       "4305    364.087680  \n",
       "4306   2651.800270  \n",
       "4307    376.503380  "
      ]
     },
     "execution_count": 72,
     "metadata": {},
     "output_type": "execute_result"
    }
   ],
   "source": [
    "# check the data of each grp from the iterations\n",
    "grp.head()"
   ]
  },
  {
   "cell_type": "code",
   "execution_count": 73,
   "id": "b1beb585",
   "metadata": {},
   "outputs": [
    {
     "data": {
      "text/plain": [
       "geopandas.geodataframe.GeoDataFrame"
      ]
     },
     "execution_count": 73,
     "metadata": {},
     "output_type": "execute_result"
    }
   ],
   "source": [
    "type(grp)"
   ]
  },
  {
   "cell_type": "code",
   "execution_count": 77,
   "id": "695b011e",
   "metadata": {},
   "outputs": [
    {
     "name": "stdout",
     "output_type": "stream",
     "text": [
      "saving to  C:\\Users\\big yeti\\autogis\\lesson2\\data\\L2\\Results\\terrain_32111\n",
      "saving to  C:\\Users\\big yeti\\autogis\\lesson2\\data\\L2\\Results\\terrain_32112\n",
      "saving to  C:\\Users\\big yeti\\autogis\\lesson2\\data\\L2\\Results\\terrain_32200\n",
      "saving to  C:\\Users\\big yeti\\autogis\\lesson2\\data\\L2\\Results\\terrain_32421\n",
      "saving to  C:\\Users\\big yeti\\autogis\\lesson2\\data\\L2\\Results\\terrain_32500\n",
      "saving to  C:\\Users\\big yeti\\autogis\\lesson2\\data\\L2\\Results\\terrain_32611\n",
      "saving to  C:\\Users\\big yeti\\autogis\\lesson2\\data\\L2\\Results\\terrain_32612\n",
      "saving to  C:\\Users\\big yeti\\autogis\\lesson2\\data\\L2\\Results\\terrain_32800\n",
      "saving to  C:\\Users\\big yeti\\autogis\\lesson2\\data\\L2\\Results\\terrain_32900\n",
      "saving to  C:\\Users\\big yeti\\autogis\\lesson2\\data\\L2\\Results\\terrain_33000\n",
      "saving to  C:\\Users\\big yeti\\autogis\\lesson2\\data\\L2\\Results\\terrain_33100\n",
      "saving to  C:\\Users\\big yeti\\autogis\\lesson2\\data\\L2\\Results\\terrain_34100\n",
      "saving to  C:\\Users\\big yeti\\autogis\\lesson2\\data\\L2\\Results\\terrain_34300\n",
      "saving to  C:\\Users\\big yeti\\autogis\\lesson2\\data\\L2\\Results\\terrain_34700\n",
      "saving to  C:\\Users\\big yeti\\autogis\\lesson2\\data\\L2\\Results\\terrain_35300\n",
      "saving to  C:\\Users\\big yeti\\autogis\\lesson2\\data\\L2\\Results\\terrain_35411\n",
      "saving to  C:\\Users\\big yeti\\autogis\\lesson2\\data\\L2\\Results\\terrain_35412\n",
      "saving to  C:\\Users\\big yeti\\autogis\\lesson2\\data\\L2\\Results\\terrain_35421\n",
      "saving to  C:\\Users\\big yeti\\autogis\\lesson2\\data\\L2\\Results\\terrain_36200\n",
      "saving to  C:\\Users\\big yeti\\autogis\\lesson2\\data\\L2\\Results\\terrain_36313\n"
     ]
    }
   ],
   "source": [
    "results_dir = f'{output_dir}/Results'\n",
    "os.makedirs(results_dir)\n",
    "for cls_name, grp in class_groups:\n",
    "    filepath = os.path.abspath(f\"{results_dir}/terrain_{cls_name}\")\n",
    "    print('saving to ', filepath)\n",
    "    grp.to_file(filepath)"
   ]
  },
  {
   "cell_type": "markdown",
   "id": "1e327aaa",
   "metadata": {},
   "source": [
    "#### saving  to csv"
   ]
  },
  {
   "cell_type": "code",
   "execution_count": 78,
   "id": "934a4ce7",
   "metadata": {},
   "outputs": [],
   "source": [
    "# sum of area of each class\n",
    "area_info = class_groups.area.sum().round()"
   ]
  },
  {
   "cell_type": "code",
   "execution_count": 79,
   "id": "832168d5",
   "metadata": {},
   "outputs": [
    {
     "data": {
      "text/plain": [
       "CLASS\n",
       "32111        1834.0\n",
       "32112        2148.0\n",
       "32200      105737.0\n",
       "32421      702073.0\n",
       "32500      109747.0\n",
       "32611    13135597.0\n",
       "32612      107343.0\n",
       "32800     1465278.0\n",
       "32900      617209.0\n",
       "33000      659465.0\n",
       "33100     3777595.0\n",
       "34100    12381611.0\n",
       "34300        1627.0\n",
       "34700        2786.0\n",
       "35300     1382940.0\n",
       "35411      411198.0\n",
       "35412     4710133.0\n",
       "35421       67864.0\n",
       "36200     9986966.0\n",
       "36313       43459.0\n",
       "Name: area, dtype: float64"
      ]
     },
     "execution_count": 79,
     "metadata": {},
     "output_type": "execute_result"
    }
   ],
   "source": [
    "area_info"
   ]
  },
  {
   "cell_type": "code",
   "execution_count": 80,
   "id": "9c01d03b",
   "metadata": {},
   "outputs": [],
   "source": [
    "area_info.to_csv(os.path.join(results_dir, 'terrain_class_areas.csv'), header=True)"
   ]
  },
  {
   "cell_type": "markdown",
   "id": "ddba10b5",
   "metadata": {},
   "source": [
    "## [Map Projections](https://autogis-site.readthedocs.io/en/latest/notebooks/L2/02-projections.html)\n"
   ]
  },
  {
   "cell_type": "code",
   "execution_count": 90,
   "id": "729bd31d",
   "metadata": {},
   "outputs": [],
   "source": [
    "def read_shapefile(path):\n",
    "    return gpd.read_file(path)\n",
    "\n",
    "def save_shapefile(shp, path):\n",
    "    shp.to_file(path)\n",
    "\n",
    "shapefile_eu = read_shapefile(f\"{DATA_DIR}/L2/Europe_borders.shp\")"
   ]
  },
  {
   "cell_type": "code",
   "execution_count": 83,
   "id": "aa19a462",
   "metadata": {},
   "outputs": [
    {
     "data": {
      "text/plain": [
       "<Geographic 2D CRS: EPSG:4326>\n",
       "Name: WGS 84\n",
       "Axis Info [ellipsoidal]:\n",
       "- Lat[north]: Geodetic latitude (degree)\n",
       "- Lon[east]: Geodetic longitude (degree)\n",
       "Area of Use:\n",
       "- name: World\n",
       "- bounds: (-180.0, -90.0, 180.0, 90.0)\n",
       "Datum: World Geodetic System 1984\n",
       "- Ellipsoid: WGS 84\n",
       "- Prime Meridian: Greenwich"
      ]
     },
     "execution_count": 83,
     "metadata": {},
     "output_type": "execute_result"
    }
   ],
   "source": [
    "shapefile_eu.crs"
   ]
  },
  {
   "cell_type": "code",
   "execution_count": 84,
   "id": "8954802b",
   "metadata": {},
   "outputs": [
    {
     "data": {
      "text/html": [
       "<div>\n",
       "<style scoped>\n",
       "    .dataframe tbody tr th:only-of-type {\n",
       "        vertical-align: middle;\n",
       "    }\n",
       "\n",
       "    .dataframe tbody tr th {\n",
       "        vertical-align: top;\n",
       "    }\n",
       "\n",
       "    .dataframe thead th {\n",
       "        text-align: right;\n",
       "    }\n",
       "</style>\n",
       "<table border=\"1\" class=\"dataframe\">\n",
       "  <thead>\n",
       "    <tr style=\"text-align: right;\">\n",
       "      <th></th>\n",
       "      <th>TZID</th>\n",
       "      <th>geometry</th>\n",
       "    </tr>\n",
       "  </thead>\n",
       "  <tbody>\n",
       "    <tr>\n",
       "      <th>0</th>\n",
       "      <td>Europe/Berlin</td>\n",
       "      <td>POLYGON ((8.45778 54.56236, 8.44953 54.56269, ...</td>\n",
       "    </tr>\n",
       "    <tr>\n",
       "      <th>1</th>\n",
       "      <td>Europe/Berlin</td>\n",
       "      <td>POLYGON ((8.71992 47.69664, 8.72092 47.69530, ...</td>\n",
       "    </tr>\n",
       "    <tr>\n",
       "      <th>2</th>\n",
       "      <td>Europe/Berlin</td>\n",
       "      <td>POLYGON ((6.73317 53.57409, 6.73017 53.57542, ...</td>\n",
       "    </tr>\n",
       "    <tr>\n",
       "      <th>3</th>\n",
       "      <td>Europe/Berlin</td>\n",
       "      <td>POLYGON ((6.85822 53.59411, 6.85592 53.59550, ...</td>\n",
       "    </tr>\n",
       "    <tr>\n",
       "      <th>4</th>\n",
       "      <td>Europe/Berlin</td>\n",
       "      <td>POLYGON ((6.89894 53.62561, 6.88439 53.62814, ...</td>\n",
       "    </tr>\n",
       "  </tbody>\n",
       "</table>\n",
       "</div>"
      ],
      "text/plain": [
       "            TZID                                           geometry\n",
       "0  Europe/Berlin  POLYGON ((8.45778 54.56236, 8.44953 54.56269, ...\n",
       "1  Europe/Berlin  POLYGON ((8.71992 47.69664, 8.72092 47.69530, ...\n",
       "2  Europe/Berlin  POLYGON ((6.73317 53.57409, 6.73017 53.57542, ...\n",
       "3  Europe/Berlin  POLYGON ((6.85822 53.59411, 6.85592 53.59550, ...\n",
       "4  Europe/Berlin  POLYGON ((6.89894 53.62561, 6.88439 53.62814, ..."
      ]
     },
     "execution_count": 84,
     "metadata": {},
     "output_type": "execute_result"
    }
   ],
   "source": [
    "shapefile_eu.head()"
   ]
  },
  {
   "cell_type": "code",
   "execution_count": 85,
   "id": "bc026c27",
   "metadata": {},
   "outputs": [],
   "source": [
    "# create backup of data\n",
    "data_wgs84 = shapefile_eu.copy()"
   ]
  },
  {
   "cell_type": "code",
   "execution_count": 86,
   "id": "4f75336e",
   "metadata": {},
   "outputs": [],
   "source": [
    "# reproject data to new coordinate system\n",
    "shapefile_eu = shapefile_eu.to_crs(epsg=3034)"
   ]
  },
  {
   "cell_type": "code",
   "execution_count": 87,
   "id": "0f8eeb38",
   "metadata": {},
   "outputs": [
    {
     "data": {
      "text/plain": [
       "3627    POLYGON ((4483656.164 3638035.721, 4483083.989...\n",
       "3628    POLYGON ((4488299.928 3639965.245, 4488200.241...\n",
       "3629    POLYGON ((4475639.282 3633033.089, 4475289.423...\n",
       "3630    POLYGON ((5325143.286 2925576.978, 5324935.022...\n",
       "3631    POLYGON ((2634714.513 1221212.409, 2634492.173...\n",
       "Name: geometry, dtype: geometry"
      ]
     },
     "execution_count": 87,
     "metadata": {},
     "output_type": "execute_result"
    }
   ],
   "source": [
    "shapefile_eu['geometry'].tail()"
   ]
  },
  {
   "cell_type": "code",
   "execution_count": 88,
   "id": "1cfcbf34",
   "metadata": {},
   "outputs": [
    {
     "data": {
      "text/plain": [
       "<Projected CRS: EPSG:3034>\n",
       "Name: ETRS89-extended / LCC Europe\n",
       "Axis Info [cartesian]:\n",
       "- N[north]: Northing (metre)\n",
       "- E[east]: Easting (metre)\n",
       "Area of Use:\n",
       "- name: Europe - LCC & LAEA\n",
       "- bounds: (-35.58, 24.6, 44.83, 84.17)\n",
       "Coordinate Operation:\n",
       "- name: Europe Conformal 2001\n",
       "- method: Lambert Conic Conformal (2SP)\n",
       "Datum: European Terrestrial Reference System 1989\n",
       "- Ellipsoid: GRS 1980\n",
       "- Prime Meridian: Greenwich"
      ]
     },
     "execution_count": 88,
     "metadata": {},
     "output_type": "execute_result"
    }
   ],
   "source": [
    "shapefile_eu.crs"
   ]
  },
  {
   "cell_type": "markdown",
   "id": "fae4ff6d",
   "metadata": {},
   "source": [
    "#### Lets compare the two coordinate systems by making maps out of them"
   ]
  },
  {
   "cell_type": "code",
   "execution_count": 89,
   "id": "c478b7a4",
   "metadata": {},
   "outputs": [
    {
     "data": {
      "image/png": "[encoded data removed]",
      "text/plain": [
       "<Figure size 1080x1080 with 2 Axes>"
      ]
     },
     "metadata": {
      "needs_background": "light"
     },
     "output_type": "display_data"
    }
   ],
   "source": [
    "import matplotlib.pyplot as plt\n",
    "\n",
    "# make subplots next to each other\n",
    "fig, (ax1, ax2) = plt.subplots(nrows=1, ncols=2, figsize=(15, 15))\n",
    "\n",
    "# plot the WGS84 data\n",
    "data_wgs84.plot(ax=ax1, facecolor='gray')\n",
    "ax1.set_title('WGS84')\n",
    "\n",
    "# plot the EPSG:3034 data\n",
    "shapefile_eu.plot(ax=ax2, facecolor='orange')\n",
    "ax2.set_title('EPSG:3034')\n",
    "\n",
    "# set aspect ratio as 1\n",
    "ax1.set_aspect(aspect=1)\n",
    "ax2.set_aspect(aspect=1)\n",
    "\n",
    "# remove whitespace around the plot\n",
    "plt.tight_layout()"
   ]
  },
  {
   "cell_type": "code",
   "execution_count": 92,
   "id": "b81d280c",
   "metadata": {},
   "outputs": [],
   "source": [
    "# save the shapefile\n",
    "save_shapefile(shapefile_eu, f\"{DATA_DIR}/L2/Results/Europe_borders_epgs3034\")"
   ]
  },
  {
   "cell_type": "code",
   "execution_count": null,
   "id": "8dd1c0d6",
   "metadata": {},
   "outputs": [],
   "source": []
  }
 ],
 "metadata": {
  "kernelspec": {
   "display_name": "Python [conda env:autogis_lesson2]",
   "language": "python",
   "name": "conda-env-autogis_lesson2-py"
  },
  "language_info": {
   "codemirror_mode": {
    "name": "ipython",
    "version": 3
   },
   "file_extension": ".py",
   "mimetype": "text/x-python",
   "name": "python",
   "nbconvert_exporter": "python",
   "pygments_lexer": "ipython3",
   "version": "3.9.12"
  }
 },
 "nbformat": 4,
 "nbformat_minor": 5
}
