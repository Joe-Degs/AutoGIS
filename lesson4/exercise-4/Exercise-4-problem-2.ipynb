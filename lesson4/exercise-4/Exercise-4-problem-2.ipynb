{
 "cells": [
  {
   "cell_type": "markdown",
   "metadata": {},
   "source": [
    "## Problem 2: Calculate and visualize the dominance areas of shopping centers (10 points)\n",
    "\n",
    "In this problem, the aim is to define the dominance area for each of those shopping centers based on public transport travel time. The result will look something like this:\n",
    "\n",
    "![](img/P2_sample.png)\n",
    "\n",
    "\n",
    "### Data\n",
    "\n",
    " - The [data/](data/) directory contains 7 text files having data about accessibility in Helsinki Region, and a Shapefile that contains a Polygon grid that can be used to visualize and analyze the data spatially:\n",
    " \n",
    "     - `travel_times_to_[XXXXXXX]_[NAME-OF-THE-CENTER].txt` including travel times and road network distances to a specific shopping center\n",
    "     - `MetropAccess_YKR_grid_EurefFIN.shp` including the Polygon grid with YKR_ID column that can be used to join the grid with the    accessibility data\n",
    "\n",
    "\n",
    "### An overview of the problem\n",
    "\n",
    "In this problem we want to identify the closest shopping center for each grid cell in the region by public transport, and to visualize dominance areas for each shopping center based on this information. \n",
    "\n",
    "1. **Combine public transport travel time information from all input files into one GeoDataFrame**. \n",
    "    - Read in the grid file (`MetropAccess_YKR_grid_EurefFIN.shp`)\n",
    "    - For each travel time file (7 files in total):\n",
    "         - read in the data\n",
    "         - rename the travel time columns so that they can be identified; Include the name of each shopping center to the column name: `'pt_r_t_Jumbo', 'pt_r_t_Dixi'`, and so on, based on the input file name.\n",
    "         - Join those columns into the grid where `YKR_ID` in the grid corresponds to `from_id` in the travel time data file. \n",
    "    - At the end you should have one GeoDataFrame with different columns containing the travel times to different shopping centers.\n",
    "     \n",
    "     \n",
    "2. **Find out the closes shopping center for each grid cell in the region**:\n",
    "    - For each grid cell (each row) find out the **minimum time** across **all** travel time columns (`pt_r_t_X`) and insert that value into a new column called `min_t`. \n",
    "    - You should also figure out the name of the shopping center that is closest to that particular grid square and store the name of the closest shopping center into a new column `dominant_service` on each row. \n",
    "        - Hint: You can identify which column contains the minimum travel time on each row using the `idxmin()` function.\n",
    "    \n",
    "    \n",
    "3. **Finally, visualize the dominance areas and travel times**:\n",
    "     - visualize the dominance areas using the codes found in column `dominant_service`. \n",
    "     - Visualize travel times to shopping centers from the `min_t` column \n",
    "     - You should create subplots with 2 rows and one column (see the example above).\n",
    "     \n",
    "In this way, we are able to determine the \"closest\" shopping center for each grid cell and visualize the dominance area for each shopping center (by visualizing the grid squares according to the dominant service), or the travel time from each grid cell to the closest shopping center (see example figure above). Remember to upload all your work into your own Exercise 4 repository.\n",
    " \n",
    "### Steps"
   ]
  },
  {
   "cell_type": "markdown",
   "metadata": {},
   "source": [
    "- Read `MetropAccess_YKR_grid_EurefFIN.shp` shapefile into a variable called `grid`"
   ]
  },
  {
   "cell_type": "code",
   "execution_count": 1,
   "metadata": {
    "deletable": false,
    "nbgrader": {
     "cell_type": "code",
     "checksum": "85d6d019e5a3ab02634814ca30c19990",
     "grade": false,
     "grade_id": "read_filepaths",
     "locked": false,
     "schema_version": 3,
     "solution": true
    }
   },
   "outputs": [],
   "source": [
    "# REPLACE THE ERROR BELOW WITH YOUR OWN CODE\n",
    "import geopandas as gpd\n",
    "import matplotlib.pyplot as plt\n",
    "import mapclassify as mpc\n",
    "import os\n",
    "import pandas\n",
    "import pathlib"
   ]
  },
  {
   "cell_type": "code",
   "execution_count": 2,
   "metadata": {},
   "outputs": [],
   "source": [
    "def read_shp(path):\n",
    "    assert os.path.isfile(path), 'Input must be a valid filepath'\n",
    "    return gpd.read_file(path)\n",
    "\n",
    "def read_csv(path, sep):\n",
    "    assert os.path.isfile(path), 'Input must be a valid filepath'\n",
    "    return pandas.read_csv(path, sep=sep)"
   ]
  },
  {
   "cell_type": "code",
   "execution_count": 3,
   "metadata": {},
   "outputs": [],
   "source": [
    "filepaths = pathlib.Path('data/').resolve().glob('*.txt')\n",
    "cities_data = {path.parts[-1][:path.parts[-1].index('.')].split('_')[-1]: read_csv(str(path), ';') for path in filepaths}\n",
    "cities = list(cities_data.keys())"
   ]
  },
  {
   "cell_type": "code",
   "execution_count": 4,
   "metadata": {},
   "outputs": [
    {
     "data": {
      "text/html": [
       "<div>\n",
       "<style scoped>\n",
       "    .dataframe tbody tr th:only-of-type {\n",
       "        vertical-align: middle;\n",
       "    }\n",
       "\n",
       "    .dataframe tbody tr th {\n",
       "        vertical-align: top;\n",
       "    }\n",
       "\n",
       "    .dataframe thead th {\n",
       "        text-align: right;\n",
       "    }\n",
       "</style>\n",
       "<table border=\"1\" class=\"dataframe\">\n",
       "  <thead>\n",
       "    <tr style=\"text-align: right;\">\n",
       "      <th></th>\n",
       "      <th>x</th>\n",
       "      <th>y</th>\n",
       "      <th>YKR_ID</th>\n",
       "      <th>geometry</th>\n",
       "    </tr>\n",
       "  </thead>\n",
       "  <tbody>\n",
       "    <tr>\n",
       "      <th>0</th>\n",
       "      <td>381875.0</td>\n",
       "      <td>6697880.0</td>\n",
       "      <td>5785640</td>\n",
       "      <td>POLYGON ((382000.000 6697750.000, 381750.000 6...</td>\n",
       "    </tr>\n",
       "    <tr>\n",
       "      <th>1</th>\n",
       "      <td>382125.0</td>\n",
       "      <td>6697880.0</td>\n",
       "      <td>5785641</td>\n",
       "      <td>POLYGON ((382250.000 6697750.000, 382000.000 6...</td>\n",
       "    </tr>\n",
       "    <tr>\n",
       "      <th>2</th>\n",
       "      <td>382375.0</td>\n",
       "      <td>6697880.0</td>\n",
       "      <td>5785642</td>\n",
       "      <td>POLYGON ((382500.000 6697750.000, 382250.000 6...</td>\n",
       "    </tr>\n",
       "    <tr>\n",
       "      <th>3</th>\n",
       "      <td>382625.0</td>\n",
       "      <td>6697880.0</td>\n",
       "      <td>5785643</td>\n",
       "      <td>POLYGON ((382750.000 6697750.000, 382500.000 6...</td>\n",
       "    </tr>\n",
       "    <tr>\n",
       "      <th>4</th>\n",
       "      <td>381125.0</td>\n",
       "      <td>6697630.0</td>\n",
       "      <td>5787544</td>\n",
       "      <td>POLYGON ((381250.000 6697500.000, 381000.000 6...</td>\n",
       "    </tr>\n",
       "  </tbody>\n",
       "</table>\n",
       "</div>"
      ],
      "text/plain": [
       "          x          y   YKR_ID  \\\n",
       "0  381875.0  6697880.0  5785640   \n",
       "1  382125.0  6697880.0  5785641   \n",
       "2  382375.0  6697880.0  5785642   \n",
       "3  382625.0  6697880.0  5785643   \n",
       "4  381125.0  6697630.0  5787544   \n",
       "\n",
       "                                            geometry  \n",
       "0  POLYGON ((382000.000 6697750.000, 381750.000 6...  \n",
       "1  POLYGON ((382250.000 6697750.000, 382000.000 6...  \n",
       "2  POLYGON ((382500.000 6697750.000, 382250.000 6...  \n",
       "3  POLYGON ((382750.000 6697750.000, 382500.000 6...  \n",
       "4  POLYGON ((381250.000 6697500.000, 381000.000 6...  "
      ]
     },
     "execution_count": 4,
     "metadata": {},
     "output_type": "execute_result"
    }
   ],
   "source": [
    "grid = read_shp('data/MetropAccess_YKR_grid_EurefFIN.shp')\n",
    "grid.head()"
   ]
  },
  {
   "cell_type": "code",
   "execution_count": 5,
   "metadata": {
    "deletable": false,
    "editable": false,
    "nbgrader": {
     "cell_type": "code",
     "checksum": "6c823e5f4a607446412b2bfb8a8cac8a",
     "grade": true,
     "grade_id": "problem_2_read_filepaths_test",
     "locked": true,
     "points": 0.5,
     "schema_version": 3,
     "solution": false
    }
   },
   "outputs": [
    {
     "name": "stdout",
     "output_type": "stream",
     "text": [
      "          x          y   YKR_ID  \\\n",
      "0  381875.0  6697880.0  5785640   \n",
      "1  382125.0  6697880.0  5785641   \n",
      "2  382375.0  6697880.0  5785642   \n",
      "3  382625.0  6697880.0  5785643   \n",
      "4  381125.0  6697630.0  5787544   \n",
      "\n",
      "                                            geometry  \n",
      "0  POLYGON ((382000.000 6697750.000, 381750.000 6...  \n",
      "1  POLYGON ((382250.000 6697750.000, 382000.000 6...  \n",
      "2  POLYGON ((382500.000 6697750.000, 382250.000 6...  \n",
      "3  POLYGON ((382750.000 6697750.000, 382500.000 6...  \n",
      "4  POLYGON ((381250.000 6697500.000, 381000.000 6...  \n"
     ]
    }
   ],
   "source": [
    "# NON-EDITABLE TEST CELL\n",
    "#Check input grid\n",
    "print(grid.head())"
   ]
  },
  {
   "cell_type": "markdown",
   "metadata": {},
   "source": [
    "- Fetch the filepaths to all textfiles found in [data/](/data) directory that contain information about the travel times to different shopping centers\n",
    "  - Use `glob.glob()` -function to list the filenames into a list called `filepaths`"
   ]
  },
  {
   "cell_type": "code",
   "execution_count": 6,
   "metadata": {
    "deletable": false,
    "nbgrader": {
     "cell_type": "code",
     "checksum": "75023ac7682c11ca65ffa9034375ddd5",
     "grade": false,
     "grade_id": "cell-fd299c5ebdc26382",
     "locked": false,
     "schema_version": 3,
     "solution": true,
     "task": false
    }
   },
   "outputs": [],
   "source": [
    "# REPLACE THE ERROR BELOW WITH YOUR OWN CODE\n",
    "filepaths = list(filepaths)"
   ]
  },
  {
   "cell_type": "code",
   "execution_count": 7,
   "metadata": {
    "deletable": false,
    "editable": false,
    "nbgrader": {
     "cell_type": "code",
     "checksum": "866746cdcf09073e28a61d953d627f0b",
     "grade": true,
     "grade_id": "problem_2_glob_test",
     "locked": true,
     "points": 0.5,
     "schema_version": 3,
     "solution": false,
     "task": false
    }
   },
   "outputs": [
    {
     "name": "stdout",
     "output_type": "stream",
     "text": [
      "Number of travel time data files:  0\n"
     ]
    }
   ],
   "source": [
    "# NON-EDITABLE TEST CELL\n",
    "# Check how many filepaths there are\n",
    "print(\"Number of travel time data files: \", len(filepaths))"
   ]
  },
  {
   "cell_type": "markdown",
   "metadata": {},
   "source": [
    "**Join information from all the input layers into the grid.** As output, you should have a GeoDataFrame (`grid`)\n",
    "that contains the YKR_ID, grid geometry, and travel times to each shopping center. You should have (at least) 9 columns in the merged output:\n",
    "\n",
    "Required columns: `'YKR_ID', 'pt_r_t_Jumbo', 'pt_r_t_Dixi', 'pt_r_t_Myyrmanni', 'pt_r_t_Itis', 'pt_r_t_Forum', 'pt_r_t_IsoOmena', 'pt_r_t_Ruoholahti', 'geometry'`.\n",
    "\n",
    "**Steps:**\n",
    "\n",
    "Create a for-loop where you iterate over the `filepaths` list:\n",
    "\n",
    "  - Read the current filepath using pandas \n",
    "  - Select columns `from_id` and `pt_r_t` from the data (= subset the data so that it only contains these columns)\n",
    "  - Rename column `from_id` to `YKR_ID` (this makes the join easier)\n",
    "  - Rename the column `pt_r_t` in a way that it has contains the shopping center name. On first iteration the column name should be `pt_r_t_Jumbo`, on the second iteration `pt_r_t_Dixi` and so on.\n",
    "  - Make a table join between the `grid` GeoDataFrame and the travel times (with updated column name) using the `merge()` function (at each iteration, you add a new column to variable `grid`). Do the join based on the `YKR_ID` column.\n",
    "  \n",
    "*How to get the shopping center name?*\n",
    "\n",
    "- You can split the input filepath based on the underscores (`\"_\"`) using the [str.split](https://docs.python.org/3.7/library/stdtypes.html#str.split) function. The shopping center name is the last object (located at index -1) in the splitted object.\n",
    "- Furthermore, you can strip out letters from the string object using string slicing. For example, if `fp = \"redi.txt\"`, then `fp[:-4]` equals to \"redi\" :)\n"
   ]
  },
  {
   "cell_type": "code",
   "execution_count": 8,
   "metadata": {
    "deletable": false,
    "nbgrader": {
     "cell_type": "code",
     "checksum": "f798cb4d7e7571d731058d80cbf71057",
     "grade": false,
     "grade_id": "merge_traveltimes",
     "locked": false,
     "schema_version": 3,
     "solution": true
    }
   },
   "outputs": [
    {
     "data": {
      "text/html": [
       "<div>\n",
       "<style scoped>\n",
       "    .dataframe tbody tr th:only-of-type {\n",
       "        vertical-align: middle;\n",
       "    }\n",
       "\n",
       "    .dataframe tbody tr th {\n",
       "        vertical-align: top;\n",
       "    }\n",
       "\n",
       "    .dataframe thead th {\n",
       "        text-align: right;\n",
       "    }\n",
       "</style>\n",
       "<table border=\"1\" class=\"dataframe\">\n",
       "  <thead>\n",
       "    <tr style=\"text-align: right;\">\n",
       "      <th></th>\n",
       "      <th>x</th>\n",
       "      <th>y</th>\n",
       "      <th>YKR_ID</th>\n",
       "      <th>geometry</th>\n",
       "      <th>pt_r_t_Jumbo</th>\n",
       "      <th>pt_r_t_Dixi</th>\n",
       "      <th>pt_r_t_Myyrmanni</th>\n",
       "      <th>pt_r_t_Itis</th>\n",
       "      <th>pt_r_t_Forum</th>\n",
       "      <th>pt_r_t_IsoOmena</th>\n",
       "      <th>pt_r_t_Ruoholahti</th>\n",
       "    </tr>\n",
       "  </thead>\n",
       "  <tbody>\n",
       "    <tr>\n",
       "      <th>0</th>\n",
       "      <td>381875.0</td>\n",
       "      <td>6697880.0</td>\n",
       "      <td>5785640</td>\n",
       "      <td>POLYGON ((382000.000 6697750.000, 381750.000 6...</td>\n",
       "      <td>101</td>\n",
       "      <td>102</td>\n",
       "      <td>90</td>\n",
       "      <td>132</td>\n",
       "      <td>110</td>\n",
       "      <td>141</td>\n",
       "      <td>118</td>\n",
       "    </tr>\n",
       "    <tr>\n",
       "      <th>1</th>\n",
       "      <td>382125.0</td>\n",
       "      <td>6697880.0</td>\n",
       "      <td>5785641</td>\n",
       "      <td>POLYGON ((382250.000 6697750.000, 382000.000 6...</td>\n",
       "      <td>108</td>\n",
       "      <td>109</td>\n",
       "      <td>93</td>\n",
       "      <td>135</td>\n",
       "      <td>113</td>\n",
       "      <td>143</td>\n",
       "      <td>121</td>\n",
       "    </tr>\n",
       "    <tr>\n",
       "      <th>2</th>\n",
       "      <td>382375.0</td>\n",
       "      <td>6697880.0</td>\n",
       "      <td>5785642</td>\n",
       "      <td>POLYGON ((382500.000 6697750.000, 382250.000 6...</td>\n",
       "      <td>109</td>\n",
       "      <td>111</td>\n",
       "      <td>95</td>\n",
       "      <td>137</td>\n",
       "      <td>115</td>\n",
       "      <td>145</td>\n",
       "      <td>123</td>\n",
       "    </tr>\n",
       "    <tr>\n",
       "      <th>3</th>\n",
       "      <td>382625.0</td>\n",
       "      <td>6697880.0</td>\n",
       "      <td>5785643</td>\n",
       "      <td>POLYGON ((382750.000 6697750.000, 382500.000 6...</td>\n",
       "      <td>114</td>\n",
       "      <td>115</td>\n",
       "      <td>99</td>\n",
       "      <td>141</td>\n",
       "      <td>119</td>\n",
       "      <td>149</td>\n",
       "      <td>127</td>\n",
       "    </tr>\n",
       "    <tr>\n",
       "      <th>4</th>\n",
       "      <td>381125.0</td>\n",
       "      <td>6697630.0</td>\n",
       "      <td>5787544</td>\n",
       "      <td>POLYGON ((381250.000 6697500.000, 381000.000 6...</td>\n",
       "      <td>98</td>\n",
       "      <td>99</td>\n",
       "      <td>83</td>\n",
       "      <td>125</td>\n",
       "      <td>103</td>\n",
       "      <td>134</td>\n",
       "      <td>111</td>\n",
       "    </tr>\n",
       "  </tbody>\n",
       "</table>\n",
       "</div>"
      ],
      "text/plain": [
       "          x          y   YKR_ID  \\\n",
       "0  381875.0  6697880.0  5785640   \n",
       "1  382125.0  6697880.0  5785641   \n",
       "2  382375.0  6697880.0  5785642   \n",
       "3  382625.0  6697880.0  5785643   \n",
       "4  381125.0  6697630.0  5787544   \n",
       "\n",
       "                                            geometry  pt_r_t_Jumbo  \\\n",
       "0  POLYGON ((382000.000 6697750.000, 381750.000 6...           101   \n",
       "1  POLYGON ((382250.000 6697750.000, 382000.000 6...           108   \n",
       "2  POLYGON ((382500.000 6697750.000, 382250.000 6...           109   \n",
       "3  POLYGON ((382750.000 6697750.000, 382500.000 6...           114   \n",
       "4  POLYGON ((381250.000 6697500.000, 381000.000 6...            98   \n",
       "\n",
       "   pt_r_t_Dixi  pt_r_t_Myyrmanni  pt_r_t_Itis  pt_r_t_Forum  pt_r_t_IsoOmena  \\\n",
       "0          102                90          132           110              141   \n",
       "1          109                93          135           113              143   \n",
       "2          111                95          137           115              145   \n",
       "3          115                99          141           119              149   \n",
       "4           99                83          125           103              134   \n",
       "\n",
       "   pt_r_t_Ruoholahti  \n",
       "0                118  \n",
       "1                121  \n",
       "2                123  \n",
       "3                127  \n",
       "4                111  "
      ]
     },
     "execution_count": 8,
     "metadata": {},
     "output_type": "execute_result"
    }
   ],
   "source": [
    "# REPLACE THE ERROR BELOW WITH YOUR OWN CODE\n",
    "def rename_column(data, **columns):\n",
    "    data.rename(columns=columns, inplace=True)\n",
    "    \n",
    "def merge_data(left_data, right_data, how, left_on='YKR_ID', right_on='YKR_ID', *args):\n",
    "    \"\"\"Do a merge on data with columns that match in some way\"\"\"\n",
    "    return left_data.merge(right_data, how=how, left_on=left_on, right_on=right_on, *args)\n",
    "    \n",
    "for city in cities:\n",
    "    rename_column(cities_data[city], pt_r_t=f\"pt_r_t_{city}\", from_id='YKR_ID')\n",
    "    cities_data[city] = cities_data[city][['YKR_ID', f'pt_r_t_{city}']]\n",
    "    grid = merge_data(grid, cities_data[city], 'left')\n",
    "\n",
    "grid.head()"
   ]
  },
  {
   "cell_type": "code",
   "execution_count": 9,
   "metadata": {
    "deletable": false,
    "editable": false,
    "nbgrader": {
     "cell_type": "code",
     "checksum": "1b4962547b0f513988d098e161d13ba1",
     "grade": true,
     "grade_id": "problem_2_merge_traveltimes_tests",
     "locked": true,
     "points": 3,
     "schema_version": 3,
     "solution": false
    }
   },
   "outputs": [
    {
     "name": "stdout",
     "output_type": "stream",
     "text": [
      "          x          y   YKR_ID  \\\n",
      "0  381875.0  6697880.0  5785640   \n",
      "1  382125.0  6697880.0  5785641   \n",
      "2  382375.0  6697880.0  5785642   \n",
      "3  382625.0  6697880.0  5785643   \n",
      "4  381125.0  6697630.0  5787544   \n",
      "\n",
      "                                            geometry  pt_r_t_Jumbo  \\\n",
      "0  POLYGON ((382000.000 6697750.000, 381750.000 6...           101   \n",
      "1  POLYGON ((382250.000 6697750.000, 382000.000 6...           108   \n",
      "2  POLYGON ((382500.000 6697750.000, 382250.000 6...           109   \n",
      "3  POLYGON ((382750.000 6697750.000, 382500.000 6...           114   \n",
      "4  POLYGON ((381250.000 6697500.000, 381000.000 6...            98   \n",
      "\n",
      "   pt_r_t_Dixi  pt_r_t_Myyrmanni  pt_r_t_Itis  pt_r_t_Forum  pt_r_t_IsoOmena  \\\n",
      "0          102                90          132           110              141   \n",
      "1          109                93          135           113              143   \n",
      "2          111                95          137           115              145   \n",
      "3          115                99          141           119              149   \n",
      "4           99                83          125           103              134   \n",
      "\n",
      "   pt_r_t_Ruoholahti  \n",
      "0                118  \n",
      "1                121  \n",
      "2                123  \n",
      "3                127  \n",
      "4                111  \n"
     ]
    }
   ],
   "source": [
    "# NON-EDITABLE TEST CELL\n",
    "#Check data\n",
    "print(grid.head())\n",
    "\n",
    "# Check that there are correct number of columns\n",
    "assert len(grid.columns) >= 9, \"There are some columns missing from the grid.\""
   ]
  },
  {
   "cell_type": "markdown",
   "metadata": {},
   "source": [
    "- Remove rows containing -1 (no data values) from the dataframe. You can for example replace the no-data values with numpy's `np.nan`, and then drop no-data values using the [DataFrame.dropna](https://pandas.pydata.org/pandas-docs/stable/reference/api/pandas.DataFrame.dropna.html) function."
   ]
  },
  {
   "cell_type": "code",
   "execution_count": 10,
   "metadata": {
    "deletable": false,
    "nbgrader": {
     "cell_type": "code",
     "checksum": "16839d6c52be4c83c397a0d2e00cffc3",
     "grade": false,
     "grade_id": "no_data",
     "locked": false,
     "schema_version": 3,
     "solution": true
    }
   },
   "outputs": [],
   "source": [
    "# REPLACE THE ERROR BELOW WITH YOUR OWN CODE\n",
    "import numpy as np\n",
    "\n",
    "def drop_na(data):\n",
    "    \"\"\"Drop NaN values from all rows in the data\"\"\"\n",
    "    naless_data = data.replace(-1, np.nan)\n",
    "    return naless_data.dropna()\n",
    "\n",
    "grid = drop_na(grid)"
   ]
  },
  {
   "cell_type": "markdown",
   "metadata": {},
   "source": [
    "- For each grid cell (each row), find out the shortest travel time to any shopping center. Store the result in a new column `'min_t'`.\n",
    "- Find out also the column name (for example: `'pt_r_t_Jumbo'`), for the shortest travel time using the `idxmin()` function into a column called `'dominant_service'` ([see hints](https://automating-gis-processes.github.io/site/develop/lessons/L4/exercise-4.html#finding-out-which-shopping-center-is-the-closest)). "
   ]
  },
  {
   "cell_type": "code",
   "execution_count": 39,
   "metadata": {
    "deletable": false,
    "nbgrader": {
     "cell_type": "code",
     "checksum": "0560afabf1989b7fa98862b2b0b8af70",
     "grade": false,
     "grade_id": "min_t",
     "locked": false,
     "schema_version": 3,
     "solution": true
    }
   },
   "outputs": [],
   "source": [
    "# Create a new column for minimum travel time values \n",
    "grid['min_t'] = None\n",
    "\n",
    "# Create a new column for the closest shopping center id values\n",
    "grid['dominant_service'] = None\n",
    "\n",
    "# REPLACE THE ERROR BELOW WITH YOUR OWN CODE\n",
    "min_columns = [col for col in list(grid.columns) if col.split('_')[-1] in cities]\n",
    "\n",
    "# select the min value at each column\n",
    "grid['min_t'] = grid[min_columns].min(axis=1)\n",
    "\n",
    "# select the column name of the min\n",
    "grid['dominant_service'] = grid[min_columns].idxmin(axis='columns')"
   ]
  },
  {
   "cell_type": "code",
   "execution_count": 41,
   "metadata": {},
   "outputs": [
    {
     "data": {
      "text/html": [
       "<div>\n",
       "<style scoped>\n",
       "    .dataframe tbody tr th:only-of-type {\n",
       "        vertical-align: middle;\n",
       "    }\n",
       "\n",
       "    .dataframe tbody tr th {\n",
       "        vertical-align: top;\n",
       "    }\n",
       "\n",
       "    .dataframe thead th {\n",
       "        text-align: right;\n",
       "    }\n",
       "</style>\n",
       "<table border=\"1\" class=\"dataframe\">\n",
       "  <thead>\n",
       "    <tr style=\"text-align: right;\">\n",
       "      <th></th>\n",
       "      <th>x</th>\n",
       "      <th>y</th>\n",
       "      <th>YKR_ID</th>\n",
       "      <th>geometry</th>\n",
       "      <th>pt_r_t_Jumbo</th>\n",
       "      <th>pt_r_t_Dixi</th>\n",
       "      <th>pt_r_t_Myyrmanni</th>\n",
       "      <th>pt_r_t_Itis</th>\n",
       "      <th>pt_r_t_Forum</th>\n",
       "      <th>pt_r_t_IsoOmena</th>\n",
       "      <th>pt_r_t_Ruoholahti</th>\n",
       "      <th>min_t</th>\n",
       "      <th>dominant_service</th>\n",
       "    </tr>\n",
       "  </thead>\n",
       "  <tbody>\n",
       "    <tr>\n",
       "      <th>13225</th>\n",
       "      <td>372625.0</td>\n",
       "      <td>6665630.0</td>\n",
       "      <td>6016697</td>\n",
       "      <td>POLYGON ((372750.000 6665500.000, 372500.000 6...</td>\n",
       "      <td>111.0</td>\n",
       "      <td>81.0</td>\n",
       "      <td>97.0</td>\n",
       "      <td>81.0</td>\n",
       "      <td>54.0</td>\n",
       "      <td>40.0</td>\n",
       "      <td>50.0</td>\n",
       "      <td>40.0</td>\n",
       "      <td>pt_r_t_IsoOmena</td>\n",
       "    </tr>\n",
       "    <tr>\n",
       "      <th>13226</th>\n",
       "      <td>372875.0</td>\n",
       "      <td>6665630.0</td>\n",
       "      <td>6016698</td>\n",
       "      <td>POLYGON ((373000.000 6665500.000, 372750.000 6...</td>\n",
       "      <td>109.0</td>\n",
       "      <td>79.0</td>\n",
       "      <td>95.0</td>\n",
       "      <td>79.0</td>\n",
       "      <td>52.0</td>\n",
       "      <td>38.0</td>\n",
       "      <td>48.0</td>\n",
       "      <td>38.0</td>\n",
       "      <td>pt_r_t_IsoOmena</td>\n",
       "    </tr>\n",
       "    <tr>\n",
       "      <th>13227</th>\n",
       "      <td>373125.0</td>\n",
       "      <td>6665630.0</td>\n",
       "      <td>6016699</td>\n",
       "      <td>POLYGON ((373250.000 6665500.000, 373000.000 6...</td>\n",
       "      <td>110.0</td>\n",
       "      <td>81.0</td>\n",
       "      <td>97.0</td>\n",
       "      <td>81.0</td>\n",
       "      <td>54.0</td>\n",
       "      <td>40.0</td>\n",
       "      <td>50.0</td>\n",
       "      <td>40.0</td>\n",
       "      <td>pt_r_t_IsoOmena</td>\n",
       "    </tr>\n",
       "    <tr>\n",
       "      <th>13229</th>\n",
       "      <td>372625.0</td>\n",
       "      <td>6665380.0</td>\n",
       "      <td>6018253</td>\n",
       "      <td>POLYGON ((372750.000 6665250.000, 372500.000 6...</td>\n",
       "      <td>114.0</td>\n",
       "      <td>84.0</td>\n",
       "      <td>100.0</td>\n",
       "      <td>84.0</td>\n",
       "      <td>57.0</td>\n",
       "      <td>43.0</td>\n",
       "      <td>53.0</td>\n",
       "      <td>43.0</td>\n",
       "      <td>pt_r_t_IsoOmena</td>\n",
       "    </tr>\n",
       "    <tr>\n",
       "      <th>13230</th>\n",
       "      <td>372875.0</td>\n",
       "      <td>6665380.0</td>\n",
       "      <td>6018254</td>\n",
       "      <td>POLYGON ((373000.000 6665250.000, 372750.000 6...</td>\n",
       "      <td>112.0</td>\n",
       "      <td>83.0</td>\n",
       "      <td>98.0</td>\n",
       "      <td>83.0</td>\n",
       "      <td>55.0</td>\n",
       "      <td>42.0</td>\n",
       "      <td>52.0</td>\n",
       "      <td>42.0</td>\n",
       "      <td>pt_r_t_IsoOmena</td>\n",
       "    </tr>\n",
       "  </tbody>\n",
       "</table>\n",
       "</div>"
      ],
      "text/plain": [
       "              x          y   YKR_ID  \\\n",
       "13225  372625.0  6665630.0  6016697   \n",
       "13226  372875.0  6665630.0  6016698   \n",
       "13227  373125.0  6665630.0  6016699   \n",
       "13229  372625.0  6665380.0  6018253   \n",
       "13230  372875.0  6665380.0  6018254   \n",
       "\n",
       "                                                geometry  pt_r_t_Jumbo  \\\n",
       "13225  POLYGON ((372750.000 6665500.000, 372500.000 6...         111.0   \n",
       "13226  POLYGON ((373000.000 6665500.000, 372750.000 6...         109.0   \n",
       "13227  POLYGON ((373250.000 6665500.000, 373000.000 6...         110.0   \n",
       "13229  POLYGON ((372750.000 6665250.000, 372500.000 6...         114.0   \n",
       "13230  POLYGON ((373000.000 6665250.000, 372750.000 6...         112.0   \n",
       "\n",
       "       pt_r_t_Dixi  pt_r_t_Myyrmanni  pt_r_t_Itis  pt_r_t_Forum  \\\n",
       "13225         81.0              97.0         81.0          54.0   \n",
       "13226         79.0              95.0         79.0          52.0   \n",
       "13227         81.0              97.0         81.0          54.0   \n",
       "13229         84.0             100.0         84.0          57.0   \n",
       "13230         83.0              98.0         83.0          55.0   \n",
       "\n",
       "       pt_r_t_IsoOmena  pt_r_t_Ruoholahti  min_t dominant_service  \n",
       "13225             40.0               50.0   40.0  pt_r_t_IsoOmena  \n",
       "13226             38.0               48.0   38.0  pt_r_t_IsoOmena  \n",
       "13227             40.0               50.0   40.0  pt_r_t_IsoOmena  \n",
       "13229             43.0               53.0   43.0  pt_r_t_IsoOmena  \n",
       "13230             42.0               52.0   42.0  pt_r_t_IsoOmena  "
      ]
     },
     "execution_count": 41,
     "metadata": {},
     "output_type": "execute_result"
    }
   ],
   "source": [
    "grid.tail()"
   ]
  },
  {
   "cell_type": "code",
   "execution_count": 42,
   "metadata": {
    "deletable": false,
    "editable": false,
    "nbgrader": {
     "cell_type": "code",
     "checksum": "c98db9c7e4a063ff7696526350087958",
     "grade": true,
     "grade_id": "problem_2_min_t_test",
     "locked": true,
     "points": 2,
     "schema_version": 3,
     "solution": false
    }
   },
   "outputs": [
    {
     "name": "stdout",
     "output_type": "stream",
     "text": [
      "    YKR_ID  min_t  dominant_service\n",
      "0  5785640   90.0  pt_r_t_Myyrmanni\n",
      "1  5785641   93.0  pt_r_t_Myyrmanni\n",
      "2  5785642   95.0  pt_r_t_Myyrmanni\n",
      "3  5785643   99.0  pt_r_t_Myyrmanni\n",
      "4  5787544   83.0  pt_r_t_Myyrmanni\n"
     ]
    }
   ],
   "source": [
    "# NON-EDITABLE TEST CELL\n",
    "print(grid[['YKR_ID', 'min_t', 'dominant_service']].head())"
   ]
  },
  {
   "cell_type": "code",
   "execution_count": 43,
   "metadata": {
    "deletable": false,
    "editable": false,
    "nbgrader": {
     "cell_type": "code",
     "checksum": "2998ea638518cf02cad0bfa1930f9018",
     "grade": true,
     "grade_id": "problem_2_dominant_service_test",
     "locked": true,
     "points": 2,
     "schema_version": 3,
     "solution": false,
     "task": false
    }
   },
   "outputs": [
    {
     "name": "stdout",
     "output_type": "stream",
     "text": [
      "        YKR_ID  min_t dominant_service\n",
      "13225  6016697   40.0  pt_r_t_IsoOmena\n",
      "13226  6016698   38.0  pt_r_t_IsoOmena\n",
      "13227  6016699   40.0  pt_r_t_IsoOmena\n",
      "13229  6018253   43.0  pt_r_t_IsoOmena\n",
      "13230  6018254   42.0  pt_r_t_IsoOmena\n"
     ]
    }
   ],
   "source": [
    "# NON-EDITABLE TEST CELL\n",
    "print(grid[['YKR_ID', 'min_t', 'dominant_service']].tail())"
   ]
  },
  {
   "cell_type": "markdown",
   "metadata": {},
   "source": [
    "- Visualize the dominance areas and travel times in one figure which has 2 subplots (2 rows and one column):\n",
    "     - visualize the dominance areas using the names found in `dominant_service` column. \n",
    "     - Visualize travel times to shopping centers from the `min_t` column \n"
   ]
  },
  {
   "cell_type": "code",
   "execution_count": 54,
   "metadata": {
    "deletable": false,
    "nbgrader": {
     "cell_type": "code",
     "checksum": "28c4c267871440bad21089a47127d542",
     "grade": true,
     "grade_id": "plot",
     "locked": false,
     "points": 2,
     "schema_version": 3,
     "solution": true
    }
   },
   "outputs": [
    {
     "data": {
      "image/png": "[encoded data removed]",
      "text/plain": [
       "<Figure size 576x864 with 2 Axes>"
      ]
     },
     "metadata": {
      "needs_background": "light"
     },
     "output_type": "display_data"
    }
   ],
   "source": [
    "# REPLACE THE ERROR BELOW WITH YOUR OWN CODE\n",
    "fig, (ax1, ax2) = plt.subplots(nrows=2, ncols=1, figsize=(8, 12))\n",
    "grid.plot(ax=ax1, column='dominant_service')\n",
    "ax1.set_title(\"Dominant Areas of Shopping Centers\")\n",
    "\n",
    "grid.plot(ax=ax2, column='min_t')\n",
    "ax2.set_title(\"Travel Times To Closest Shopping Centers\")\n",
    "\n",
    "plt.tight_layout()\n",
    "plt.savefig('closest_and_dominant_shopping_areas.png')\n",
    "plt.show()"
   ]
  },
  {
   "cell_type": "markdown",
   "metadata": {},
   "source": [
    "That's it! If you want more challenge, you can still continue to optional problem 3. For problem 3, you need to save the `grid` with information about dominant services to file:"
   ]
  },
  {
   "cell_type": "code",
   "execution_count": 55,
   "metadata": {},
   "outputs": [
    {
     "name": "stderr",
     "output_type": "stream",
     "text": [
      "C:\\ProgramData\\Anaconda3\\envs\\autogis_lesson2\\lib\\site-packages\\geopandas\\io\\file.py:299: FutureWarning: pandas.Int64Index is deprecated and will be removed from pandas in a future version. Use pandas.Index with the appropriate dtype instead.\n",
      "  pd.Int64Index,\n",
      "C:\\Users\\big yeti\\AppData\\Local\\Temp\\ipykernel_7456\\782424237.py:3: UserWarning: Column names longer than 10 characters will be truncated when saved to ESRI Shapefile.\n",
      "  grid.to_file(grid_file)\n"
     ]
    }
   ],
   "source": [
    "# Save grid to file (if you want to continue to problem 3)\n",
    "grid_file = 'data/dominant_closest_shopping_centers.shp'\n",
    "grid.to_file(grid_file)"
   ]
  },
  {
   "cell_type": "code",
   "execution_count": null,
   "metadata": {},
   "outputs": [],
   "source": []
  }
 ],
 "metadata": {
  "anaconda-cloud": {},
  "kernelspec": {
   "display_name": "Python [conda env:autogis_lesson2]",
   "language": "python",
   "name": "conda-env-autogis_lesson2-py"
  },
  "language_info": {
   "codemirror_mode": {
    "name": "ipython",
    "version": 3
   },
   "file_extension": ".py",
   "mimetype": "text/x-python",
   "name": "python",
   "nbconvert_exporter": "python",
   "pygments_lexer": "ipython3",
   "version": "3.9.12"
  }
 },
 "nbformat": 4,
 "nbformat_minor": 4
}
