{
 "cells": [
  {
   "cell_type": "markdown",
   "id": "84165875",
   "metadata": {},
   "source": [
    "## [Data Reclassification](https://autogis-site.readthedocs.io/en/latest/notebooks/L4/reclassify.html)"
   ]
  },
  {
   "cell_type": "code",
   "execution_count": null,
   "id": "0f34297e",
   "metadata": {},
   "outputs": [],
   "source": []
  }
 ],
 "metadata": {
  "kernelspec": {
   "display_name": "Python [conda env:autogis_lesson2]",
   "language": "python",
   "name": "conda-env-autogis_lesson2-py"
  },
  "language_info": {
   "codemirror_mode": {
    "name": "ipython",
    "version": 3
   },
   "file_extension": ".py",
   "mimetype": "text/x-python",
   "name": "python",
   "nbconvert_exporter": "python",
   "pygments_lexer": "ipython3",
   "version": "3.9.12"
  }
 },
 "nbformat": 4,
 "nbformat_minor": 5
}
