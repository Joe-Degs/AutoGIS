{
 "cells": [
  {
   "cell_type": "markdown",
   "id": "84165875",
   "metadata": {},
   "source": [
    "## [Data Reclassification](https://autogis-site.readthedocs.io/en/latest/notebooks/L4/reclassify.html)"
   ]
  },
  {
   "cell_type": "code",
   "execution_count": 1,
   "id": "66327c9f",
   "metadata": {},
   "outputs": [],
   "source": [
    "import geopandas as gpd\n",
    "import matplotlib.pyplot as plt"
   ]
  },
  {
   "cell_type": "code",
   "execution_count": 3,
   "id": "0f34297e",
   "metadata": {},
   "outputs": [
    {
     "data": {
      "text/html": [
       "<div>\n",
       "<style scoped>\n",
       "    .dataframe tbody tr th:only-of-type {\n",
       "        vertical-align: middle;\n",
       "    }\n",
       "\n",
       "    .dataframe tbody tr th {\n",
       "        vertical-align: top;\n",
       "    }\n",
       "\n",
       "    .dataframe thead th {\n",
       "        text-align: right;\n",
       "    }\n",
       "</style>\n",
       "<table border=\"1\" class=\"dataframe\">\n",
       "  <thead>\n",
       "    <tr style=\"text-align: right;\">\n",
       "      <th></th>\n",
       "      <th>car_m_d</th>\n",
       "      <th>car_m_t</th>\n",
       "      <th>car_r_d</th>\n",
       "      <th>car_r_t</th>\n",
       "      <th>from_id</th>\n",
       "      <th>pt_m_d</th>\n",
       "      <th>pt_m_t</th>\n",
       "      <th>pt_m_tt</th>\n",
       "      <th>pt_r_d</th>\n",
       "      <th>pt_r_t</th>\n",
       "      <th>pt_r_tt</th>\n",
       "      <th>to_id</th>\n",
       "      <th>walk_d</th>\n",
       "      <th>walk_t</th>\n",
       "      <th>GML_ID</th>\n",
       "      <th>NAMEFIN</th>\n",
       "      <th>NAMESWE</th>\n",
       "      <th>NATCODE</th>\n",
       "      <th>geometry</th>\n",
       "    </tr>\n",
       "  </thead>\n",
       "  <tbody>\n",
       "    <tr>\n",
       "      <th>0</th>\n",
       "      <td>29476</td>\n",
       "      <td>41</td>\n",
       "      <td>29483</td>\n",
       "      <td>46</td>\n",
       "      <td>5876274</td>\n",
       "      <td>29990</td>\n",
       "      <td>76</td>\n",
       "      <td>95</td>\n",
       "      <td>24984</td>\n",
       "      <td>77</td>\n",
       "      <td>99</td>\n",
       "      <td>5975375</td>\n",
       "      <td>25532</td>\n",
       "      <td>365</td>\n",
       "      <td>27517366</td>\n",
       "      <td>Helsinki</td>\n",
       "      <td>Helsingfors</td>\n",
       "      <td>091</td>\n",
       "      <td>POLYGON ((402250.000 6685750.000, 402024.224 6...</td>\n",
       "    </tr>\n",
       "    <tr>\n",
       "      <th>1</th>\n",
       "      <td>29456</td>\n",
       "      <td>41</td>\n",
       "      <td>29462</td>\n",
       "      <td>46</td>\n",
       "      <td>5876275</td>\n",
       "      <td>29866</td>\n",
       "      <td>74</td>\n",
       "      <td>95</td>\n",
       "      <td>24860</td>\n",
       "      <td>75</td>\n",
       "      <td>93</td>\n",
       "      <td>5975375</td>\n",
       "      <td>25408</td>\n",
       "      <td>363</td>\n",
       "      <td>27517366</td>\n",
       "      <td>Helsinki</td>\n",
       "      <td>Helsingfors</td>\n",
       "      <td>091</td>\n",
       "      <td>POLYGON ((402367.890 6685750.000, 402250.000 6...</td>\n",
       "    </tr>\n",
       "    <tr>\n",
       "      <th>2</th>\n",
       "      <td>36772</td>\n",
       "      <td>50</td>\n",
       "      <td>36778</td>\n",
       "      <td>56</td>\n",
       "      <td>5876278</td>\n",
       "      <td>33541</td>\n",
       "      <td>116</td>\n",
       "      <td>137</td>\n",
       "      <td>44265</td>\n",
       "      <td>130</td>\n",
       "      <td>146</td>\n",
       "      <td>5975375</td>\n",
       "      <td>31110</td>\n",
       "      <td>444</td>\n",
       "      <td>27517366</td>\n",
       "      <td>Helsinki</td>\n",
       "      <td>Helsingfors</td>\n",
       "      <td>091</td>\n",
       "      <td>POLYGON ((403250.000 6685750.000, 403148.515 6...</td>\n",
       "    </tr>\n",
       "    <tr>\n",
       "      <th>3</th>\n",
       "      <td>36898</td>\n",
       "      <td>49</td>\n",
       "      <td>36904</td>\n",
       "      <td>56</td>\n",
       "      <td>5876279</td>\n",
       "      <td>33720</td>\n",
       "      <td>119</td>\n",
       "      <td>141</td>\n",
       "      <td>44444</td>\n",
       "      <td>132</td>\n",
       "      <td>155</td>\n",
       "      <td>5975375</td>\n",
       "      <td>31289</td>\n",
       "      <td>447</td>\n",
       "      <td>27517366</td>\n",
       "      <td>Helsinki</td>\n",
       "      <td>Helsingfors</td>\n",
       "      <td>091</td>\n",
       "      <td>POLYGON ((403456.484 6685750.000, 403250.000 6...</td>\n",
       "    </tr>\n",
       "    <tr>\n",
       "      <th>4</th>\n",
       "      <td>29411</td>\n",
       "      <td>40</td>\n",
       "      <td>29418</td>\n",
       "      <td>44</td>\n",
       "      <td>5878128</td>\n",
       "      <td>29944</td>\n",
       "      <td>75</td>\n",
       "      <td>95</td>\n",
       "      <td>24938</td>\n",
       "      <td>76</td>\n",
       "      <td>99</td>\n",
       "      <td>5975375</td>\n",
       "      <td>25486</td>\n",
       "      <td>364</td>\n",
       "      <td>27517366</td>\n",
       "      <td>Helsinki</td>\n",
       "      <td>Helsingfors</td>\n",
       "      <td>091</td>\n",
       "      <td>POLYGON ((402000.000 6685500.000, 401900.425 6...</td>\n",
       "    </tr>\n",
       "  </tbody>\n",
       "</table>\n",
       "</div>"
      ],
      "text/plain": [
       "   car_m_d  car_m_t  car_r_d  car_r_t  from_id  pt_m_d  pt_m_t  pt_m_tt  \\\n",
       "0    29476       41    29483       46  5876274   29990      76       95   \n",
       "1    29456       41    29462       46  5876275   29866      74       95   \n",
       "2    36772       50    36778       56  5876278   33541     116      137   \n",
       "3    36898       49    36904       56  5876279   33720     119      141   \n",
       "4    29411       40    29418       44  5878128   29944      75       95   \n",
       "\n",
       "   pt_r_d  pt_r_t  pt_r_tt    to_id  walk_d  walk_t    GML_ID   NAMEFIN  \\\n",
       "0   24984      77       99  5975375   25532     365  27517366  Helsinki   \n",
       "1   24860      75       93  5975375   25408     363  27517366  Helsinki   \n",
       "2   44265     130      146  5975375   31110     444  27517366  Helsinki   \n",
       "3   44444     132      155  5975375   31289     447  27517366  Helsinki   \n",
       "4   24938      76       99  5975375   25486     364  27517366  Helsinki   \n",
       "\n",
       "       NAMESWE NATCODE                                           geometry  \n",
       "0  Helsingfors     091  POLYGON ((402250.000 6685750.000, 402024.224 6...  \n",
       "1  Helsingfors     091  POLYGON ((402367.890 6685750.000, 402250.000 6...  \n",
       "2  Helsingfors     091  POLYGON ((403250.000 6685750.000, 403148.515 6...  \n",
       "3  Helsingfors     091  POLYGON ((403456.484 6685750.000, 403250.000 6...  \n",
       "4  Helsingfors     091  POLYGON ((402000.000 6685500.000, 401900.425 6...  "
      ]
     },
     "execution_count": 3,
     "metadata": {},
     "output_type": "execute_result"
    }
   ],
   "source": [
    "json_file = 'data/TravelTimes_to_5975375_RailwayStation_Helsinki.geojson'\n",
    "acc = gpd.read_file(json_file, driver='GeoJSON')\n",
    "acc.head()"
   ]
  },
  {
   "cell_type": "code",
   "execution_count": 5,
   "id": "51e7fd5f",
   "metadata": {},
   "outputs": [],
   "source": [
    "acc = acc.loc[acc['pt_r_tt'] >= 0]"
   ]
  },
  {
   "cell_type": "code",
   "execution_count": 13,
   "id": "a9a84db5",
   "metadata": {},
   "outputs": [
    {
     "data": {
      "image/png": "[encoded data removed]",
      "text/plain": [
       "<Figure size 576x432 with 1 Axes>"
      ]
     },
     "metadata": {
      "needs_background": "light"
     },
     "output_type": "display_data"
    }
   ],
   "source": [
    "fig, ax = plt.subplots(figsize=(8, 6))\n",
    "acc.plot(ax=ax, column='pt_r_tt', scheme='Natural_Breaks', cmap='RdYlBu', legend=True)\n",
    "plt.axis('off')\n",
    "plt.tight_layout()"
   ]
  },
  {
   "cell_type": "markdown",
   "id": "46539724",
   "metadata": {},
   "source": [
    "- classifying walking data"
   ]
  },
  {
   "cell_type": "code",
   "execution_count": 14,
   "id": "98dfb772",
   "metadata": {},
   "outputs": [
    {
     "data": {
      "text/html": [
       "<div>\n",
       "<style scoped>\n",
       "    .dataframe tbody tr th:only-of-type {\n",
       "        vertical-align: middle;\n",
       "    }\n",
       "\n",
       "    .dataframe tbody tr th {\n",
       "        vertical-align: top;\n",
       "    }\n",
       "\n",
       "    .dataframe thead th {\n",
       "        text-align: right;\n",
       "    }\n",
       "</style>\n",
       "<table border=\"1\" class=\"dataframe\">\n",
       "  <thead>\n",
       "    <tr style=\"text-align: right;\">\n",
       "      <th></th>\n",
       "      <th>car_m_d</th>\n",
       "      <th>car_m_t</th>\n",
       "      <th>car_r_d</th>\n",
       "      <th>car_r_t</th>\n",
       "      <th>from_id</th>\n",
       "      <th>pt_m_d</th>\n",
       "      <th>pt_m_t</th>\n",
       "      <th>pt_m_tt</th>\n",
       "      <th>pt_r_d</th>\n",
       "      <th>pt_r_t</th>\n",
       "      <th>pt_r_tt</th>\n",
       "      <th>to_id</th>\n",
       "      <th>walk_d</th>\n",
       "      <th>walk_t</th>\n",
       "      <th>GML_ID</th>\n",
       "      <th>NAMEFIN</th>\n",
       "      <th>NAMESWE</th>\n",
       "      <th>NATCODE</th>\n",
       "      <th>geometry</th>\n",
       "    </tr>\n",
       "  </thead>\n",
       "  <tbody>\n",
       "    <tr>\n",
       "      <th>0</th>\n",
       "      <td>29476</td>\n",
       "      <td>41</td>\n",
       "      <td>29483</td>\n",
       "      <td>46</td>\n",
       "      <td>5876274</td>\n",
       "      <td>29990</td>\n",
       "      <td>76</td>\n",
       "      <td>95</td>\n",
       "      <td>24984</td>\n",
       "      <td>77</td>\n",
       "      <td>99</td>\n",
       "      <td>5975375</td>\n",
       "      <td>25532</td>\n",
       "      <td>365</td>\n",
       "      <td>27517366</td>\n",
       "      <td>Helsinki</td>\n",
       "      <td>Helsingfors</td>\n",
       "      <td>091</td>\n",
       "      <td>POLYGON ((402250.000 6685750.000, 402024.224 6...</td>\n",
       "    </tr>\n",
       "    <tr>\n",
       "      <th>1</th>\n",
       "      <td>29456</td>\n",
       "      <td>41</td>\n",
       "      <td>29462</td>\n",
       "      <td>46</td>\n",
       "      <td>5876275</td>\n",
       "      <td>29866</td>\n",
       "      <td>74</td>\n",
       "      <td>95</td>\n",
       "      <td>24860</td>\n",
       "      <td>75</td>\n",
       "      <td>93</td>\n",
       "      <td>5975375</td>\n",
       "      <td>25408</td>\n",
       "      <td>363</td>\n",
       "      <td>27517366</td>\n",
       "      <td>Helsinki</td>\n",
       "      <td>Helsingfors</td>\n",
       "      <td>091</td>\n",
       "      <td>POLYGON ((402367.890 6685750.000, 402250.000 6...</td>\n",
       "    </tr>\n",
       "    <tr>\n",
       "      <th>2</th>\n",
       "      <td>36772</td>\n",
       "      <td>50</td>\n",
       "      <td>36778</td>\n",
       "      <td>56</td>\n",
       "      <td>5876278</td>\n",
       "      <td>33541</td>\n",
       "      <td>116</td>\n",
       "      <td>137</td>\n",
       "      <td>44265</td>\n",
       "      <td>130</td>\n",
       "      <td>146</td>\n",
       "      <td>5975375</td>\n",
       "      <td>31110</td>\n",
       "      <td>444</td>\n",
       "      <td>27517366</td>\n",
       "      <td>Helsinki</td>\n",
       "      <td>Helsingfors</td>\n",
       "      <td>091</td>\n",
       "      <td>POLYGON ((403250.000 6685750.000, 403148.515 6...</td>\n",
       "    </tr>\n",
       "    <tr>\n",
       "      <th>3</th>\n",
       "      <td>36898</td>\n",
       "      <td>49</td>\n",
       "      <td>36904</td>\n",
       "      <td>56</td>\n",
       "      <td>5876279</td>\n",
       "      <td>33720</td>\n",
       "      <td>119</td>\n",
       "      <td>141</td>\n",
       "      <td>44444</td>\n",
       "      <td>132</td>\n",
       "      <td>155</td>\n",
       "      <td>5975375</td>\n",
       "      <td>31289</td>\n",
       "      <td>447</td>\n",
       "      <td>27517366</td>\n",
       "      <td>Helsinki</td>\n",
       "      <td>Helsingfors</td>\n",
       "      <td>091</td>\n",
       "      <td>POLYGON ((403456.484 6685750.000, 403250.000 6...</td>\n",
       "    </tr>\n",
       "    <tr>\n",
       "      <th>4</th>\n",
       "      <td>29411</td>\n",
       "      <td>40</td>\n",
       "      <td>29418</td>\n",
       "      <td>44</td>\n",
       "      <td>5878128</td>\n",
       "      <td>29944</td>\n",
       "      <td>75</td>\n",
       "      <td>95</td>\n",
       "      <td>24938</td>\n",
       "      <td>76</td>\n",
       "      <td>99</td>\n",
       "      <td>5975375</td>\n",
       "      <td>25486</td>\n",
       "      <td>364</td>\n",
       "      <td>27517366</td>\n",
       "      <td>Helsinki</td>\n",
       "      <td>Helsingfors</td>\n",
       "      <td>091</td>\n",
       "      <td>POLYGON ((402000.000 6685500.000, 401900.425 6...</td>\n",
       "    </tr>\n",
       "  </tbody>\n",
       "</table>\n",
       "</div>"
      ],
      "text/plain": [
       "   car_m_d  car_m_t  car_r_d  car_r_t  from_id  pt_m_d  pt_m_t  pt_m_tt  \\\n",
       "0    29476       41    29483       46  5876274   29990      76       95   \n",
       "1    29456       41    29462       46  5876275   29866      74       95   \n",
       "2    36772       50    36778       56  5876278   33541     116      137   \n",
       "3    36898       49    36904       56  5876279   33720     119      141   \n",
       "4    29411       40    29418       44  5878128   29944      75       95   \n",
       "\n",
       "   pt_r_d  pt_r_t  pt_r_tt    to_id  walk_d  walk_t    GML_ID   NAMEFIN  \\\n",
       "0   24984      77       99  5975375   25532     365  27517366  Helsinki   \n",
       "1   24860      75       93  5975375   25408     363  27517366  Helsinki   \n",
       "2   44265     130      146  5975375   31110     444  27517366  Helsinki   \n",
       "3   44444     132      155  5975375   31289     447  27517366  Helsinki   \n",
       "4   24938      76       99  5975375   25486     364  27517366  Helsinki   \n",
       "\n",
       "       NAMESWE NATCODE                                           geometry  \n",
       "0  Helsingfors     091  POLYGON ((402250.000 6685750.000, 402024.224 6...  \n",
       "1  Helsingfors     091  POLYGON ((402367.890 6685750.000, 402250.000 6...  \n",
       "2  Helsingfors     091  POLYGON ((403250.000 6685750.000, 403148.515 6...  \n",
       "3  Helsingfors     091  POLYGON ((403456.484 6685750.000, 403250.000 6...  \n",
       "4  Helsingfors     091  POLYGON ((402000.000 6685500.000, 401900.425 6...  "
      ]
     },
     "execution_count": 14,
     "metadata": {},
     "output_type": "execute_result"
    }
   ],
   "source": [
    "acc.head()"
   ]
  },
  {
   "cell_type": "code",
   "execution_count": 18,
   "id": "449dfd9c",
   "metadata": {},
   "outputs": [
    {
     "data": {
      "text/plain": [
       "(378807.193, 404692.833, 6666842.746945139, 6686802.315097851)"
      ]
     },
     "execution_count": 18,
     "metadata": {},
     "output_type": "execute_result"
    },
    {
     "data": {
      "image/png": "[encoded data removed]",
      "text/plain": [
       "<Figure size 576x504 with 1 Axes>"
      ]
     },
     "metadata": {
      "needs_background": "light"
     },
     "output_type": "display_data"
    }
   ],
   "source": [
    "fig, ax = plt.subplots(figsize=(8, 7))\n",
    "acc.plot(ax=ax, column='walk_d', scheme='Natural_Breaks', cmap='RdYlBu', legend=True,\n",
    "        legend_kwds={'loc': 'lower right'})\n",
    "plt.tight_layout()\n",
    "plt.axis('off')"
   ]
  },
  {
   "cell_type": "code",
   "execution_count": 19,
   "id": "c8c2dda0",
   "metadata": {},
   "outputs": [],
   "source": [
    "import mapclassify"
   ]
  },
  {
   "cell_type": "code",
   "execution_count": 20,
   "id": "83f6d175",
   "metadata": {},
   "outputs": [
    {
     "data": {
      "text/plain": [
       "NaturalBreaks           \n",
       "\n",
       "    Interval       Count\n",
       "------------------------\n",
       "[  0.00,  19.00] |   196\n",
       "( 19.00,  29.00] |   506\n",
       "( 29.00,  37.00] |   869\n",
       "( 37.00,  45.00] |   914\n",
       "( 45.00,  54.00] |   512\n",
       "( 54.00,  67.00] |   439\n",
       "( 67.00,  82.00] |   191\n",
       "( 82.00, 102.00] |   160\n",
       "(102.00, 155.00] |    20"
      ]
     },
     "execution_count": 20,
     "metadata": {},
     "output_type": "execute_result"
    }
   ],
   "source": [
    "mapclassify.NaturalBreaks(y=acc['pt_r_tt'], k=9)"
   ]
  },
  {
   "cell_type": "code",
   "execution_count": 22,
   "id": "56234011",
   "metadata": {},
   "outputs": [
    {
     "data": {
      "text/plain": [
       "Quantiles               \n",
       "\n",
       "    Interval       Count\n",
       "------------------------\n",
       "[  0.00,  30.00] |   792\n",
       "( 30.00,  37.00] |   779\n",
       "( 37.00,  44.00] |   821\n",
       "( 44.00,  56.00] |   685\n",
       "( 56.00, 155.00] |   730"
      ]
     },
     "execution_count": 22,
     "metadata": {},
     "output_type": "execute_result"
    }
   ],
   "source": [
    "mapclassify.Quantiles(y=acc['pt_r_tt'])"
   ]
  },
  {
   "cell_type": "code",
   "execution_count": 23,
   "id": "79ff4b8b",
   "metadata": {},
   "outputs": [
    {
     "data": {
      "text/plain": [
       "array([ 19.,  28.,  36.,  43.,  52.,  64.,  78.,  95., 155.])"
      ]
     },
     "execution_count": 23,
     "metadata": {},
     "output_type": "execute_result"
    }
   ],
   "source": [
    "classifier = mapclassify.NaturalBreaks(y=acc['pt_r_tt'], k=9)\n",
    "classifier.bins"
   ]
  },
  {
   "cell_type": "code",
   "execution_count": 25,
   "id": "5cf54b92",
   "metadata": {},
   "outputs": [
    {
     "data": {
      "text/html": [
       "<div>\n",
       "<style scoped>\n",
       "    .dataframe tbody tr th:only-of-type {\n",
       "        vertical-align: middle;\n",
       "    }\n",
       "\n",
       "    .dataframe tbody tr th {\n",
       "        vertical-align: top;\n",
       "    }\n",
       "\n",
       "    .dataframe thead th {\n",
       "        text-align: right;\n",
       "    }\n",
       "</style>\n",
       "<table border=\"1\" class=\"dataframe\">\n",
       "  <thead>\n",
       "    <tr style=\"text-align: right;\">\n",
       "      <th></th>\n",
       "      <th>pt_r_tt</th>\n",
       "    </tr>\n",
       "  </thead>\n",
       "  <tbody>\n",
       "    <tr>\n",
       "      <th>0</th>\n",
       "      <td>8</td>\n",
       "    </tr>\n",
       "    <tr>\n",
       "      <th>1</th>\n",
       "      <td>7</td>\n",
       "    </tr>\n",
       "    <tr>\n",
       "      <th>2</th>\n",
       "      <td>8</td>\n",
       "    </tr>\n",
       "    <tr>\n",
       "      <th>3</th>\n",
       "      <td>8</td>\n",
       "    </tr>\n",
       "    <tr>\n",
       "      <th>4</th>\n",
       "      <td>8</td>\n",
       "    </tr>\n",
       "  </tbody>\n",
       "</table>\n",
       "</div>"
      ],
      "text/plain": [
       "   pt_r_tt\n",
       "0        8\n",
       "1        7\n",
       "2        8\n",
       "3        8\n",
       "4        8"
      ]
     },
     "execution_count": 25,
     "metadata": {},
     "output_type": "execute_result"
    }
   ],
   "source": [
    "classifications = acc[['pt_r_tt']].apply(classifier)\n",
    "classifications.head()"
   ]
  },
  {
   "cell_type": "code",
   "execution_count": 27,
   "id": "cace1340",
   "metadata": {},
   "outputs": [
    {
     "data": {
      "text/html": [
       "<div>\n",
       "<style scoped>\n",
       "    .dataframe tbody tr th:only-of-type {\n",
       "        vertical-align: middle;\n",
       "    }\n",
       "\n",
       "    .dataframe tbody tr th {\n",
       "        vertical-align: top;\n",
       "    }\n",
       "\n",
       "    .dataframe thead th {\n",
       "        text-align: right;\n",
       "    }\n",
       "</style>\n",
       "<table border=\"1\" class=\"dataframe\">\n",
       "  <thead>\n",
       "    <tr style=\"text-align: right;\">\n",
       "      <th></th>\n",
       "      <th>car_m_d</th>\n",
       "      <th>car_m_t</th>\n",
       "      <th>car_r_d</th>\n",
       "      <th>car_r_t</th>\n",
       "      <th>from_id</th>\n",
       "      <th>pt_m_d</th>\n",
       "      <th>pt_m_t</th>\n",
       "      <th>pt_m_tt</th>\n",
       "      <th>pt_r_d</th>\n",
       "      <th>pt_r_t</th>\n",
       "      <th>pt_r_tt</th>\n",
       "      <th>to_id</th>\n",
       "      <th>walk_d</th>\n",
       "      <th>walk_t</th>\n",
       "      <th>GML_ID</th>\n",
       "      <th>NAMEFIN</th>\n",
       "      <th>NAMESWE</th>\n",
       "      <th>NATCODE</th>\n",
       "      <th>geometry</th>\n",
       "      <th>nb_pt_r_tt</th>\n",
       "    </tr>\n",
       "  </thead>\n",
       "  <tbody>\n",
       "    <tr>\n",
       "      <th>0</th>\n",
       "      <td>29476</td>\n",
       "      <td>41</td>\n",
       "      <td>29483</td>\n",
       "      <td>46</td>\n",
       "      <td>5876274</td>\n",
       "      <td>29990</td>\n",
       "      <td>76</td>\n",
       "      <td>95</td>\n",
       "      <td>24984</td>\n",
       "      <td>77</td>\n",
       "      <td>99</td>\n",
       "      <td>5975375</td>\n",
       "      <td>25532</td>\n",
       "      <td>365</td>\n",
       "      <td>27517366</td>\n",
       "      <td>Helsinki</td>\n",
       "      <td>Helsingfors</td>\n",
       "      <td>091</td>\n",
       "      <td>POLYGON ((402250.000 6685750.000, 402024.224 6...</td>\n",
       "      <td>8</td>\n",
       "    </tr>\n",
       "    <tr>\n",
       "      <th>1</th>\n",
       "      <td>29456</td>\n",
       "      <td>41</td>\n",
       "      <td>29462</td>\n",
       "      <td>46</td>\n",
       "      <td>5876275</td>\n",
       "      <td>29866</td>\n",
       "      <td>74</td>\n",
       "      <td>95</td>\n",
       "      <td>24860</td>\n",
       "      <td>75</td>\n",
       "      <td>93</td>\n",
       "      <td>5975375</td>\n",
       "      <td>25408</td>\n",
       "      <td>363</td>\n",
       "      <td>27517366</td>\n",
       "      <td>Helsinki</td>\n",
       "      <td>Helsingfors</td>\n",
       "      <td>091</td>\n",
       "      <td>POLYGON ((402367.890 6685750.000, 402250.000 6...</td>\n",
       "      <td>7</td>\n",
       "    </tr>\n",
       "    <tr>\n",
       "      <th>2</th>\n",
       "      <td>36772</td>\n",
       "      <td>50</td>\n",
       "      <td>36778</td>\n",
       "      <td>56</td>\n",
       "      <td>5876278</td>\n",
       "      <td>33541</td>\n",
       "      <td>116</td>\n",
       "      <td>137</td>\n",
       "      <td>44265</td>\n",
       "      <td>130</td>\n",
       "      <td>146</td>\n",
       "      <td>5975375</td>\n",
       "      <td>31110</td>\n",
       "      <td>444</td>\n",
       "      <td>27517366</td>\n",
       "      <td>Helsinki</td>\n",
       "      <td>Helsingfors</td>\n",
       "      <td>091</td>\n",
       "      <td>POLYGON ((403250.000 6685750.000, 403148.515 6...</td>\n",
       "      <td>8</td>\n",
       "    </tr>\n",
       "    <tr>\n",
       "      <th>3</th>\n",
       "      <td>36898</td>\n",
       "      <td>49</td>\n",
       "      <td>36904</td>\n",
       "      <td>56</td>\n",
       "      <td>5876279</td>\n",
       "      <td>33720</td>\n",
       "      <td>119</td>\n",
       "      <td>141</td>\n",
       "      <td>44444</td>\n",
       "      <td>132</td>\n",
       "      <td>155</td>\n",
       "      <td>5975375</td>\n",
       "      <td>31289</td>\n",
       "      <td>447</td>\n",
       "      <td>27517366</td>\n",
       "      <td>Helsinki</td>\n",
       "      <td>Helsingfors</td>\n",
       "      <td>091</td>\n",
       "      <td>POLYGON ((403456.484 6685750.000, 403250.000 6...</td>\n",
       "      <td>8</td>\n",
       "    </tr>\n",
       "    <tr>\n",
       "      <th>4</th>\n",
       "      <td>29411</td>\n",
       "      <td>40</td>\n",
       "      <td>29418</td>\n",
       "      <td>44</td>\n",
       "      <td>5878128</td>\n",
       "      <td>29944</td>\n",
       "      <td>75</td>\n",
       "      <td>95</td>\n",
       "      <td>24938</td>\n",
       "      <td>76</td>\n",
       "      <td>99</td>\n",
       "      <td>5975375</td>\n",
       "      <td>25486</td>\n",
       "      <td>364</td>\n",
       "      <td>27517366</td>\n",
       "      <td>Helsinki</td>\n",
       "      <td>Helsingfors</td>\n",
       "      <td>091</td>\n",
       "      <td>POLYGON ((402000.000 6685500.000, 401900.425 6...</td>\n",
       "      <td>8</td>\n",
       "    </tr>\n",
       "  </tbody>\n",
       "</table>\n",
       "</div>"
      ],
      "text/plain": [
       "   car_m_d  car_m_t  car_r_d  car_r_t  from_id  pt_m_d  pt_m_t  pt_m_tt  \\\n",
       "0    29476       41    29483       46  5876274   29990      76       95   \n",
       "1    29456       41    29462       46  5876275   29866      74       95   \n",
       "2    36772       50    36778       56  5876278   33541     116      137   \n",
       "3    36898       49    36904       56  5876279   33720     119      141   \n",
       "4    29411       40    29418       44  5878128   29944      75       95   \n",
       "\n",
       "   pt_r_d  pt_r_t  pt_r_tt    to_id  walk_d  walk_t    GML_ID   NAMEFIN  \\\n",
       "0   24984      77       99  5975375   25532     365  27517366  Helsinki   \n",
       "1   24860      75       93  5975375   25408     363  27517366  Helsinki   \n",
       "2   44265     130      146  5975375   31110     444  27517366  Helsinki   \n",
       "3   44444     132      155  5975375   31289     447  27517366  Helsinki   \n",
       "4   24938      76       99  5975375   25486     364  27517366  Helsinki   \n",
       "\n",
       "       NAMESWE NATCODE                                           geometry  \\\n",
       "0  Helsingfors     091  POLYGON ((402250.000 6685750.000, 402024.224 6...   \n",
       "1  Helsingfors     091  POLYGON ((402367.890 6685750.000, 402250.000 6...   \n",
       "2  Helsingfors     091  POLYGON ((403250.000 6685750.000, 403148.515 6...   \n",
       "3  Helsingfors     091  POLYGON ((403456.484 6685750.000, 403250.000 6...   \n",
       "4  Helsingfors     091  POLYGON ((402000.000 6685500.000, 401900.425 6...   \n",
       "\n",
       "   nb_pt_r_tt  \n",
       "0           8  \n",
       "1           7  \n",
       "2           8  \n",
       "3           8  \n",
       "4           8  "
      ]
     },
     "execution_count": 27,
     "metadata": {},
     "output_type": "execute_result"
    }
   ],
   "source": [
    "acc['nb_pt_r_tt'] = acc[['pt_r_tt']].apply(classifier)\n",
    "acc.head()"
   ]
  },
  {
   "cell_type": "code",
   "execution_count": 29,
   "id": "de579b21",
   "metadata": {},
   "outputs": [
    {
     "data": {
      "text/html": [
       "<div>\n",
       "<style scoped>\n",
       "    .dataframe tbody tr th:only-of-type {\n",
       "        vertical-align: middle;\n",
       "    }\n",
       "\n",
       "    .dataframe tbody tr th {\n",
       "        vertical-align: top;\n",
       "    }\n",
       "\n",
       "    .dataframe thead th {\n",
       "        text-align: right;\n",
       "    }\n",
       "</style>\n",
       "<table border=\"1\" class=\"dataframe\">\n",
       "  <thead>\n",
       "    <tr style=\"text-align: right;\">\n",
       "      <th></th>\n",
       "      <th>pt_r_tt</th>\n",
       "      <th>nb_pt_r_tt</th>\n",
       "    </tr>\n",
       "  </thead>\n",
       "  <tbody>\n",
       "    <tr>\n",
       "      <th>0</th>\n",
       "      <td>99</td>\n",
       "      <td>8</td>\n",
       "    </tr>\n",
       "    <tr>\n",
       "      <th>1</th>\n",
       "      <td>93</td>\n",
       "      <td>7</td>\n",
       "    </tr>\n",
       "    <tr>\n",
       "      <th>2</th>\n",
       "      <td>146</td>\n",
       "      <td>8</td>\n",
       "    </tr>\n",
       "    <tr>\n",
       "      <th>3</th>\n",
       "      <td>155</td>\n",
       "      <td>8</td>\n",
       "    </tr>\n",
       "    <tr>\n",
       "      <th>4</th>\n",
       "      <td>99</td>\n",
       "      <td>8</td>\n",
       "    </tr>\n",
       "  </tbody>\n",
       "</table>\n",
       "</div>"
      ],
      "text/plain": [
       "   pt_r_tt  nb_pt_r_tt\n",
       "0       99           8\n",
       "1       93           7\n",
       "2      146           8\n",
       "3      155           8\n",
       "4       99           8"
      ]
     },
     "execution_count": 29,
     "metadata": {},
     "output_type": "execute_result"
    }
   ],
   "source": [
    "acc[['pt_r_tt', 'nb_pt_r_tt']].head()"
   ]
  },
  {
   "cell_type": "code",
   "execution_count": 31,
   "id": "49ba05e9",
   "metadata": {},
   "outputs": [
    {
     "data": {
      "image/png": "[encoded data removed]",
      "text/plain": [
       "<Figure size 576x432 with 2 Axes>"
      ]
     },
     "metadata": {
      "needs_background": "light"
     },
     "output_type": "display_data"
    }
   ],
   "source": [
    "fig, ax = plt.subplots(figsize=(8, 6))\n",
    "acc.plot(ax=ax, column='nb_pt_r_tt', linewidth=0, legend=True)\n",
    "plt.axis('off')\n",
    "plt.tight_layout()"
   ]
  },
  {
   "cell_type": "code",
   "execution_count": 32,
   "id": "42237bff",
   "metadata": {},
   "outputs": [
    {
     "data": {
      "text/plain": [
       "<AxesSubplot:ylabel='Frequency'>"
      ]
     },
     "execution_count": 32,
     "metadata": {},
     "output_type": "execute_result"
    },
    {
     "data": {
      "image/png": "[encoded data removed]",
      "text/plain": [
       "<Figure size 432x288 with 1 Axes>"
      ]
     },
     "metadata": {
      "needs_background": "light"
     },
     "output_type": "display_data"
    }
   ],
   "source": [
    "acc['pt_r_tt'].plot.hist(bins=50)"
   ]
  },
  {
   "cell_type": "code",
   "execution_count": null,
   "id": "65480d99",
   "metadata": {},
   "outputs": [],
   "source": []
  }
 ],
 "metadata": {
  "kernelspec": {
   "display_name": "Python [conda env:autogis_lesson2]",
   "language": "python",
   "name": "conda-env-autogis_lesson2-py"
  },
  "language_info": {
   "codemirror_mode": {
    "name": "ipython",
    "version": 3
   },
   "file_extension": ".py",
   "mimetype": "text/x-python",
   "name": "python",
   "nbconvert_exporter": "python",
   "pygments_lexer": "ipython3",
   "version": "3.9.12"
  }
 },
 "nbformat": 4,
 "nbformat_minor": 5
}
