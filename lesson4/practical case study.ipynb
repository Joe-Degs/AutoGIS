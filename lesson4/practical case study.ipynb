{
 "cells": [
  {
   "cell_type": "markdown",
   "id": "6a0b7af7",
   "metadata": {},
   "source": [
    "### [Case: hospital districts](https://autogis-site.readthedocs.io/en/latest/notebooks/L4/create_health_district_polygons.html)"
   ]
  },
  {
   "cell_type": "code",
   "execution_count": 1,
   "id": "d0d7204c",
   "metadata": {},
   "outputs": [],
   "source": [
    "import json\n",
    "import numpy as np\n",
    "import pandas as pd\n",
    "import geopandas as gpd\n",
    "from pyproj import CRS\n",
    "import matplotlib.pyplot as plt"
   ]
  },
  {
   "cell_type": "code",
   "execution_count": 2,
   "id": "ef147c80",
   "metadata": {},
   "outputs": [],
   "source": [
    "# For available features, see http://geo.stat.fi/geoserver/tilastointialueet/wfs?request=GetCapabilities\n",
    "url = \"http://geo.stat.fi/geoserver/tilastointialueet/wfs?request=GetFeature&typename=tilastointialueet:kunta1000k&outputformat=JSON\"\n",
    "geodata = gpd.read_file(url)"
   ]
  },
  {
   "cell_type": "code",
   "execution_count": 3,
   "id": "e3b44a75",
   "metadata": {},
   "outputs": [
    {
     "data": {
      "text/html": [
       "<div>\n",
       "<style scoped>\n",
       "    .dataframe tbody tr th:only-of-type {\n",
       "        vertical-align: middle;\n",
       "    }\n",
       "\n",
       "    .dataframe tbody tr th {\n",
       "        vertical-align: top;\n",
       "    }\n",
       "\n",
       "    .dataframe thead th {\n",
       "        text-align: right;\n",
       "    }\n",
       "</style>\n",
       "<table border=\"1\" class=\"dataframe\">\n",
       "  <thead>\n",
       "    <tr style=\"text-align: right;\">\n",
       "      <th></th>\n",
       "      <th>id</th>\n",
       "      <th>kunta</th>\n",
       "      <th>vuosi</th>\n",
       "      <th>nimi</th>\n",
       "      <th>namn</th>\n",
       "      <th>name</th>\n",
       "      <th>geometry</th>\n",
       "    </tr>\n",
       "  </thead>\n",
       "  <tbody>\n",
       "    <tr>\n",
       "      <th>0</th>\n",
       "      <td>kunta1000k.1</td>\n",
       "      <td>005</td>\n",
       "      <td>2022</td>\n",
       "      <td>Alajärvi</td>\n",
       "      <td>Alajärvi</td>\n",
       "      <td>Alajärvi</td>\n",
       "      <td>POLYGON ((366787.924 7001300.583, 364487.590 6...</td>\n",
       "    </tr>\n",
       "    <tr>\n",
       "      <th>1</th>\n",
       "      <td>kunta1000k.2</td>\n",
       "      <td>009</td>\n",
       "      <td>2022</td>\n",
       "      <td>Alavieska</td>\n",
       "      <td>Alavieska</td>\n",
       "      <td>Alavieska</td>\n",
       "      <td>POLYGON ((382543.364 7120022.976, 382899.505 7...</td>\n",
       "    </tr>\n",
       "    <tr>\n",
       "      <th>2</th>\n",
       "      <td>kunta1000k.3</td>\n",
       "      <td>010</td>\n",
       "      <td>2022</td>\n",
       "      <td>Alavus</td>\n",
       "      <td>Alavo</td>\n",
       "      <td>Alavus</td>\n",
       "      <td>POLYGON ((343298.204 6961570.195, 343831.847 6...</td>\n",
       "    </tr>\n",
       "    <tr>\n",
       "      <th>3</th>\n",
       "      <td>kunta1000k.4</td>\n",
       "      <td>016</td>\n",
       "      <td>2022</td>\n",
       "      <td>Asikkala</td>\n",
       "      <td>Asikkala</td>\n",
       "      <td>Asikkala</td>\n",
       "      <td>POLYGON ((436139.680 6798279.085, 435714.468 6...</td>\n",
       "    </tr>\n",
       "    <tr>\n",
       "      <th>4</th>\n",
       "      <td>kunta1000k.5</td>\n",
       "      <td>018</td>\n",
       "      <td>2022</td>\n",
       "      <td>Askola</td>\n",
       "      <td>Askola</td>\n",
       "      <td>Askola</td>\n",
       "      <td>POLYGON ((426631.036 6720528.076, 428821.749 6...</td>\n",
       "    </tr>\n",
       "  </tbody>\n",
       "</table>\n",
       "</div>"
      ],
      "text/plain": [
       "             id kunta  vuosi       nimi       namn       name  \\\n",
       "0  kunta1000k.1   005   2022   Alajärvi   Alajärvi   Alajärvi   \n",
       "1  kunta1000k.2   009   2022  Alavieska  Alavieska  Alavieska   \n",
       "2  kunta1000k.3   010   2022     Alavus      Alavo     Alavus   \n",
       "3  kunta1000k.4   016   2022   Asikkala   Asikkala   Asikkala   \n",
       "4  kunta1000k.5   018   2022     Askola     Askola     Askola   \n",
       "\n",
       "                                            geometry  \n",
       "0  POLYGON ((366787.924 7001300.583, 364487.590 6...  \n",
       "1  POLYGON ((382543.364 7120022.976, 382899.505 7...  \n",
       "2  POLYGON ((343298.204 6961570.195, 343831.847 6...  \n",
       "3  POLYGON ((436139.680 6798279.085, 435714.468 6...  \n",
       "4  POLYGON ((426631.036 6720528.076, 428821.749 6...  "
      ]
     },
     "execution_count": 3,
     "metadata": {},
     "output_type": "execute_result"
    }
   ],
   "source": [
    "geodata.head()"
   ]
  },
  {
   "cell_type": "code",
   "execution_count": 4,
   "id": "e46765b2",
   "metadata": {},
   "outputs": [
    {
     "data": {
      "text/plain": [
       "309"
      ]
     },
     "execution_count": 4,
     "metadata": {},
     "output_type": "execute_result"
    }
   ],
   "source": [
    "len(geodata)"
   ]
  },
  {
   "cell_type": "code",
   "execution_count": 5,
   "id": "d3544875",
   "metadata": {},
   "outputs": [],
   "source": [
    "geodata.rename(columns={'kunta': 'code'}, inplace=True)\n",
    "geodata = geodata[['code', 'name', 'geometry']]"
   ]
  },
  {
   "cell_type": "code",
   "execution_count": 6,
   "id": "416d4c4f",
   "metadata": {},
   "outputs": [
    {
     "data": {
      "text/html": [
       "<div>\n",
       "<style scoped>\n",
       "    .dataframe tbody tr th:only-of-type {\n",
       "        vertical-align: middle;\n",
       "    }\n",
       "\n",
       "    .dataframe tbody tr th {\n",
       "        vertical-align: top;\n",
       "    }\n",
       "\n",
       "    .dataframe thead th {\n",
       "        text-align: right;\n",
       "    }\n",
       "</style>\n",
       "<table border=\"1\" class=\"dataframe\">\n",
       "  <thead>\n",
       "    <tr style=\"text-align: right;\">\n",
       "      <th></th>\n",
       "      <th>code</th>\n",
       "      <th>name</th>\n",
       "      <th>geometry</th>\n",
       "    </tr>\n",
       "  </thead>\n",
       "  <tbody>\n",
       "    <tr>\n",
       "      <th>0</th>\n",
       "      <td>005</td>\n",
       "      <td>Alajärvi</td>\n",
       "      <td>POLYGON ((366787.924 7001300.583, 364487.590 6...</td>\n",
       "    </tr>\n",
       "    <tr>\n",
       "      <th>1</th>\n",
       "      <td>009</td>\n",
       "      <td>Alavieska</td>\n",
       "      <td>POLYGON ((382543.364 7120022.976, 382899.505 7...</td>\n",
       "    </tr>\n",
       "    <tr>\n",
       "      <th>2</th>\n",
       "      <td>010</td>\n",
       "      <td>Alavus</td>\n",
       "      <td>POLYGON ((343298.204 6961570.195, 343831.847 6...</td>\n",
       "    </tr>\n",
       "    <tr>\n",
       "      <th>3</th>\n",
       "      <td>016</td>\n",
       "      <td>Asikkala</td>\n",
       "      <td>POLYGON ((436139.680 6798279.085, 435714.468 6...</td>\n",
       "    </tr>\n",
       "    <tr>\n",
       "      <th>4</th>\n",
       "      <td>018</td>\n",
       "      <td>Askola</td>\n",
       "      <td>POLYGON ((426631.036 6720528.076, 428821.749 6...</td>\n",
       "    </tr>\n",
       "  </tbody>\n",
       "</table>\n",
       "</div>"
      ],
      "text/plain": [
       "  code       name                                           geometry\n",
       "0  005   Alajärvi  POLYGON ((366787.924 7001300.583, 364487.590 6...\n",
       "1  009  Alavieska  POLYGON ((382543.364 7120022.976, 382899.505 7...\n",
       "2  010     Alavus  POLYGON ((343298.204 6961570.195, 343831.847 6...\n",
       "3  016   Asikkala  POLYGON ((436139.680 6798279.085, 435714.468 6...\n",
       "4  018     Askola  POLYGON ((426631.036 6720528.076, 428821.749 6..."
      ]
     },
     "execution_count": 6,
     "metadata": {},
     "output_type": "execute_result"
    }
   ],
   "source": [
    "geodata.head()"
   ]
  },
  {
   "cell_type": "code",
   "execution_count": 7,
   "id": "5ec10a24",
   "metadata": {},
   "outputs": [
    {
     "data": {
      "image/png": "[encoded data removed]",
      "text/plain": [
       "<Figure size 720x720 with 1 Axes>"
      ]
     },
     "metadata": {
      "needs_background": "light"
     },
     "output_type": "display_data"
    }
   ],
   "source": [
    "fig, ax = plt.subplots(figsize=(10, 10))\n",
    "geodata.plot(ax=ax)\n",
    "plt.axis('off')\n",
    "plt.tight_layout()"
   ]
  },
  {
   "cell_type": "code",
   "execution_count": 8,
   "id": "3dabc46b",
   "metadata": {},
   "outputs": [
    {
     "data": {
      "text/plain": [
       "code          object\n",
       "name          object\n",
       "geometry    geometry\n",
       "dtype: object"
      ]
     },
     "execution_count": 8,
     "metadata": {},
     "output_type": "execute_result"
    }
   ],
   "source": [
    "geodata.dtypes"
   ]
  },
  {
   "cell_type": "markdown",
   "id": "bb45e55a",
   "metadata": {},
   "source": [
    "- read excel data containing hospital districts finland"
   ]
  },
  {
   "cell_type": "code",
   "execution_count": 11,
   "id": "95484a7b",
   "metadata": {},
   "outputs": [],
   "source": [
    "hospital_data = pd.read_excel(r'data/Shp_jäsenkunnat_2020.xls', sheet_name='kunnat_shp_2020_ aakkosjärj.', header=3)"
   ]
  },
  {
   "cell_type": "code",
   "execution_count": 13,
   "id": "6a99c3ef",
   "metadata": {},
   "outputs": [
    {
     "data": {
      "text/html": [
       "<div>\n",
       "<style scoped>\n",
       "    .dataframe tbody tr th:only-of-type {\n",
       "        vertical-align: middle;\n",
       "    }\n",
       "\n",
       "    .dataframe tbody tr th {\n",
       "        vertical-align: top;\n",
       "    }\n",
       "\n",
       "    .dataframe thead th {\n",
       "        text-align: right;\n",
       "    }\n",
       "</style>\n",
       "<table border=\"1\" class=\"dataframe\">\n",
       "  <thead>\n",
       "    <tr style=\"text-align: right;\">\n",
       "      <th></th>\n",
       "      <th>kunta-\\nkoodi</th>\n",
       "      <th>kunta</th>\n",
       "      <th>shp:n koodi</th>\n",
       "      <th>sairaanhoitopiiri</th>\n",
       "      <th>erva-alue</th>\n",
       "      <th>kuntien lkm</th>\n",
       "    </tr>\n",
       "  </thead>\n",
       "  <tbody>\n",
       "    <tr>\n",
       "      <th>0</th>\n",
       "      <td>NaN</td>\n",
       "      <td>NaN</td>\n",
       "      <td>NaN</td>\n",
       "      <td>NaN</td>\n",
       "      <td>NaN</td>\n",
       "      <td>NaN</td>\n",
       "    </tr>\n",
       "    <tr>\n",
       "      <th>1</th>\n",
       "      <td>20.0</td>\n",
       "      <td>Akaa</td>\n",
       "      <td>6.0</td>\n",
       "      <td>Pirkanmaa</td>\n",
       "      <td>TAYS</td>\n",
       "      <td>1.0</td>\n",
       "    </tr>\n",
       "    <tr>\n",
       "      <th>2</th>\n",
       "      <td>5.0</td>\n",
       "      <td>Alajärvi</td>\n",
       "      <td>15.0</td>\n",
       "      <td>Etelä-Pohjanmaa</td>\n",
       "      <td>TAYS</td>\n",
       "      <td>2.0</td>\n",
       "    </tr>\n",
       "    <tr>\n",
       "      <th>3</th>\n",
       "      <td>9.0</td>\n",
       "      <td>Alavieska</td>\n",
       "      <td>18.0</td>\n",
       "      <td>Pohjois-Pohjanmaa</td>\n",
       "      <td>OYS</td>\n",
       "      <td>3.0</td>\n",
       "    </tr>\n",
       "    <tr>\n",
       "      <th>4</th>\n",
       "      <td>10.0</td>\n",
       "      <td>Alavus</td>\n",
       "      <td>15.0</td>\n",
       "      <td>Etelä-Pohjanmaa</td>\n",
       "      <td>TAYS</td>\n",
       "      <td>4.0</td>\n",
       "    </tr>\n",
       "  </tbody>\n",
       "</table>\n",
       "</div>"
      ],
      "text/plain": [
       "   kunta-\\nkoodi      kunta  shp:n koodi  sairaanhoitopiiri erva-alue  \\\n",
       "0            NaN        NaN          NaN                NaN       NaN   \n",
       "1           20.0       Akaa          6.0          Pirkanmaa      TAYS   \n",
       "2            5.0   Alajärvi         15.0    Etelä-Pohjanmaa      TAYS   \n",
       "3            9.0  Alavieska         18.0  Pohjois-Pohjanmaa       OYS   \n",
       "4           10.0     Alavus         15.0    Etelä-Pohjanmaa      TAYS   \n",
       "\n",
       "   kuntien lkm  \n",
       "0          NaN  \n",
       "1          1.0  \n",
       "2          2.0  \n",
       "3          3.0  \n",
       "4          4.0  "
      ]
     },
     "execution_count": 13,
     "metadata": {},
     "output_type": "execute_result"
    }
   ],
   "source": [
    "hospital_data.head()"
   ]
  },
  {
   "cell_type": "code",
   "execution_count": 14,
   "id": "cec2a006",
   "metadata": {},
   "outputs": [
    {
     "data": {
      "text/plain": [
       "295"
      ]
     },
     "execution_count": 14,
     "metadata": {},
     "output_type": "execute_result"
    }
   ],
   "source": [
    "len(hospital_data)"
   ]
  },
  {
   "cell_type": "code",
   "execution_count": 17,
   "id": "330958a8",
   "metadata": {},
   "outputs": [],
   "source": [
    "hospital_data.drop(0, inplace=True)"
   ]
  },
  {
   "cell_type": "code",
   "execution_count": 18,
   "id": "de965305",
   "metadata": {},
   "outputs": [
    {
     "data": {
      "text/html": [
       "<div>\n",
       "<style scoped>\n",
       "    .dataframe tbody tr th:only-of-type {\n",
       "        vertical-align: middle;\n",
       "    }\n",
       "\n",
       "    .dataframe tbody tr th {\n",
       "        vertical-align: top;\n",
       "    }\n",
       "\n",
       "    .dataframe thead th {\n",
       "        text-align: right;\n",
       "    }\n",
       "</style>\n",
       "<table border=\"1\" class=\"dataframe\">\n",
       "  <thead>\n",
       "    <tr style=\"text-align: right;\">\n",
       "      <th></th>\n",
       "      <th>kunta-\\nkoodi</th>\n",
       "      <th>kunta</th>\n",
       "      <th>shp:n koodi</th>\n",
       "      <th>sairaanhoitopiiri</th>\n",
       "      <th>erva-alue</th>\n",
       "      <th>kuntien lkm</th>\n",
       "    </tr>\n",
       "  </thead>\n",
       "  <tbody>\n",
       "    <tr>\n",
       "      <th>1</th>\n",
       "      <td>20.0</td>\n",
       "      <td>Akaa</td>\n",
       "      <td>6.0</td>\n",
       "      <td>Pirkanmaa</td>\n",
       "      <td>TAYS</td>\n",
       "      <td>1.0</td>\n",
       "    </tr>\n",
       "    <tr>\n",
       "      <th>2</th>\n",
       "      <td>5.0</td>\n",
       "      <td>Alajärvi</td>\n",
       "      <td>15.0</td>\n",
       "      <td>Etelä-Pohjanmaa</td>\n",
       "      <td>TAYS</td>\n",
       "      <td>2.0</td>\n",
       "    </tr>\n",
       "    <tr>\n",
       "      <th>3</th>\n",
       "      <td>9.0</td>\n",
       "      <td>Alavieska</td>\n",
       "      <td>18.0</td>\n",
       "      <td>Pohjois-Pohjanmaa</td>\n",
       "      <td>OYS</td>\n",
       "      <td>3.0</td>\n",
       "    </tr>\n",
       "    <tr>\n",
       "      <th>4</th>\n",
       "      <td>10.0</td>\n",
       "      <td>Alavus</td>\n",
       "      <td>15.0</td>\n",
       "      <td>Etelä-Pohjanmaa</td>\n",
       "      <td>TAYS</td>\n",
       "      <td>4.0</td>\n",
       "    </tr>\n",
       "    <tr>\n",
       "      <th>5</th>\n",
       "      <td>16.0</td>\n",
       "      <td>Asikkala</td>\n",
       "      <td>7.0</td>\n",
       "      <td>Päijät-Häme</td>\n",
       "      <td>HYKS</td>\n",
       "      <td>5.0</td>\n",
       "    </tr>\n",
       "  </tbody>\n",
       "</table>\n",
       "</div>"
      ],
      "text/plain": [
       "   kunta-\\nkoodi      kunta  shp:n koodi  sairaanhoitopiiri erva-alue  \\\n",
       "1           20.0       Akaa          6.0          Pirkanmaa      TAYS   \n",
       "2            5.0   Alajärvi         15.0    Etelä-Pohjanmaa      TAYS   \n",
       "3            9.0  Alavieska         18.0  Pohjois-Pohjanmaa       OYS   \n",
       "4           10.0     Alavus         15.0    Etelä-Pohjanmaa      TAYS   \n",
       "5           16.0   Asikkala          7.0        Päijät-Häme      HYKS   \n",
       "\n",
       "   kuntien lkm  \n",
       "1          1.0  \n",
       "2          2.0  \n",
       "3          3.0  \n",
       "4          4.0  \n",
       "5          5.0  "
      ]
     },
     "execution_count": 18,
     "metadata": {},
     "output_type": "execute_result"
    }
   ],
   "source": [
    "hospital_data.head()"
   ]
  },
  {
   "cell_type": "code",
   "execution_count": 19,
   "id": "4df4a6af",
   "metadata": {},
   "outputs": [
    {
     "data": {
      "text/html": [
       "<div>\n",
       "<style scoped>\n",
       "    .dataframe tbody tr th:only-of-type {\n",
       "        vertical-align: middle;\n",
       "    }\n",
       "\n",
       "    .dataframe tbody tr th {\n",
       "        vertical-align: top;\n",
       "    }\n",
       "\n",
       "    .dataframe thead th {\n",
       "        text-align: right;\n",
       "    }\n",
       "</style>\n",
       "<table border=\"1\" class=\"dataframe\">\n",
       "  <thead>\n",
       "    <tr style=\"text-align: right;\">\n",
       "      <th></th>\n",
       "      <th>kunta-\\nkoodi</th>\n",
       "      <th>kunta</th>\n",
       "      <th>shp:n koodi</th>\n",
       "      <th>sairaanhoitopiiri</th>\n",
       "      <th>erva-alue</th>\n",
       "      <th>kuntien lkm</th>\n",
       "    </tr>\n",
       "  </thead>\n",
       "  <tbody>\n",
       "    <tr>\n",
       "      <th>0</th>\n",
       "      <td>20.0</td>\n",
       "      <td>Akaa</td>\n",
       "      <td>6.0</td>\n",
       "      <td>Pirkanmaa</td>\n",
       "      <td>TAYS</td>\n",
       "      <td>1.0</td>\n",
       "    </tr>\n",
       "    <tr>\n",
       "      <th>1</th>\n",
       "      <td>5.0</td>\n",
       "      <td>Alajärvi</td>\n",
       "      <td>15.0</td>\n",
       "      <td>Etelä-Pohjanmaa</td>\n",
       "      <td>TAYS</td>\n",
       "      <td>2.0</td>\n",
       "    </tr>\n",
       "    <tr>\n",
       "      <th>2</th>\n",
       "      <td>9.0</td>\n",
       "      <td>Alavieska</td>\n",
       "      <td>18.0</td>\n",
       "      <td>Pohjois-Pohjanmaa</td>\n",
       "      <td>OYS</td>\n",
       "      <td>3.0</td>\n",
       "    </tr>\n",
       "    <tr>\n",
       "      <th>3</th>\n",
       "      <td>10.0</td>\n",
       "      <td>Alavus</td>\n",
       "      <td>15.0</td>\n",
       "      <td>Etelä-Pohjanmaa</td>\n",
       "      <td>TAYS</td>\n",
       "      <td>4.0</td>\n",
       "    </tr>\n",
       "    <tr>\n",
       "      <th>4</th>\n",
       "      <td>16.0</td>\n",
       "      <td>Asikkala</td>\n",
       "      <td>7.0</td>\n",
       "      <td>Päijät-Häme</td>\n",
       "      <td>HYKS</td>\n",
       "      <td>5.0</td>\n",
       "    </tr>\n",
       "  </tbody>\n",
       "</table>\n",
       "</div>"
      ],
      "text/plain": [
       "   kunta-\\nkoodi      kunta  shp:n koodi  sairaanhoitopiiri erva-alue  \\\n",
       "0           20.0       Akaa          6.0          Pirkanmaa      TAYS   \n",
       "1            5.0   Alajärvi         15.0    Etelä-Pohjanmaa      TAYS   \n",
       "2            9.0  Alavieska         18.0  Pohjois-Pohjanmaa       OYS   \n",
       "3           10.0     Alavus         15.0    Etelä-Pohjanmaa      TAYS   \n",
       "4           16.0   Asikkala          7.0        Päijät-Häme      HYKS   \n",
       "\n",
       "   kuntien lkm  \n",
       "0          1.0  \n",
       "1          2.0  \n",
       "2          3.0  \n",
       "3          4.0  \n",
       "4          5.0  "
      ]
     },
     "execution_count": 19,
     "metadata": {},
     "output_type": "execute_result"
    }
   ],
   "source": [
    "hospital_data.reset_index(drop=True, inplace=True)\n",
    "hospital_data.head()"
   ]
  },
  {
   "cell_type": "code",
   "execution_count": 21,
   "id": "0edb9283",
   "metadata": {},
   "outputs": [
    {
     "data": {
      "text/html": [
       "<div>\n",
       "<style scoped>\n",
       "    .dataframe tbody tr th:only-of-type {\n",
       "        vertical-align: middle;\n",
       "    }\n",
       "\n",
       "    .dataframe tbody tr th {\n",
       "        vertical-align: top;\n",
       "    }\n",
       "\n",
       "    .dataframe thead th {\n",
       "        text-align: right;\n",
       "    }\n",
       "</style>\n",
       "<table border=\"1\" class=\"dataframe\">\n",
       "  <thead>\n",
       "    <tr style=\"text-align: right;\">\n",
       "      <th></th>\n",
       "      <th>code</th>\n",
       "      <th>kunta</th>\n",
       "      <th>shp:n koodi</th>\n",
       "      <th>healthCareDistrict</th>\n",
       "      <th>erva-alue</th>\n",
       "      <th>kuntien lkm</th>\n",
       "    </tr>\n",
       "  </thead>\n",
       "  <tbody>\n",
       "    <tr>\n",
       "      <th>0</th>\n",
       "      <td>20.0</td>\n",
       "      <td>Akaa</td>\n",
       "      <td>6.0</td>\n",
       "      <td>Pirkanmaa</td>\n",
       "      <td>TAYS</td>\n",
       "      <td>1.0</td>\n",
       "    </tr>\n",
       "    <tr>\n",
       "      <th>1</th>\n",
       "      <td>5.0</td>\n",
       "      <td>Alajärvi</td>\n",
       "      <td>15.0</td>\n",
       "      <td>Etelä-Pohjanmaa</td>\n",
       "      <td>TAYS</td>\n",
       "      <td>2.0</td>\n",
       "    </tr>\n",
       "    <tr>\n",
       "      <th>2</th>\n",
       "      <td>9.0</td>\n",
       "      <td>Alavieska</td>\n",
       "      <td>18.0</td>\n",
       "      <td>Pohjois-Pohjanmaa</td>\n",
       "      <td>OYS</td>\n",
       "      <td>3.0</td>\n",
       "    </tr>\n",
       "    <tr>\n",
       "      <th>3</th>\n",
       "      <td>10.0</td>\n",
       "      <td>Alavus</td>\n",
       "      <td>15.0</td>\n",
       "      <td>Etelä-Pohjanmaa</td>\n",
       "      <td>TAYS</td>\n",
       "      <td>4.0</td>\n",
       "    </tr>\n",
       "    <tr>\n",
       "      <th>4</th>\n",
       "      <td>16.0</td>\n",
       "      <td>Asikkala</td>\n",
       "      <td>7.0</td>\n",
       "      <td>Päijät-Häme</td>\n",
       "      <td>HYKS</td>\n",
       "      <td>5.0</td>\n",
       "    </tr>\n",
       "  </tbody>\n",
       "</table>\n",
       "</div>"
      ],
      "text/plain": [
       "   code      kunta  shp:n koodi healthCareDistrict erva-alue  kuntien lkm\n",
       "0  20.0       Akaa          6.0          Pirkanmaa      TAYS          1.0\n",
       "1   5.0   Alajärvi         15.0    Etelä-Pohjanmaa      TAYS          2.0\n",
       "2   9.0  Alavieska         18.0  Pohjois-Pohjanmaa       OYS          3.0\n",
       "3  10.0     Alavus         15.0    Etelä-Pohjanmaa      TAYS          4.0\n",
       "4  16.0   Asikkala          7.0        Päijät-Häme      HYKS          5.0"
      ]
     },
     "execution_count": 21,
     "metadata": {},
     "output_type": "execute_result"
    }
   ],
   "source": [
    "hospital_data.rename(columns={'kunta-\\nkoodi': 'code', 'sairaanhoitopiiri': 'healthCareDistrict'}, inplace=True)\n",
    "hospital_data.head()"
   ]
  },
  {
   "cell_type": "code",
   "execution_count": 22,
   "id": "6279e1e1",
   "metadata": {},
   "outputs": [
    {
     "data": {
      "text/html": [
       "<div>\n",
       "<style scoped>\n",
       "    .dataframe tbody tr th:only-of-type {\n",
       "        vertical-align: middle;\n",
       "    }\n",
       "\n",
       "    .dataframe tbody tr th {\n",
       "        vertical-align: top;\n",
       "    }\n",
       "\n",
       "    .dataframe thead th {\n",
       "        text-align: right;\n",
       "    }\n",
       "</style>\n",
       "<table border=\"1\" class=\"dataframe\">\n",
       "  <thead>\n",
       "    <tr style=\"text-align: right;\">\n",
       "      <th></th>\n",
       "      <th>code</th>\n",
       "      <th>healthCareDistrict</th>\n",
       "    </tr>\n",
       "  </thead>\n",
       "  <tbody>\n",
       "    <tr>\n",
       "      <th>0</th>\n",
       "      <td>20.0</td>\n",
       "      <td>Pirkanmaa</td>\n",
       "    </tr>\n",
       "    <tr>\n",
       "      <th>1</th>\n",
       "      <td>5.0</td>\n",
       "      <td>Etelä-Pohjanmaa</td>\n",
       "    </tr>\n",
       "    <tr>\n",
       "      <th>2</th>\n",
       "      <td>9.0</td>\n",
       "      <td>Pohjois-Pohjanmaa</td>\n",
       "    </tr>\n",
       "    <tr>\n",
       "      <th>3</th>\n",
       "      <td>10.0</td>\n",
       "      <td>Etelä-Pohjanmaa</td>\n",
       "    </tr>\n",
       "    <tr>\n",
       "      <th>4</th>\n",
       "      <td>16.0</td>\n",
       "      <td>Päijät-Häme</td>\n",
       "    </tr>\n",
       "  </tbody>\n",
       "</table>\n",
       "</div>"
      ],
      "text/plain": [
       "   code healthCareDistrict\n",
       "0  20.0          Pirkanmaa\n",
       "1   5.0    Etelä-Pohjanmaa\n",
       "2   9.0  Pohjois-Pohjanmaa\n",
       "3  10.0    Etelä-Pohjanmaa\n",
       "4  16.0        Päijät-Häme"
      ]
     },
     "execution_count": 22,
     "metadata": {},
     "output_type": "execute_result"
    }
   ],
   "source": [
    "hospital_data = hospital_data[['code', 'healthCareDistrict']]\n",
    "hospital_data.head()"
   ]
  },
  {
   "cell_type": "code",
   "execution_count": 23,
   "id": "40c11d3f",
   "metadata": {},
   "outputs": [
    {
     "data": {
      "text/plain": [
       "294"
      ]
     },
     "execution_count": 23,
     "metadata": {},
     "output_type": "execute_result"
    }
   ],
   "source": [
    "len(hospital_data)"
   ]
  },
  {
   "cell_type": "code",
   "execution_count": 25,
   "id": "be445fc0",
   "metadata": {},
   "outputs": [
    {
     "data": {
      "text/plain": [
       "code                  float64\n",
       "healthCareDistrict     object\n",
       "dtype: object"
      ]
     },
     "execution_count": 25,
     "metadata": {},
     "output_type": "execute_result"
    }
   ],
   "source": [
    "hospital_data.dtypes"
   ]
  },
  {
   "cell_type": "markdown",
   "id": "257d3052",
   "metadata": {},
   "source": [
    "- convert the code data type to `str` and `zfill` to 3 characters"
   ]
  },
  {
   "cell_type": "code",
   "execution_count": 26,
   "id": "6b4fe941",
   "metadata": {},
   "outputs": [
    {
     "name": "stderr",
     "output_type": "stream",
     "text": [
      "C:\\Users\\big yeti\\AppData\\Local\\Temp\\ipykernel_6672\\726556260.py:1: SettingWithCopyWarning: \n",
      "A value is trying to be set on a copy of a slice from a DataFrame.\n",
      "Try using .loc[row_indexer,col_indexer] = value instead\n",
      "\n",
      "See the caveats in the documentation: https://pandas.pydata.org/pandas-docs/stable/user_guide/indexing.html#returning-a-view-versus-a-copy\n",
      "  hospital_data['code'] = hospital_data['code'].astype(int).astype('str')\n",
      "C:\\Users\\big yeti\\AppData\\Local\\Temp\\ipykernel_6672\\726556260.py:2: SettingWithCopyWarning: \n",
      "A value is trying to be set on a copy of a slice from a DataFrame.\n",
      "Try using .loc[row_indexer,col_indexer] = value instead\n",
      "\n",
      "See the caveats in the documentation: https://pandas.pydata.org/pandas-docs/stable/user_guide/indexing.html#returning-a-view-versus-a-copy\n",
      "  hospital_data['code'] = hospital_data['code'].str.zfill(3)\n"
     ]
    },
    {
     "data": {
      "text/html": [
       "<div>\n",
       "<style scoped>\n",
       "    .dataframe tbody tr th:only-of-type {\n",
       "        vertical-align: middle;\n",
       "    }\n",
       "\n",
       "    .dataframe tbody tr th {\n",
       "        vertical-align: top;\n",
       "    }\n",
       "\n",
       "    .dataframe thead th {\n",
       "        text-align: right;\n",
       "    }\n",
       "</style>\n",
       "<table border=\"1\" class=\"dataframe\">\n",
       "  <thead>\n",
       "    <tr style=\"text-align: right;\">\n",
       "      <th></th>\n",
       "      <th>code</th>\n",
       "      <th>healthCareDistrict</th>\n",
       "    </tr>\n",
       "  </thead>\n",
       "  <tbody>\n",
       "    <tr>\n",
       "      <th>0</th>\n",
       "      <td>020</td>\n",
       "      <td>Pirkanmaa</td>\n",
       "    </tr>\n",
       "    <tr>\n",
       "      <th>1</th>\n",
       "      <td>005</td>\n",
       "      <td>Etelä-Pohjanmaa</td>\n",
       "    </tr>\n",
       "    <tr>\n",
       "      <th>2</th>\n",
       "      <td>009</td>\n",
       "      <td>Pohjois-Pohjanmaa</td>\n",
       "    </tr>\n",
       "    <tr>\n",
       "      <th>3</th>\n",
       "      <td>010</td>\n",
       "      <td>Etelä-Pohjanmaa</td>\n",
       "    </tr>\n",
       "    <tr>\n",
       "      <th>4</th>\n",
       "      <td>016</td>\n",
       "      <td>Päijät-Häme</td>\n",
       "    </tr>\n",
       "  </tbody>\n",
       "</table>\n",
       "</div>"
      ],
      "text/plain": [
       "  code healthCareDistrict\n",
       "0  020          Pirkanmaa\n",
       "1  005    Etelä-Pohjanmaa\n",
       "2  009  Pohjois-Pohjanmaa\n",
       "3  010    Etelä-Pohjanmaa\n",
       "4  016        Päijät-Häme"
      ]
     },
     "execution_count": 26,
     "metadata": {},
     "output_type": "execute_result"
    }
   ],
   "source": [
    "hospital_data['code'] = hospital_data['code'].astype(int).astype('str')\n",
    "hospital_data['code'] = hospital_data['code'].str.zfill(3)\n",
    "hospital_data.head()"
   ]
  },
  {
   "cell_type": "markdown",
   "id": "6c954bb3",
   "metadata": {},
   "source": [
    "- merge health district info to the municipality"
   ]
  },
  {
   "cell_type": "code",
   "execution_count": 29,
   "id": "365ad41b",
   "metadata": {},
   "outputs": [
    {
     "data": {
      "text/html": [
       "<div>\n",
       "<style scoped>\n",
       "    .dataframe tbody tr th:only-of-type {\n",
       "        vertical-align: middle;\n",
       "    }\n",
       "\n",
       "    .dataframe tbody tr th {\n",
       "        vertical-align: top;\n",
       "    }\n",
       "\n",
       "    .dataframe thead th {\n",
       "        text-align: right;\n",
       "    }\n",
       "</style>\n",
       "<table border=\"1\" class=\"dataframe\">\n",
       "  <thead>\n",
       "    <tr style=\"text-align: right;\">\n",
       "      <th></th>\n",
       "      <th>code</th>\n",
       "      <th>name</th>\n",
       "      <th>geometry</th>\n",
       "      <th>healthCareDistrict</th>\n",
       "    </tr>\n",
       "  </thead>\n",
       "  <tbody>\n",
       "    <tr>\n",
       "      <th>0</th>\n",
       "      <td>005</td>\n",
       "      <td>Alajärvi</td>\n",
       "      <td>POLYGON ((366787.924 7001300.583, 364487.590 6...</td>\n",
       "      <td>Etelä-Pohjanmaa</td>\n",
       "    </tr>\n",
       "    <tr>\n",
       "      <th>1</th>\n",
       "      <td>009</td>\n",
       "      <td>Alavieska</td>\n",
       "      <td>POLYGON ((382543.364 7120022.976, 382899.505 7...</td>\n",
       "      <td>Pohjois-Pohjanmaa</td>\n",
       "    </tr>\n",
       "    <tr>\n",
       "      <th>2</th>\n",
       "      <td>010</td>\n",
       "      <td>Alavus</td>\n",
       "      <td>POLYGON ((343298.204 6961570.195, 343831.847 6...</td>\n",
       "      <td>Etelä-Pohjanmaa</td>\n",
       "    </tr>\n",
       "    <tr>\n",
       "      <th>3</th>\n",
       "      <td>016</td>\n",
       "      <td>Asikkala</td>\n",
       "      <td>POLYGON ((436139.680 6798279.085, 435714.468 6...</td>\n",
       "      <td>Päijät-Häme</td>\n",
       "    </tr>\n",
       "    <tr>\n",
       "      <th>4</th>\n",
       "      <td>018</td>\n",
       "      <td>Askola</td>\n",
       "      <td>POLYGON ((426631.036 6720528.076, 428821.749 6...</td>\n",
       "      <td>HUS</td>\n",
       "    </tr>\n",
       "    <tr>\n",
       "      <th>...</th>\n",
       "      <td>...</td>\n",
       "      <td>...</td>\n",
       "      <td>...</td>\n",
       "      <td>...</td>\n",
       "    </tr>\n",
       "    <tr>\n",
       "      <th>304</th>\n",
       "      <td>977</td>\n",
       "      <td>Ylivieska</td>\n",
       "      <td>POLYGON ((398010.991 7110887.267, 399696.069 7...</td>\n",
       "      <td>Pohjois-Pohjanmaa</td>\n",
       "    </tr>\n",
       "    <tr>\n",
       "      <th>305</th>\n",
       "      <td>980</td>\n",
       "      <td>Ylöjärvi</td>\n",
       "      <td>POLYGON ((313738.511 6896936.100, 319421.316 6...</td>\n",
       "      <td>Pirkanmaa</td>\n",
       "    </tr>\n",
       "    <tr>\n",
       "      <th>306</th>\n",
       "      <td>981</td>\n",
       "      <td>Ypäjä</td>\n",
       "      <td>POLYGON ((297451.456 6756204.328, 297931.884 6...</td>\n",
       "      <td>Kanta-Häme</td>\n",
       "    </tr>\n",
       "    <tr>\n",
       "      <th>307</th>\n",
       "      <td>989</td>\n",
       "      <td>Ähtäri</td>\n",
       "      <td>POLYGON ((348733.187 6959704.551, 349457.337 6...</td>\n",
       "      <td>Etelä-Pohjanmaa</td>\n",
       "    </tr>\n",
       "    <tr>\n",
       "      <th>308</th>\n",
       "      <td>992</td>\n",
       "      <td>Äänekoski</td>\n",
       "      <td>POLYGON ((452626.858 6973610.366, 457542.012 6...</td>\n",
       "      <td>Keski-Suomi</td>\n",
       "    </tr>\n",
       "  </tbody>\n",
       "</table>\n",
       "<p>309 rows × 4 columns</p>\n",
       "</div>"
      ],
      "text/plain": [
       "    code       name                                           geometry  \\\n",
       "0    005   Alajärvi  POLYGON ((366787.924 7001300.583, 364487.590 6...   \n",
       "1    009  Alavieska  POLYGON ((382543.364 7120022.976, 382899.505 7...   \n",
       "2    010     Alavus  POLYGON ((343298.204 6961570.195, 343831.847 6...   \n",
       "3    016   Asikkala  POLYGON ((436139.680 6798279.085, 435714.468 6...   \n",
       "4    018     Askola  POLYGON ((426631.036 6720528.076, 428821.749 6...   \n",
       "..   ...        ...                                                ...   \n",
       "304  977  Ylivieska  POLYGON ((398010.991 7110887.267, 399696.069 7...   \n",
       "305  980   Ylöjärvi  POLYGON ((313738.511 6896936.100, 319421.316 6...   \n",
       "306  981      Ypäjä  POLYGON ((297451.456 6756204.328, 297931.884 6...   \n",
       "307  989     Ähtäri  POLYGON ((348733.187 6959704.551, 349457.337 6...   \n",
       "308  992  Äänekoski  POLYGON ((452626.858 6973610.366, 457542.012 6...   \n",
       "\n",
       "    healthCareDistrict  \n",
       "0      Etelä-Pohjanmaa  \n",
       "1    Pohjois-Pohjanmaa  \n",
       "2      Etelä-Pohjanmaa  \n",
       "3          Päijät-Häme  \n",
       "4                  HUS  \n",
       "..                 ...  \n",
       "304  Pohjois-Pohjanmaa  \n",
       "305          Pirkanmaa  \n",
       "306         Kanta-Häme  \n",
       "307    Etelä-Pohjanmaa  \n",
       "308        Keski-Suomi  \n",
       "\n",
       "[309 rows x 4 columns]"
      ]
     },
     "execution_count": 29,
     "metadata": {},
     "output_type": "execute_result"
    }
   ],
   "source": [
    "geodata = geodata.merge(hospital_data, on='code', how='left')\n",
    "geodata"
   ]
  },
  {
   "cell_type": "code",
   "execution_count": 30,
   "id": "fa51bcab",
   "metadata": {},
   "outputs": [
    {
     "data": {
      "text/plain": [
       "7          Brändö\n",
       "8          Eckerö\n",
       "15       Finström\n",
       "17          Föglö\n",
       "18           Geta\n",
       "24     Hammarland\n",
       "57         Jomala\n",
       "111      Kumlinge\n",
       "121         Kökar\n",
       "134       Lemland\n",
       "147    Lumparland\n",
       "153     Mariehamn\n",
       "236       Saltvik\n",
       "254      Sottunga\n",
       "256          Sund\n",
       "301         Vårdö\n",
       "Name: name, dtype: object"
      ]
     },
     "execution_count": 30,
     "metadata": {},
     "output_type": "execute_result"
    }
   ],
   "source": [
    "# List all municipalities that lack health district info:\n",
    "geodata[geodata[\"healthCareDistrict\"].isnull()].name"
   ]
  },
  {
   "cell_type": "code",
   "execution_count": 31,
   "id": "4869b33e",
   "metadata": {},
   "outputs": [],
   "source": [
    "# Update \"Ahvenanmaa\" as the health care district for Åland municipalities (16 municipalities in total)\n",
    "geodata.loc[geodata[\"healthCareDistrict\"].isnull(), \"healthCareDistrict\"] = \"Ahvenanmaa\""
   ]
  },
  {
   "cell_type": "markdown",
   "id": "b59ff164",
   "metadata": {},
   "source": [
    "- Check the count of municipalities per health care disctrict"
   ]
  },
  {
   "cell_type": "code",
   "execution_count": 32,
   "id": "b126b7a6",
   "metadata": {},
   "outputs": [
    {
     "data": {
      "text/plain": [
       "Pohjois-Pohjanmaa    29\n",
       "Varsinais-Suomi      28\n",
       "HUS                  24\n",
       "Pirkanmaa            23\n",
       "Keski-Suomi          21\n",
       "Etelä-Pohjanmaa      18\n",
       "Pohjois-Savo         18\n",
       "Ahvenanmaa           16\n",
       "Satakunta            16\n",
       "Lappi                15\n",
       "Vaasa                13\n",
       "Pohjois-Karjala      13\n",
       "Päijät-Häme          12\n",
       "Kanta-Häme           11\n",
       "Keski-Pohjanmaa      10\n",
       "Etelä-Savo            9\n",
       "Etelä-Karjala         9\n",
       "Kainuu                8\n",
       "Kymenlaakso           6\n",
       "Länsi-Pohja           6\n",
       "Itä-Savo              4\n",
       "Name: healthCareDistrict, dtype: int64"
      ]
     },
     "execution_count": 32,
     "metadata": {},
     "output_type": "execute_result"
    }
   ],
   "source": [
    "geodata['healthCareDistrict'].value_counts()"
   ]
  },
  {
   "cell_type": "markdown",
   "id": "76d1e12f",
   "metadata": {},
   "source": [
    "#### create polygons for health care districts"
   ]
  },
  {
   "cell_type": "code",
   "execution_count": 33,
   "id": "6b83ad45",
   "metadata": {},
   "outputs": [],
   "source": [
    "# Dissolve (=combine) municipality polygon geometries for each health care district\n",
    "districts = geodata.dissolve(by='healthCareDistrict')"
   ]
  },
  {
   "cell_type": "code",
   "execution_count": 34,
   "id": "6a9698eb",
   "metadata": {},
   "outputs": [],
   "source": [
    "districts.reset_index(inplace=True)"
   ]
  },
  {
   "cell_type": "code",
   "execution_count": 35,
   "id": "6fb1e40b",
   "metadata": {},
   "outputs": [
    {
     "data": {
      "text/html": [
       "<div>\n",
       "<style scoped>\n",
       "    .dataframe tbody tr th:only-of-type {\n",
       "        vertical-align: middle;\n",
       "    }\n",
       "\n",
       "    .dataframe tbody tr th {\n",
       "        vertical-align: top;\n",
       "    }\n",
       "\n",
       "    .dataframe thead th {\n",
       "        text-align: right;\n",
       "    }\n",
       "</style>\n",
       "<table border=\"1\" class=\"dataframe\">\n",
       "  <thead>\n",
       "    <tr style=\"text-align: right;\">\n",
       "      <th></th>\n",
       "      <th>healthCareDistrict</th>\n",
       "      <th>geometry</th>\n",
       "      <th>code</th>\n",
       "      <th>name</th>\n",
       "    </tr>\n",
       "  </thead>\n",
       "  <tbody>\n",
       "    <tr>\n",
       "      <th>0</th>\n",
       "      <td>Ahvenanmaa</td>\n",
       "      <td>MULTIPOLYGON (((173277.623 6640282.925, 173136...</td>\n",
       "      <td>035</td>\n",
       "      <td>Brändö</td>\n",
       "    </tr>\n",
       "    <tr>\n",
       "      <th>1</th>\n",
       "      <td>Etelä-Karjala</td>\n",
       "      <td>POLYGON ((595843.841 6772915.996, 592557.900 6...</td>\n",
       "      <td>153</td>\n",
       "      <td>Imatra</td>\n",
       "    </tr>\n",
       "    <tr>\n",
       "      <th>2</th>\n",
       "      <td>Etelä-Pohjanmaa</td>\n",
       "      <td>POLYGON ((249539.259 6894974.367, 244232.829 6...</td>\n",
       "      <td>005</td>\n",
       "      <td>Alajärvi</td>\n",
       "    </tr>\n",
       "    <tr>\n",
       "      <th>3</th>\n",
       "      <td>Etelä-Savo</td>\n",
       "      <td>POLYGON ((596327.952 6823806.064, 596718.363 6...</td>\n",
       "      <td>097</td>\n",
       "      <td>Hirvensalmi</td>\n",
       "    </tr>\n",
       "    <tr>\n",
       "      <th>4</th>\n",
       "      <td>HUS</td>\n",
       "      <td>MULTIPOLYGON (((272609.681 6632304.439, 272418...</td>\n",
       "      <td>018</td>\n",
       "      <td>Askola</td>\n",
       "    </tr>\n",
       "  </tbody>\n",
       "</table>\n",
       "</div>"
      ],
      "text/plain": [
       "  healthCareDistrict                                           geometry code  \\\n",
       "0         Ahvenanmaa  MULTIPOLYGON (((173277.623 6640282.925, 173136...  035   \n",
       "1      Etelä-Karjala  POLYGON ((595843.841 6772915.996, 592557.900 6...  153   \n",
       "2    Etelä-Pohjanmaa  POLYGON ((249539.259 6894974.367, 244232.829 6...  005   \n",
       "3         Etelä-Savo  POLYGON ((596327.952 6823806.064, 596718.363 6...  097   \n",
       "4                HUS  MULTIPOLYGON (((272609.681 6632304.439, 272418...  018   \n",
       "\n",
       "          name  \n",
       "0       Brändö  \n",
       "1       Imatra  \n",
       "2     Alajärvi  \n",
       "3  Hirvensalmi  \n",
       "4       Askola  "
      ]
     },
     "execution_count": 35,
     "metadata": {},
     "output_type": "execute_result"
    }
   ],
   "source": [
    "districts.head()"
   ]
  },
  {
   "cell_type": "code",
   "execution_count": 36,
   "id": "3d83fdc2",
   "metadata": {},
   "outputs": [
    {
     "data": {
      "text/html": [
       "<div>\n",
       "<style scoped>\n",
       "    .dataframe tbody tr th:only-of-type {\n",
       "        vertical-align: middle;\n",
       "    }\n",
       "\n",
       "    .dataframe tbody tr th {\n",
       "        vertical-align: top;\n",
       "    }\n",
       "\n",
       "    .dataframe thead th {\n",
       "        text-align: right;\n",
       "    }\n",
       "</style>\n",
       "<table border=\"1\" class=\"dataframe\">\n",
       "  <thead>\n",
       "    <tr style=\"text-align: right;\">\n",
       "      <th></th>\n",
       "      <th>healthCareDistrict</th>\n",
       "      <th>geometry</th>\n",
       "    </tr>\n",
       "  </thead>\n",
       "  <tbody>\n",
       "    <tr>\n",
       "      <th>0</th>\n",
       "      <td>Ahvenanmaa</td>\n",
       "      <td>MULTIPOLYGON (((173277.623 6640282.925, 173136...</td>\n",
       "    </tr>\n",
       "    <tr>\n",
       "      <th>1</th>\n",
       "      <td>Etelä-Karjala</td>\n",
       "      <td>POLYGON ((595843.841 6772915.996, 592557.900 6...</td>\n",
       "    </tr>\n",
       "    <tr>\n",
       "      <th>2</th>\n",
       "      <td>Etelä-Pohjanmaa</td>\n",
       "      <td>POLYGON ((249539.259 6894974.367, 244232.829 6...</td>\n",
       "    </tr>\n",
       "    <tr>\n",
       "      <th>3</th>\n",
       "      <td>Etelä-Savo</td>\n",
       "      <td>POLYGON ((596327.952 6823806.064, 596718.363 6...</td>\n",
       "    </tr>\n",
       "    <tr>\n",
       "      <th>4</th>\n",
       "      <td>HUS</td>\n",
       "      <td>MULTIPOLYGON (((272609.681 6632304.439, 272418...</td>\n",
       "    </tr>\n",
       "    <tr>\n",
       "      <th>5</th>\n",
       "      <td>Itä-Savo</td>\n",
       "      <td>POLYGON ((572240.425 6898837.522, 576521.513 6...</td>\n",
       "    </tr>\n",
       "    <tr>\n",
       "      <th>6</th>\n",
       "      <td>Kainuu</td>\n",
       "      <td>POLYGON ((606127.874 7081796.115, 603849.594 7...</td>\n",
       "    </tr>\n",
       "    <tr>\n",
       "      <th>7</th>\n",
       "      <td>Kanta-Häme</td>\n",
       "      <td>POLYGON ((393094.362 6756355.692, 394102.316 6...</td>\n",
       "    </tr>\n",
       "    <tr>\n",
       "      <th>8</th>\n",
       "      <td>Keski-Pohjanmaa</td>\n",
       "      <td>MULTIPOLYGON (((302835.219 7083897.220, 302801...</td>\n",
       "    </tr>\n",
       "    <tr>\n",
       "      <th>9</th>\n",
       "      <td>Keski-Suomi</td>\n",
       "      <td>POLYGON ((439110.805 6852598.036, 439300.113 6...</td>\n",
       "    </tr>\n",
       "    <tr>\n",
       "      <th>10</th>\n",
       "      <td>Kymenlaakso</td>\n",
       "      <td>MULTIPOLYGON (((501532.450 6680088.052, 501352...</td>\n",
       "    </tr>\n",
       "    <tr>\n",
       "      <th>11</th>\n",
       "      <td>Lappi</td>\n",
       "      <td>POLYGON ((518535.957 7313104.574, 515335.969 7...</td>\n",
       "    </tr>\n",
       "    <tr>\n",
       "      <th>12</th>\n",
       "      <td>Länsi-Pohja</td>\n",
       "      <td>MULTIPOLYGON (((399348.710 7271646.236, 399096...</td>\n",
       "    </tr>\n",
       "    <tr>\n",
       "      <th>13</th>\n",
       "      <td>Pirkanmaa</td>\n",
       "      <td>POLYGON ((324952.559 6773513.092, 327451.427 6...</td>\n",
       "    </tr>\n",
       "    <tr>\n",
       "      <th>14</th>\n",
       "      <td>Pohjois-Karjala</td>\n",
       "      <td>POLYGON ((681990.187 6886181.668, 680094.200 6...</td>\n",
       "    </tr>\n",
       "    <tr>\n",
       "      <th>15</th>\n",
       "      <td>Pohjois-Pohjanmaa</td>\n",
       "      <td>MULTIPOLYGON (((462785.501 7079521.042, 461527...</td>\n",
       "    </tr>\n",
       "    <tr>\n",
       "      <th>16</th>\n",
       "      <td>Pohjois-Savo</td>\n",
       "      <td>POLYGON ((568071.215 6914370.703, 570686.991 6...</td>\n",
       "    </tr>\n",
       "    <tr>\n",
       "      <th>17</th>\n",
       "      <td>Päijät-Häme</td>\n",
       "      <td>POLYGON ((441787.770 6730507.194, 442140.745 6...</td>\n",
       "    </tr>\n",
       "    <tr>\n",
       "      <th>18</th>\n",
       "      <td>Satakunta</td>\n",
       "      <td>MULTIPOLYGON (((198569.146 6782909.960, 198622...</td>\n",
       "    </tr>\n",
       "    <tr>\n",
       "      <th>19</th>\n",
       "      <td>Vaasa</td>\n",
       "      <td>MULTIPOLYGON (((200371.753 6892181.697, 200360...</td>\n",
       "    </tr>\n",
       "    <tr>\n",
       "      <th>20</th>\n",
       "      <td>Varsinais-Suomi</td>\n",
       "      <td>MULTIPOLYGON (((258767.605 6632338.388, 258668...</td>\n",
       "    </tr>\n",
       "  </tbody>\n",
       "</table>\n",
       "</div>"
      ],
      "text/plain": [
       "   healthCareDistrict                                           geometry\n",
       "0          Ahvenanmaa  MULTIPOLYGON (((173277.623 6640282.925, 173136...\n",
       "1       Etelä-Karjala  POLYGON ((595843.841 6772915.996, 592557.900 6...\n",
       "2     Etelä-Pohjanmaa  POLYGON ((249539.259 6894974.367, 244232.829 6...\n",
       "3          Etelä-Savo  POLYGON ((596327.952 6823806.064, 596718.363 6...\n",
       "4                 HUS  MULTIPOLYGON (((272609.681 6632304.439, 272418...\n",
       "5            Itä-Savo  POLYGON ((572240.425 6898837.522, 576521.513 6...\n",
       "6              Kainuu  POLYGON ((606127.874 7081796.115, 603849.594 7...\n",
       "7          Kanta-Häme  POLYGON ((393094.362 6756355.692, 394102.316 6...\n",
       "8     Keski-Pohjanmaa  MULTIPOLYGON (((302835.219 7083897.220, 302801...\n",
       "9         Keski-Suomi  POLYGON ((439110.805 6852598.036, 439300.113 6...\n",
       "10        Kymenlaakso  MULTIPOLYGON (((501532.450 6680088.052, 501352...\n",
       "11              Lappi  POLYGON ((518535.957 7313104.574, 515335.969 7...\n",
       "12        Länsi-Pohja  MULTIPOLYGON (((399348.710 7271646.236, 399096...\n",
       "13          Pirkanmaa  POLYGON ((324952.559 6773513.092, 327451.427 6...\n",
       "14    Pohjois-Karjala  POLYGON ((681990.187 6886181.668, 680094.200 6...\n",
       "15  Pohjois-Pohjanmaa  MULTIPOLYGON (((462785.501 7079521.042, 461527...\n",
       "16       Pohjois-Savo  POLYGON ((568071.215 6914370.703, 570686.991 6...\n",
       "17        Päijät-Häme  POLYGON ((441787.770 6730507.194, 442140.745 6...\n",
       "18          Satakunta  MULTIPOLYGON (((198569.146 6782909.960, 198622...\n",
       "19              Vaasa  MULTIPOLYGON (((200371.753 6892181.697, 200360...\n",
       "20    Varsinais-Suomi  MULTIPOLYGON (((258767.605 6632338.388, 258668..."
      ]
     },
     "execution_count": 36,
     "metadata": {},
     "output_type": "execute_result"
    }
   ],
   "source": [
    "districts = districts[['healthCareDistrict', 'geometry']]\n",
    "districts"
   ]
  },
  {
   "cell_type": "code",
   "execution_count": 56,
   "id": "2b285000",
   "metadata": {},
   "outputs": [
    {
     "data": {
      "image/png": "[encoded data removed]",
      "text/plain": [
       "<Figure size 1080x720 with 1 Axes>"
      ]
     },
     "metadata": {
      "needs_background": "light"
     },
     "output_type": "display_data"
    }
   ],
   "source": [
    "fig, ax = plt.subplots(figsize=(15, 10))\n",
    "plt.axis('off')\n",
    "plt.tight_layout()\n",
    "districts.plot(ax=ax, column='healthCareDistrict', cmap='tab20', k=20, legend=True,\n",
    "              legend_kwds={'loc': \"upper left\"})\n",
    "plt.savefig(\"healthDistricts.svg\", format=\"svg\")"
   ]
  },
  {
   "cell_type": "markdown",
   "id": "d23f06f3",
   "metadata": {},
   "source": [
    "- save plots as svgs"
   ]
  },
  {
   "cell_type": "code",
   "execution_count": 54,
   "id": "0e856077",
   "metadata": {},
   "outputs": [],
   "source": [
    "# Write GeoJSON in original projection\n",
    "districts.to_file(\"data/healthDistrictsEPSG3067.geojson\", driver='GeoJSON', encoding='utf-8')"
   ]
  },
  {
   "cell_type": "code",
   "execution_count": 55,
   "id": "13111e59",
   "metadata": {},
   "outputs": [],
   "source": [
    "# Re-project to WGS84 and save again\n",
    "wgs84 = CRS.from_epsg(4326)\n",
    "districts.to_crs(wgs84).to_file(\"data/healthDistrictsEPSG4326.geojson\", driver='GeoJSON', encoding='utf-8')"
   ]
  }
 ],
 "metadata": {
  "kernelspec": {
   "display_name": "Python [conda env:autogis_lesson2]",
   "language": "python",
   "name": "conda-env-autogis_lesson2-py"
  },
  "language_info": {
   "codemirror_mode": {
    "name": "ipython",
    "version": 3
   },
   "file_extension": ".py",
   "mimetype": "text/x-python",
   "name": "python",
   "nbconvert_exporter": "python",
   "pygments_lexer": "ipython3",
   "version": "3.9.12"
  }
 },
 "nbformat": 4,
 "nbformat_minor": 5
}
