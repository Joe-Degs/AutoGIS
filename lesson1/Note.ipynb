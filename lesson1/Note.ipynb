{
 "cells": [
  {
   "cell_type": "markdown",
   "id": "0fb5e178",
   "metadata": {},
   "source": [
    "## [Note](https://autogis-site.readthedocs.io/en/latest/notebooks/L1/geometric-objects.html)\n",
    "\n",
    "### spatial data model\n",
    "- point\n",
    "- multipoint\n",
    "- line\n",
    "- linestring\n",
    "- multiline\n",
    "- polygon\n",
    "- multipolygon\n",
    "- geometrycollection"
   ]
  },
  {
   "cell_type": "markdown",
   "id": "cb672849",
   "metadata": {},
   "source": [
    "## Point"
   ]
  },
  {
   "cell_type": "code",
   "execution_count": 26,
   "id": "da8af899",
   "metadata": {
    "scrolled": true
   },
   "outputs": [
    {
     "data": {
      "image/svg+xml": [
       "<svg xmlns=\"http://www.w3.org/2000/svg\" xmlns:xlink=\"http://www.w3.org/1999/xlink\" width=\"100.0\" height=\"100.0\" viewBox=\"1.2000000000000002 3.2 2.0 2.0\" preserveAspectRatio=\"xMinYMin meet\"><g transform=\"matrix(1,0,0,-1,0,8.4)\"><circle cx=\"2.2\" cy=\"4.2\" r=\"0.06\" stroke=\"#555555\" stroke-width=\"0.02\" fill=\"#66cc99\" opacity=\"0.6\" /></g></svg>"
      ],
      "text/plain": [
       "<shapely.geometry.point.Point at 0x1be8437d520>"
      ]
     },
     "execution_count": 26,
     "metadata": {},
     "output_type": "execute_result"
    }
   ],
   "source": [
    "from shapely.geometry import Point, LineString, Polygon\n",
    "\n",
    "# create a point\n",
    "point1 = Point(7.2, -25.1)\n",
    "point2 = Point(2.2, 4.2)\n",
    "point3 = Point(9.26, -2.456)\n",
    "point3D = Point(9.26, -2.456, 0.57)\n",
    "point2"
   ]
  },
  {
   "cell_type": "code",
   "execution_count": 7,
   "id": "e8e5d2e1",
   "metadata": {
    "scrolled": false
   },
   "outputs": [
    {
     "data": {
      "text/plain": [
       "shapely.geometry.point.Point"
      ]
     },
     "execution_count": 7,
     "metadata": {},
     "output_type": "execute_result"
    }
   ],
   "source": [
    "type(point3D)"
   ]
  },
  {
   "cell_type": "code",
   "execution_count": 8,
   "id": "142b5973",
   "metadata": {},
   "outputs": [
    {
     "data": {
      "text/plain": [
       "'Point'"
      ]
     },
     "execution_count": 8,
     "metadata": {},
     "output_type": "execute_result"
    }
   ],
   "source": [
    "# get geometry type\n",
    "\n",
    "point1.geom_type"
   ]
  },
  {
   "cell_type": "code",
   "execution_count": 10,
   "id": "a00bb585",
   "metadata": {},
   "outputs": [
    {
     "data": {
      "text/plain": [
       "[(7.2, -25.1)]"
      ]
     },
     "execution_count": 10,
     "metadata": {},
     "output_type": "execute_result"
    }
   ],
   "source": [
    "# get coordinates of points\n",
    "\n",
    "list(point1.coords)"
   ]
  },
  {
   "cell_type": "code",
   "execution_count": 13,
   "id": "db41f98e",
   "metadata": {},
   "outputs": [
    {
     "name": "stdout",
     "output_type": "stream",
     "text": [
      "2.2 4.2\n"
     ]
    }
   ],
   "source": [
    "# get x, y attributes\n",
    "\n",
    "print(point2.x, point2.y)"
   ]
  },
  {
   "cell_type": "code",
   "execution_count": 14,
   "id": "5a2e2567",
   "metadata": {},
   "outputs": [
    {
     "name": "stdout",
     "output_type": "stream",
     "text": [
      "The distance between the point is 22.737509450245426\n"
     ]
    }
   ],
   "source": [
    "# calculate distance between 2 points\n",
    "\n",
    "dist = point1.distance(point3)\n",
    "print(f'The distance between the point is {dist}')"
   ]
  },
  {
   "cell_type": "markdown",
   "id": "cfbe4c81",
   "metadata": {},
   "source": [
    "### LineString"
   ]
  },
  {
   "cell_type": "code",
   "execution_count": 4,
   "id": "c241bd0e",
   "metadata": {},
   "outputs": [],
   "source": [
    "# create linestring from Point objects\n",
    "\n",
    "line = LineString([point1, point2, point3])"
   ]
  },
  {
   "cell_type": "code",
   "execution_count": 5,
   "id": "99ebfbbe",
   "metadata": {},
   "outputs": [],
   "source": [
    "# create line from coordinate tuples\n",
    "\n",
    "line2 = LineString([(7.2, -25.1), (2.2, 4.2), (9.26, -2.456)])"
   ]
  },
  {
   "cell_type": "code",
   "execution_count": 6,
   "id": "bed62174",
   "metadata": {},
   "outputs": [
    {
     "data": {
      "text/plain": [
       "True"
      ]
     },
     "execution_count": 6,
     "metadata": {},
     "output_type": "execute_result"
    }
   ],
   "source": [
    "line == line2"
   ]
  },
  {
   "cell_type": "code",
   "execution_count": 7,
   "id": "858b670c",
   "metadata": {},
   "outputs": [
    {
     "data": {
      "image/svg+xml": [
       "<svg xmlns=\"http://www.w3.org/2000/svg\" xmlns:xlink=\"http://www.w3.org/1999/xlink\" width=\"100.0\" height=\"100.0\" viewBox=\"1.028 -26.272000000000002 9.404 31.644000000000002\" preserveAspectRatio=\"xMinYMin meet\"><g transform=\"matrix(1,0,0,-1,0,-20.900000000000002)\"><polyline fill=\"none\" stroke=\"#66cc99\" stroke-width=\"0.63288\" points=\"7.2,-25.1 2.2,4.2 9.26,-2.456\" opacity=\"0.8\" /></g></svg>"
      ],
      "text/plain": [
       "<shapely.geometry.linestring.LineString at 0x1be8427b580>"
      ]
     },
     "execution_count": 7,
     "metadata": {},
     "output_type": "execute_result"
    }
   ],
   "source": [
    "line"
   ]
  },
  {
   "cell_type": "code",
   "execution_count": 8,
   "id": "2162afe0",
   "metadata": {},
   "outputs": [
    {
     "name": "stdout",
     "output_type": "stream",
     "text": [
      "LINESTRING (7.2 -25.1, 2.2 4.2, 9.26 -2.456)\n"
     ]
    }
   ],
   "source": [
    "print(line)"
   ]
  },
  {
   "cell_type": "code",
   "execution_count": 9,
   "id": "e0c8c68c",
   "metadata": {},
   "outputs": [
    {
     "data": {
      "text/plain": [
       "shapely.geometry.linestring.LineString"
      ]
     },
     "execution_count": 9,
     "metadata": {},
     "output_type": "execute_result"
    }
   ],
   "source": [
    "type(line)"
   ]
  },
  {
   "cell_type": "code",
   "execution_count": 10,
   "id": "eddb3815",
   "metadata": {},
   "outputs": [
    {
     "data": {
      "text/plain": [
       "'LineString'"
      ]
     },
     "execution_count": 10,
     "metadata": {},
     "output_type": "execute_result"
    }
   ],
   "source": [
    "line.geom_type"
   ]
  },
  {
   "cell_type": "markdown",
   "id": "3dc5cb1b",
   "metadata": {},
   "source": [
    "#### LineString attributes and functions"
   ]
  },
  {
   "cell_type": "code",
   "execution_count": 11,
   "id": "51f32a87",
   "metadata": {},
   "outputs": [
    {
     "data": {
      "text/plain": [
       "[(7.2, -25.1), (2.2, 4.2), (9.26, -2.456)]"
      ]
     },
     "execution_count": 11,
     "metadata": {},
     "output_type": "execute_result"
    }
   ],
   "source": [
    "# get coordinates\n",
    "\n",
    "list(line.coords)"
   ]
  },
  {
   "cell_type": "code",
   "execution_count": 12,
   "id": "582476d2",
   "metadata": {},
   "outputs": [
    {
     "data": {
      "text/plain": [
       "[7.2, 2.2, 9.26]"
      ]
     },
     "execution_count": 12,
     "metadata": {},
     "output_type": "execute_result"
    }
   ],
   "source": [
    "# extract x, y coordinates\n",
    "\n",
    "list(line.xy[0]) # -> x coordinates"
   ]
  },
  {
   "cell_type": "code",
   "execution_count": 13,
   "id": "f186c7a5",
   "metadata": {},
   "outputs": [
    {
     "data": {
      "text/plain": [
       "[-25.1, 4.2, -2.456]"
      ]
     },
     "execution_count": 13,
     "metadata": {},
     "output_type": "execute_result"
    }
   ],
   "source": [
    "list(line.xy[1]) # -> y coordinates"
   ]
  },
  {
   "cell_type": "code",
   "execution_count": 14,
   "id": "74e6bce0",
   "metadata": {},
   "outputs": [
    {
     "name": "stdout",
     "output_type": "stream",
     "text": [
      "39.42644254972011\n"
     ]
    }
   ],
   "source": [
    "# get length of line\n",
    "\n",
    "print(line.length)"
   ]
  },
  {
   "cell_type": "code",
   "execution_count": 15,
   "id": "1bf57678",
   "metadata": {},
   "outputs": [
    {
     "name": "stdout",
     "output_type": "stream",
     "text": [
      "POINT (4.953483923741885 -7.663645646013959)\n"
     ]
    }
   ],
   "source": [
    "# get centroid of line\n",
    "\n",
    "print(line.centroid)"
   ]
  },
  {
   "cell_type": "markdown",
   "id": "6a99a378",
   "metadata": {},
   "source": [
    "### Polygon"
   ]
  },
  {
   "cell_type": "code",
   "execution_count": 16,
   "id": "a3f0cee8",
   "metadata": {},
   "outputs": [],
   "source": [
    "# create polygon from coordinates\n",
    "\n",
    "poly = Polygon([(2.2, 4.2), (7.2, -25.1), (9.26, -2.456)])"
   ]
  },
  {
   "cell_type": "code",
   "execution_count": 17,
   "id": "bd46bb63",
   "metadata": {},
   "outputs": [],
   "source": [
    "# create from points\n",
    "\n",
    "poly2 = Polygon([point2, point1, point3])"
   ]
  },
  {
   "cell_type": "code",
   "execution_count": 18,
   "id": "cc538f77",
   "metadata": {},
   "outputs": [
    {
     "data": {
      "text/plain": [
       "True"
      ]
     },
     "execution_count": 18,
     "metadata": {},
     "output_type": "execute_result"
    }
   ],
   "source": [
    "poly == poly2"
   ]
  },
  {
   "cell_type": "code",
   "execution_count": 19,
   "id": "fcbdc700",
   "metadata": {},
   "outputs": [
    {
     "data": {
      "image/svg+xml": [
       "<svg xmlns=\"http://www.w3.org/2000/svg\" xmlns:xlink=\"http://www.w3.org/1999/xlink\" width=\"100.0\" height=\"100.0\" viewBox=\"1.028 -26.272000000000002 9.404 31.644000000000002\" preserveAspectRatio=\"xMinYMin meet\"><g transform=\"matrix(1,0,0,-1,0,-20.900000000000002)\"><path fill-rule=\"evenodd\" fill=\"#66cc99\" stroke=\"#555555\" stroke-width=\"0.63288\" opacity=\"0.6\" d=\"M 2.2,4.2 L 7.2,-25.1 L 9.26,-2.456 L 2.2,4.2 z\" /></g></svg>"
      ],
      "text/plain": [
       "<shapely.geometry.polygon.Polygon at 0x1be8443f700>"
      ]
     },
     "execution_count": 19,
     "metadata": {},
     "output_type": "execute_result"
    }
   ],
   "source": [
    "poly"
   ]
  },
  {
   "cell_type": "code",
   "execution_count": 20,
   "id": "00c0b00c",
   "metadata": {},
   "outputs": [
    {
     "data": {
      "image/svg+xml": [
       "<svg xmlns=\"http://www.w3.org/2000/svg\" xmlns:xlink=\"http://www.w3.org/1999/xlink\" width=\"100.0\" height=\"100.0\" viewBox=\"1.028 -26.272000000000002 9.404 31.644000000000002\" preserveAspectRatio=\"xMinYMin meet\"><g transform=\"matrix(1,0,0,-1,0,-20.900000000000002)\"><path fill-rule=\"evenodd\" fill=\"#66cc99\" stroke=\"#555555\" stroke-width=\"0.63288\" opacity=\"0.6\" d=\"M 2.2,4.2 L 7.2,-25.1 L 9.26,-2.456 L 2.2,4.2 z\" /></g></svg>"
      ],
      "text/plain": [
       "<shapely.geometry.polygon.Polygon at 0x1be84202b50>"
      ]
     },
     "execution_count": 20,
     "metadata": {},
     "output_type": "execute_result"
    }
   ],
   "source": [
    "poly2"
   ]
  },
  {
   "cell_type": "code",
   "execution_count": 21,
   "id": "e9fc4878",
   "metadata": {},
   "outputs": [
    {
     "data": {
      "image/svg+xml": [
       "<svg xmlns=\"http://www.w3.org/2000/svg\" xmlns:xlink=\"http://www.w3.org/1999/xlink\" width=\"100.0\" height=\"100.0\" viewBox=\"1.028 -26.272000000000002 9.404 31.644000000000002\" preserveAspectRatio=\"xMinYMin meet\"><g transform=\"matrix(1,0,0,-1,0,-20.900000000000002)\"><polyline fill=\"none\" stroke=\"#66cc99\" stroke-width=\"0.63288\" points=\"7.2,-25.1 2.2,4.2 9.26,-2.456\" opacity=\"0.8\" /></g></svg>"
      ],
      "text/plain": [
       "<shapely.geometry.linestring.LineString at 0x1be8427b580>"
      ]
     },
     "execution_count": 21,
     "metadata": {},
     "output_type": "execute_result"
    }
   ],
   "source": [
    "line"
   ]
  },
  {
   "cell_type": "code",
   "execution_count": 23,
   "id": "6718c97b",
   "metadata": {},
   "outputs": [
    {
     "data": {
      "text/plain": [
       "shapely.geometry.polygon.Polygon"
      ]
     },
     "execution_count": 23,
     "metadata": {},
     "output_type": "execute_result"
    }
   ],
   "source": [
    "type(poly2)"
   ]
  },
  {
   "cell_type": "code",
   "execution_count": 27,
   "id": "7976aec3",
   "metadata": {},
   "outputs": [],
   "source": [
    "# define an outer border\n",
    "\n",
    "border = [(-180, 90), (-180, -90), (180, -90), (180, 90)]"
   ]
  },
  {
   "cell_type": "code",
   "execution_count": 30,
   "id": "528dbece",
   "metadata": {},
   "outputs": [
    {
     "name": "stdout",
     "output_type": "stream",
     "text": [
      "POLYGON ((-180 90, -180 -90, 180 -90, 180 90, -180 90))\n"
     ]
    }
   ],
   "source": [
    "world = Polygon(shell=border)\n",
    "print(world)"
   ]
  },
  {
   "cell_type": "code",
   "execution_count": 31,
   "id": "8e56aa7a",
   "metadata": {
    "collapsed": true
   },
   "outputs": [
    {
     "data": {
      "image/svg+xml": [
       "<svg xmlns=\"http://www.w3.org/2000/svg\" xmlns:xlink=\"http://www.w3.org/1999/xlink\" width=\"300\" height=\"208.8\" viewBox=\"-194.4 -104.4 388.8 208.8\" preserveAspectRatio=\"xMinYMin meet\"><g transform=\"matrix(1,0,0,-1,0,0.0)\"><path fill-rule=\"evenodd\" fill=\"#66cc99\" stroke=\"#555555\" stroke-width=\"2.592\" opacity=\"0.6\" d=\"M -180.0,90.0 L -180.0,-90.0 L 180.0,-90.0 L 180.0,90.0 L -180.0,90.0 z\" /></g></svg>"
      ],
      "text/plain": [
       "<shapely.geometry.polygon.Polygon at 0x1be82be52e0>"
      ]
     },
     "execution_count": 31,
     "metadata": {},
     "output_type": "execute_result"
    }
   ],
   "source": [
    "world"
   ]
  },
  {
   "cell_type": "code",
   "execution_count": 32,
   "id": "09d9550d",
   "metadata": {},
   "outputs": [],
   "source": [
    "# single big whole where we leave ten units at the boundaries\n",
    "# there could be multiple holes, so we need a list of of coords for the hole inside a list\n",
    "\n",
    "hole = [[(-170, 80), (-170, -80), (170, -80), (170, 80)]]"
   ]
  },
  {
   "cell_type": "code",
   "execution_count": 33,
   "id": "e6d9d614",
   "metadata": {},
   "outputs": [],
   "source": [
    "# now we construct a polygon inside the polygon\n",
    "\n",
    "frame = Polygon(shell=border, holes=hole)"
   ]
  },
  {
   "cell_type": "code",
   "execution_count": 35,
   "id": "162cb8ae",
   "metadata": {},
   "outputs": [
    {
     "name": "stdout",
     "output_type": "stream",
     "text": [
      "centroid: POINT (-0 -0)\n",
      "area: 64800.0\n",
      "bounding box: (-180.0, -90.0, 180.0, 90.0)\n",
      "exterior: LINEARRING (-180 90, -180 -90, 180 -90, 180 90, -180 90)\n",
      "exterior length: 1080.0\n"
     ]
    }
   ],
   "source": [
    "# attributes and fucntions of polygons\n",
    "print(f'centroid: {world.centroid}')\n",
    "print(f'area: {world.area}')\n",
    "print(f'bounding box: {world.bounds}')\n",
    "print(f'exterior: {world.exterior}')\n",
    "print(f'exterior length: {world.length}')"
   ]
  },
  {
   "cell_type": "code",
   "execution_count": 36,
   "id": "e4b963e0",
   "metadata": {},
   "outputs": [
    {
     "data": {
      "image/svg+xml": [
       "<svg xmlns=\"http://www.w3.org/2000/svg\" xmlns:xlink=\"http://www.w3.org/1999/xlink\" width=\"300\" height=\"208.8\" viewBox=\"-194.4 -104.4 388.8 208.8\" preserveAspectRatio=\"xMinYMin meet\"><g transform=\"matrix(1,0,0,-1,0,0.0)\"><polyline fill=\"none\" stroke=\"#66cc99\" stroke-width=\"2.592\" points=\"-180.0,90.0 -180.0,-90.0 180.0,-90.0 180.0,90.0 -180.0,90.0\" opacity=\"0.8\" /></g></svg>"
      ],
      "text/plain": [
       "<shapely.geometry.polygon.LinearRing at 0x1be84483280>"
      ]
     },
     "execution_count": 36,
     "metadata": {},
     "output_type": "execute_result"
    }
   ],
   "source": [
    "world.exterior"
   ]
  },
  {
   "cell_type": "markdown",
   "id": "d2a017e5",
   "metadata": {},
   "source": [
    "#### Pentagon"
   ]
  },
  {
   "cell_type": "code",
   "execution_count": 38,
   "id": "8be45474",
   "metadata": {},
   "outputs": [
    {
     "data": {
      "image/svg+xml": [
       "<svg xmlns=\"http://www.w3.org/2000/svg\" xmlns:xlink=\"http://www.w3.org/1999/xlink\" width=\"100.0\" height=\"100.0\" viewBox=\"0.56 -0.44 11.879999999999999 3.88\" preserveAspectRatio=\"xMinYMin meet\"><g transform=\"matrix(1,0,0,-1,0,3.0)\"><path fill-rule=\"evenodd\" fill=\"#ff3333\" stroke=\"#555555\" stroke-width=\"0.23759999999999998\" opacity=\"0.6\" d=\"M 12.0,1.0 L 11.0,3.0 L 9.0,0.0 L 8.0,3.0 L 1.0,1.0 L 12.0,1.0 z\" /></g></svg>"
      ],
      "text/plain": [
       "<shapely.geometry.polygon.Polygon at 0x1be82bf1790>"
      ]
     },
     "execution_count": 38,
     "metadata": {},
     "output_type": "execute_result"
    }
   ],
   "source": [
    "# pentagon is created with 5 coordinates\n",
    "\n",
    "Polygon([(12, 1), (11, 3), (9, 0), (8, 3), (1, 1)])"
   ]
  },
  {
   "cell_type": "code",
   "execution_count": 39,
   "id": "42aed06c",
   "metadata": {},
   "outputs": [
    {
     "data": {
      "image/svg+xml": [
       "<svg xmlns=\"http://www.w3.org/2000/svg\" xmlns:xlink=\"http://www.w3.org/1999/xlink\" width=\"100.0\" height=\"100.0\" viewBox=\"-0.16 -0.16 4.32 4.32\" preserveAspectRatio=\"xMinYMin meet\"><g transform=\"matrix(1,0,0,-1,0,4.0)\"><path fill-rule=\"evenodd\" fill=\"#66cc99\" stroke=\"#555555\" stroke-width=\"0.0864\" opacity=\"0.6\" d=\"M 0.0,0.0 L 0.0,4.0 L 4.0,4.0 L 4.0,0.0 L 0.0,0.0 z\" /></g></svg>"
      ],
      "text/plain": [
       "<shapely.geometry.polygon.Polygon at 0x1be84422bb0>"
      ]
     },
     "execution_count": 39,
     "metadata": {},
     "output_type": "execute_result"
    }
   ],
   "source": [
    "# square\n",
    "\n",
    "Polygon([(0, 0), (0, 4), (4, 4), (4, 0)])"
   ]
  },
  {
   "cell_type": "code",
   "execution_count": 41,
   "id": "b2ada7f7",
   "metadata": {},
   "outputs": [
    {
     "data": {
      "image/svg+xml": [
       "<svg xmlns=\"http://www.w3.org/2000/svg\" xmlns:xlink=\"http://www.w3.org/1999/xlink\" width=\"100.0\" height=\"100.0\" viewBox=\"-4.32 -4.32 8.64 8.64\" preserveAspectRatio=\"xMinYMin meet\"><g transform=\"matrix(1,0,0,-1,0,0.0)\"><path fill-rule=\"evenodd\" fill=\"#66cc99\" stroke=\"#555555\" stroke-width=\"0.1728\" opacity=\"0.6\" d=\"M 4.0,0.0 L 3.9807389066887877,-0.392068561318242 L 3.923141121612922,-0.7803612880645123 L 3.8277613429288357,-1.1611387090178484 L 3.695518130045148,-1.5307337294603576 L 3.527685057393421,-1.8855869473039888 L 3.3258784492101823,-2.222280932078407 L 3.0920418134509497,-2.5375731366545797 L 2.8284271247461925,-2.828427124746188 L 2.537573136654585,-3.0920418134509453 L 2.2222809320784123,-3.3258784492101787 L 1.8855869473039943,-3.527685057393418 L 1.5307337294603633,-3.695518130045145 L 1.1611387090178544,-3.827761342928834 L 0.7803612880645185,-3.923141121612921 L 0.39206856131824835,-3.980738906688787 L 6.462178297730347e-15,-4.0 L -0.39206856131823553,-3.980738906688788 L -0.7803612880645059,-3.923141121612923 L -1.161138709017842,-3.827761342928838 L -1.5307337294603514,-3.69551813004515 L -1.8855869473039828,-3.527685057393424 L -2.222280932078402,-3.3258784492101854 L -2.5375731366545757,-3.092041813450953 L -2.828427124746185,-2.828427124746195 L -3.0920418134509435,-2.5375731366545873 L -3.3258784492101774,-2.2222809320784145 L -3.527685057393417,-1.8855869473039961 L -3.6955181300451447,-1.5307337294603645 L -3.827761342928834,-1.1611387090178547 L -3.923141121612921,-0.7803612880645179 L -3.9807389066887873,-0.39206856131824686 L -4.0,-4.042572398459442e-15 L -3.9807389066887877,0.3920685613182388 L -3.9231411216129226,0.78036128806451 L -3.827761342928836,1.1611387090178469 L -3.695518130045148,1.530733729460357 L -3.527685057393421,1.885586947303989 L -3.325878449210182,2.222280932078408 L -3.0920418134509484,2.537573136654581 L -2.8284271247461907,2.82842712474619 L -2.5375731366545837,3.0920418134509466 L -2.2222809320784114,3.325878449210179 L -1.8855869473039948,3.527685057393418 L -1.5307337294603647,3.6955181300451447 L -1.1611387090178564,3.8277613429288335 L -0.7803612880645217,3.92314112161292 L -0.3920685613182524,3.9807389066887864 L -1.1392929115889915e-14,4.0 L 0.3920685613182297,3.9807389066887886 L 0.7803612880644992,3.9231411216129244 L 1.1611387090178347,3.8277613429288397 L 1.5307337294603436,3.6955181300451536 L 1.8855869473039746,3.5276850573934286 L 2.2222809320783927,3.3258784492101916 L 2.537573136654566,3.092041813450961 L 2.8284271247461743,2.828427124746206 L 3.092041813450933,2.5375731366546 L 3.325878449210167,2.2222809320784296 L 3.5276850573934078,1.8855869473040137 L 3.6955181300451363,1.5307337294603844 L 3.827761342928827,1.161138709017877 L 3.923141121612916,0.7803612880645427 L 3.9807389066887846,0.3920685613182739 L 4.0,3.295414054852239e-14 L 4.0,0.0 z\" /></g></svg>"
      ],
      "text/plain": [
       "<shapely.geometry.polygon.Polygon at 0x1be8440ca30>"
      ]
     },
     "execution_count": 41,
     "metadata": {},
     "output_type": "execute_result"
    }
   ],
   "source": [
    "# circle\n",
    "\n",
    "point = Point((0, 0))\n",
    "point.buffer(4)"
   ]
  },
  {
   "cell_type": "code",
   "execution_count": null,
   "id": "fa01060b",
   "metadata": {},
   "outputs": [],
   "source": []
  }
 ],
 "metadata": {
  "kernelspec": {
   "display_name": "Python [conda env:autogis_lesson1]",
   "language": "python",
   "name": "conda-env-autogis_lesson1-py"
  },
  "language_info": {
   "codemirror_mode": {
    "name": "ipython",
    "version": 3
   },
   "file_extension": ".py",
   "mimetype": "text/x-python",
   "name": "python",
   "nbconvert_exporter": "python",
   "pygments_lexer": "ipython3",
   "version": "3.9.12"
  }
 },
 "nbformat": 4,
 "nbformat_minor": 5
}
