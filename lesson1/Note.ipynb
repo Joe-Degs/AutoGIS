{
 "cells": [
  {
   "cell_type": "markdown",
   "id": "0fb5e178",
   "metadata": {},
   "source": [
    "## [Note](https://autogis-site.readthedocs.io/en/latest/notebooks/L1/geometric-objects.html)\n",
    "\n",
    "### spatial data model\n",
    "- point\n",
    "- multipoint\n",
    "- line\n",
    "- linestring\n",
    "- multiline\n",
    "- polygon\n",
    "- multipolygon\n",
    "- geometrycollection"
   ]
  },
  {
   "cell_type": "markdown",
   "id": "cb672849",
   "metadata": {},
   "source": [
    "## Point"
   ]
  },
  {
   "cell_type": "code",
   "execution_count": 12,
   "id": "da8af899",
   "metadata": {
    "scrolled": true
   },
   "outputs": [
    {
     "data": {
      "image/svg+xml": [
       "<svg xmlns=\"http://www.w3.org/2000/svg\" xmlns:xlink=\"http://www.w3.org/1999/xlink\" width=\"100.0\" height=\"100.0\" viewBox=\"1.2000000000000002 3.0 2.0 2.0\" preserveAspectRatio=\"xMinYMin meet\"><g transform=\"matrix(1,0,0,-1,0,8.0)\"><circle cx=\"2.2\" cy=\"4.0\" r=\"0.06\" stroke=\"#555555\" stroke-width=\"0.02\" fill=\"#66cc99\" opacity=\"0.6\" /></g></svg>"
      ],
      "text/plain": [
       "<shapely.geometry.point.Point at 0x237a4c030a0>"
      ]
     },
     "execution_count": 12,
     "metadata": {},
     "output_type": "execute_result"
    }
   ],
   "source": [
    "from shapely.geometry import Point, LineString, Polygon\n",
    "\n",
    "# create a point\n",
    "point1 = Point(7.2, -25.1)\n",
    "point2 = Point(2.2, 4.2)\n",
    "point3 = Point(9.26, -2.456)\n",
    "point3D = Point(9.26, -2.456, 0.57)\n",
    "p2"
   ]
  },
  {
   "cell_type": "code",
   "execution_count": 7,
   "id": "e8e5d2e1",
   "metadata": {
    "scrolled": false
   },
   "outputs": [
    {
     "data": {
      "text/plain": [
       "shapely.geometry.point.Point"
      ]
     },
     "execution_count": 7,
     "metadata": {},
     "output_type": "execute_result"
    }
   ],
   "source": [
    "type(point3D)"
   ]
  },
  {
   "cell_type": "code",
   "execution_count": 8,
   "id": "142b5973",
   "metadata": {},
   "outputs": [
    {
     "data": {
      "text/plain": [
       "'Point'"
      ]
     },
     "execution_count": 8,
     "metadata": {},
     "output_type": "execute_result"
    }
   ],
   "source": [
    "# get geometry type\n",
    "\n",
    "point1.geom_type"
   ]
  },
  {
   "cell_type": "code",
   "execution_count": 10,
   "id": "a00bb585",
   "metadata": {},
   "outputs": [
    {
     "data": {
      "text/plain": [
       "[(7.2, -25.1)]"
      ]
     },
     "execution_count": 10,
     "metadata": {},
     "output_type": "execute_result"
    }
   ],
   "source": [
    "# get coordinates of points\n",
    "\n",
    "list(point1.coords)"
   ]
  },
  {
   "cell_type": "code",
   "execution_count": 13,
   "id": "db41f98e",
   "metadata": {},
   "outputs": [
    {
     "name": "stdout",
     "output_type": "stream",
     "text": [
      "2.2 4.2\n"
     ]
    }
   ],
   "source": [
    "# get x, y attributes\n",
    "\n",
    "print(point2.x, point2.y)"
   ]
  },
  {
   "cell_type": "code",
   "execution_count": 14,
   "id": "5a2e2567",
   "metadata": {},
   "outputs": [
    {
     "name": "stdout",
     "output_type": "stream",
     "text": [
      "The distance between the point is 22.737509450245426\n"
     ]
    }
   ],
   "source": [
    "# calculate distance between 2 points\n",
    "\n",
    "dist = point1.distance(point3)\n",
    "print(f'The distance between the point is {dist}')"
   ]
  },
  {
   "cell_type": "markdown",
   "id": "cfbe4c81",
   "metadata": {},
   "source": [
    "### LineString"
   ]
  },
  {
   "cell_type": "code",
   "execution_count": 15,
   "id": "c241bd0e",
   "metadata": {},
   "outputs": [],
   "source": [
    "# create linestring from Point objects\n",
    "\n",
    "line = LineString([point1, point2, point3])"
   ]
  },
  {
   "cell_type": "code",
   "execution_count": 16,
   "id": "99ebfbbe",
   "metadata": {},
   "outputs": [],
   "source": [
    "# create line from coordinate tuples\n",
    "\n",
    "line2 = LineString([(7.2, -25.1), (2.2, 4.2), (9.26, -2.456)])"
   ]
  },
  {
   "cell_type": "code",
   "execution_count": 17,
   "id": "bed62174",
   "metadata": {},
   "outputs": [
    {
     "data": {
      "text/plain": [
       "True"
      ]
     },
     "execution_count": 17,
     "metadata": {},
     "output_type": "execute_result"
    }
   ],
   "source": [
    "line == line2"
   ]
  },
  {
   "cell_type": "code",
   "execution_count": 18,
   "id": "858b670c",
   "metadata": {},
   "outputs": [
    {
     "data": {
      "image/svg+xml": [
       "<svg xmlns=\"http://www.w3.org/2000/svg\" xmlns:xlink=\"http://www.w3.org/1999/xlink\" width=\"100.0\" height=\"100.0\" viewBox=\"1.028 -26.272000000000002 9.404 31.644000000000002\" preserveAspectRatio=\"xMinYMin meet\"><g transform=\"matrix(1,0,0,-1,0,-20.900000000000002)\"><polyline fill=\"none\" stroke=\"#66cc99\" stroke-width=\"0.63288\" points=\"7.2,-25.1 2.2,4.2 9.26,-2.456\" opacity=\"0.8\" /></g></svg>"
      ],
      "text/plain": [
       "<shapely.geometry.linestring.LineString at 0x237a2cf15e0>"
      ]
     },
     "execution_count": 18,
     "metadata": {},
     "output_type": "execute_result"
    }
   ],
   "source": [
    "line"
   ]
  },
  {
   "cell_type": "code",
   "execution_count": 19,
   "id": "2162afe0",
   "metadata": {},
   "outputs": [
    {
     "name": "stdout",
     "output_type": "stream",
     "text": [
      "LINESTRING (7.2 -25.1, 2.2 4.2, 9.26 -2.456)\n"
     ]
    }
   ],
   "source": [
    "print(line)"
   ]
  },
  {
   "cell_type": "code",
   "execution_count": 20,
   "id": "e0c8c68c",
   "metadata": {},
   "outputs": [
    {
     "data": {
      "text/plain": [
       "shapely.geometry.linestring.LineString"
      ]
     },
     "execution_count": 20,
     "metadata": {},
     "output_type": "execute_result"
    }
   ],
   "source": [
    "type(line)"
   ]
  },
  {
   "cell_type": "code",
   "execution_count": 21,
   "id": "eddb3815",
   "metadata": {},
   "outputs": [
    {
     "data": {
      "text/plain": [
       "'LineString'"
      ]
     },
     "execution_count": 21,
     "metadata": {},
     "output_type": "execute_result"
    }
   ],
   "source": [
    "line.geom_type"
   ]
  },
  {
   "cell_type": "markdown",
   "id": "3dc5cb1b",
   "metadata": {},
   "source": [
    "#### LineString attributes and functions"
   ]
  },
  {
   "cell_type": "code",
   "execution_count": 22,
   "id": "51f32a87",
   "metadata": {},
   "outputs": [
    {
     "data": {
      "text/plain": [
       "[(7.2, -25.1), (2.2, 4.2), (9.26, -2.456)]"
      ]
     },
     "execution_count": 22,
     "metadata": {},
     "output_type": "execute_result"
    }
   ],
   "source": [
    "# get coordinates\n",
    "\n",
    "list(line.coords)"
   ]
  },
  {
   "cell_type": "code",
   "execution_count": 25,
   "id": "582476d2",
   "metadata": {},
   "outputs": [
    {
     "data": {
      "text/plain": [
       "[-25.1, 4.2, -2.456]"
      ]
     },
     "execution_count": 25,
     "metadata": {},
     "output_type": "execute_result"
    }
   ],
   "source": [
    "# extract x, y coordinates\n",
    "\n",
    "list(line.xy[0]) # -> x coordinates"
   ]
  },
  {
   "cell_type": "code",
   "execution_count": 26,
   "id": "f186c7a5",
   "metadata": {},
   "outputs": [
    {
     "data": {
      "text/plain": [
       "[-25.1, 4.2, -2.456]"
      ]
     },
     "execution_count": 26,
     "metadata": {},
     "output_type": "execute_result"
    }
   ],
   "source": [
    "list(line.xy[1]) # -> y coordinates"
   ]
  },
  {
   "cell_type": "code",
   "execution_count": 30,
   "id": "74e6bce0",
   "metadata": {},
   "outputs": [
    {
     "name": "stdout",
     "output_type": "stream",
     "text": [
      "39.42644254972011\n"
     ]
    }
   ],
   "source": [
    "# get length of line\n",
    "\n",
    "print(line.length)"
   ]
  },
  {
   "cell_type": "code",
   "execution_count": 29,
   "id": "1bf57678",
   "metadata": {},
   "outputs": [
    {
     "name": "stdout",
     "output_type": "stream",
     "text": [
      "POINT (4.953483923741885 -7.663645646013959)\n"
     ]
    }
   ],
   "source": [
    "# get centroid of line\n",
    "\n",
    "print(line.centroid)"
   ]
  },
  {
   "cell_type": "markdown",
   "id": "6a99a378",
   "metadata": {},
   "source": [
    "### Polygon"
   ]
  },
  {
   "cell_type": "code",
   "execution_count": 32,
   "id": "a3f0cee8",
   "metadata": {},
   "outputs": [],
   "source": [
    "# create polygon from coordinates\n",
    "\n",
    "poly = Polygon([(2.2, 4.2), (7.2, -25.1), (9.26, -2.456)])"
   ]
  },
  {
   "cell_type": "code",
   "execution_count": 36,
   "id": "bd46bb63",
   "metadata": {},
   "outputs": [],
   "source": [
    "# create from points\n",
    "\n",
    "poly2 = Polygon([point2, point1, point3])"
   ]
  },
  {
   "cell_type": "code",
   "execution_count": 37,
   "id": "cc538f77",
   "metadata": {},
   "outputs": [
    {
     "data": {
      "text/plain": [
       "False"
      ]
     },
     "execution_count": 37,
     "metadata": {},
     "output_type": "execute_result"
    }
   ],
   "source": [
    "poly == poly2"
   ]
  },
  {
   "cell_type": "code",
   "execution_count": 38,
   "id": "fcbdc700",
   "metadata": {},
   "outputs": [
    {
     "data": {
      "image/svg+xml": [
       "<svg xmlns=\"http://www.w3.org/2000/svg\" xmlns:xlink=\"http://www.w3.org/1999/xlink\" width=\"100.0\" height=\"100.0\" viewBox=\"1.028 -26.272000000000002 7.343999999999999 31.644000000000002\" preserveAspectRatio=\"xMinYMin meet\"><g transform=\"matrix(1,0,0,-1,0,-20.900000000000002)\"><path fill-rule=\"evenodd\" fill=\"#ff3333\" stroke=\"#555555\" stroke-width=\"0.63288\" opacity=\"0.6\" d=\"M 2.2,4.2 L 7.2,-25.1 L 2.2,4.2 L 2.2,4.2 z\" /></g></svg>"
      ],
      "text/plain": [
       "<shapely.geometry.polygon.Polygon at 0x237a4c71910>"
      ]
     },
     "execution_count": 38,
     "metadata": {},
     "output_type": "execute_result"
    }
   ],
   "source": [
    "poly"
   ]
  },
  {
   "cell_type": "code",
   "execution_count": 39,
   "id": "00c0b00c",
   "metadata": {},
   "outputs": [
    {
     "data": {
      "image/svg+xml": [
       "<svg xmlns=\"http://www.w3.org/2000/svg\" xmlns:xlink=\"http://www.w3.org/1999/xlink\" width=\"100.0\" height=\"100.0\" viewBox=\"1.028 -26.272000000000002 9.404 31.644000000000002\" preserveAspectRatio=\"xMinYMin meet\"><g transform=\"matrix(1,0,0,-1,0,-20.900000000000002)\"><path fill-rule=\"evenodd\" fill=\"#66cc99\" stroke=\"#555555\" stroke-width=\"0.63288\" opacity=\"0.6\" d=\"M 2.2,4.2 L 7.2,-25.1 L 9.26,-2.456 L 2.2,4.2 z\" /></g></svg>"
      ],
      "text/plain": [
       "<shapely.geometry.polygon.Polygon at 0x237a4c25ca0>"
      ]
     },
     "execution_count": 39,
     "metadata": {},
     "output_type": "execute_result"
    }
   ],
   "source": [
    "poly2"
   ]
  },
  {
   "cell_type": "code",
   "execution_count": 41,
   "id": "e9fc4878",
   "metadata": {},
   "outputs": [
    {
     "data": {
      "image/svg+xml": [
       "<svg xmlns=\"http://www.w3.org/2000/svg\" xmlns:xlink=\"http://www.w3.org/1999/xlink\" width=\"100.0\" height=\"100.0\" viewBox=\"1.028 -26.272000000000002 9.404 31.644000000000002\" preserveAspectRatio=\"xMinYMin meet\"><g transform=\"matrix(1,0,0,-1,0,-20.900000000000002)\"><polyline fill=\"none\" stroke=\"#66cc99\" stroke-width=\"0.63288\" points=\"7.2,-25.1 2.2,4.2 9.26,-2.456\" opacity=\"0.8\" /></g></svg>"
      ],
      "text/plain": [
       "<shapely.geometry.linestring.LineString at 0x237a2cf15e0>"
      ]
     },
     "execution_count": 41,
     "metadata": {},
     "output_type": "execute_result"
    }
   ],
   "source": [
    "line"
   ]
  },
  {
   "cell_type": "code",
   "execution_count": 40,
   "id": "6718c97b",
   "metadata": {},
   "outputs": [
    {
     "data": {
      "text/plain": [
       "shapely.geometry.polygon.Polygon"
      ]
     },
     "execution_count": 40,
     "metadata": {},
     "output_type": "execute_result"
    }
   ],
   "source": [
    "type(poly2)"
   ]
  },
  {
   "cell_type": "code",
   "execution_count": 42,
   "id": "a142280c",
   "metadata": {},
   "outputs": [
    {
     "data": {
      "text/plain": [
       "['__and__',\n",
       " '__array_interface__',\n",
       " '__bool__',\n",
       " '__class__',\n",
       " '__del__',\n",
       " '__delattr__',\n",
       " '__dict__',\n",
       " '__dir__',\n",
       " '__doc__',\n",
       " '__eq__',\n",
       " '__format__',\n",
       " '__ge__',\n",
       " '__geo_interface__',\n",
       " '__geom__',\n",
       " '__getattribute__',\n",
       " '__gt__',\n",
       " '__hash__',\n",
       " '__init__',\n",
       " '__init_subclass__',\n",
       " '__le__',\n",
       " '__lt__',\n",
       " '__module__',\n",
       " '__ne__',\n",
       " '__new__',\n",
       " '__nonzero__',\n",
       " '__or__',\n",
       " '__p__',\n",
       " '__reduce__',\n",
       " '__reduce_ex__',\n",
       " '__repr__',\n",
       " '__setattr__',\n",
       " '__setstate__',\n",
       " '__sizeof__',\n",
       " '__str__',\n",
       " '__sub__',\n",
       " '__subclasshook__',\n",
       " '__weakref__',\n",
       " '__xor__',\n",
       " '_crs',\n",
       " '_ctypes_data',\n",
       " '_exterior',\n",
       " '_geom',\n",
       " '_get_coords',\n",
       " '_interiors',\n",
       " '_is_empty',\n",
       " '_lgeos',\n",
       " '_ndim',\n",
       " '_other_owned',\n",
       " '_repr_svg_',\n",
       " '_set_coords',\n",
       " 'almost_equals',\n",
       " 'area',\n",
       " 'array_interface_base',\n",
       " 'boundary',\n",
       " 'bounds',\n",
       " 'buffer',\n",
       " 'centroid',\n",
       " 'contains',\n",
       " 'convex_hull',\n",
       " 'coords',\n",
       " 'covers',\n",
       " 'crosses',\n",
       " 'ctypes',\n",
       " 'difference',\n",
       " 'disjoint',\n",
       " 'distance',\n",
       " 'empty',\n",
       " 'envelope',\n",
       " 'equals',\n",
       " 'equals_exact',\n",
       " 'exterior',\n",
       " 'from_bounds',\n",
       " 'geom_type',\n",
       " 'geometryType',\n",
       " 'has_z',\n",
       " 'hausdorff_distance',\n",
       " 'impl',\n",
       " 'interiors',\n",
       " 'interpolate',\n",
       " 'intersection',\n",
       " 'intersects',\n",
       " 'is_closed',\n",
       " 'is_empty',\n",
       " 'is_ring',\n",
       " 'is_simple',\n",
       " 'is_valid',\n",
       " 'length',\n",
       " 'minimum_clearance',\n",
       " 'minimum_rotated_rectangle',\n",
       " 'overlaps',\n",
       " 'project',\n",
       " 'relate',\n",
       " 'relate_pattern',\n",
       " 'representative_point',\n",
       " 'simplify',\n",
       " 'svg',\n",
       " 'symmetric_difference',\n",
       " 'to_wkb',\n",
       " 'to_wkt',\n",
       " 'touches',\n",
       " 'type',\n",
       " 'union',\n",
       " 'within',\n",
       " 'wkb',\n",
       " 'wkb_hex',\n",
       " 'wkt',\n",
       " 'xy']"
      ]
     },
     "execution_count": 42,
     "metadata": {},
     "output_type": "execute_result"
    }
   ],
   "source": [
    "dir(poly)"
   ]
  },
  {
   "cell_type": "code",
   "execution_count": null,
   "id": "7976aec3",
   "metadata": {},
   "outputs": [],
   "source": [
    "# define an outer border"
   ]
  }
 ],
 "metadata": {
  "kernelspec": {
   "display_name": "Python [conda env:autogis_lesson1]",
   "language": "python",
   "name": "conda-env-autogis_lesson1-py"
  },
  "language_info": {
   "codemirror_mode": {
    "name": "ipython",
    "version": 3
   },
   "file_extension": ".py",
   "mimetype": "text/x-python",
   "name": "python",
   "nbconvert_exporter": "python",
   "pygments_lexer": "ipython3",
   "version": "3.9.12"
  }
 },
 "nbformat": 4,
 "nbformat_minor": 5
}
