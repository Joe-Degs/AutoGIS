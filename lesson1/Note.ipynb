{
 "cells": [
  {
   "cell_type": "markdown",
   "id": "2eb724ea",
   "metadata": {},
   "source": [
    "## [Note](https://autogis-site.readthedocs.io/en/latest/notebooks/L1/geometric-objects.html)\n",
    "\n",
    "### spatial data model\n",
    "- point\n",
    "- multipoint\n",
    "- line\n",
    "- linestring\n",
    "- multiline\n",
    "- polygon\n",
    "- multipolygon\n",
    "- geometrycollection"
   ]
  },
  {
   "cell_type": "markdown",
   "id": "a75edc46",
   "metadata": {},
   "source": [
    "## Point"
   ]
  },
  {
   "cell_type": "code",
   "execution_count": 12,
   "id": "92a2e711",
   "metadata": {
    "scrolled": true
   },
   "outputs": [
    {
     "data": {
      "image/svg+xml": [
       "<svg xmlns=\"http://www.w3.org/2000/svg\" xmlns:xlink=\"http://www.w3.org/1999/xlink\" width=\"100.0\" height=\"100.0\" viewBox=\"1.2000000000000002 3.0 2.0 2.0\" preserveAspectRatio=\"xMinYMin meet\"><g transform=\"matrix(1,0,0,-1,0,8.0)\"><circle cx=\"2.2\" cy=\"4.0\" r=\"0.06\" stroke=\"#555555\" stroke-width=\"0.02\" fill=\"#66cc99\" opacity=\"0.6\" /></g></svg>"
      ],
      "text/plain": [
       "<shapely.geometry.point.Point at 0x237a4c030a0>"
      ]
     },
     "execution_count": 12,
     "metadata": {},
     "output_type": "execute_result"
    }
   ],
   "source": [
    "from shapely.geometry import Point, LineString, Polygon\n",
    "\n",
    "# create a point\n",
    "point1 = Point(7.2, -25.1)\n",
    "point2 = Point(2.2, 4.2)\n",
    "point3 = Point(9.26, -2.456)\n",
    "point3D = Point(9.26, -2.456, 0.57)\n",
    "p2"
   ]
  },
  {
   "cell_type": "code",
   "execution_count": 7,
   "id": "b3b2d910",
   "metadata": {
    "scrolled": false
   },
   "outputs": [
    {
     "data": {
      "text/plain": [
       "shapely.geometry.point.Point"
      ]
     },
     "execution_count": 7,
     "metadata": {},
     "output_type": "execute_result"
    }
   ],
   "source": [
    "type(point3D)"
   ]
  },
  {
   "cell_type": "code",
   "execution_count": 8,
   "id": "14fcf053",
   "metadata": {},
   "outputs": [
    {
     "data": {
      "text/plain": [
       "'Point'"
      ]
     },
     "execution_count": 8,
     "metadata": {},
     "output_type": "execute_result"
    }
   ],
   "source": [
    "# get geometry type\n",
    "\n",
    "point1.geom_type"
   ]
  },
  {
   "cell_type": "code",
   "execution_count": 10,
   "id": "31cbd449",
   "metadata": {},
   "outputs": [
    {
     "data": {
      "text/plain": [
       "[(7.2, -25.1)]"
      ]
     },
     "execution_count": 10,
     "metadata": {},
     "output_type": "execute_result"
    }
   ],
   "source": [
    "# get coordinates of points\n",
    "\n",
    "list(point1.coords)"
   ]
  },
  {
   "cell_type": "code",
   "execution_count": 13,
   "id": "4614fd29",
   "metadata": {},
   "outputs": [
    {
     "name": "stdout",
     "output_type": "stream",
     "text": [
      "2.2 4.2\n"
     ]
    }
   ],
   "source": [
    "# get x, y attributes\n",
    "\n",
    "print(point2.x, point2.y)"
   ]
  },
  {
   "cell_type": "code",
   "execution_count": null,
   "id": "ba48af4f",
   "metadata": {},
   "outputs": [],
   "source": [
    "# calculate distance between 2 points\n",
    "\n",
    "dist = point1.distance(point3)\n",
    "print(f'The distance between the point is ')"
   ]
  }
 ],
 "metadata": {
  "kernelspec": {
   "display_name": "Python [conda env:autogis_lesson1]",
   "language": "python",
   "name": "conda-env-autogis_lesson1-py"
  },
  "language_info": {
   "codemirror_mode": {
    "name": "ipython",
    "version": 3
   },
   "file_extension": ".py",
   "mimetype": "text/x-python",
   "name": "python",
   "nbconvert_exporter": "python",
   "pygments_lexer": "ipython3",
   "version": "3.9.12"
  }
 },
 "nbformat": 4,
 "nbformat_minor": 5
}
