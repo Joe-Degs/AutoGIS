{
 "cells": [
  {
   "cell_type": "markdown",
   "id": "40c144e5",
   "metadata": {},
   "source": [
    "## Using Shapely\n",
    "\n",
    "### spatial data model\n",
    "- point\n",
    "- multipoint\n",
    "- line\n",
    "- linestring\n",
    "- multiline\n",
    "- polygon\n",
    "- multipolygon\n",
    "- geometrycollection"
   ]
  },
  {
   "cell_type": "code",
   "execution_count": null,
   "id": "3ed000b7",
   "metadata": {},
   "outputs": [],
   "source": []
  }
 ],
 "metadata": {
  "kernelspec": {
   "display_name": "Python [conda env:autogis_lesson1]",
   "language": "python",
   "name": "conda-env-autogis_lesson1-py"
  },
  "language_info": {
   "codemirror_mode": {
    "name": "ipython",
    "version": 3
   },
   "file_extension": ".py",
   "mimetype": "text/x-python",
   "name": "python",
   "nbconvert_exporter": "python",
   "pygments_lexer": "ipython3",
   "version": "3.9.12"
  }
 },
 "nbformat": 4,
 "nbformat_minor": 5
}
