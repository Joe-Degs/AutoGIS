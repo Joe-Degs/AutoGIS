{
 "cells": [
  {
   "cell_type": "markdown",
   "id": "33c48652",
   "metadata": {},
   "source": [
    "### [Nearest Neighbour Analysis](https://autogis-site.readthedocs.io/en/latest/notebooks/L3/04_nearest-neighbour.html)"
   ]
  },
  {
   "cell_type": "markdown",
   "id": "80ae38b9",
   "metadata": {},
   "source": [
    "- Let’s create an origin Point and a few destination Points and find out the closest destination:"
   ]
  },
  {
   "cell_type": "code",
   "execution_count": 1,
   "id": "a05e9dcf",
   "metadata": {},
   "outputs": [],
   "source": [
    "from shapely.geometry import Point, MultiPoint\n",
    "from shapely.ops import nearest_points\n",
    "\n",
    "# Origin point\n",
    "orig = Point(1, 1.67)\n",
    "\n",
    "# Destination points\n",
    "dest1 = Point(0, 1.45)\n",
    "dest2 =Point(2, 2)\n",
    "dest3 = Point(0, 2.5)"
   ]
  },
  {
   "cell_type": "markdown",
   "id": "83456b70",
   "metadata": {},
   "source": [
    "- To be able to find out the closest destination point from the origin, we need to create a MultiPoint object from the destination points."
   ]
  },
  {
   "cell_type": "code",
   "execution_count": 2,
   "id": "43fe9984",
   "metadata": {},
   "outputs": [
    {
     "name": "stdout",
     "output_type": "stream",
     "text": [
      "MULTIPOINT (0 1.45, 2 2, 0 2.5)\n"
     ]
    }
   ],
   "source": [
    "destinations = MultiPoint([dest1, dest2, dest3])\n",
    "print(destinations)"
   ]
  },
  {
   "cell_type": "code",
   "execution_count": 3,
   "id": "60d92fa6",
   "metadata": {},
   "outputs": [
    {
     "data": {
      "image/svg+xml": [
       "<svg xmlns=\"http://www.w3.org/2000/svg\" xmlns:xlink=\"http://www.w3.org/1999/xlink\" width=\"100.0\" height=\"100.0\" viewBox=\"-0.08 1.3699999999999999 2.16 1.2100000000000002\" preserveAspectRatio=\"xMinYMin meet\"><g transform=\"matrix(1,0,0,-1,0,3.95)\"><g><circle cx=\"0.0\" cy=\"1.45\" r=\"0.0648\" stroke=\"#555555\" stroke-width=\"0.0216\" fill=\"#66cc99\" opacity=\"0.6\" /><circle cx=\"2.0\" cy=\"2.0\" r=\"0.0648\" stroke=\"#555555\" stroke-width=\"0.0216\" fill=\"#66cc99\" opacity=\"0.6\" /><circle cx=\"0.0\" cy=\"2.5\" r=\"0.0648\" stroke=\"#555555\" stroke-width=\"0.0216\" fill=\"#66cc99\" opacity=\"0.6\" /></g></g></svg>"
      ],
      "text/plain": [
       "<shapely.geometry.multipoint.MultiPoint at 0x1fc46825be0>"
      ]
     },
     "execution_count": 3,
     "metadata": {},
     "output_type": "execute_result"
    }
   ],
   "source": [
    "destinations"
   ]
  },
  {
   "cell_type": "markdown",
   "id": "ffab2cd5",
   "metadata": {},
   "source": [
    "- Now we can find out the nearest destination point by using `nearest_points()` function:"
   ]
  },
  {
   "cell_type": "code",
   "execution_count": 4,
   "id": "91b2057a",
   "metadata": {},
   "outputs": [],
   "source": [
    "nearest_geoms = nearest_points(orig, destinations)"
   ]
  },
  {
   "cell_type": "code",
   "execution_count": 5,
   "id": "ac0ffc23",
   "metadata": {},
   "outputs": [
    {
     "data": {
      "text/plain": [
       "tuple"
      ]
     },
     "execution_count": 5,
     "metadata": {},
     "output_type": "execute_result"
    }
   ],
   "source": [
    "type(nearest_geoms)"
   ]
  },
  {
   "cell_type": "code",
   "execution_count": 6,
   "id": "501c33c5",
   "metadata": {},
   "outputs": [
    {
     "name": "stdout",
     "output_type": "stream",
     "text": [
      "(<shapely.geometry.point.Point object at 0x000001FC46B19280>, <shapely.geometry.point.Point object at 0x000001FC46825D00>)\n"
     ]
    }
   ],
   "source": [
    "print(nearest_geoms)"
   ]
  },
  {
   "cell_type": "code",
   "execution_count": 10,
   "id": "9472c68b",
   "metadata": {},
   "outputs": [
    {
     "data": {
      "image/svg+xml": [
       "<svg xmlns=\"http://www.w3.org/2000/svg\" xmlns:xlink=\"http://www.w3.org/1999/xlink\" width=\"100.0\" height=\"100.0\" viewBox=\"-0.04 1.41 1.08 0.30000000000000004\" preserveAspectRatio=\"xMinYMin meet\"><g transform=\"matrix(1,0,0,-1,0,3.12)\"><g><circle cx=\"1.0\" cy=\"1.67\" r=\"0.0324\" stroke=\"#555555\" stroke-width=\"0.0108\" fill=\"#66cc99\" opacity=\"0.6\" /><circle cx=\"0.0\" cy=\"1.45\" r=\"0.0324\" stroke=\"#555555\" stroke-width=\"0.0108\" fill=\"#66cc99\" opacity=\"0.6\" /></g></g></svg>"
      ],
      "text/plain": [
       "<shapely.geometry.multipoint.MultiPoint at 0x1fc4681eca0>"
      ]
     },
     "execution_count": 10,
     "metadata": {},
     "output_type": "execute_result"
    }
   ],
   "source": [
    "MultiPoint([*nearest_geoms])"
   ]
  },
  {
   "cell_type": "code",
   "execution_count": 11,
   "id": "76c1ba11",
   "metadata": {},
   "outputs": [],
   "source": [
    "import geopandas as gpd\n",
    "import os\n",
    "\n",
    "def read_data(path, driver=None):\n",
    "    assert os.path.isfile(path), 'Input must be a valid file'\n",
    "    return gpd.read_file(path) if driver is None else \\\n",
    "        gpd.read_file(path, driver=driver)\n",
    "\n",
    "def read_kml(path):\n",
    "    gpd.io.file.fiona.drvsupport.supported_drivers['KML'] = 'rw'\n",
    "    return read_data(path, driver='KML')"
   ]
  },
  {
   "cell_type": "code",
   "execution_count": 12,
   "id": "64bdec8e",
   "metadata": {},
   "outputs": [],
   "source": [
    "# Define filepaths\n",
    "fp1 = \"data/PKS_suuralue.kml\"\n",
    "fp2 = \"data/addresses.shp\""
   ]
  },
  {
   "cell_type": "code",
   "execution_count": 14,
   "id": "401c47ef",
   "metadata": {},
   "outputs": [],
   "source": [
    "df1 = read_kml(fp1)\n",
    "df2 = read_data(fp2)"
   ]
  },
  {
   "cell_type": "code",
   "execution_count": 15,
   "id": "9100b460",
   "metadata": {},
   "outputs": [
    {
     "data": {
      "text/html": [
       "<div>\n",
       "<style scoped>\n",
       "    .dataframe tbody tr th:only-of-type {\n",
       "        vertical-align: middle;\n",
       "    }\n",
       "\n",
       "    .dataframe tbody tr th {\n",
       "        vertical-align: top;\n",
       "    }\n",
       "\n",
       "    .dataframe thead th {\n",
       "        text-align: right;\n",
       "    }\n",
       "</style>\n",
       "<table border=\"1\" class=\"dataframe\">\n",
       "  <thead>\n",
       "    <tr style=\"text-align: right;\">\n",
       "      <th></th>\n",
       "      <th>Name</th>\n",
       "      <th>Description</th>\n",
       "      <th>geometry</th>\n",
       "    </tr>\n",
       "  </thead>\n",
       "  <tbody>\n",
       "    <tr>\n",
       "      <th>0</th>\n",
       "      <td>Suur-Espoonlahti</td>\n",
       "      <td></td>\n",
       "      <td>POLYGON Z ((24.77506 60.10906 0.00000, 24.7766...</td>\n",
       "    </tr>\n",
       "    <tr>\n",
       "      <th>1</th>\n",
       "      <td>Suur-Kauklahti</td>\n",
       "      <td></td>\n",
       "      <td>POLYGON Z ((24.61578 60.17257 0.00000, 24.6155...</td>\n",
       "    </tr>\n",
       "    <tr>\n",
       "      <th>2</th>\n",
       "      <td>Vanha-Espoo</td>\n",
       "      <td></td>\n",
       "      <td>POLYGON Z ((24.67576 60.21201 0.00000, 24.6752...</td>\n",
       "    </tr>\n",
       "    <tr>\n",
       "      <th>3</th>\n",
       "      <td>Pohjois-Espoo</td>\n",
       "      <td></td>\n",
       "      <td>POLYGON Z ((24.76792 60.26920 0.00000, 24.7699...</td>\n",
       "    </tr>\n",
       "    <tr>\n",
       "      <th>4</th>\n",
       "      <td>Suur-Matinkylä</td>\n",
       "      <td></td>\n",
       "      <td>POLYGON Z ((24.75361 60.16631 0.00000, 24.7537...</td>\n",
       "    </tr>\n",
       "  </tbody>\n",
       "</table>\n",
       "</div>"
      ],
      "text/plain": [
       "               Name Description  \\\n",
       "0  Suur-Espoonlahti               \n",
       "1    Suur-Kauklahti               \n",
       "2       Vanha-Espoo               \n",
       "3     Pohjois-Espoo               \n",
       "4    Suur-Matinkylä               \n",
       "\n",
       "                                            geometry  \n",
       "0  POLYGON Z ((24.77506 60.10906 0.00000, 24.7766...  \n",
       "1  POLYGON Z ((24.61578 60.17257 0.00000, 24.6155...  \n",
       "2  POLYGON Z ((24.67576 60.21201 0.00000, 24.6752...  \n",
       "3  POLYGON Z ((24.76792 60.26920 0.00000, 24.7699...  \n",
       "4  POLYGON Z ((24.75361 60.16631 0.00000, 24.7537...  "
      ]
     },
     "execution_count": 15,
     "metadata": {},
     "output_type": "execute_result"
    }
   ],
   "source": [
    "df1.head()"
   ]
  },
  {
   "cell_type": "code",
   "execution_count": 16,
   "id": "5f8a6404",
   "metadata": {
    "scrolled": true
   },
   "outputs": [
    {
     "data": {
      "text/html": [
       "<div>\n",
       "<style scoped>\n",
       "    .dataframe tbody tr th:only-of-type {\n",
       "        vertical-align: middle;\n",
       "    }\n",
       "\n",
       "    .dataframe tbody tr th {\n",
       "        vertical-align: top;\n",
       "    }\n",
       "\n",
       "    .dataframe thead th {\n",
       "        text-align: right;\n",
       "    }\n",
       "</style>\n",
       "<table border=\"1\" class=\"dataframe\">\n",
       "  <thead>\n",
       "    <tr style=\"text-align: right;\">\n",
       "      <th></th>\n",
       "      <th>address</th>\n",
       "      <th>id</th>\n",
       "      <th>addr</th>\n",
       "      <th>geometry</th>\n",
       "    </tr>\n",
       "  </thead>\n",
       "  <tbody>\n",
       "    <tr>\n",
       "      <th>0</th>\n",
       "      <td>Ruoholahti, 14, Itämerenkatu, Ruoholahti, Läns...</td>\n",
       "      <td>1000</td>\n",
       "      <td>Itämerenkatu 14, 00101 Helsinki, Finland</td>\n",
       "      <td>POINT (24.91556 60.16320)</td>\n",
       "    </tr>\n",
       "    <tr>\n",
       "      <th>1</th>\n",
       "      <td>Kamppi, 1, Kampinkuja, Kamppi, Eteläinen suurp...</td>\n",
       "      <td>1001</td>\n",
       "      <td>Kampinkuja 1, 00100 Helsinki, Finland</td>\n",
       "      <td>POINT (24.93166 60.16905)</td>\n",
       "    </tr>\n",
       "    <tr>\n",
       "      <th>2</th>\n",
       "      <td>Bangkok9, 8, Kaivokatu, Keskusta, Kluuvi, Hels...</td>\n",
       "      <td>1002</td>\n",
       "      <td>Kaivokatu 8, 00101 Helsinki, Finland</td>\n",
       "      <td>POINT (24.94168 60.16996)</td>\n",
       "    </tr>\n",
       "    <tr>\n",
       "      <th>3</th>\n",
       "      <td>Hermannin rantatie, Verkkosaari, Kalasatama, S...</td>\n",
       "      <td>1003</td>\n",
       "      <td>Hermannin rantatie 1, 00580 Helsinki, Finland</td>\n",
       "      <td>POINT (24.97835 60.18976)</td>\n",
       "    </tr>\n",
       "    <tr>\n",
       "      <th>4</th>\n",
       "      <td>Hesburger, 9, Tyynenmerenkatu, Jätkäsaari, Län...</td>\n",
       "      <td>1005</td>\n",
       "      <td>Tyynenmerenkatu 9, 00220 Helsinki, Finland</td>\n",
       "      <td>POINT (24.92160 60.15665)</td>\n",
       "    </tr>\n",
       "  </tbody>\n",
       "</table>\n",
       "</div>"
      ],
      "text/plain": [
       "                                             address    id  \\\n",
       "0  Ruoholahti, 14, Itämerenkatu, Ruoholahti, Läns...  1000   \n",
       "1  Kamppi, 1, Kampinkuja, Kamppi, Eteläinen suurp...  1001   \n",
       "2  Bangkok9, 8, Kaivokatu, Keskusta, Kluuvi, Hels...  1002   \n",
       "3  Hermannin rantatie, Verkkosaari, Kalasatama, S...  1003   \n",
       "4  Hesburger, 9, Tyynenmerenkatu, Jätkäsaari, Län...  1005   \n",
       "\n",
       "                                            addr                   geometry  \n",
       "0       Itämerenkatu 14, 00101 Helsinki, Finland  POINT (24.91556 60.16320)  \n",
       "1          Kampinkuja 1, 00100 Helsinki, Finland  POINT (24.93166 60.16905)  \n",
       "2           Kaivokatu 8, 00101 Helsinki, Finland  POINT (24.94168 60.16996)  \n",
       "3  Hermannin rantatie 1, 00580 Helsinki, Finland  POINT (24.97835 60.18976)  \n",
       "4     Tyynenmerenkatu 9, 00220 Helsinki, Finland  POINT (24.92160 60.15665)  "
      ]
     },
     "execution_count": 16,
     "metadata": {},
     "output_type": "execute_result"
    }
   ],
   "source": [
    "df2.head()"
   ]
  },
  {
   "cell_type": "markdown",
   "id": "2161b85b",
   "metadata": {},
   "source": [
    "- Before calculating any distances, we should re-project the data into a projected crs."
   ]
  },
  {
   "cell_type": "code",
   "execution_count": 17,
   "id": "f87096a8",
   "metadata": {},
   "outputs": [],
   "source": [
    "df1 = df1.to_crs(epsg=3067)\n",
    "df2 = df2.to_crs(epsg=3067)"
   ]
  },
  {
   "cell_type": "markdown",
   "id": "e5422a89",
   "metadata": {},
   "source": [
    "- Furthermore, let’s calculate the centroids for each district area:"
   ]
  },
  {
   "cell_type": "code",
   "execution_count": 18,
   "id": "0a5f27b7",
   "metadata": {},
   "outputs": [
    {
     "data": {
      "text/html": [
       "<div>\n",
       "<style scoped>\n",
       "    .dataframe tbody tr th:only-of-type {\n",
       "        vertical-align: middle;\n",
       "    }\n",
       "\n",
       "    .dataframe tbody tr th {\n",
       "        vertical-align: top;\n",
       "    }\n",
       "\n",
       "    .dataframe thead th {\n",
       "        text-align: right;\n",
       "    }\n",
       "</style>\n",
       "<table border=\"1\" class=\"dataframe\">\n",
       "  <thead>\n",
       "    <tr style=\"text-align: right;\">\n",
       "      <th></th>\n",
       "      <th>Name</th>\n",
       "      <th>Description</th>\n",
       "      <th>geometry</th>\n",
       "      <th>centroid</th>\n",
       "    </tr>\n",
       "  </thead>\n",
       "  <tbody>\n",
       "    <tr>\n",
       "      <th>0</th>\n",
       "      <td>Suur-Espoonlahti</td>\n",
       "      <td></td>\n",
       "      <td>POLYGON Z ((376322.317 6665639.417 0.000, 3764...</td>\n",
       "      <td>POINT (375676.529 6658405.261)</td>\n",
       "    </tr>\n",
       "    <tr>\n",
       "      <th>1</th>\n",
       "      <td>Suur-Kauklahti</td>\n",
       "      <td></td>\n",
       "      <td>POLYGON Z ((367726.077 6673018.023 0.000, 3677...</td>\n",
       "      <td>POINT (365520.906 6675893.101)</td>\n",
       "    </tr>\n",
       "    <tr>\n",
       "      <th>2</th>\n",
       "      <td>Vanha-Espoo</td>\n",
       "      <td></td>\n",
       "      <td>POLYGON Z ((371207.712 6677289.881 0.000, 3711...</td>\n",
       "      <td>POINT (367400.175 6681941.088)</td>\n",
       "    </tr>\n",
       "    <tr>\n",
       "      <th>3</th>\n",
       "      <td>Pohjois-Espoo</td>\n",
       "      <td></td>\n",
       "      <td>POLYGON Z ((376528.523 6683480.345 0.000, 3766...</td>\n",
       "      <td>POINT (372191.037 6687785.458)</td>\n",
       "    </tr>\n",
       "    <tr>\n",
       "      <th>4</th>\n",
       "      <td>Suur-Matinkylä</td>\n",
       "      <td></td>\n",
       "      <td>POLYGON Z ((375347.271 6672052.630 0.000, 3753...</td>\n",
       "      <td>POINT (375678.189 6670243.076)</td>\n",
       "    </tr>\n",
       "  </tbody>\n",
       "</table>\n",
       "</div>"
      ],
      "text/plain": [
       "               Name Description  \\\n",
       "0  Suur-Espoonlahti               \n",
       "1    Suur-Kauklahti               \n",
       "2       Vanha-Espoo               \n",
       "3     Pohjois-Espoo               \n",
       "4    Suur-Matinkylä               \n",
       "\n",
       "                                            geometry  \\\n",
       "0  POLYGON Z ((376322.317 6665639.417 0.000, 3764...   \n",
       "1  POLYGON Z ((367726.077 6673018.023 0.000, 3677...   \n",
       "2  POLYGON Z ((371207.712 6677289.881 0.000, 3711...   \n",
       "3  POLYGON Z ((376528.523 6683480.345 0.000, 3766...   \n",
       "4  POLYGON Z ((375347.271 6672052.630 0.000, 3753...   \n",
       "\n",
       "                         centroid  \n",
       "0  POINT (375676.529 6658405.261)  \n",
       "1  POINT (365520.906 6675893.101)  \n",
       "2  POINT (367400.175 6681941.088)  \n",
       "3  POINT (372191.037 6687785.458)  \n",
       "4  POINT (375678.189 6670243.076)  "
      ]
     },
     "execution_count": 18,
     "metadata": {},
     "output_type": "execute_result"
    }
   ],
   "source": [
    "df1['centroid'] = df1.centroid\n",
    "df1.head()"
   ]
  },
  {
   "cell_type": "markdown",
   "id": "9b2e25f8",
   "metadata": {},
   "source": [
    "- we want to apply the Shapely nearest_pointsfunction so that we compare each polygon centroid to all address points"
   ]
  },
  {
   "cell_type": "code",
   "execution_count": 23,
   "id": "76dbb893",
   "metadata": {},
   "outputs": [],
   "source": [
    "def get_nearest_values(row, other_gdf, point_column='geometry', value_column='geometry'):\n",
    "    # create union(multipoint) of other GeoDataFrame \n",
    "    other_points = other_gdf['geometry'].unary_union\n",
    "    # find the nearest points\n",
    "    nearest_geoms = nearest_points(row[point_column], other_points)\n",
    "    # get corresponding values from the other df\n",
    "    nearest_data = other_gdf.loc[other_gdf['geometry'] == nearest_geoms[1]]\n",
    "    \n",
    "    nearest_value = nearest_data[value_column].values[0]\n",
    "    return nearest_value"
   ]
  },
  {
   "cell_type": "markdown",
   "id": "e3ad9a8e",
   "metadata": {},
   "source": [
    "- Let’s check how unary union works by applying it to the address points GeoDataFrame:"
   ]
  },
  {
   "cell_type": "code",
   "execution_count": 24,
   "id": "51fd5895",
   "metadata": {},
   "outputs": [
    {
     "data": {
      "image/svg+xml": [
       "<svg xmlns=\"http://www.w3.org/2000/svg\" xmlns:xlink=\"http://www.w3.org/1999/xlink\" width=\"300\" height=\"300\" viewBox=\"380670.01946840377 6670055.403843924 16652.24874705542 14630.242076334544\" preserveAspectRatio=\"xMinYMin meet\"><g transform=\"matrix(1,0,0,-1,0,13354741.049764182)\"><g><circle cx=\"381286.7694219984\" cy=\"6680863.79179517\" r=\"166.52248747055418\" stroke=\"#555555\" stroke-width=\"55.50749582351806\" fill=\"#66cc99\" opacity=\"0.6\" /><circle cx=\"381505.3519674061\" cy=\"6678285.881515038\" r=\"166.52248747055418\" stroke=\"#555555\" stroke-width=\"55.50749582351806\" fill=\"#66cc99\" opacity=\"0.6\" /><circle cx=\"382114.9792119076\" cy=\"6678084.618272202\" r=\"166.52248747055418\" stroke=\"#555555\" stroke-width=\"55.50749582351806\" fill=\"#66cc99\" opacity=\"0.6\" /><circle cx=\"382488.73234809126\" cy=\"6680044.294902803\" r=\"166.52248747055418\" stroke=\"#555555\" stroke-width=\"55.50749582351806\" fill=\"#66cc99\" opacity=\"0.6\" /><circle cx=\"382745.2925349261\" cy=\"6678996.642557419\" r=\"166.52248747055418\" stroke=\"#555555\" stroke-width=\"55.50749582351806\" fill=\"#66cc99\" opacity=\"0.6\" /><circle cx=\"383326.4146784363\" cy=\"6677463.572679196\" r=\"166.52248747055418\" stroke=\"#555555\" stroke-width=\"55.50749582351806\" fill=\"#66cc99\" opacity=\"0.6\" /><circle cx=\"384320.8982796484\" cy=\"6671412.394772961\" r=\"166.52248747055418\" stroke=\"#555555\" stroke-width=\"55.50749582351806\" fill=\"#66cc99\" opacity=\"0.6\" /><circle cx=\"384618.38487654505\" cy=\"6670937.937219749\" r=\"166.52248747055418\" stroke=\"#555555\" stroke-width=\"55.50749582351806\" fill=\"#66cc99\" opacity=\"0.6\" /><circle cx=\"384632.93678170093\" cy=\"6670672.153797519\" r=\"166.52248747055418\" stroke=\"#555555\" stroke-width=\"55.50749582351806\" fill=\"#66cc99\" opacity=\"0.6\" /><circle cx=\"385148.8141037619\" cy=\"6671753.98966218\" r=\"166.52248747055418\" stroke=\"#555555\" stroke-width=\"55.50749582351806\" fill=\"#66cc99\" opacity=\"0.6\" /><circle cx=\"385234.57067530986\" cy=\"6672035.18146947\" r=\"166.52248747055418\" stroke=\"#555555\" stroke-width=\"55.50749582351806\" fill=\"#66cc99\" opacity=\"0.6\" /><circle cx=\"385315.3532032097\" cy=\"6672037.488103471\" r=\"166.52248747055418\" stroke=\"#555555\" stroke-width=\"55.50749582351806\" fill=\"#66cc99\" opacity=\"0.6\" /><circle cx=\"385486.63769903884\" cy=\"6675317.531513787\" r=\"166.52248747055418\" stroke=\"#555555\" stroke-width=\"55.50749582351806\" fill=\"#66cc99\" opacity=\"0.6\" /><circle cx=\"385574.31789573544\" cy=\"6672103.242839949\" r=\"166.52248747055418\" stroke=\"#555555\" stroke-width=\"55.50749582351806\" fill=\"#66cc99\" opacity=\"0.6\" /><circle cx=\"385793.7621273006\" cy=\"6672119.786274237\" r=\"166.52248747055418\" stroke=\"#555555\" stroke-width=\"55.50749582351806\" fill=\"#66cc99\" opacity=\"0.6\" /><circle cx=\"386100.1179494156\" cy=\"6672326.634806169\" r=\"166.52248747055418\" stroke=\"#555555\" stroke-width=\"55.50749582351806\" fill=\"#66cc99\" opacity=\"0.6\" /><circle cx=\"386261.4834770238\" cy=\"6673159.375055161\" r=\"166.52248747055418\" stroke=\"#555555\" stroke-width=\"55.50749582351806\" fill=\"#66cc99\" opacity=\"0.6\" /><circle cx=\"386323.7502928813\" cy=\"6677878.715123225\" r=\"166.52248747055418\" stroke=\"#555555\" stroke-width=\"55.50749582351806\" fill=\"#66cc99\" opacity=\"0.6\" /><circle cx=\"386931.4983202177\" cy=\"6674095.571714901\" r=\"166.52248747055418\" stroke=\"#555555\" stroke-width=\"55.50749582351806\" fill=\"#66cc99\" opacity=\"0.6\" /><circle cx=\"387329.01954235986\" cy=\"6678742.357557865\" r=\"166.52248747055418\" stroke=\"#555555\" stroke-width=\"55.50749582351806\" fill=\"#66cc99\" opacity=\"0.6\" /><circle cx=\"387894.94395290915\" cy=\"6674261.326489997\" r=\"166.52248747055418\" stroke=\"#555555\" stroke-width=\"55.50749582351806\" fill=\"#66cc99\" opacity=\"0.6\" /><circle cx=\"388924.30183989904\" cy=\"6680234.979897246\" r=\"166.52248747055418\" stroke=\"#555555\" stroke-width=\"55.50749582351806\" fill=\"#66cc99\" opacity=\"0.6\" /><circle cx=\"389469.44169960066\" cy=\"6674096.854469957\" r=\"166.52248747055418\" stroke=\"#555555\" stroke-width=\"55.50749582351806\" fill=\"#66cc99\" opacity=\"0.6\" /><circle cx=\"390024.582701657\" cy=\"6681059.205512979\" r=\"166.52248747055418\" stroke=\"#555555\" stroke-width=\"55.50749582351806\" fill=\"#66cc99\" opacity=\"0.6\" /><circle cx=\"390419.00094183005\" cy=\"6680179.263382102\" r=\"166.52248747055418\" stroke=\"#555555\" stroke-width=\"55.50749582351806\" fill=\"#66cc99\" opacity=\"0.6\" /><circle cx=\"390662.98644965864\" cy=\"6674679.071426063\" r=\"166.52248747055418\" stroke=\"#555555\" stroke-width=\"55.50749582351806\" fill=\"#66cc99\" opacity=\"0.6\" /><circle cx=\"390938.50697237236\" cy=\"6682359.4644968575\" r=\"166.52248747055418\" stroke=\"#555555\" stroke-width=\"55.50749582351806\" fill=\"#66cc99\" opacity=\"0.6\" /><circle cx=\"391016.3816639048\" cy=\"6684068.895966664\" r=\"166.52248747055418\" stroke=\"#555555\" stroke-width=\"55.50749582351806\" fill=\"#66cc99\" opacity=\"0.6\" /><circle cx=\"393357.1042346841\" cy=\"6678059.346633228\" r=\"166.52248747055418\" stroke=\"#555555\" stroke-width=\"55.50749582351806\" fill=\"#66cc99\" opacity=\"0.6\" /><circle cx=\"393504.15268113074\" cy=\"6676328.732766316\" r=\"166.52248747055418\" stroke=\"#555555\" stroke-width=\"55.50749582351806\" fill=\"#66cc99\" opacity=\"0.6\" /><circle cx=\"393774.3333639805\" cy=\"6679151.0353354085\" r=\"166.52248747055418\" stroke=\"#555555\" stroke-width=\"55.50749582351806\" fill=\"#66cc99\" opacity=\"0.6\" /><circle cx=\"395121.8703996794\" cy=\"6677373.018778469\" r=\"166.52248747055418\" stroke=\"#555555\" stroke-width=\"55.50749582351806\" fill=\"#66cc99\" opacity=\"0.6\" /><circle cx=\"395330.3563508561\" cy=\"6679374.774158641\" r=\"166.52248747055418\" stroke=\"#555555\" stroke-width=\"55.50749582351806\" fill=\"#66cc99\" opacity=\"0.6\" /><circle cx=\"396705.51826186455\" cy=\"6675934.708057361\" r=\"166.52248747055418\" stroke=\"#555555\" stroke-width=\"55.50749582351806\" fill=\"#66cc99\" opacity=\"0.6\" /></g></g></svg>"
      ],
      "text/plain": [
       "<shapely.geometry.multipoint.MultiPoint at 0x1fc4dedf700>"
      ]
     },
     "execution_count": 24,
     "metadata": {},
     "output_type": "execute_result"
    }
   ],
   "source": [
    "unary_union = df2.unary_union\n",
    "unary_union"
   ]
  },
  {
   "cell_type": "markdown",
   "id": "fa5339d6",
   "metadata": {},
   "source": [
    "- Try first applying the function without any additional modifications:"
   ]
  },
  {
   "cell_type": "code",
   "execution_count": 25,
   "id": "4d4dfe43",
   "metadata": {},
   "outputs": [],
   "source": [
    "df1[\"nearest_loc\"] = df1.apply(get_nearest_values, other_gdf=df2, point_column=\"centroid\", axis=1)"
   ]
  },
  {
   "cell_type": "code",
   "execution_count": 26,
   "id": "b1520bac",
   "metadata": {},
   "outputs": [
    {
     "data": {
      "text/html": [
       "<div>\n",
       "<style scoped>\n",
       "    .dataframe tbody tr th:only-of-type {\n",
       "        vertical-align: middle;\n",
       "    }\n",
       "\n",
       "    .dataframe tbody tr th {\n",
       "        vertical-align: top;\n",
       "    }\n",
       "\n",
       "    .dataframe thead th {\n",
       "        text-align: right;\n",
       "    }\n",
       "</style>\n",
       "<table border=\"1\" class=\"dataframe\">\n",
       "  <thead>\n",
       "    <tr style=\"text-align: right;\">\n",
       "      <th></th>\n",
       "      <th>Name</th>\n",
       "      <th>Description</th>\n",
       "      <th>geometry</th>\n",
       "      <th>centroid</th>\n",
       "      <th>nearest_loc</th>\n",
       "    </tr>\n",
       "  </thead>\n",
       "  <tbody>\n",
       "    <tr>\n",
       "      <th>0</th>\n",
       "      <td>Suur-Espoonlahti</td>\n",
       "      <td></td>\n",
       "      <td>POLYGON Z ((376322.317 6665639.417 0.000, 3764...</td>\n",
       "      <td>POINT (375676.529 6658405.261)</td>\n",
       "      <td>POINT (384632.9367817009 6670672.153797519)</td>\n",
       "    </tr>\n",
       "    <tr>\n",
       "      <th>1</th>\n",
       "      <td>Suur-Kauklahti</td>\n",
       "      <td></td>\n",
       "      <td>POLYGON Z ((367726.077 6673018.023 0.000, 3677...</td>\n",
       "      <td>POINT (365520.906 6675893.101)</td>\n",
       "      <td>POINT (381505.3519674061 6678285.881515038)</td>\n",
       "    </tr>\n",
       "    <tr>\n",
       "      <th>2</th>\n",
       "      <td>Vanha-Espoo</td>\n",
       "      <td></td>\n",
       "      <td>POLYGON Z ((371207.712 6677289.881 0.000, 3711...</td>\n",
       "      <td>POINT (367400.175 6681941.088)</td>\n",
       "      <td>POINT (381286.7694219984 6680863.79179517)</td>\n",
       "    </tr>\n",
       "    <tr>\n",
       "      <th>3</th>\n",
       "      <td>Pohjois-Espoo</td>\n",
       "      <td></td>\n",
       "      <td>POLYGON Z ((376528.523 6683480.345 0.000, 3766...</td>\n",
       "      <td>POINT (372191.037 6687785.458)</td>\n",
       "      <td>POINT (381286.7694219984 6680863.79179517)</td>\n",
       "    </tr>\n",
       "    <tr>\n",
       "      <th>4</th>\n",
       "      <td>Suur-Matinkylä</td>\n",
       "      <td></td>\n",
       "      <td>POLYGON Z ((375347.271 6672052.630 0.000, 3753...</td>\n",
       "      <td>POINT (375678.189 6670243.076)</td>\n",
       "      <td>POINT (384320.8982796484 6671412.394772961)</td>\n",
       "    </tr>\n",
       "  </tbody>\n",
       "</table>\n",
       "</div>"
      ],
      "text/plain": [
       "               Name Description  \\\n",
       "0  Suur-Espoonlahti               \n",
       "1    Suur-Kauklahti               \n",
       "2       Vanha-Espoo               \n",
       "3     Pohjois-Espoo               \n",
       "4    Suur-Matinkylä               \n",
       "\n",
       "                                            geometry  \\\n",
       "0  POLYGON Z ((376322.317 6665639.417 0.000, 3764...   \n",
       "1  POLYGON Z ((367726.077 6673018.023 0.000, 3677...   \n",
       "2  POLYGON Z ((371207.712 6677289.881 0.000, 3711...   \n",
       "3  POLYGON Z ((376528.523 6683480.345 0.000, 3766...   \n",
       "4  POLYGON Z ((375347.271 6672052.630 0.000, 3753...   \n",
       "\n",
       "                         centroid                                  nearest_loc  \n",
       "0  POINT (375676.529 6658405.261)  POINT (384632.9367817009 6670672.153797519)  \n",
       "1  POINT (365520.906 6675893.101)  POINT (381505.3519674061 6678285.881515038)  \n",
       "2  POINT (367400.175 6681941.088)   POINT (381286.7694219984 6680863.79179517)  \n",
       "3  POINT (372191.037 6687785.458)   POINT (381286.7694219984 6680863.79179517)  \n",
       "4  POINT (375678.189 6670243.076)  POINT (384320.8982796484 6671412.394772961)  "
      ]
     },
     "execution_count": 26,
     "metadata": {},
     "output_type": "execute_result"
    }
   ],
   "source": [
    "df1.head()"
   ]
  },
  {
   "cell_type": "markdown",
   "id": "ea964f58",
   "metadata": {},
   "source": [
    "- we can also get the id of points closest to each district"
   ]
  },
  {
   "cell_type": "code",
   "execution_count": 28,
   "id": "459912c6",
   "metadata": {},
   "outputs": [],
   "source": [
    "df1[\"nearest_loc_id\"] = df1.apply(get_nearest_values, other_gdf=df2, point_column=\"centroid\", value_column='id', axis=1)"
   ]
  },
  {
   "cell_type": "code",
   "execution_count": 29,
   "id": "90d7a716",
   "metadata": {},
   "outputs": [
    {
     "data": {
      "text/html": [
       "<div>\n",
       "<style scoped>\n",
       "    .dataframe tbody tr th:only-of-type {\n",
       "        vertical-align: middle;\n",
       "    }\n",
       "\n",
       "    .dataframe tbody tr th {\n",
       "        vertical-align: top;\n",
       "    }\n",
       "\n",
       "    .dataframe thead th {\n",
       "        text-align: right;\n",
       "    }\n",
       "</style>\n",
       "<table border=\"1\" class=\"dataframe\">\n",
       "  <thead>\n",
       "    <tr style=\"text-align: right;\">\n",
       "      <th></th>\n",
       "      <th>Name</th>\n",
       "      <th>Description</th>\n",
       "      <th>geometry</th>\n",
       "      <th>centroid</th>\n",
       "      <th>nearest_loc</th>\n",
       "      <th>nearest_loc_id</th>\n",
       "    </tr>\n",
       "  </thead>\n",
       "  <tbody>\n",
       "    <tr>\n",
       "      <th>0</th>\n",
       "      <td>Suur-Espoonlahti</td>\n",
       "      <td></td>\n",
       "      <td>POLYGON Z ((376322.317 6665639.417 0.000, 3764...</td>\n",
       "      <td>POINT (375676.529 6658405.261)</td>\n",
       "      <td>POINT (384632.9367817009 6670672.153797519)</td>\n",
       "      <td>1005</td>\n",
       "    </tr>\n",
       "    <tr>\n",
       "      <th>1</th>\n",
       "      <td>Suur-Kauklahti</td>\n",
       "      <td></td>\n",
       "      <td>POLYGON Z ((367726.077 6673018.023 0.000, 3677...</td>\n",
       "      <td>POINT (365520.906 6675893.101)</td>\n",
       "      <td>POINT (381505.3519674061 6678285.881515038)</td>\n",
       "      <td>1020</td>\n",
       "    </tr>\n",
       "    <tr>\n",
       "      <th>2</th>\n",
       "      <td>Vanha-Espoo</td>\n",
       "      <td></td>\n",
       "      <td>POLYGON Z ((371207.712 6677289.881 0.000, 3711...</td>\n",
       "      <td>POINT (367400.175 6681941.088)</td>\n",
       "      <td>POINT (381286.7694219984 6680863.79179517)</td>\n",
       "      <td>1017</td>\n",
       "    </tr>\n",
       "    <tr>\n",
       "      <th>3</th>\n",
       "      <td>Pohjois-Espoo</td>\n",
       "      <td></td>\n",
       "      <td>POLYGON Z ((376528.523 6683480.345 0.000, 3766...</td>\n",
       "      <td>POINT (372191.037 6687785.458)</td>\n",
       "      <td>POINT (381286.7694219984 6680863.79179517)</td>\n",
       "      <td>1017</td>\n",
       "    </tr>\n",
       "    <tr>\n",
       "      <th>4</th>\n",
       "      <td>Suur-Matinkylä</td>\n",
       "      <td></td>\n",
       "      <td>POLYGON Z ((375347.271 6672052.630 0.000, 3753...</td>\n",
       "      <td>POINT (375678.189 6670243.076)</td>\n",
       "      <td>POINT (384320.8982796484 6671412.394772961)</td>\n",
       "      <td>1000</td>\n",
       "    </tr>\n",
       "  </tbody>\n",
       "</table>\n",
       "</div>"
      ],
      "text/plain": [
       "               Name Description  \\\n",
       "0  Suur-Espoonlahti               \n",
       "1    Suur-Kauklahti               \n",
       "2       Vanha-Espoo               \n",
       "3     Pohjois-Espoo               \n",
       "4    Suur-Matinkylä               \n",
       "\n",
       "                                            geometry  \\\n",
       "0  POLYGON Z ((376322.317 6665639.417 0.000, 3764...   \n",
       "1  POLYGON Z ((367726.077 6673018.023 0.000, 3677...   \n",
       "2  POLYGON Z ((371207.712 6677289.881 0.000, 3711...   \n",
       "3  POLYGON Z ((376528.523 6683480.345 0.000, 3766...   \n",
       "4  POLYGON Z ((375347.271 6672052.630 0.000, 3753...   \n",
       "\n",
       "                         centroid  \\\n",
       "0  POINT (375676.529 6658405.261)   \n",
       "1  POINT (365520.906 6675893.101)   \n",
       "2  POINT (367400.175 6681941.088)   \n",
       "3  POINT (372191.037 6687785.458)   \n",
       "4  POINT (375678.189 6670243.076)   \n",
       "\n",
       "                                   nearest_loc  nearest_loc_id  \n",
       "0  POINT (384632.9367817009 6670672.153797519)            1005  \n",
       "1  POINT (381505.3519674061 6678285.881515038)            1020  \n",
       "2   POINT (381286.7694219984 6680863.79179517)            1017  \n",
       "3   POINT (381286.7694219984 6680863.79179517)            1017  \n",
       "4  POINT (384320.8982796484 6671412.394772961)            1000  "
      ]
     },
     "execution_count": 29,
     "metadata": {},
     "output_type": "execute_result"
    }
   ],
   "source": [
    "df1.head()"
   ]
  },
  {
   "cell_type": "code",
   "execution_count": null,
   "id": "d27431ae",
   "metadata": {},
   "outputs": [],
   "source": []
  }
 ],
 "metadata": {
  "kernelspec": {
   "display_name": "Python [conda env:autogis_lesson2]",
   "language": "python",
   "name": "conda-env-autogis_lesson2-py"
  },
  "language_info": {
   "codemirror_mode": {
    "name": "ipython",
    "version": 3
   },
   "file_extension": ".py",
   "mimetype": "text/x-python",
   "name": "python",
   "nbconvert_exporter": "python",
   "pygments_lexer": "ipython3",
   "version": "3.9.12"
  }
 },
 "nbformat": 4,
 "nbformat_minor": 5
}
