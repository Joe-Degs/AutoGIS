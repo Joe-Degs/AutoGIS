{
 "cells": [
  {
   "cell_type": "markdown",
   "id": "dcfbce57",
   "metadata": {},
   "source": [
    "### [Spatial Joins](https://autogis-site.readthedocs.io/en/latest/notebooks/L3/03_spatial-join.html)"
   ]
  },
  {
   "cell_type": "code",
   "execution_count": 3,
   "id": "a18ae80a",
   "metadata": {},
   "outputs": [],
   "source": [
    "import geopandas as gpd\n",
    "from pyproj import CRS\n",
    "import requests\n",
    "import geojson\n",
    "\n",
    "# Specify the url for web feature service\n",
    "url = 'https://kartta.hsy.fi/geoserver/wfs'\n",
    "\n",
    "# Specify parameters (read data in json format). \n",
    "# Available feature types in this particular data source: http://geo.stat.fi/geoserver/vaestoruutu/wfs?service=wfs&version=2.0.0&request=describeFeatureType\n",
    "params = dict(service='WFS', \n",
    "              version='2.0.0', \n",
    "              request='GetFeature', \n",
    "              typeName='asuminen_ja_maankaytto:Vaestotietoruudukko_2018', \n",
    "              outputFormat='json')\n",
    "\n",
    "# Fetch data from WFS using requests\n",
    "r = requests.get(url, params=params)\n",
    "\n",
    "# Create GeoDataFrame from geojson\n",
    "pop = gpd.GeoDataFrame.from_features(geojson.loads(r.content))"
   ]
  },
  {
   "cell_type": "code",
   "execution_count": 4,
   "id": "dfb849fc",
   "metadata": {},
   "outputs": [
    {
     "data": {
      "text/html": [
       "<div>\n",
       "<style scoped>\n",
       "    .dataframe tbody tr th:only-of-type {\n",
       "        vertical-align: middle;\n",
       "    }\n",
       "\n",
       "    .dataframe tbody tr th {\n",
       "        vertical-align: top;\n",
       "    }\n",
       "\n",
       "    .dataframe thead th {\n",
       "        text-align: right;\n",
       "    }\n",
       "</style>\n",
       "<table border=\"1\" class=\"dataframe\">\n",
       "  <thead>\n",
       "    <tr style=\"text-align: right;\">\n",
       "      <th></th>\n",
       "      <th>geometry</th>\n",
       "      <th>index</th>\n",
       "      <th>asukkaita</th>\n",
       "      <th>asvaljyys</th>\n",
       "      <th>ika0_9</th>\n",
       "      <th>ika10_19</th>\n",
       "      <th>ika20_29</th>\n",
       "      <th>ika30_39</th>\n",
       "      <th>ika40_49</th>\n",
       "      <th>ika50_59</th>\n",
       "      <th>ika60_69</th>\n",
       "      <th>ika70_79</th>\n",
       "      <th>ika_yli80</th>\n",
       "    </tr>\n",
       "  </thead>\n",
       "  <tbody>\n",
       "    <tr>\n",
       "      <th>0</th>\n",
       "      <td>POLYGON ((25472499.995 6689749.005, 25472499.9...</td>\n",
       "      <td>688</td>\n",
       "      <td>9</td>\n",
       "      <td>28.0</td>\n",
       "      <td>99</td>\n",
       "      <td>99</td>\n",
       "      <td>99</td>\n",
       "      <td>99</td>\n",
       "      <td>99</td>\n",
       "      <td>99</td>\n",
       "      <td>99</td>\n",
       "      <td>99</td>\n",
       "      <td>99</td>\n",
       "    </tr>\n",
       "    <tr>\n",
       "      <th>1</th>\n",
       "      <td>POLYGON ((25472499.995 6685998.998, 25472499.9...</td>\n",
       "      <td>703</td>\n",
       "      <td>5</td>\n",
       "      <td>51.0</td>\n",
       "      <td>99</td>\n",
       "      <td>99</td>\n",
       "      <td>99</td>\n",
       "      <td>99</td>\n",
       "      <td>99</td>\n",
       "      <td>99</td>\n",
       "      <td>99</td>\n",
       "      <td>99</td>\n",
       "      <td>99</td>\n",
       "    </tr>\n",
       "    <tr>\n",
       "      <th>2</th>\n",
       "      <td>POLYGON ((25472499.995 6684249.004, 25472499.9...</td>\n",
       "      <td>710</td>\n",
       "      <td>8</td>\n",
       "      <td>44.0</td>\n",
       "      <td>99</td>\n",
       "      <td>99</td>\n",
       "      <td>99</td>\n",
       "      <td>99</td>\n",
       "      <td>99</td>\n",
       "      <td>99</td>\n",
       "      <td>99</td>\n",
       "      <td>99</td>\n",
       "      <td>99</td>\n",
       "    </tr>\n",
       "    <tr>\n",
       "      <th>3</th>\n",
       "      <td>POLYGON ((25472499.995 6683999.005, 25472499.9...</td>\n",
       "      <td>711</td>\n",
       "      <td>5</td>\n",
       "      <td>90.0</td>\n",
       "      <td>99</td>\n",
       "      <td>99</td>\n",
       "      <td>99</td>\n",
       "      <td>99</td>\n",
       "      <td>99</td>\n",
       "      <td>99</td>\n",
       "      <td>99</td>\n",
       "      <td>99</td>\n",
       "      <td>99</td>\n",
       "    </tr>\n",
       "    <tr>\n",
       "      <th>4</th>\n",
       "      <td>POLYGON ((25472499.995 6682998.998, 25472499.9...</td>\n",
       "      <td>715</td>\n",
       "      <td>11</td>\n",
       "      <td>41.0</td>\n",
       "      <td>99</td>\n",
       "      <td>99</td>\n",
       "      <td>99</td>\n",
       "      <td>99</td>\n",
       "      <td>99</td>\n",
       "      <td>99</td>\n",
       "      <td>99</td>\n",
       "      <td>99</td>\n",
       "      <td>99</td>\n",
       "    </tr>\n",
       "  </tbody>\n",
       "</table>\n",
       "</div>"
      ],
      "text/plain": [
       "                                            geometry  index  asukkaita  \\\n",
       "0  POLYGON ((25472499.995 6689749.005, 25472499.9...    688          9   \n",
       "1  POLYGON ((25472499.995 6685998.998, 25472499.9...    703          5   \n",
       "2  POLYGON ((25472499.995 6684249.004, 25472499.9...    710          8   \n",
       "3  POLYGON ((25472499.995 6683999.005, 25472499.9...    711          5   \n",
       "4  POLYGON ((25472499.995 6682998.998, 25472499.9...    715         11   \n",
       "\n",
       "   asvaljyys  ika0_9  ika10_19  ika20_29  ika30_39  ika40_49  ika50_59  \\\n",
       "0       28.0      99        99        99        99        99        99   \n",
       "1       51.0      99        99        99        99        99        99   \n",
       "2       44.0      99        99        99        99        99        99   \n",
       "3       90.0      99        99        99        99        99        99   \n",
       "4       41.0      99        99        99        99        99        99   \n",
       "\n",
       "   ika60_69  ika70_79  ika_yli80  \n",
       "0        99        99         99  \n",
       "1        99        99         99  \n",
       "2        99        99         99  \n",
       "3        99        99         99  \n",
       "4        99        99         99  "
      ]
     },
     "execution_count": 4,
     "metadata": {},
     "output_type": "execute_result"
    }
   ],
   "source": [
    "pop.head()"
   ]
  },
  {
   "cell_type": "code",
   "execution_count": 5,
   "id": "a7a0bca5",
   "metadata": {},
   "outputs": [
    {
     "data": {
      "text/plain": [
       "array(['geometry', 'index', 'pop18', 'asvaljyys', 'ika0_9', 'ika10_19',\n",
       "       'ika20_29', 'ika30_39', 'ika40_49', 'ika50_59', 'ika60_69',\n",
       "       'ika70_79', 'ika_yli80'], dtype=object)"
      ]
     },
     "execution_count": 5,
     "metadata": {},
     "output_type": "execute_result"
    }
   ],
   "source": [
    "pop = pop.rename(columns={'asukkaita': 'pop18'})\n",
    "\n",
    "pop.columns.values"
   ]
  },
  {
   "cell_type": "code",
   "execution_count": 6,
   "id": "909b0e71",
   "metadata": {},
   "outputs": [],
   "source": [
    "pop = pop[['pop18', 'geometry']]"
   ]
  },
  {
   "cell_type": "code",
   "execution_count": 7,
   "id": "cc439c48",
   "metadata": {},
   "outputs": [
    {
     "data": {
      "text/html": [
       "<div>\n",
       "<style scoped>\n",
       "    .dataframe tbody tr th:only-of-type {\n",
       "        vertical-align: middle;\n",
       "    }\n",
       "\n",
       "    .dataframe tbody tr th {\n",
       "        vertical-align: top;\n",
       "    }\n",
       "\n",
       "    .dataframe thead th {\n",
       "        text-align: right;\n",
       "    }\n",
       "</style>\n",
       "<table border=\"1\" class=\"dataframe\">\n",
       "  <thead>\n",
       "    <tr style=\"text-align: right;\">\n",
       "      <th></th>\n",
       "      <th>pop18</th>\n",
       "      <th>geometry</th>\n",
       "    </tr>\n",
       "  </thead>\n",
       "  <tbody>\n",
       "    <tr>\n",
       "      <th>0</th>\n",
       "      <td>9</td>\n",
       "      <td>POLYGON ((25472499.995 6689749.005, 25472499.9...</td>\n",
       "    </tr>\n",
       "    <tr>\n",
       "      <th>1</th>\n",
       "      <td>5</td>\n",
       "      <td>POLYGON ((25472499.995 6685998.998, 25472499.9...</td>\n",
       "    </tr>\n",
       "    <tr>\n",
       "      <th>2</th>\n",
       "      <td>8</td>\n",
       "      <td>POLYGON ((25472499.995 6684249.004, 25472499.9...</td>\n",
       "    </tr>\n",
       "    <tr>\n",
       "      <th>3</th>\n",
       "      <td>5</td>\n",
       "      <td>POLYGON ((25472499.995 6683999.005, 25472499.9...</td>\n",
       "    </tr>\n",
       "    <tr>\n",
       "      <th>4</th>\n",
       "      <td>11</td>\n",
       "      <td>POLYGON ((25472499.995 6682998.998, 25472499.9...</td>\n",
       "    </tr>\n",
       "  </tbody>\n",
       "</table>\n",
       "</div>"
      ],
      "text/plain": [
       "   pop18                                           geometry\n",
       "0      9  POLYGON ((25472499.995 6689749.005, 25472499.9...\n",
       "1      5  POLYGON ((25472499.995 6685998.998, 25472499.9...\n",
       "2      8  POLYGON ((25472499.995 6684249.004, 25472499.9...\n",
       "3      5  POLYGON ((25472499.995 6683999.005, 25472499.9...\n",
       "4     11  POLYGON ((25472499.995 6682998.998, 25472499.9..."
      ]
     },
     "execution_count": 7,
     "metadata": {},
     "output_type": "execute_result"
    }
   ],
   "source": [
    "pop.head()"
   ]
  },
  {
   "cell_type": "markdown",
   "id": "7b98ca47",
   "metadata": {},
   "source": [
    "### Join the Layers"
   ]
  },
  {
   "cell_type": "code",
   "execution_count": 8,
   "id": "e95f4933",
   "metadata": {},
   "outputs": [],
   "source": [
    "addr_file = 'data/addresses.shp'\n",
    "addr_shapefile = gpd.read_file(addr_file)"
   ]
  },
  {
   "cell_type": "code",
   "execution_count": 9,
   "id": "ee88a55d",
   "metadata": {},
   "outputs": [
    {
     "data": {
      "text/html": [
       "<div>\n",
       "<style scoped>\n",
       "    .dataframe tbody tr th:only-of-type {\n",
       "        vertical-align: middle;\n",
       "    }\n",
       "\n",
       "    .dataframe tbody tr th {\n",
       "        vertical-align: top;\n",
       "    }\n",
       "\n",
       "    .dataframe thead th {\n",
       "        text-align: right;\n",
       "    }\n",
       "</style>\n",
       "<table border=\"1\" class=\"dataframe\">\n",
       "  <thead>\n",
       "    <tr style=\"text-align: right;\">\n",
       "      <th></th>\n",
       "      <th>address</th>\n",
       "      <th>id</th>\n",
       "      <th>addr</th>\n",
       "      <th>geometry</th>\n",
       "    </tr>\n",
       "  </thead>\n",
       "  <tbody>\n",
       "    <tr>\n",
       "      <th>0</th>\n",
       "      <td>Ruoholahti, 14, Itämerenkatu, Ruoholahti, Läns...</td>\n",
       "      <td>1000</td>\n",
       "      <td>Itämerenkatu 14, 00101 Helsinki, Finland</td>\n",
       "      <td>POINT (24.91556 60.16320)</td>\n",
       "    </tr>\n",
       "    <tr>\n",
       "      <th>1</th>\n",
       "      <td>Kamppi, 1, Kampinkuja, Kamppi, Eteläinen suurp...</td>\n",
       "      <td>1001</td>\n",
       "      <td>Kampinkuja 1, 00100 Helsinki, Finland</td>\n",
       "      <td>POINT (24.93166 60.16905)</td>\n",
       "    </tr>\n",
       "    <tr>\n",
       "      <th>2</th>\n",
       "      <td>Bangkok9, 8, Kaivokatu, Keskusta, Kluuvi, Hels...</td>\n",
       "      <td>1002</td>\n",
       "      <td>Kaivokatu 8, 00101 Helsinki, Finland</td>\n",
       "      <td>POINT (24.94168 60.16996)</td>\n",
       "    </tr>\n",
       "    <tr>\n",
       "      <th>3</th>\n",
       "      <td>Hermannin rantatie, Verkkosaari, Kalasatama, S...</td>\n",
       "      <td>1003</td>\n",
       "      <td>Hermannin rantatie 1, 00580 Helsinki, Finland</td>\n",
       "      <td>POINT (24.97835 60.18976)</td>\n",
       "    </tr>\n",
       "    <tr>\n",
       "      <th>4</th>\n",
       "      <td>Hesburger, 9, Tyynenmerenkatu, Jätkäsaari, Län...</td>\n",
       "      <td>1005</td>\n",
       "      <td>Tyynenmerenkatu 9, 00220 Helsinki, Finland</td>\n",
       "      <td>POINT (24.92160 60.15665)</td>\n",
       "    </tr>\n",
       "  </tbody>\n",
       "</table>\n",
       "</div>"
      ],
      "text/plain": [
       "                                             address    id  \\\n",
       "0  Ruoholahti, 14, Itämerenkatu, Ruoholahti, Läns...  1000   \n",
       "1  Kamppi, 1, Kampinkuja, Kamppi, Eteläinen suurp...  1001   \n",
       "2  Bangkok9, 8, Kaivokatu, Keskusta, Kluuvi, Hels...  1002   \n",
       "3  Hermannin rantatie, Verkkosaari, Kalasatama, S...  1003   \n",
       "4  Hesburger, 9, Tyynenmerenkatu, Jätkäsaari, Län...  1005   \n",
       "\n",
       "                                            addr                   geometry  \n",
       "0       Itämerenkatu 14, 00101 Helsinki, Finland  POINT (24.91556 60.16320)  \n",
       "1          Kampinkuja 1, 00100 Helsinki, Finland  POINT (24.93166 60.16905)  \n",
       "2           Kaivokatu 8, 00101 Helsinki, Finland  POINT (24.94168 60.16996)  \n",
       "3  Hermannin rantatie 1, 00580 Helsinki, Finland  POINT (24.97835 60.18976)  \n",
       "4     Tyynenmerenkatu 9, 00220 Helsinki, Finland  POINT (24.92160 60.15665)  "
      ]
     },
     "execution_count": 9,
     "metadata": {},
     "output_type": "execute_result"
    }
   ],
   "source": [
    "addr_shapefile.head()"
   ]
  },
  {
   "cell_type": "code",
   "execution_count": 10,
   "id": "d6794026",
   "metadata": {},
   "outputs": [
    {
     "data": {
      "text/plain": [
       "<Geographic 2D CRS: EPSG:4326>\n",
       "Name: WGS 84\n",
       "Axis Info [ellipsoidal]:\n",
       "- Lat[north]: Geodetic latitude (degree)\n",
       "- Lon[east]: Geodetic longitude (degree)\n",
       "Area of Use:\n",
       "- name: World\n",
       "- bounds: (-180.0, -90.0, 180.0, 90.0)\n",
       "Datum: World Geodetic System 1984\n",
       "- Ellipsoid: WGS 84\n",
       "- Prime Meridian: Greenwich"
      ]
     },
     "execution_count": 10,
     "metadata": {},
     "output_type": "execute_result"
    }
   ],
   "source": [
    "addr_shapefile.crs"
   ]
  },
  {
   "cell_type": "code",
   "execution_count": 11,
   "id": "af7428bd",
   "metadata": {},
   "outputs": [],
   "source": [
    "pop.crs"
   ]
  },
  {
   "cell_type": "code",
   "execution_count": 12,
   "id": "5f062603",
   "metadata": {},
   "outputs": [],
   "source": [
    "pop.crs = CRS.from_epsg(3879).to_wkt()"
   ]
  },
  {
   "cell_type": "code",
   "execution_count": 13,
   "id": "f0bafbc0",
   "metadata": {},
   "outputs": [
    {
     "data": {
      "text/plain": [
       "<Projected CRS: EPSG:3879>\n",
       "Name: ETRS89 / GK25FIN\n",
       "Axis Info [cartesian]:\n",
       "- N[north]: Northing (metre)\n",
       "- E[east]: Easting (metre)\n",
       "Area of Use:\n",
       "- name: Finland - 24.5°E to 25.5°E onshore nominal\n",
       "- bounds: (24.5, 59.94, 25.5, 68.9)\n",
       "Coordinate Operation:\n",
       "- name: Finland Gauss-Kruger zone 25\n",
       "- method: Transverse Mercator\n",
       "Datum: European Terrestrial Reference System 1989\n",
       "- Ellipsoid: GRS 1980\n",
       "- Prime Meridian: Greenwich"
      ]
     },
     "execution_count": 13,
     "metadata": {},
     "output_type": "execute_result"
    }
   ],
   "source": [
    "pop.crs"
   ]
  },
  {
   "cell_type": "code",
   "execution_count": 15,
   "id": "2690febd",
   "metadata": {},
   "outputs": [
    {
     "data": {
      "text/plain": [
       "False"
      ]
     },
     "execution_count": 15,
     "metadata": {},
     "output_type": "execute_result"
    }
   ],
   "source": [
    "addr_shapefile.crs == pop.crs"
   ]
  },
  {
   "cell_type": "code",
   "execution_count": 16,
   "id": "e8993c30",
   "metadata": {},
   "outputs": [],
   "source": [
    "addr_shapefile = addr_shapefile.to_crs(pop.crs)"
   ]
  },
  {
   "cell_type": "code",
   "execution_count": 17,
   "id": "62887033",
   "metadata": {},
   "outputs": [
    {
     "data": {
      "text/plain": [
       "<Projected CRS: EPSG:3879>\n",
       "Name: ETRS89 / GK25FIN\n",
       "Axis Info [cartesian]:\n",
       "- N[north]: Northing (metre)\n",
       "- E[east]: Easting (metre)\n",
       "Area of Use:\n",
       "- name: Finland - 24.5°E to 25.5°E onshore nominal\n",
       "- bounds: (24.5, 59.94, 25.5, 68.9)\n",
       "Coordinate Operation:\n",
       "- name: Finland Gauss-Kruger zone 25\n",
       "- method: Transverse Mercator\n",
       "Datum: European Terrestrial Reference System 1989\n",
       "- Ellipsoid: GRS 1980\n",
       "- Prime Meridian: Greenwich"
      ]
     },
     "execution_count": 17,
     "metadata": {},
     "output_type": "execute_result"
    }
   ],
   "source": [
    "addr_shapefile.crs"
   ]
  },
  {
   "cell_type": "code",
   "execution_count": 18,
   "id": "f194a1eb",
   "metadata": {},
   "outputs": [
    {
     "data": {
      "text/plain": [
       "True"
      ]
     },
     "execution_count": 18,
     "metadata": {},
     "output_type": "execute_result"
    }
   ],
   "source": [
    "addr_shapefile.crs == pop.crs"
   ]
  },
  {
   "cell_type": "markdown",
   "id": "1055088f",
   "metadata": {},
   "source": [
    "- join the attributes of the two datasets into one encompassing one"
   ]
  },
  {
   "cell_type": "code",
   "execution_count": 21,
   "id": "d5b5fef0",
   "metadata": {},
   "outputs": [],
   "source": [
    "join = gpd.sjoin(addr_shapefile, pop, how='inner', op='within')"
   ]
  },
  {
   "cell_type": "code",
   "execution_count": 22,
   "id": "f18fd0f7",
   "metadata": {},
   "outputs": [
    {
     "data": {
      "text/html": [
       "<div>\n",
       "<style scoped>\n",
       "    .dataframe tbody tr th:only-of-type {\n",
       "        vertical-align: middle;\n",
       "    }\n",
       "\n",
       "    .dataframe tbody tr th {\n",
       "        vertical-align: top;\n",
       "    }\n",
       "\n",
       "    .dataframe thead th {\n",
       "        text-align: right;\n",
       "    }\n",
       "</style>\n",
       "<table border=\"1\" class=\"dataframe\">\n",
       "  <thead>\n",
       "    <tr style=\"text-align: right;\">\n",
       "      <th></th>\n",
       "      <th>address</th>\n",
       "      <th>id</th>\n",
       "      <th>addr</th>\n",
       "      <th>geometry</th>\n",
       "      <th>index_right</th>\n",
       "      <th>pop18</th>\n",
       "    </tr>\n",
       "  </thead>\n",
       "  <tbody>\n",
       "    <tr>\n",
       "      <th>0</th>\n",
       "      <td>Ruoholahti, 14, Itämerenkatu, Ruoholahti, Läns...</td>\n",
       "      <td>1000</td>\n",
       "      <td>Itämerenkatu 14, 00101 Helsinki, Finland</td>\n",
       "      <td>POINT (25495311.608 6672258.695)</td>\n",
       "      <td>3252</td>\n",
       "      <td>515</td>\n",
       "    </tr>\n",
       "    <tr>\n",
       "      <th>1</th>\n",
       "      <td>Kamppi, 1, Kampinkuja, Kamppi, Eteläinen suurp...</td>\n",
       "      <td>1001</td>\n",
       "      <td>Kampinkuja 1, 00100 Helsinki, Finland</td>\n",
       "      <td>POINT (25496206.216 6672909.016)</td>\n",
       "      <td>3364</td>\n",
       "      <td>182</td>\n",
       "    </tr>\n",
       "    <tr>\n",
       "      <th>2</th>\n",
       "      <td>Bangkok9, 8, Kaivokatu, Keskusta, Kluuvi, Hels...</td>\n",
       "      <td>1002</td>\n",
       "      <td>Kaivokatu 8, 00101 Helsinki, Finland</td>\n",
       "      <td>POINT (25496762.723 6673010.538)</td>\n",
       "      <td>3488</td>\n",
       "      <td>38</td>\n",
       "    </tr>\n",
       "    <tr>\n",
       "      <th>3</th>\n",
       "      <td>Hermannin rantatie, Verkkosaari, Kalasatama, S...</td>\n",
       "      <td>1003</td>\n",
       "      <td>Hermannin rantatie 1, 00580 Helsinki, Finland</td>\n",
       "      <td>POINT (25498798.583 6675215.263)</td>\n",
       "      <td>3822</td>\n",
       "      <td>61</td>\n",
       "    </tr>\n",
       "    <tr>\n",
       "      <th>4</th>\n",
       "      <td>Hesburger, 9, Tyynenmerenkatu, Jätkäsaari, Län...</td>\n",
       "      <td>1005</td>\n",
       "      <td>Tyynenmerenkatu 9, 00220 Helsinki, Finland</td>\n",
       "      <td>POINT (25495645.995 6671528.068)</td>\n",
       "      <td>3298</td>\n",
       "      <td>1435</td>\n",
       "    </tr>\n",
       "  </tbody>\n",
       "</table>\n",
       "</div>"
      ],
      "text/plain": [
       "                                             address    id  \\\n",
       "0  Ruoholahti, 14, Itämerenkatu, Ruoholahti, Läns...  1000   \n",
       "1  Kamppi, 1, Kampinkuja, Kamppi, Eteläinen suurp...  1001   \n",
       "2  Bangkok9, 8, Kaivokatu, Keskusta, Kluuvi, Hels...  1002   \n",
       "3  Hermannin rantatie, Verkkosaari, Kalasatama, S...  1003   \n",
       "4  Hesburger, 9, Tyynenmerenkatu, Jätkäsaari, Län...  1005   \n",
       "\n",
       "                                            addr  \\\n",
       "0       Itämerenkatu 14, 00101 Helsinki, Finland   \n",
       "1          Kampinkuja 1, 00100 Helsinki, Finland   \n",
       "2           Kaivokatu 8, 00101 Helsinki, Finland   \n",
       "3  Hermannin rantatie 1, 00580 Helsinki, Finland   \n",
       "4     Tyynenmerenkatu 9, 00220 Helsinki, Finland   \n",
       "\n",
       "                           geometry  index_right  pop18  \n",
       "0  POINT (25495311.608 6672258.695)         3252    515  \n",
       "1  POINT (25496206.216 6672909.016)         3364    182  \n",
       "2  POINT (25496762.723 6673010.538)         3488     38  \n",
       "3  POINT (25498798.583 6675215.263)         3822     61  \n",
       "4  POINT (25495645.995 6671528.068)         3298   1435  "
      ]
     },
     "execution_count": 22,
     "metadata": {},
     "output_type": "execute_result"
    }
   ],
   "source": [
    "join.head()"
   ]
  },
  {
   "cell_type": "code",
   "execution_count": 23,
   "id": "b388faad",
   "metadata": {},
   "outputs": [
    {
     "data": {
      "text/plain": [
       "31"
      ]
     },
     "execution_count": 23,
     "metadata": {},
     "output_type": "execute_result"
    }
   ],
   "source": [
    "len(join)"
   ]
  },
  {
   "cell_type": "code",
   "execution_count": 25,
   "id": "b7ddffe2",
   "metadata": {},
   "outputs": [
    {
     "data": {
      "text/plain": [
       "34"
      ]
     },
     "execution_count": 25,
     "metadata": {},
     "output_type": "execute_result"
    }
   ],
   "source": [
    "len(addr_shapefile)"
   ]
  },
  {
   "cell_type": "code",
   "execution_count": 34,
   "id": "b89bc2bc",
   "metadata": {},
   "outputs": [
    {
     "data": {
      "image/png": "[encoded data removed]",
      "text/plain": [
       "<Figure size 1080x720 with 1 Axes>"
      ]
     },
     "metadata": {
      "needs_background": "light"
     },
     "output_type": "display_data"
    }
   ],
   "source": [
    "import matplotlib.pyplot as plt\n",
    "\n",
    "fig, ax = plt.subplots(figsize=(15, 10))\n",
    "pop.plot(ax=ax)\n",
    "addr_shapefile.plot(ax=ax, color='red', markersize=30)\n",
    "plt.tight_layout()"
   ]
  },
  {
   "cell_type": "code",
   "execution_count": 35,
   "id": "ae687ef6",
   "metadata": {},
   "outputs": [
    {
     "data": {
      "image/png": "[encoded data removed]",
      "text/plain": [
       "<Figure size 720x576 with 1 Axes>"
      ]
     },
     "metadata": {
      "needs_background": "light"
     },
     "output_type": "display_data"
    }
   ],
   "source": [
    "fig, ax = plt.subplots(figsize=(10, 8))\n",
    "join.plot(ax=ax, column='pop18', cmap='Reds', markersize=50, scheme='quantiles', legend=True)\n",
    "plt.title(\"Amount of inhabitants living close to the point\")\n",
    "plt.tight_layout()"
   ]
  },
  {
   "cell_type": "code",
   "execution_count": 36,
   "id": "cf811888",
   "metadata": {},
   "outputs": [
    {
     "data": {
      "image/png": "[encoded data removed]",
      "text/plain": [
       "<Figure size 720x576 with 1 Axes>"
      ]
     },
     "metadata": {
      "needs_background": "light"
     },
     "output_type": "display_data"
    }
   ],
   "source": [
    "fig, ax = plt.subplots(figsize=(10, 8))\n",
    "pop.plot(ax=ax, column='pop18', cmap='Reds', markersize=50, scheme='quantiles', legend=True)\n",
    "plt.title(\"Population 2018 in 250 x 250 m grid square\")\n",
    "plt.tight_layout()"
   ]
  },
  {
   "cell_type": "code",
   "execution_count": 37,
   "id": "97c0aa3d",
   "metadata": {},
   "outputs": [
    {
     "name": "stderr",
     "output_type": "stream",
     "text": [
      "C:\\ProgramData\\Anaconda3\\envs\\autogis_lesson2\\lib\\site-packages\\geopandas\\io\\file.py:299: FutureWarning: pandas.Int64Index is deprecated and will be removed from pandas in a future version. Use pandas.Index with the appropriate dtype instead.\n",
      "  pd.Int64Index,\n",
      "C:\\Users\\big yeti\\AppData\\Local\\Temp\\ipykernel_10348\\1174626313.py:1: UserWarning: Column names longer than 10 characters will be truncated when saved to ESRI Shapefile.\n",
      "  join.to_file('data/spatial_join.shp')\n"
     ]
    }
   ],
   "source": [
    "join.to_file('data/spatial_join.shp')"
   ]
  },
  {
   "cell_type": "code",
   "execution_count": null,
   "id": "9e7bcc5b",
   "metadata": {},
   "outputs": [],
   "source": []
  }
 ],
 "metadata": {
  "kernelspec": {
   "display_name": "Python [conda env:autogis_lesson2]",
   "language": "python",
   "name": "conda-env-autogis_lesson2-py"
  },
  "language_info": {
   "codemirror_mode": {
    "name": "ipython",
    "version": 3
   },
   "file_extension": ".py",
   "mimetype": "text/x-python",
   "name": "python",
   "nbconvert_exporter": "python",
   "pygments_lexer": "ipython3",
   "version": "3.9.12"
  }
 },
 "nbformat": 4,
 "nbformat_minor": 5
}
