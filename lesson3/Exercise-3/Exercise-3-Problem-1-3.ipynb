{
 "cells": [
  {
   "cell_type": "markdown",
   "metadata": {},
   "source": [
    "## Problem 1: Geocode shopping centers (5 points)\n",
    "\n",
    "The overall aim of problems 1-3 is to find out **how many people live within a walking distance (1.5 km) from certain shopping centers in Helsinki**.\n",
    "\n",
    "In problem 1 aim is to find out the addresses of shopping centers and to retreive numercal coordinates for these addresses. As an output, we will have a Shapefile called `shopping_centers.shp` which contains the geocoded result.\n",
    "\n",
    "**Preparation:** Find out the addresses for following shopping centers from the internet, and write the addresses into a text file called `shopping_centers.txt`:\n",
    "\n",
    " - Itis\n",
    " - Forum\n",
    " - Iso-omena\n",
    " - Sello\n",
    " - Jumbo\n",
    " - REDI\n",
    " - Tripla \n",
    " \n",
    " *Hint for \"Tripla\": This shopping center opened in October 10 2019, and if you are doing this exercise soon after that, the official address might not yet be in online databases. \n",
    " Check for an address nearby the Pasila railway station on OpenStreetMap.org and use that as input.*\n",
    "\n",
    "`shopping_centers.txt` should have semicolon (`;`) as a separator, and the file should include the following columns:\n",
    "\n",
    "- ``id`` (integer) containing an unique identifier for each shopping center\n",
    "- ``name`` (string) of each shopping center\n",
    "- ``addr`` (string) the address \n",
    "\n",
    "\n",
    "See and example of how to format the text file [in the lesson 3 materials](https://automating-gis-processes.github.io/site/master/notebooks/L3/geocoding_in_geopandas.html). Save (and upload) the text file into your exercise repository.\n",
    "\n",
    "- Read `shopping_centers.txt` that you just created into a pandas DataFrame called ``data``:"
   ]
  },
  {
   "cell_type": "code",
   "execution_count": 71,
   "metadata": {
    "deletable": false,
    "nbgrader": {
     "cell_type": "code",
     "checksum": "7de89a15a19f7c81c62cc7fe98d6b668",
     "grade": false,
     "grade_id": "read_data",
     "locked": false,
     "schema_version": 3,
     "solution": true
    }
   },
   "outputs": [
    {
     "data": {
      "text/html": [
       "<div>\n",
       "<style scoped>\n",
       "    .dataframe tbody tr th:only-of-type {\n",
       "        vertical-align: middle;\n",
       "    }\n",
       "\n",
       "    .dataframe tbody tr th {\n",
       "        vertical-align: top;\n",
       "    }\n",
       "\n",
       "    .dataframe thead th {\n",
       "        text-align: right;\n",
       "    }\n",
       "</style>\n",
       "<table border=\"1\" class=\"dataframe\">\n",
       "  <thead>\n",
       "    <tr style=\"text-align: right;\">\n",
       "      <th></th>\n",
       "      <th>id</th>\n",
       "      <th>name</th>\n",
       "      <th>addr</th>\n",
       "    </tr>\n",
       "  </thead>\n",
       "  <tbody>\n",
       "    <tr>\n",
       "      <th>0</th>\n",
       "      <td>0</td>\n",
       "      <td>Itis</td>\n",
       "      <td>Itäkatu 1-7, 00930 Helsinki, Finland</td>\n",
       "    </tr>\n",
       "    <tr>\n",
       "      <th>1</th>\n",
       "      <td>1</td>\n",
       "      <td>Forum</td>\n",
       "      <td>Mannerheimintie 14-20, 00100 Helsinki, Finland</td>\n",
       "    </tr>\n",
       "    <tr>\n",
       "      <th>2</th>\n",
       "      <td>2</td>\n",
       "      <td>Iso-Omena</td>\n",
       "      <td>Piispansilta 11, 02230 Espoo, Finland</td>\n",
       "    </tr>\n",
       "    <tr>\n",
       "      <th>3</th>\n",
       "      <td>3</td>\n",
       "      <td>Sello</td>\n",
       "      <td>Leppävaarankatu 3-9, 02600 Espoo, Finland</td>\n",
       "    </tr>\n",
       "    <tr>\n",
       "      <th>4</th>\n",
       "      <td>4</td>\n",
       "      <td>Jumbo</td>\n",
       "      <td>Vantaanportinkatu 3, 01510 Vantaa</td>\n",
       "    </tr>\n",
       "  </tbody>\n",
       "</table>\n",
       "</div>"
      ],
      "text/plain": [
       "   id       name                                            addr\n",
       "0   0       Itis            Itäkatu 1-7, 00930 Helsinki, Finland\n",
       "1   1      Forum  Mannerheimintie 14-20, 00100 Helsinki, Finland\n",
       "2   2  Iso-Omena           Piispansilta 11, 02230 Espoo, Finland\n",
       "3   3      Sello       Leppävaarankatu 3-9, 02600 Espoo, Finland\n",
       "4   4      Jumbo               Vantaanportinkatu 3, 01510 Vantaa"
      ]
     },
     "execution_count": 71,
     "metadata": {},
     "output_type": "execute_result"
    }
   ],
   "source": [
    "# Import modules\n",
    "import os\n",
    "import pandas as pd\n",
    "import geopandas as gpd\n",
    "\n",
    "def read_csv(path, sep=';'):\n",
    "    assert os.path.isfile(path), 'Input must be valid file!'\n",
    "    return pd.read_csv(path, sep=sep)\n",
    "\n",
    "# Read the data (replace \"None\" with your own code)\n",
    "data = read_csv('shopping_centers.txt')\n",
    "\n",
    "# REPLACE THE ERROR BELOW WITH YOUR OWN CODE\n",
    "data.head()"
   ]
  },
  {
   "cell_type": "code",
   "execution_count": 72,
   "metadata": {
    "deletable": false,
    "editable": false,
    "nbgrader": {
     "cell_type": "code",
     "checksum": "4e90dc0406dff7a0f4b0860443092087",
     "grade": true,
     "grade_id": "problem_1_read_data_tests",
     "locked": true,
     "points": 1,
     "schema_version": 3,
     "solution": false
    }
   },
   "outputs": [
    {
     "name": "stdout",
     "output_type": "stream",
     "text": [
      "   id       name                                            addr\n",
      "0   0       Itis            Itäkatu 1-7, 00930 Helsinki, Finland\n",
      "1   1      Forum  Mannerheimintie 14-20, 00100 Helsinki, Finland\n",
      "2   2  Iso-Omena           Piispansilta 11, 02230 Espoo, Finland\n",
      "3   3      Sello       Leppävaarankatu 3-9, 02600 Espoo, Finland\n",
      "4   4      Jumbo               Vantaanportinkatu 3, 01510 Vantaa\n",
      "5   5       REDI            Hermannin rantatie 5, 00580 Helsinki\n",
      "6   6     Tripla                 Pasilansilta 11, 00520 Helsinki\n"
     ]
    }
   ],
   "source": [
    "#NON-EDITABLE TEST CELL\n",
    "# Check your input data\n",
    "print(data)"
   ]
  },
  {
   "cell_type": "markdown",
   "metadata": {},
   "source": [
    "- Geocode the addresses using the Nominatim geocoding service. Store the output in a variable called `geo`:"
   ]
  },
  {
   "cell_type": "code",
   "execution_count": 73,
   "metadata": {
    "deletable": false,
    "nbgrader": {
     "cell_type": "code",
     "checksum": "2feb8b7739bd1a824b39c3a1d0af369f",
     "grade": false,
     "grade_id": "geocode",
     "locked": false,
     "schema_version": 3,
     "solution": true
    }
   },
   "outputs": [
    {
     "data": {
      "text/html": [
       "<div>\n",
       "<style scoped>\n",
       "    .dataframe tbody tr th:only-of-type {\n",
       "        vertical-align: middle;\n",
       "    }\n",
       "\n",
       "    .dataframe tbody tr th {\n",
       "        vertical-align: top;\n",
       "    }\n",
       "\n",
       "    .dataframe thead th {\n",
       "        text-align: right;\n",
       "    }\n",
       "</style>\n",
       "<table border=\"1\" class=\"dataframe\">\n",
       "  <thead>\n",
       "    <tr style=\"text-align: right;\">\n",
       "      <th></th>\n",
       "      <th>geometry</th>\n",
       "      <th>address</th>\n",
       "    </tr>\n",
       "  </thead>\n",
       "  <tbody>\n",
       "    <tr>\n",
       "      <th>0</th>\n",
       "      <td>POINT (25.08130 60.21105)</td>\n",
       "      <td>Osuuspankki, 1-7, Itäkatu, Itäkeskus, Vartioky...</td>\n",
       "    </tr>\n",
       "    <tr>\n",
       "      <th>1</th>\n",
       "      <td>POINT (24.93828 60.16878)</td>\n",
       "      <td>Salaattiasema, 14-20, Mannerheimintie, Keskust...</td>\n",
       "    </tr>\n",
       "    <tr>\n",
       "      <th>2</th>\n",
       "      <td>POINT (24.73995 60.16040)</td>\n",
       "      <td>H&amp;M, 11, Piispansilta, Matinkylä, Suur-Matinky...</td>\n",
       "    </tr>\n",
       "    <tr>\n",
       "      <th>3</th>\n",
       "      <td>POINT (24.81355 60.21877)</td>\n",
       "      <td>Pakettiautomaatti, 3-9, Leppävaarankatu, Säter...</td>\n",
       "    </tr>\n",
       "    <tr>\n",
       "      <th>4</th>\n",
       "      <td>POINT (24.96591 60.29044)</td>\n",
       "      <td>K-Citymarket Jumbo, 3, Vantaanportinkatu, Vant...</td>\n",
       "    </tr>\n",
       "  </tbody>\n",
       "</table>\n",
       "</div>"
      ],
      "text/plain": [
       "                    geometry  \\\n",
       "0  POINT (25.08130 60.21105)   \n",
       "1  POINT (24.93828 60.16878)   \n",
       "2  POINT (24.73995 60.16040)   \n",
       "3  POINT (24.81355 60.21877)   \n",
       "4  POINT (24.96591 60.29044)   \n",
       "\n",
       "                                             address  \n",
       "0  Osuuspankki, 1-7, Itäkatu, Itäkeskus, Vartioky...  \n",
       "1  Salaattiasema, 14-20, Mannerheimintie, Keskust...  \n",
       "2  H&M, 11, Piispansilta, Matinkylä, Suur-Matinky...  \n",
       "3  Pakettiautomaatti, 3-9, Leppävaarankatu, Säter...  \n",
       "4  K-Citymarket Jumbo, 3, Vantaanportinkatu, Vant...  "
      ]
     },
     "execution_count": 73,
     "metadata": {},
     "output_type": "execute_result"
    }
   ],
   "source": [
    "from geopandas.tools import geocode\n",
    "\n",
    "def geocode_nominatim(column):\n",
    "    return geocode(column, provider='nominatim', user_agent='tech_lab_jibby', timeout=5)\n",
    "    \n",
    "\n",
    "# Geocode the addresses using Nominatim\n",
    "geo = geocode_nominatim(data['addr'])\n",
    "\n",
    "# REPLACE THE ERROR BELOW WITH YOUR OWN CODE\n",
    "geo.head()"
   ]
  },
  {
   "cell_type": "code",
   "execution_count": 74,
   "metadata": {
    "deletable": false,
    "editable": false,
    "nbgrader": {
     "cell_type": "code",
     "checksum": "a3b8c4fef69c89dbb3299b84c11d3db7",
     "grade": true,
     "grade_id": "problem_1_gdf_test",
     "locked": true,
     "points": 1,
     "schema_version": 3,
     "solution": false,
     "task": false
    }
   },
   "outputs": [
    {
     "name": "stdout",
     "output_type": "stream",
     "text": [
      "                    geometry  \\\n",
      "0  POINT (25.08130 60.21105)   \n",
      "1  POINT (24.93828 60.16878)   \n",
      "2  POINT (24.73995 60.16040)   \n",
      "3  POINT (24.81355 60.21877)   \n",
      "4  POINT (24.96591 60.29044)   \n",
      "5  POINT (24.97890 60.18756)   \n",
      "6  POINT (24.93433 60.19821)   \n",
      "\n",
      "                                             address  \n",
      "0  Osuuspankki, 1-7, Itäkatu, Itäkeskus, Vartioky...  \n",
      "1  Salaattiasema, 14-20, Mannerheimintie, Keskust...  \n",
      "2  H&M, 11, Piispansilta, Matinkylä, Suur-Matinky...  \n",
      "3  Pakettiautomaatti, 3-9, Leppävaarankatu, Säter...  \n",
      "4  K-Citymarket Jumbo, 3, Vantaanportinkatu, Vant...  \n",
      "5  Yoga Valo, 5, Hermannin rantatie, Verkkosaari,...  \n",
      "6  Pasilansilta, Keski-Pasila, Pasila, Keskinen s...  \n"
     ]
    }
   ],
   "source": [
    "#NON-EDITABLE TEST CELL\n",
    "# Check the geocoded output\n",
    "print(geo)"
   ]
  },
  {
   "cell_type": "code",
   "execution_count": 75,
   "metadata": {
    "deletable": false,
    "editable": false,
    "nbgrader": {
     "cell_type": "code",
     "checksum": "f2e432e605330a668b5bfdbbbd12569e",
     "grade": true,
     "grade_id": "problem_1_geocode_tests",
     "locked": true,
     "points": 1,
     "schema_version": 3,
     "solution": false
    }
   },
   "outputs": [
    {
     "name": "stdout",
     "output_type": "stream",
     "text": [
      "<class 'geopandas.geodataframe.GeoDataFrame'>\n"
     ]
    }
   ],
   "source": [
    "#NON-EDITABLE TEST CELL\n",
    "# Check the data type (should be a GeoDataFrame!)\n",
    "print(type(geo))"
   ]
  },
  {
   "cell_type": "code",
   "execution_count": 76,
   "metadata": {},
   "outputs": [
    {
     "data": {
      "text/plain": [
       "<Geographic 2D CRS: EPSG:4326>\n",
       "Name: WGS 84\n",
       "Axis Info [ellipsoidal]:\n",
       "- Lat[north]: Geodetic latitude (degree)\n",
       "- Lon[east]: Geodetic longitude (degree)\n",
       "Area of Use:\n",
       "- name: World\n",
       "- bounds: (-180.0, -90.0, 180.0, 90.0)\n",
       "Datum: World Geodetic System 1984\n",
       "- Ellipsoid: WGS 84\n",
       "- Prime Meridian: Greenwich"
      ]
     },
     "execution_count": 76,
     "metadata": {},
     "output_type": "execute_result"
    }
   ],
   "source": [
    "geo.crs"
   ]
  },
  {
   "cell_type": "markdown",
   "metadata": {},
   "source": [
    "Check that the coordinate reference system of the geocoded result is correctly defined, and **reproject the layer into ETRS GK-25** (EPSG:3879):"
   ]
  },
  {
   "cell_type": "code",
   "execution_count": 77,
   "metadata": {
    "deletable": false,
    "nbgrader": {
     "cell_type": "code",
     "checksum": "b0159d35f45f5454fae6b5d67858b986",
     "grade": false,
     "grade_id": "crs",
     "locked": false,
     "schema_version": 3,
     "solution": true
    }
   },
   "outputs": [],
   "source": [
    "# REPLACE THE ERROR BELOW WITH YOUR OWN CODE\n",
    "geo.to_crs('EPSG:3879', inplace=True)"
   ]
  },
  {
   "cell_type": "code",
   "execution_count": 78,
   "metadata": {
    "deletable": false,
    "editable": false,
    "nbgrader": {
     "cell_type": "code",
     "checksum": "764cba257612241267e3b2bcc90b5dcd",
     "grade": true,
     "grade_id": "problem_1_crs_test",
     "locked": true,
     "points": 0.5,
     "schema_version": 3,
     "solution": false
    }
   },
   "outputs": [
    {
     "name": "stdout",
     "output_type": "stream",
     "text": [
      "EPSG:3879\n"
     ]
    }
   ],
   "source": [
    "#NON-EDITABLE TEST CELL\n",
    "# Check layer crs\n",
    "print(geo.crs)"
   ]
  },
  {
   "cell_type": "markdown",
   "metadata": {},
   "source": [
    "- Make a table join between the geocoded addresses (``geo``) and the original addresses (``data``) in order to link the numerical coordinates and  the `id` and `name` of each shopping center. \n",
    "- Store the output in a variable called ``geodata`` \n"
   ]
  },
  {
   "cell_type": "code",
   "execution_count": 79,
   "metadata": {
    "deletable": false,
    "nbgrader": {
     "cell_type": "code",
     "checksum": "aca9ef4ece824d53650aec8c0fafc38d",
     "grade": false,
     "grade_id": "join",
     "locked": false,
     "schema_version": 3,
     "solution": true
    }
   },
   "outputs": [],
   "source": [
    "# Join the tables\n",
    "geodata = geo.merge(data, left_index=True, right_index=True)\n",
    "\n",
    "# REPLACE THE ERROR BELOW WITH YOUR OWN CODE"
   ]
  },
  {
   "cell_type": "code",
   "execution_count": 80,
   "metadata": {
    "deletable": false,
    "editable": false,
    "nbgrader": {
     "cell_type": "code",
     "checksum": "98d25baeb42eaeb2701f09f42c8c84c5",
     "grade": true,
     "grade_id": "problem_1_join_test",
     "locked": true,
     "points": 1,
     "schema_version": 3,
     "solution": false
    }
   },
   "outputs": [
    {
     "name": "stdout",
     "output_type": "stream",
     "text": [
      "                           geometry  \\\n",
      "0  POINT (25504507.835 6677589.882)   \n",
      "1  POINT (25496573.542 6672878.360)   \n",
      "2  POINT (25485559.440 6671971.772)   \n",
      "3  POINT (25489665.027 6678461.731)   \n",
      "4  POINT (25498114.526 6686432.573)   \n",
      "\n",
      "                                             address  id       name  \\\n",
      "0  Osuuspankki, 1-7, Itäkatu, Itäkeskus, Vartioky...   0       Itis   \n",
      "1  Salaattiasema, 14-20, Mannerheimintie, Keskust...   1      Forum   \n",
      "2  H&M, 11, Piispansilta, Matinkylä, Suur-Matinky...   2  Iso-Omena   \n",
      "3  Pakettiautomaatti, 3-9, Leppävaarankatu, Säter...   3      Sello   \n",
      "4  K-Citymarket Jumbo, 3, Vantaanportinkatu, Vant...   4      Jumbo   \n",
      "\n",
      "                                             addr  \n",
      "0            Itäkatu 1-7, 00930 Helsinki, Finland  \n",
      "1  Mannerheimintie 14-20, 00100 Helsinki, Finland  \n",
      "2           Piispansilta 11, 02230 Espoo, Finland  \n",
      "3       Leppävaarankatu 3-9, 02600 Espoo, Finland  \n",
      "4               Vantaanportinkatu 3, 01510 Vantaa  \n"
     ]
    }
   ],
   "source": [
    "#NON-EDITABLE TEST CELL\n",
    "# Check the join output\n",
    "print(geodata.head())"
   ]
  },
  {
   "cell_type": "markdown",
   "metadata": {},
   "source": [
    "- Save the output as a Shapefile called `shopping_centers.shp` "
   ]
  },
  {
   "cell_type": "code",
   "execution_count": 81,
   "metadata": {
    "deletable": false,
    "nbgrader": {
     "cell_type": "code",
     "checksum": "362eacaf5abe4a319dda3a28a04ef594",
     "grade": false,
     "grade_id": "save_data",
     "locked": false,
     "schema_version": 3,
     "solution": true
    }
   },
   "outputs": [
    {
     "name": "stderr",
     "output_type": "stream",
     "text": [
      "C:\\ProgramData\\Anaconda3\\envs\\autogis_lesson2\\lib\\site-packages\\geopandas\\io\\file.py:299: FutureWarning: pandas.Int64Index is deprecated and will be removed from pandas in a future version. Use pandas.Index with the appropriate dtype instead.\n",
      "  pd.Int64Index,\n"
     ]
    }
   ],
   "source": [
    "# Define output filepath\n",
    "out_fp = 'shopping_centers.shp'\n",
    "\n",
    "# Save file\n",
    "geodata.to_file(out_fp)\n",
    "\n",
    "# REPLACE THE ERROR BELOW WITH YOUR OWN CODE"
   ]
  },
  {
   "cell_type": "code",
   "execution_count": 82,
   "metadata": {
    "deletable": false,
    "editable": false,
    "nbgrader": {
     "cell_type": "code",
     "checksum": "80aac786841c50c2fd08ca078bc13a56",
     "grade": true,
     "grade_id": "problem_1_save_data_test",
     "locked": true,
     "points": 0.5,
     "schema_version": 3,
     "solution": false
    }
   },
   "outputs": [
    {
     "name": "stdout",
     "output_type": "stream",
     "text": [
      "Geocoded output is stored in this file: shopping_centers.shp\n"
     ]
    }
   ],
   "source": [
    "#NON-EDITABLE TEST CELL\n",
    "# Print info about output file\n",
    "print(\"Geocoded output is stored in this file:\", out_fp)"
   ]
  },
  {
   "cell_type": "markdown",
   "metadata": {},
   "source": [
    "## Problem 2: Create buffers around shopping centers (5 points)\n",
    "\n",
    "Let's continue with our case study and calculate a 1.5 km buffer around the geocoded points. \n",
    "\n",
    "\n",
    "- Start by creating a new column called `buffer` to ``geodata`` GeoDataFrame:"
   ]
  },
  {
   "cell_type": "code",
   "execution_count": 83,
   "metadata": {
    "deletable": false,
    "nbgrader": {
     "cell_type": "code",
     "checksum": "908d9a6ea9f7776e8eeeefcfe920c9a0",
     "grade": false,
     "grade_id": "new_column",
     "locked": false,
     "schema_version": 3,
     "solution": true
    }
   },
   "outputs": [],
   "source": [
    "# REPLACE THE ERROR BELOW WITH YOUR OWN CODE\n"
   ]
  },
  {
   "cell_type": "markdown",
   "metadata": {},
   "source": [
    "- Calculate a 1.5 km buffer for each geocoded point. Store the buffer geometry in the new `buffer` column.\n",
    "\n",
    "Here, you can use the [GeoDataFrame buffer() method](http://geopandas.org/geometric_manipulations.html#GeoSeries.buffer), which uses Shapely's [buffer](http://toblerity.org/shapely/manual.html#object.buffer) in the bacground. You only need to use the `distance` -parameter, don't worry about the other parameters."
   ]
  },
  {
   "cell_type": "code",
   "execution_count": 84,
   "metadata": {
    "deletable": false,
    "nbgrader": {
     "cell_type": "code",
     "checksum": "f45cb9b3fa88f50f0f83991d3f132643",
     "grade": false,
     "grade_id": "buffer",
     "locked": false,
     "schema_version": 3,
     "solution": true
    }
   },
   "outputs": [],
   "source": [
    "# REPLACE THE ERROR BELOW WITH YOUR OWN CODE\n",
    "geodata['buffer'] = geodata.buffer(1500)"
   ]
  },
  {
   "cell_type": "code",
   "execution_count": 85,
   "metadata": {
    "deletable": false,
    "editable": false,
    "nbgrader": {
     "cell_type": "code",
     "checksum": "e2765a36c4eb2331624d3b990eccfe9f",
     "grade": true,
     "grade_id": "problem_2_column_test",
     "locked": true,
     "points": 1,
     "schema_version": 3,
     "solution": false,
     "task": false
    }
   },
   "outputs": [
    {
     "name": "stdout",
     "output_type": "stream",
     "text": [
      "                           geometry  \\\n",
      "0  POINT (25504507.835 6677589.882)   \n",
      "1  POINT (25496573.542 6672878.360)   \n",
      "2  POINT (25485559.440 6671971.772)   \n",
      "3  POINT (25489665.027 6678461.731)   \n",
      "4  POINT (25498114.526 6686432.573)   \n",
      "\n",
      "                                             address  id       name  \\\n",
      "0  Osuuspankki, 1-7, Itäkatu, Itäkeskus, Vartioky...   0       Itis   \n",
      "1  Salaattiasema, 14-20, Mannerheimintie, Keskust...   1      Forum   \n",
      "2  H&M, 11, Piispansilta, Matinkylä, Suur-Matinky...   2  Iso-Omena   \n",
      "3  Pakettiautomaatti, 3-9, Leppävaarankatu, Säter...   3      Sello   \n",
      "4  K-Citymarket Jumbo, 3, Vantaanportinkatu, Vant...   4      Jumbo   \n",
      "\n",
      "                                             addr  \\\n",
      "0            Itäkatu 1-7, 00930 Helsinki, Finland   \n",
      "1  Mannerheimintie 14-20, 00100 Helsinki, Finland   \n",
      "2           Piispansilta 11, 02230 Espoo, Finland   \n",
      "3       Leppävaarankatu 3-9, 02600 Espoo, Finland   \n",
      "4               Vantaanportinkatu 3, 01510 Vantaa   \n",
      "\n",
      "                                              buffer  \n",
      "0  POLYGON ((25506007.835 6677589.882, 25506000.6...  \n",
      "1  POLYGON ((25498073.542 6672878.360, 25498066.3...  \n",
      "2  POLYGON ((25487059.440 6671971.772, 25487052.2...  \n",
      "3  POLYGON ((25491165.027 6678461.731, 25491157.8...  \n",
      "4  POLYGON ((25499614.526 6686432.573, 25499607.3...  \n"
     ]
    }
   ],
   "source": [
    "#NON-EDITABLE TEST CELL\n",
    "print(geodata.head())"
   ]
  },
  {
   "cell_type": "code",
   "execution_count": 86,
   "metadata": {
    "deletable": false,
    "editable": false,
    "nbgrader": {
     "cell_type": "code",
     "checksum": "3aa92b08ec2320d792f9de905622df3d",
     "grade": true,
     "grade_id": "problem_2_shape_test",
     "locked": true,
     "points": 1,
     "schema_version": 3,
     "solution": false,
     "task": false
    }
   },
   "outputs": [
    {
     "name": "stdout",
     "output_type": "stream",
     "text": [
      "<class 'shapely.geometry.polygon.Polygon'>\n"
     ]
    }
   ],
   "source": [
    "#NON-EDITABLE TEST CELL\n",
    "# Check the data type of the first value in the buffer-column\n",
    "print(type(geodata.at[0,'buffer']))"
   ]
  },
  {
   "cell_type": "code",
   "execution_count": 87,
   "metadata": {
    "deletable": false,
    "editable": false,
    "nbgrader": {
     "cell_type": "code",
     "checksum": "d6e0fe9059fff655e76e4ca36a024253",
     "grade": true,
     "grade_id": "problem_2_buffer_test",
     "locked": true,
     "points": 2,
     "schema_version": 3,
     "solution": false
    }
   },
   "outputs": [
    {
     "name": "stdout",
     "output_type": "stream",
     "text": [
      "0    7.0\n",
      "1    7.0\n",
      "2    7.0\n",
      "3    7.0\n",
      "4    7.0\n",
      "5    7.0\n",
      "6    7.0\n",
      "dtype: float64\n"
     ]
    }
   ],
   "source": [
    "#NON-EDITABLE TEST CELL\n",
    "# Check the areas of your buffers in km^2\n",
    "print(round(gpd.GeoSeries(geodata[\"buffer\"]).area / 1000000))"
   ]
  },
  {
   "cell_type": "markdown",
   "metadata": {},
   "source": [
    "- Replace the values in `geometry` column with the values of `buffer` column:"
   ]
  },
  {
   "cell_type": "code",
   "execution_count": 88,
   "metadata": {
    "deletable": false,
    "nbgrader": {
     "cell_type": "code",
     "checksum": "4dbc3cfc149f2391c1c6b4274603a8e9",
     "grade": false,
     "grade_id": "geometry",
     "locked": false,
     "schema_version": 3,
     "solution": true
    }
   },
   "outputs": [],
   "source": [
    "# REPLACE THE ERROR BELOW WITH YOUR OWN CODE\n",
    "geodata['geometry'] = geodata['buffer']"
   ]
  },
  {
   "cell_type": "code",
   "execution_count": 89,
   "metadata": {
    "deletable": false,
    "editable": false,
    "nbgrader": {
     "cell_type": "code",
     "checksum": "47a972c42e423c1597440885fa571d34",
     "grade": true,
     "grade_id": "problem_2_geometry_test",
     "locked": true,
     "points": 1,
     "schema_version": 3,
     "solution": false
    }
   },
   "outputs": [
    {
     "name": "stdout",
     "output_type": "stream",
     "text": [
      "                                            geometry  \\\n",
      "0  POLYGON ((25506007.835 6677589.882, 25506000.6...   \n",
      "1  POLYGON ((25498073.542 6672878.360, 25498066.3...   \n",
      "2  POLYGON ((25487059.440 6671971.772, 25487052.2...   \n",
      "3  POLYGON ((25491165.027 6678461.731, 25491157.8...   \n",
      "4  POLYGON ((25499614.526 6686432.573, 25499607.3...   \n",
      "\n",
      "                                             address  id       name  \\\n",
      "0  Osuuspankki, 1-7, Itäkatu, Itäkeskus, Vartioky...   0       Itis   \n",
      "1  Salaattiasema, 14-20, Mannerheimintie, Keskust...   1      Forum   \n",
      "2  H&M, 11, Piispansilta, Matinkylä, Suur-Matinky...   2  Iso-Omena   \n",
      "3  Pakettiautomaatti, 3-9, Leppävaarankatu, Säter...   3      Sello   \n",
      "4  K-Citymarket Jumbo, 3, Vantaanportinkatu, Vant...   4      Jumbo   \n",
      "\n",
      "                                             addr  \\\n",
      "0            Itäkatu 1-7, 00930 Helsinki, Finland   \n",
      "1  Mannerheimintie 14-20, 00100 Helsinki, Finland   \n",
      "2           Piispansilta 11, 02230 Espoo, Finland   \n",
      "3       Leppävaarankatu 3-9, 02600 Espoo, Finland   \n",
      "4               Vantaanportinkatu 3, 01510 Vantaa   \n",
      "\n",
      "                                              buffer  \n",
      "0  POLYGON ((25506007.835 6677589.882, 25506000.6...  \n",
      "1  POLYGON ((25498073.542 6672878.360, 25498066.3...  \n",
      "2  POLYGON ((25487059.440 6671971.772, 25487052.2...  \n",
      "3  POLYGON ((25491165.027 6678461.731, 25491157.8...  \n",
      "4  POLYGON ((25499614.526 6686432.573, 25499607.3...  \n"
     ]
    }
   ],
   "source": [
    "#NON-EDITABLE TEST CELL\n",
    "print(geodata.head())"
   ]
  },
  {
   "cell_type": "markdown",
   "metadata": {},
   "source": [
    "Optional: at this point, you can drop out unnecessary columns from the geodataframe. In the next problem, \n",
    "we will only need these columns: `'id', 'name', 'geometry'`"
   ]
  },
  {
   "cell_type": "code",
   "execution_count": 90,
   "metadata": {},
   "outputs": [
    {
     "data": {
      "text/html": [
       "<div>\n",
       "<style scoped>\n",
       "    .dataframe tbody tr th:only-of-type {\n",
       "        vertical-align: middle;\n",
       "    }\n",
       "\n",
       "    .dataframe tbody tr th {\n",
       "        vertical-align: top;\n",
       "    }\n",
       "\n",
       "    .dataframe thead th {\n",
       "        text-align: right;\n",
       "    }\n",
       "</style>\n",
       "<table border=\"1\" class=\"dataframe\">\n",
       "  <thead>\n",
       "    <tr style=\"text-align: right;\">\n",
       "      <th></th>\n",
       "      <th>id</th>\n",
       "      <th>name</th>\n",
       "      <th>geometry</th>\n",
       "    </tr>\n",
       "  </thead>\n",
       "  <tbody>\n",
       "    <tr>\n",
       "      <th>0</th>\n",
       "      <td>0</td>\n",
       "      <td>Itis</td>\n",
       "      <td>POLYGON ((25506007.835 6677589.882, 25506000.6...</td>\n",
       "    </tr>\n",
       "    <tr>\n",
       "      <th>1</th>\n",
       "      <td>1</td>\n",
       "      <td>Forum</td>\n",
       "      <td>POLYGON ((25498073.542 6672878.360, 25498066.3...</td>\n",
       "    </tr>\n",
       "    <tr>\n",
       "      <th>2</th>\n",
       "      <td>2</td>\n",
       "      <td>Iso-Omena</td>\n",
       "      <td>POLYGON ((25487059.440 6671971.772, 25487052.2...</td>\n",
       "    </tr>\n",
       "    <tr>\n",
       "      <th>3</th>\n",
       "      <td>3</td>\n",
       "      <td>Sello</td>\n",
       "      <td>POLYGON ((25491165.027 6678461.731, 25491157.8...</td>\n",
       "    </tr>\n",
       "    <tr>\n",
       "      <th>4</th>\n",
       "      <td>4</td>\n",
       "      <td>Jumbo</td>\n",
       "      <td>POLYGON ((25499614.526 6686432.573, 25499607.3...</td>\n",
       "    </tr>\n",
       "  </tbody>\n",
       "</table>\n",
       "</div>"
      ],
      "text/plain": [
       "   id       name                                           geometry\n",
       "0   0       Itis  POLYGON ((25506007.835 6677589.882, 25506000.6...\n",
       "1   1      Forum  POLYGON ((25498073.542 6672878.360, 25498066.3...\n",
       "2   2  Iso-Omena  POLYGON ((25487059.440 6671971.772, 25487052.2...\n",
       "3   3      Sello  POLYGON ((25491165.027 6678461.731, 25491157.8...\n",
       "4   4      Jumbo  POLYGON ((25499614.526 6686432.573, 25499607.3..."
      ]
     },
     "execution_count": 90,
     "metadata": {},
     "output_type": "execute_result"
    }
   ],
   "source": [
    "geodata = geodata[['id', 'name', 'geometry']]\n",
    "geodata.head()"
   ]
  },
  {
   "cell_type": "code",
   "execution_count": 92,
   "metadata": {},
   "outputs": [
    {
     "data": {
      "text/plain": [
       "<AxesSubplot:>"
      ]
     },
     "execution_count": 92,
     "metadata": {},
     "output_type": "execute_result"
    },
    {
     "data": {
      "image/png": "[encoded data removed]",
      "text/plain": [
       "<Figure size 432x288 with 1 Axes>"
      ]
     },
     "metadata": {
      "needs_background": "light"
     },
     "output_type": "display_data"
    }
   ],
   "source": [
    "geodata.plot()"
   ]
  },
  {
   "cell_type": "markdown",
   "metadata": {},
   "source": [
    "## Problem 3: How many people live near shopping centers? (5 points)\n",
    "\n",
    "Last step in our analysis is to make a spatial join between our buffer layer and population data in order to find out **how many people live near each shopping center**. We will use the same data as we did during [lesson 3](https://automating-gis-processes.github.io/site/notebooks/L3/spatial-join.html#Spatial-join); **a Population Grid** that is available via the HSY wfs. \n",
    "\n",
    "Alternatively, you can also download the data from the [Helsinki Region Infoshare (HRI)](https://www.hsy.fi/fi/asiantuntijalle/avoindata/Sivut/AvoinData.aspx?dataID=7) as a shapefile (using wget).\n",
    "\n",
    "The coordinate reference system of the population grid is **ETRS GK-25 (EPSG:3879)**.\n",
    "\n",
    "\n",
    "**Steps:**\n",
    "\n",
    "- Read the population grid into a geodataframe\n",
    "\n",
    "- Select only the useful columns from the population grid: ``'asukkaita'`` (=population count per grid square) and ``'geometry'`` \n",
    "\n",
    "- Make a spatial join between your buffered point layer and population grid layer. Join the information now from buffer layer **into the population grid layer**\n",
    "\n",
    "- Group the joined layer by shopping center index\n",
    "\n",
    "- Calculate the sum of population living within 1.5 km for each shopping center.\n",
    "\n",
    "**Finally:**\n",
    "\n",
    "- Print out the population living within 1.5 km from each shopping center:\n",
    "\n",
    "     - Itis\n",
    "     - Forum\n",
    "     - Iso-omena\n",
    "     - Sello\n",
    "     - Jumbo\n",
    "     - REDI\n",
    "     - Tripla\n",
    "     \n",
    "**Final print out should contain both the shopping center name and population count**, for example: `26532 people live within 1.5 km from Iso-Omena`.\n",
    "\n",
    "*Feel free to divide your solution into several codeblocks! Remember to comment your code  :)*"
   ]
  },
  {
   "cell_type": "code",
   "execution_count": 93,
   "metadata": {
    "deletable": false,
    "nbgrader": {
     "cell_type": "code",
     "checksum": "629fe93329c8fe47162e31b2cd8c260e",
     "grade": false,
     "grade_id": "read_wfs",
     "locked": false,
     "schema_version": 3,
     "solution": true,
     "task": false
    }
   },
   "outputs": [
    {
     "data": {
      "text/html": [
       "<div>\n",
       "<style scoped>\n",
       "    .dataframe tbody tr th:only-of-type {\n",
       "        vertical-align: middle;\n",
       "    }\n",
       "\n",
       "    .dataframe tbody tr th {\n",
       "        vertical-align: top;\n",
       "    }\n",
       "\n",
       "    .dataframe thead th {\n",
       "        text-align: right;\n",
       "    }\n",
       "</style>\n",
       "<table border=\"1\" class=\"dataframe\">\n",
       "  <thead>\n",
       "    <tr style=\"text-align: right;\">\n",
       "      <th></th>\n",
       "      <th>geometry</th>\n",
       "      <th>index</th>\n",
       "      <th>asukkaita</th>\n",
       "      <th>asvaljyys</th>\n",
       "      <th>ika0_9</th>\n",
       "      <th>ika10_19</th>\n",
       "      <th>ika20_29</th>\n",
       "      <th>ika30_39</th>\n",
       "      <th>ika40_49</th>\n",
       "      <th>ika50_59</th>\n",
       "      <th>ika60_69</th>\n",
       "      <th>ika70_79</th>\n",
       "      <th>ika_yli80</th>\n",
       "    </tr>\n",
       "  </thead>\n",
       "  <tbody>\n",
       "    <tr>\n",
       "      <th>0</th>\n",
       "      <td>POLYGON ((25472499.995 6689749.005, 25472499.9...</td>\n",
       "      <td>688</td>\n",
       "      <td>9</td>\n",
       "      <td>28.0</td>\n",
       "      <td>99</td>\n",
       "      <td>99</td>\n",
       "      <td>99</td>\n",
       "      <td>99</td>\n",
       "      <td>99</td>\n",
       "      <td>99</td>\n",
       "      <td>99</td>\n",
       "      <td>99</td>\n",
       "      <td>99</td>\n",
       "    </tr>\n",
       "    <tr>\n",
       "      <th>1</th>\n",
       "      <td>POLYGON ((25472499.995 6685998.998, 25472499.9...</td>\n",
       "      <td>703</td>\n",
       "      <td>5</td>\n",
       "      <td>51.0</td>\n",
       "      <td>99</td>\n",
       "      <td>99</td>\n",
       "      <td>99</td>\n",
       "      <td>99</td>\n",
       "      <td>99</td>\n",
       "      <td>99</td>\n",
       "      <td>99</td>\n",
       "      <td>99</td>\n",
       "      <td>99</td>\n",
       "    </tr>\n",
       "    <tr>\n",
       "      <th>2</th>\n",
       "      <td>POLYGON ((25472499.995 6684249.004, 25472499.9...</td>\n",
       "      <td>710</td>\n",
       "      <td>8</td>\n",
       "      <td>44.0</td>\n",
       "      <td>99</td>\n",
       "      <td>99</td>\n",
       "      <td>99</td>\n",
       "      <td>99</td>\n",
       "      <td>99</td>\n",
       "      <td>99</td>\n",
       "      <td>99</td>\n",
       "      <td>99</td>\n",
       "      <td>99</td>\n",
       "    </tr>\n",
       "    <tr>\n",
       "      <th>3</th>\n",
       "      <td>POLYGON ((25472499.995 6683999.005, 25472499.9...</td>\n",
       "      <td>711</td>\n",
       "      <td>5</td>\n",
       "      <td>90.0</td>\n",
       "      <td>99</td>\n",
       "      <td>99</td>\n",
       "      <td>99</td>\n",
       "      <td>99</td>\n",
       "      <td>99</td>\n",
       "      <td>99</td>\n",
       "      <td>99</td>\n",
       "      <td>99</td>\n",
       "      <td>99</td>\n",
       "    </tr>\n",
       "    <tr>\n",
       "      <th>4</th>\n",
       "      <td>POLYGON ((25472499.995 6682998.998, 25472499.9...</td>\n",
       "      <td>715</td>\n",
       "      <td>11</td>\n",
       "      <td>41.0</td>\n",
       "      <td>99</td>\n",
       "      <td>99</td>\n",
       "      <td>99</td>\n",
       "      <td>99</td>\n",
       "      <td>99</td>\n",
       "      <td>99</td>\n",
       "      <td>99</td>\n",
       "      <td>99</td>\n",
       "      <td>99</td>\n",
       "    </tr>\n",
       "  </tbody>\n",
       "</table>\n",
       "</div>"
      ],
      "text/plain": [
       "                                            geometry  index  asukkaita  \\\n",
       "0  POLYGON ((25472499.995 6689749.005, 25472499.9...    688          9   \n",
       "1  POLYGON ((25472499.995 6685998.998, 25472499.9...    703          5   \n",
       "2  POLYGON ((25472499.995 6684249.004, 25472499.9...    710          8   \n",
       "3  POLYGON ((25472499.995 6683999.005, 25472499.9...    711          5   \n",
       "4  POLYGON ((25472499.995 6682998.998, 25472499.9...    715         11   \n",
       "\n",
       "   asvaljyys  ika0_9  ika10_19  ika20_29  ika30_39  ika40_49  ika50_59  \\\n",
       "0       28.0      99        99        99        99        99        99   \n",
       "1       51.0      99        99        99        99        99        99   \n",
       "2       44.0      99        99        99        99        99        99   \n",
       "3       90.0      99        99        99        99        99        99   \n",
       "4       41.0      99        99        99        99        99        99   \n",
       "\n",
       "   ika60_69  ika70_79  ika_yli80  \n",
       "0        99        99         99  \n",
       "1        99        99         99  \n",
       "2        99        99         99  \n",
       "3        99        99         99  \n",
       "4        99        99         99  "
      ]
     },
     "execution_count": 93,
     "metadata": {},
     "output_type": "execute_result"
    }
   ],
   "source": [
    "# Read population grid data for 2018 into a variable `pop`. \n",
    "# Remember to check the crs info!\n",
    "from pyproj import CRS\n",
    "import requests\n",
    "import geojson\n",
    "\n",
    "# Specify the url for web feature service\n",
    "url = 'https://kartta.hsy.fi/geoserver/wfs'\n",
    "\n",
    "# Specify parameters (read data in json format). \n",
    "# Available feature types in this particular data source: http://geo.stat.fi/geoserver/vaestoruutu/wfs?service=wfs&version=2.0.0&request=describeFeatureType\n",
    "params = dict(service='WFS', \n",
    "              version='2.0.0', \n",
    "              request='GetFeature', \n",
    "              typeName='asuminen_ja_maankaytto:Vaestotietoruudukko_2018', \n",
    "              outputFormat='json')\n",
    "\n",
    "# Fetch data from WFS using requests\n",
    "r = requests.get(url, params=params)\n",
    "\n",
    "# Create GeoDataFrame from geojson\n",
    "pop = gpd.GeoDataFrame.from_features(geojson.loads(r.content))\n",
    "\n",
    "\n",
    "# REPLACE THE ERROR BELOW WITH YOUR OWN CODE\n",
    "pop.head()"
   ]
  },
  {
   "cell_type": "code",
   "execution_count": 95,
   "metadata": {},
   "outputs": [
    {
     "data": {
      "text/plain": [
       "<Projected CRS: EPSG:3879>\n",
       "Name: ETRS89 / GK25FIN\n",
       "Axis Info [cartesian]:\n",
       "- N[north]: Northing (metre)\n",
       "- E[east]: Easting (metre)\n",
       "Area of Use:\n",
       "- name: Finland - 24.5°E to 25.5°E onshore nominal\n",
       "- bounds: (24.5, 59.94, 25.5, 68.9)\n",
       "Coordinate Operation:\n",
       "- name: Finland Gauss-Kruger zone 25\n",
       "- method: Transverse Mercator\n",
       "Datum: European Terrestrial Reference System 1989\n",
       "- Ellipsoid: GRS 1980\n",
       "- Prime Meridian: Greenwich"
      ]
     },
     "execution_count": 95,
     "metadata": {},
     "output_type": "execute_result"
    }
   ],
   "source": [
    "pop.set_crs(epsg=3879,inplace=True)\n",
    "pop.crs"
   ]
  },
  {
   "cell_type": "code",
   "execution_count": 96,
   "metadata": {},
   "outputs": [
    {
     "data": {
      "text/plain": [
       "True"
      ]
     },
     "execution_count": 96,
     "metadata": {},
     "output_type": "execute_result"
    }
   ],
   "source": [
    "pop.crs == geodata.crs"
   ]
  },
  {
   "cell_type": "code",
   "execution_count": 97,
   "metadata": {},
   "outputs": [
    {
     "name": "stderr",
     "output_type": "stream",
     "text": [
      "C:\\ProgramData\\Anaconda3\\envs\\autogis_lesson2\\lib\\site-packages\\geopandas\\io\\file.py:299: FutureWarning: pandas.Int64Index is deprecated and will be removed from pandas in a future version. Use pandas.Index with the appropriate dtype instead.\n",
      "  pd.Int64Index,\n"
     ]
    },
    {
     "data": {
      "text/html": [
       "<div>\n",
       "<style scoped>\n",
       "    .dataframe tbody tr th:only-of-type {\n",
       "        vertical-align: middle;\n",
       "    }\n",
       "\n",
       "    .dataframe tbody tr th {\n",
       "        vertical-align: top;\n",
       "    }\n",
       "\n",
       "    .dataframe thead th {\n",
       "        text-align: right;\n",
       "    }\n",
       "</style>\n",
       "<table border=\"1\" class=\"dataframe\">\n",
       "  <thead>\n",
       "    <tr style=\"text-align: right;\">\n",
       "      <th></th>\n",
       "      <th>pop_count</th>\n",
       "      <th>geometry</th>\n",
       "    </tr>\n",
       "  </thead>\n",
       "  <tbody>\n",
       "    <tr>\n",
       "      <th>0</th>\n",
       "      <td>9</td>\n",
       "      <td>POLYGON ((25472499.995 6689749.005, 25472499.9...</td>\n",
       "    </tr>\n",
       "    <tr>\n",
       "      <th>1</th>\n",
       "      <td>5</td>\n",
       "      <td>POLYGON ((25472499.995 6685998.998, 25472499.9...</td>\n",
       "    </tr>\n",
       "    <tr>\n",
       "      <th>2</th>\n",
       "      <td>8</td>\n",
       "      <td>POLYGON ((25472499.995 6684249.004, 25472499.9...</td>\n",
       "    </tr>\n",
       "    <tr>\n",
       "      <th>3</th>\n",
       "      <td>5</td>\n",
       "      <td>POLYGON ((25472499.995 6683999.005, 25472499.9...</td>\n",
       "    </tr>\n",
       "    <tr>\n",
       "      <th>4</th>\n",
       "      <td>11</td>\n",
       "      <td>POLYGON ((25472499.995 6682998.998, 25472499.9...</td>\n",
       "    </tr>\n",
       "  </tbody>\n",
       "</table>\n",
       "</div>"
      ],
      "text/plain": [
       "   pop_count                                           geometry\n",
       "0          9  POLYGON ((25472499.995 6689749.005, 25472499.9...\n",
       "1          5  POLYGON ((25472499.995 6685998.998, 25472499.9...\n",
       "2          8  POLYGON ((25472499.995 6684249.004, 25472499.9...\n",
       "3          5  POLYGON ((25472499.995 6683999.005, 25472499.9...\n",
       "4         11  POLYGON ((25472499.995 6682998.998, 25472499.9..."
      ]
     },
     "execution_count": 97,
     "metadata": {},
     "output_type": "execute_result"
    }
   ],
   "source": [
    "pop = pop.rename(columns={'asukkaita': 'pop_count'})\n",
    "outfile = 'Vaestotietoruudukko_2018'\n",
    "pop.to_file(outfile)\n",
    "pop = pop[['pop_count', 'geometry']]\n",
    "pop.head()"
   ]
  },
  {
   "cell_type": "code",
   "execution_count": 98,
   "metadata": {
    "deletable": false,
    "editable": false,
    "nbgrader": {
     "cell_type": "code",
     "checksum": "8fe4f1ecd4466cf975714202c832be7e",
     "grade": true,
     "grade_id": "problem_3_read_data_test",
     "locked": true,
     "points": 1,
     "schema_version": 3,
     "solution": false,
     "task": false
    }
   },
   "outputs": [
    {
     "name": "stdout",
     "output_type": "stream",
     "text": [
      "Number of rows: 5832\n",
      "   pop_count                                           geometry\n",
      "0          9  POLYGON ((25472499.995 6689749.005, 25472499.9...\n",
      "1          5  POLYGON ((25472499.995 6685998.998, 25472499.9...\n",
      "2          8  POLYGON ((25472499.995 6684249.004, 25472499.9...\n"
     ]
    }
   ],
   "source": [
    "#NON-EDITABLE TEST CELL\n",
    "# Check your input data\n",
    "print(\"Number of rows:\", len(pop))\n",
    "print(pop.head(3))"
   ]
  },
  {
   "cell_type": "code",
   "execution_count": 99,
   "metadata": {
    "deletable": false,
    "nbgrader": {
     "cell_type": "code",
     "checksum": "92e87958a8ce4e2b8e5ae77689445df8",
     "grade": false,
     "grade_id": "spatial_join",
     "locked": false,
     "schema_version": 3,
     "solution": true
    }
   },
   "outputs": [
    {
     "name": "stdout",
     "output_type": "stream",
     "text": [
      "428\n"
     ]
    },
    {
     "data": {
      "text/html": [
       "<div>\n",
       "<style scoped>\n",
       "    .dataframe tbody tr th:only-of-type {\n",
       "        vertical-align: middle;\n",
       "    }\n",
       "\n",
       "    .dataframe tbody tr th {\n",
       "        vertical-align: top;\n",
       "    }\n",
       "\n",
       "    .dataframe thead th {\n",
       "        text-align: right;\n",
       "    }\n",
       "</style>\n",
       "<table border=\"1\" class=\"dataframe\">\n",
       "  <thead>\n",
       "    <tr style=\"text-align: right;\">\n",
       "      <th></th>\n",
       "      <th>pop_count</th>\n",
       "      <th>geometry</th>\n",
       "      <th>index_right</th>\n",
       "      <th>id</th>\n",
       "      <th>name</th>\n",
       "    </tr>\n",
       "  </thead>\n",
       "  <tbody>\n",
       "    <tr>\n",
       "      <th>1155</th>\n",
       "      <td>78</td>\n",
       "      <td>POLYGON ((25484250.000 6672249.006, 25484250.0...</td>\n",
       "      <td>2</td>\n",
       "      <td>2</td>\n",
       "      <td>Iso-Omena</td>\n",
       "    </tr>\n",
       "    <tr>\n",
       "      <th>1156</th>\n",
       "      <td>16</td>\n",
       "      <td>POLYGON ((25484250.000 6671748.997, 25484250.0...</td>\n",
       "      <td>2</td>\n",
       "      <td>2</td>\n",
       "      <td>Iso-Omena</td>\n",
       "    </tr>\n",
       "    <tr>\n",
       "      <th>1216</th>\n",
       "      <td>114</td>\n",
       "      <td>POLYGON ((25484499.998 6672749.004, 25484499.9...</td>\n",
       "      <td>2</td>\n",
       "      <td>2</td>\n",
       "      <td>Iso-Omena</td>\n",
       "    </tr>\n",
       "    <tr>\n",
       "      <th>1217</th>\n",
       "      <td>128</td>\n",
       "      <td>POLYGON ((25484499.998 6672499.005, 25484499.9...</td>\n",
       "      <td>2</td>\n",
       "      <td>2</td>\n",
       "      <td>Iso-Omena</td>\n",
       "    </tr>\n",
       "    <tr>\n",
       "      <th>1218</th>\n",
       "      <td>83</td>\n",
       "      <td>POLYGON ((25484499.998 6672249.006, 25484499.9...</td>\n",
       "      <td>2</td>\n",
       "      <td>2</td>\n",
       "      <td>Iso-Omena</td>\n",
       "    </tr>\n",
       "  </tbody>\n",
       "</table>\n",
       "</div>"
      ],
      "text/plain": [
       "      pop_count                                           geometry  \\\n",
       "1155         78  POLYGON ((25484250.000 6672249.006, 25484250.0...   \n",
       "1156         16  POLYGON ((25484250.000 6671748.997, 25484250.0...   \n",
       "1216        114  POLYGON ((25484499.998 6672749.004, 25484499.9...   \n",
       "1217        128  POLYGON ((25484499.998 6672499.005, 25484499.9...   \n",
       "1218         83  POLYGON ((25484499.998 6672249.006, 25484499.9...   \n",
       "\n",
       "      index_right  id       name  \n",
       "1155            2   2  Iso-Omena  \n",
       "1156            2   2  Iso-Omena  \n",
       "1216            2   2  Iso-Omena  \n",
       "1217            2   2  Iso-Omena  \n",
       "1218            2   2  Iso-Omena  "
      ]
     },
     "execution_count": 99,
     "metadata": {},
     "output_type": "execute_result"
    }
   ],
   "source": [
    "# Create a spatial join between grid layer and buffer layer. \n",
    "\n",
    "# REPLACE THE ERROR BELOW WITH YOUR OWN CODE\n",
    "join = gpd.sjoin(pop, geodata, how='inner', op='within')\n",
    "print(len(join))\n",
    "join.head()"
   ]
  },
  {
   "cell_type": "code",
   "execution_count": 101,
   "metadata": {},
   "outputs": [],
   "source": [
    "# group by shopping data index\n",
    "grouped = join.groupby('name').sum()"
   ]
  },
  {
   "cell_type": "code",
   "execution_count": 102,
   "metadata": {},
   "outputs": [
    {
     "data": {
      "text/html": [
       "<div>\n",
       "<style scoped>\n",
       "    .dataframe tbody tr th:only-of-type {\n",
       "        vertical-align: middle;\n",
       "    }\n",
       "\n",
       "    .dataframe tbody tr th {\n",
       "        vertical-align: top;\n",
       "    }\n",
       "\n",
       "    .dataframe thead th {\n",
       "        text-align: right;\n",
       "    }\n",
       "</style>\n",
       "<table border=\"1\" class=\"dataframe\">\n",
       "  <thead>\n",
       "    <tr style=\"text-align: right;\">\n",
       "      <th></th>\n",
       "      <th>pop_count</th>\n",
       "      <th>index_right</th>\n",
       "      <th>id</th>\n",
       "    </tr>\n",
       "    <tr>\n",
       "      <th>name</th>\n",
       "      <th></th>\n",
       "      <th></th>\n",
       "      <th></th>\n",
       "    </tr>\n",
       "  </thead>\n",
       "  <tbody>\n",
       "    <tr>\n",
       "      <th>Forum</th>\n",
       "      <td>56891</td>\n",
       "      <td>76</td>\n",
       "      <td>76</td>\n",
       "    </tr>\n",
       "    <tr>\n",
       "      <th>Iso-Omena</th>\n",
       "      <td>25846</td>\n",
       "      <td>162</td>\n",
       "      <td>162</td>\n",
       "    </tr>\n",
       "    <tr>\n",
       "      <th>Itis</th>\n",
       "      <td>20367</td>\n",
       "      <td>0</td>\n",
       "      <td>0</td>\n",
       "    </tr>\n",
       "    <tr>\n",
       "      <th>Jumbo</th>\n",
       "      <td>10862</td>\n",
       "      <td>176</td>\n",
       "      <td>176</td>\n",
       "    </tr>\n",
       "    <tr>\n",
       "      <th>REDI</th>\n",
       "      <td>25239</td>\n",
       "      <td>185</td>\n",
       "      <td>185</td>\n",
       "    </tr>\n",
       "  </tbody>\n",
       "</table>\n",
       "</div>"
      ],
      "text/plain": [
       "           pop_count  index_right   id\n",
       "name                                  \n",
       "Forum          56891           76   76\n",
       "Iso-Omena      25846          162  162\n",
       "Itis           20367            0    0\n",
       "Jumbo          10862          176  176\n",
       "REDI           25239          185  185"
      ]
     },
     "execution_count": 102,
     "metadata": {},
     "output_type": "execute_result"
    }
   ],
   "source": [
    "grouped.head()"
   ]
  },
  {
   "cell_type": "code",
   "execution_count": 111,
   "metadata": {},
   "outputs": [
    {
     "data": {
      "text/plain": [
       "geopandas.geodataframe.GeoDataFrame"
      ]
     },
     "execution_count": 111,
     "metadata": {},
     "output_type": "execute_result"
    }
   ],
   "source": [
    "type(grouped)"
   ]
  },
  {
   "cell_type": "code",
   "execution_count": 121,
   "metadata": {
    "deletable": false,
    "nbgrader": {
     "cell_type": "code",
     "checksum": "fe6b621e6f3d39eb5aa375c864268a03",
     "grade": false,
     "grade_id": "print_results",
     "locked": false,
     "schema_version": 3,
     "solution": true,
     "task": false
    }
   },
   "outputs": [
    {
     "name": "stdout",
     "output_type": "stream",
     "text": [
      "('pop_count', name\n",
      "Forum        56891\n",
      "Iso-Omena    25846\n",
      "Itis         20367\n",
      "Jumbo        10862\n",
      "REDI         25239\n",
      "Sello        22747\n",
      "Tripla       24163\n",
      "Name: pop_count, dtype: int64) people live within 1.5km of the pop_count shopping center\n",
      "('index_right', name\n",
      "Forum         76\n",
      "Iso-Omena    162\n",
      "Itis           0\n",
      "Jumbo        176\n",
      "REDI         185\n",
      "Sello        186\n",
      "Tripla       324\n",
      "Name: index_right, dtype: int64) people live within 1.5km of the index_right shopping center\n",
      "('id', name\n",
      "Forum         76\n",
      "Iso-Omena    162\n",
      "Itis           0\n",
      "Jumbo        176\n",
      "REDI         185\n",
      "Sello        186\n",
      "Tripla       324\n",
      "Name: id, dtype: int64) people live within 1.5km of the id shopping center\n"
     ]
    }
   ],
   "source": [
    "# Report how many people live within 1.5 km distance from each shopping center\n",
    "# REPLACE THE ERROR BELOW WITH YOUR OWN CODE\n",
    "for key, value in zip(list(grouped.keys()), list(grouped.items())):\n",
    "    print(f\"{value} people live within 1.5km of the {key} shopping center\")"
   ]
  },
  {
   "cell_type": "markdown",
   "metadata": {
    "collapsed": true
   },
   "source": [
    "**Reflections:**\n",
    "    \n",
    "- How challenging did you find problems 1-3 (on scale to 1-5), and why?\n",
    "- What was easy?\n",
    "- What was difficult?"
   ]
  },
  {
   "cell_type": "markdown",
   "metadata": {
    "deletable": false,
    "nbgrader": {
     "cell_type": "markdown",
     "checksum": "ae8c161a5ec09a095453240cd41b6da8",
     "grade": true,
     "grade_id": "problem_3_Check_problem_3",
     "locked": false,
     "points": 4,
     "schema_version": 3,
     "solution": true
    }
   },
   "source": [
    "YOUR ANSWER HERE: YES!"
   ]
  },
  {
   "cell_type": "code",
   "execution_count": null,
   "metadata": {},
   "outputs": [],
   "source": []
  },
  {
   "cell_type": "code",
   "execution_count": null,
   "metadata": {},
   "outputs": [],
   "source": []
  },
  {
   "cell_type": "markdown",
   "metadata": {},
   "source": [
    "Well done! Now you can continue to [problem 4](Exercise-3-Problem-4.ipynb)"
   ]
  }
 ],
 "metadata": {
  "anaconda-cloud": {},
  "kernelspec": {
   "display_name": "Python [conda env:autogis_lesson2]",
   "language": "python",
   "name": "conda-env-autogis_lesson2-py"
  },
  "language_info": {
   "codemirror_mode": {
    "name": "ipython",
    "version": 3
   },
   "file_extension": ".py",
   "mimetype": "text/x-python",
   "name": "python",
   "nbconvert_exporter": "python",
   "pygments_lexer": "ipython3",
   "version": "3.9.12"
  }
 },
 "nbformat": 4,
 "nbformat_minor": 2
}
