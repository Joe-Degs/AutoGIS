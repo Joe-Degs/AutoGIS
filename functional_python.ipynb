{
 "cells": [
  {
   "cell_type": "markdown",
   "id": "626f9434",
   "metadata": {},
   "source": [
    "- chainable functions\n",
    "- small scope and specialised\n",
    "- no side effects / mutation of state"
   ]
  },
  {
   "cell_type": "code",
   "execution_count": 1,
   "id": "8b03208d",
   "metadata": {},
   "outputs": [
    {
     "data": {
      "text/plain": [
       "['1', '2', '3']"
      ]
     },
     "execution_count": 1,
     "metadata": {},
     "output_type": "execute_result"
    }
   ],
   "source": [
    "list(map(str, [1, 2, 3]))"
   ]
  },
  {
   "cell_type": "code",
   "execution_count": 2,
   "id": "0e3e5d33",
   "metadata": {},
   "outputs": [
    {
     "data": {
      "text/plain": [
       "[1, 2]"
      ]
     },
     "execution_count": 2,
     "metadata": {},
     "output_type": "execute_result"
    }
   ],
   "source": [
    "list(map(int, ['1', '2']))"
   ]
  },
  {
   "cell_type": "code",
   "execution_count": 3,
   "id": "9036a08b",
   "metadata": {},
   "outputs": [
    {
     "data": {
      "text/plain": [
       "[3, 'joe']"
      ]
     },
     "execution_count": 3,
     "metadata": {},
     "output_type": "execute_result"
    }
   ],
   "source": [
    "# filter out falsey values in iterable\n",
    "list(filter(None, [0, \"\", 3, 'joe']))"
   ]
  },
  {
   "cell_type": "code",
   "execution_count": 7,
   "id": "487479a6",
   "metadata": {},
   "outputs": [
    {
     "data": {
      "text/plain": [
       "'Clfrn'"
      ]
     },
     "execution_count": 7,
     "metadata": {},
     "output_type": "execute_result"
    }
   ],
   "source": [
    "# no vowels in word\n",
    "''.join(filter(lambda x: x not in 'aeiou', 'California'))"
   ]
  },
  {
   "cell_type": "markdown",
   "id": "1d43ef1f",
   "metadata": {},
   "source": [
    "### maps"
   ]
  },
  {
   "cell_type": "code",
   "execution_count": 8,
   "id": "cce68f28",
   "metadata": {},
   "outputs": [],
   "source": [
    "numbers = list(range(1, 20))\n",
    "timezone_strings = [\n",
    "    'US/Pacific',\n",
    "    'US/Eastern',\n",
    "    'Pacific/Samoa',\n",
    "    'Pacific/Auckland'\n",
    "]\n",
    "format_string = 'Hi, my name is {name} and i love {thing}'\n",
    "dicts = [\n",
    "    {'name': 'Kenneth', 'thing': 'Treehouse'},\n",
    "    {'name': 'Brick', 'thing': 'lamp'},\n",
    "    {'name': 'Gollum', 'thing': 'my precious'}\n",
    "]"
   ]
  },
  {
   "cell_type": "code",
   "execution_count": 9,
   "id": "bfa9f1c0",
   "metadata": {},
   "outputs": [
    {
     "data": {
      "text/plain": [
       "[2, 4, 6, 8, 10, 12, 14, 16, 18, 20, 22, 24, 26, 28, 30, 32, 34, 36, 38]"
      ]
     },
     "execution_count": 9,
     "metadata": {},
     "output_type": "execute_result"
    }
   ],
   "source": [
    "# double numbers\n",
    "list(map(lambda x: x*2, numbers))"
   ]
  },
  {
   "cell_type": "code",
   "execution_count": 10,
   "id": "5124789c",
   "metadata": {},
   "outputs": [
    {
     "data": {
      "text/plain": [
       "[0.5,\n",
       " 1.0,\n",
       " 1.5,\n",
       " 2.0,\n",
       " 2.5,\n",
       " 3.0,\n",
       " 3.5,\n",
       " 4.0,\n",
       " 4.5,\n",
       " 5.0,\n",
       " 5.5,\n",
       " 6.0,\n",
       " 6.5,\n",
       " 7.0,\n",
       " 7.5,\n",
       " 8.0,\n",
       " 8.5,\n",
       " 9.0,\n",
       " 9.5]"
      ]
     },
     "execution_count": 10,
     "metadata": {},
     "output_type": "execute_result"
    }
   ],
   "source": [
    "# half numbers\n",
    "list(map(lambda x: x/2, numbers))"
   ]
  },
  {
   "cell_type": "code",
   "execution_count": 11,
   "id": "96f2173c",
   "metadata": {},
   "outputs": [
    {
     "data": {
      "text/plain": [
       "['1',\n",
       " '2',\n",
       " '3',\n",
       " '4',\n",
       " '5',\n",
       " '6',\n",
       " '7',\n",
       " '8',\n",
       " '9',\n",
       " '10',\n",
       " '11',\n",
       " '12',\n",
       " '13',\n",
       " '14',\n",
       " '15',\n",
       " '16',\n",
       " '17',\n",
       " '18',\n",
       " '19']"
      ]
     },
     "execution_count": 11,
     "metadata": {},
     "output_type": "execute_result"
    }
   ],
   "source": [
    "# list to num\n",
    "list(map(str, numbers))"
   ]
  },
  {
   "cell_type": "code",
   "execution_count": 14,
   "id": "9ab44ca9",
   "metadata": {},
   "outputs": [],
   "source": [
    "import datetime\n",
    "import pytz"
   ]
  },
  {
   "cell_type": "code",
   "execution_count": 16,
   "id": "666005b6",
   "metadata": {},
   "outputs": [
    {
     "data": {
      "text/plain": [
       "[<DstTzInfo 'US/Pacific' LMT-1 day, 16:07:00 STD>,\n",
       " <DstTzInfo 'US/Eastern' LMT-1 day, 19:04:00 STD>,\n",
       " <DstTzInfo 'Pacific/Samoa' LMT+12:37:00 STD>,\n",
       " <DstTzInfo 'Pacific/Auckland' LMT+11:39:00 STD>]"
      ]
     },
     "execution_count": 16,
     "metadata": {},
     "output_type": "execute_result"
    }
   ],
   "source": [
    "# create timezones\n",
    "list(map(pytz.timezone, timezone_strings))"
   ]
  },
  {
   "cell_type": "code",
   "execution_count": 17,
   "id": "32702437",
   "metadata": {},
   "outputs": [
    {
     "data": {
      "text/plain": [
       "['Hi, my name is Kenneth and i love Treehouse',\n",
       " 'Hi, my name is Brick and i love lamp',\n",
       " 'Hi, my name is Gollum and i love my precious']"
      ]
     },
     "execution_count": 17,
     "metadata": {},
     "output_type": "execute_result"
    }
   ],
   "source": [
    "# foramt strings\n",
    "list(map(lambda val: format_string.format(**val), dicts))"
   ]
  },
  {
   "cell_type": "markdown",
   "id": "26970ed5",
   "metadata": {},
   "source": [
    "### reduce"
   ]
  },
  {
   "cell_type": "code",
   "execution_count": 18,
   "id": "96fd2004",
   "metadata": {},
   "outputs": [],
   "source": [
    "from functools import reduce\n",
    "\n",
    "nums = list(range(1, 10))\n",
    "states = ['Ohio', 'Alaska', 'California', 'Oklahoma']"
   ]
  },
  {
   "cell_type": "code",
   "execution_count": 20,
   "id": "56c00b7b",
   "metadata": {},
   "outputs": [
    {
     "data": {
      "text/plain": [
       "45"
      ]
     },
     "execution_count": 20,
     "metadata": {},
     "output_type": "execute_result"
    }
   ],
   "source": [
    "reduce(lambda x, y: x+y, nums)"
   ]
  },
  {
   "cell_type": "code",
   "execution_count": 21,
   "id": "baaeb363",
   "metadata": {},
   "outputs": [
    {
     "data": {
      "text/plain": [
       "362880"
      ]
     },
     "execution_count": 21,
     "metadata": {},
     "output_type": "execute_result"
    }
   ],
   "source": [
    "reduce(lambda x, y: x*y, nums)"
   ]
  },
  {
   "cell_type": "code",
   "execution_count": 23,
   "id": "990aa34c",
   "metadata": {},
   "outputs": [
    {
     "data": {
      "text/plain": [
       "'California'"
      ]
     },
     "execution_count": 23,
     "metadata": {},
     "output_type": "execute_result"
    }
   ],
   "source": [
    "# return longest string\n",
    "reduce(lambda x, y: x if len(x) > len(y) else y, states)"
   ]
  },
  {
   "cell_type": "code",
   "execution_count": null,
   "id": "efa1f0a2",
   "metadata": {},
   "outputs": [],
   "source": []
  }
 ],
 "metadata": {
  "kernelspec": {
   "display_name": "Python 3 (ipykernel)",
   "language": "python",
   "name": "python3"
  },
  "language_info": {
   "codemirror_mode": {
    "name": "ipython",
    "version": 3
   },
   "file_extension": ".py",
   "mimetype": "text/x-python",
   "name": "python",
   "nbconvert_exporter": "python",
   "pygments_lexer": "ipython3",
   "version": "3.9.7"
  }
 },
 "nbformat": 4,
 "nbformat_minor": 5
}
